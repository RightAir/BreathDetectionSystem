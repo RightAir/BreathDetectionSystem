{
 "cells": [
  {
   "cell_type": "code",
   "execution_count": 38,
   "metadata": {},
   "outputs": [
    {
     "data": {
      "text/html": [
       "<div>\n",
       "<style scoped>\n",
       "    .dataframe tbody tr th:only-of-type {\n",
       "        vertical-align: middle;\n",
       "    }\n",
       "\n",
       "    .dataframe tbody tr th {\n",
       "        vertical-align: top;\n",
       "    }\n",
       "\n",
       "    .dataframe thead th {\n",
       "        text-align: right;\n",
       "    }\n",
       "</style>\n",
       "<table border=\"1\" class=\"dataframe\">\n",
       "  <thead>\n",
       "    <tr style=\"text-align: right;\">\n",
       "      <th></th>\n",
       "      <th>Sensor 1</th>\n",
       "      <th>Sensor 2</th>\n",
       "      <th>Sensor 3</th>\n",
       "      <th>Sensor 4</th>\n",
       "      <th>d_Sensor 1</th>\n",
       "      <th>d_Sensor 2</th>\n",
       "      <th>d_Sensor 3</th>\n",
       "      <th>d_Sensor 4</th>\n",
       "      <th>Time</th>\n",
       "    </tr>\n",
       "  </thead>\n",
       "  <tbody>\n",
       "    <tr>\n",
       "      <td>0</td>\n",
       "      <td>0.488485</td>\n",
       "      <td>0.454545</td>\n",
       "      <td>0.454545</td>\n",
       "      <td>0.464242</td>\n",
       "      <td>0.000000</td>\n",
       "      <td>0.000000</td>\n",
       "      <td>0.000000</td>\n",
       "      <td>0.000000</td>\n",
       "      <td>1907.680655</td>\n",
       "    </tr>\n",
       "    <tr>\n",
       "      <td>1</td>\n",
       "      <td>0.488485</td>\n",
       "      <td>0.452121</td>\n",
       "      <td>0.454545</td>\n",
       "      <td>0.466667</td>\n",
       "      <td>0.000000</td>\n",
       "      <td>-0.117997</td>\n",
       "      <td>0.000000</td>\n",
       "      <td>0.117997</td>\n",
       "      <td>1907.690928</td>\n",
       "    </tr>\n",
       "    <tr>\n",
       "      <td>2</td>\n",
       "      <td>0.478788</td>\n",
       "      <td>0.444825</td>\n",
       "      <td>0.449697</td>\n",
       "      <td>0.465856</td>\n",
       "      <td>-0.340005</td>\n",
       "      <td>-0.370207</td>\n",
       "      <td>-0.170002</td>\n",
       "      <td>0.039061</td>\n",
       "      <td>1907.700434</td>\n",
       "    </tr>\n",
       "    <tr>\n",
       "      <td>3</td>\n",
       "      <td>0.473834</td>\n",
       "      <td>0.441127</td>\n",
       "      <td>0.450922</td>\n",
       "      <td>0.456930</td>\n",
       "      <td>-0.416107</td>\n",
       "      <td>-0.377947</td>\n",
       "      <td>-0.066729</td>\n",
       "      <td>-0.277738</td>\n",
       "      <td>1907.709932</td>\n",
       "    </tr>\n",
       "    <tr>\n",
       "      <td>4</td>\n",
       "      <td>0.470851</td>\n",
       "      <td>0.437909</td>\n",
       "      <td>0.451656</td>\n",
       "      <td>0.458439</td>\n",
       "      <td>-0.381643</td>\n",
       "      <td>-0.366353</td>\n",
       "      <td>-0.021175</td>\n",
       "      <td>-0.100246</td>\n",
       "      <td>1907.719446</td>\n",
       "    </tr>\n",
       "  </tbody>\n",
       "</table>\n",
       "</div>"
      ],
      "text/plain": [
       "   Sensor 1  Sensor 2  Sensor 3  Sensor 4  d_Sensor 1  d_Sensor 2  d_Sensor 3  \\\n",
       "0  0.488485  0.454545  0.454545  0.464242    0.000000    0.000000    0.000000   \n",
       "1  0.488485  0.452121  0.454545  0.466667    0.000000   -0.117997    0.000000   \n",
       "2  0.478788  0.444825  0.449697  0.465856   -0.340005   -0.370207   -0.170002   \n",
       "3  0.473834  0.441127  0.450922  0.456930   -0.416107   -0.377947   -0.066729   \n",
       "4  0.470851  0.437909  0.451656  0.458439   -0.381643   -0.366353   -0.021175   \n",
       "\n",
       "   d_Sensor 4         Time  \n",
       "0    0.000000  1907.680655  \n",
       "1    0.117997  1907.690928  \n",
       "2    0.039061  1907.700434  \n",
       "3   -0.277738  1907.709932  \n",
       "4   -0.100246  1907.719446  "
      ]
     },
     "execution_count": 38,
     "metadata": {},
     "output_type": "execute_result"
    }
   ],
   "source": [
    "import pandas as pd\n",
    "import seaborn as sns\n",
    "import numpy as np\n",
    "import matplotlib.pyplot as plt\n",
    "import time\n",
    "from sklearn.preprocessing import MinMaxScaler\n",
    "\n",
    "import tensorflow as tf\n",
    "from sklearn.model_selection import train_test_split\n",
    "from sklearn.metrics import classification_report,confusion_matrix\n",
    "from sklearn.preprocessing import StandardScaler\n",
    "from tensorflow import keras\n",
    "import h5py\n",
    "\n",
    "df = pd.read_csv('SensorData.csv')\n",
    "\n",
    "flow = pd.read_csv('Flow.csv')\n",
    "\n",
    "df.head()"
   ]
  },
  {
   "cell_type": "code",
   "execution_count": 18,
   "metadata": {},
   "outputs": [],
   "source": [
    "flow['Seconds'] = round(flow['Seconds'], 2)"
   ]
  },
  {
   "cell_type": "code",
   "execution_count": 25,
   "metadata": {},
   "outputs": [],
   "source": [
    "newTime = []\n",
    "data = []\n",
    "\n",
    "for i in range(1, len(flow)):\n",
    "    if flow['Seconds'][i] != flow['Seconds'][i-1]:\n",
    "        newTime.append(flow['Seconds'][i])\n",
    "        data.append(flow['Flow'][i])"
   ]
  },
  {
   "cell_type": "code",
   "execution_count": 30,
   "metadata": {},
   "outputs": [],
   "source": [
    "flowDF = pd.DataFrame()"
   ]
  },
  {
   "cell_type": "code",
   "execution_count": 31,
   "metadata": {},
   "outputs": [],
   "source": [
    "flowDF['Time'] = newTime"
   ]
  },
  {
   "cell_type": "code",
   "execution_count": 32,
   "metadata": {},
   "outputs": [],
   "source": [
    "flowDF['Flow'] = data"
   ]
  },
  {
   "cell_type": "code",
   "execution_count": 43,
   "metadata": {},
   "outputs": [
    {
     "data": {
      "text/html": [
       "<div>\n",
       "<style scoped>\n",
       "    .dataframe tbody tr th:only-of-type {\n",
       "        vertical-align: middle;\n",
       "    }\n",
       "\n",
       "    .dataframe tbody tr th {\n",
       "        vertical-align: top;\n",
       "    }\n",
       "\n",
       "    .dataframe thead th {\n",
       "        text-align: right;\n",
       "    }\n",
       "</style>\n",
       "<table border=\"1\" class=\"dataframe\">\n",
       "  <thead>\n",
       "    <tr style=\"text-align: right;\">\n",
       "      <th></th>\n",
       "      <th>Time</th>\n",
       "      <th>Flow</th>\n",
       "    </tr>\n",
       "  </thead>\n",
       "  <tbody>\n",
       "    <tr>\n",
       "      <td>273</td>\n",
       "      <td>1907.69</td>\n",
       "      <td>0.167</td>\n",
       "    </tr>\n",
       "    <tr>\n",
       "      <td>274</td>\n",
       "      <td>1907.70</td>\n",
       "      <td>0.167</td>\n",
       "    </tr>\n",
       "    <tr>\n",
       "      <td>275</td>\n",
       "      <td>1907.71</td>\n",
       "      <td>0.200</td>\n",
       "    </tr>\n",
       "    <tr>\n",
       "      <td>276</td>\n",
       "      <td>1907.72</td>\n",
       "      <td>0.167</td>\n",
       "    </tr>\n",
       "    <tr>\n",
       "      <td>277</td>\n",
       "      <td>1907.73</td>\n",
       "      <td>0.133</td>\n",
       "    </tr>\n",
       "    <tr>\n",
       "      <td>...</td>\n",
       "      <td>...</td>\n",
       "      <td>...</td>\n",
       "    </tr>\n",
       "    <tr>\n",
       "      <td>11982</td>\n",
       "      <td>2024.78</td>\n",
       "      <td>0.067</td>\n",
       "    </tr>\n",
       "    <tr>\n",
       "      <td>11983</td>\n",
       "      <td>2024.79</td>\n",
       "      <td>0.033</td>\n",
       "    </tr>\n",
       "    <tr>\n",
       "      <td>11984</td>\n",
       "      <td>2024.80</td>\n",
       "      <td>0.067</td>\n",
       "    </tr>\n",
       "    <tr>\n",
       "      <td>11985</td>\n",
       "      <td>2024.81</td>\n",
       "      <td>0.067</td>\n",
       "    </tr>\n",
       "    <tr>\n",
       "      <td>11986</td>\n",
       "      <td>2024.82</td>\n",
       "      <td>0.033</td>\n",
       "    </tr>\n",
       "  </tbody>\n",
       "</table>\n",
       "<p>11714 rows × 2 columns</p>\n",
       "</div>"
      ],
      "text/plain": [
       "          Time   Flow\n",
       "273    1907.69  0.167\n",
       "274    1907.70  0.167\n",
       "275    1907.71  0.200\n",
       "276    1907.72  0.167\n",
       "277    1907.73  0.133\n",
       "...        ...    ...\n",
       "11982  2024.78  0.067\n",
       "11983  2024.79  0.033\n",
       "11984  2024.80  0.067\n",
       "11985  2024.81  0.067\n",
       "11986  2024.82  0.033\n",
       "\n",
       "[11714 rows x 2 columns]"
      ]
     },
     "execution_count": 43,
     "metadata": {},
     "output_type": "execute_result"
    }
   ],
   "source": [
    "flowDF[flowDF['Time'] > 1907.68]"
   ]
  },
  {
   "cell_type": "code",
   "execution_count": 46,
   "metadata": {},
   "outputs": [
    {
     "data": {
      "text/html": [
       "<div>\n",
       "<style scoped>\n",
       "    .dataframe tbody tr th:only-of-type {\n",
       "        vertical-align: middle;\n",
       "    }\n",
       "\n",
       "    .dataframe tbody tr th {\n",
       "        vertical-align: top;\n",
       "    }\n",
       "\n",
       "    .dataframe thead th {\n",
       "        text-align: right;\n",
       "    }\n",
       "</style>\n",
       "<table border=\"1\" class=\"dataframe\">\n",
       "  <thead>\n",
       "    <tr style=\"text-align: right;\">\n",
       "      <th></th>\n",
       "      <th>Time</th>\n",
       "      <th>Flow</th>\n",
       "    </tr>\n",
       "  </thead>\n",
       "  <tbody>\n",
       "    <tr>\n",
       "      <td>10772</td>\n",
       "      <td>2012.68</td>\n",
       "      <td>-27.167</td>\n",
       "    </tr>\n",
       "    <tr>\n",
       "      <td>10773</td>\n",
       "      <td>2012.69</td>\n",
       "      <td>-27.033</td>\n",
       "    </tr>\n",
       "    <tr>\n",
       "      <td>10774</td>\n",
       "      <td>2012.70</td>\n",
       "      <td>-26.100</td>\n",
       "    </tr>\n",
       "    <tr>\n",
       "      <td>10775</td>\n",
       "      <td>2012.71</td>\n",
       "      <td>-26.067</td>\n",
       "    </tr>\n",
       "    <tr>\n",
       "      <td>10776</td>\n",
       "      <td>2012.72</td>\n",
       "      <td>-25.333</td>\n",
       "    </tr>\n",
       "    <tr>\n",
       "      <td>...</td>\n",
       "      <td>...</td>\n",
       "      <td>...</td>\n",
       "    </tr>\n",
       "    <tr>\n",
       "      <td>11982</td>\n",
       "      <td>2024.78</td>\n",
       "      <td>0.067</td>\n",
       "    </tr>\n",
       "    <tr>\n",
       "      <td>11983</td>\n",
       "      <td>2024.79</td>\n",
       "      <td>0.033</td>\n",
       "    </tr>\n",
       "    <tr>\n",
       "      <td>11984</td>\n",
       "      <td>2024.80</td>\n",
       "      <td>0.067</td>\n",
       "    </tr>\n",
       "    <tr>\n",
       "      <td>11985</td>\n",
       "      <td>2024.81</td>\n",
       "      <td>0.067</td>\n",
       "    </tr>\n",
       "    <tr>\n",
       "      <td>11986</td>\n",
       "      <td>2024.82</td>\n",
       "      <td>0.033</td>\n",
       "    </tr>\n",
       "  </tbody>\n",
       "</table>\n",
       "<p>1215 rows × 2 columns</p>\n",
       "</div>"
      ],
      "text/plain": [
       "          Time    Flow\n",
       "10772  2012.68 -27.167\n",
       "10773  2012.69 -27.033\n",
       "10774  2012.70 -26.100\n",
       "10775  2012.71 -26.067\n",
       "10776  2012.72 -25.333\n",
       "...        ...     ...\n",
       "11982  2024.78   0.067\n",
       "11983  2024.79   0.033\n",
       "11984  2024.80   0.067\n",
       "11985  2024.81   0.067\n",
       "11986  2024.82   0.033\n",
       "\n",
       "[1215 rows x 2 columns]"
      ]
     },
     "execution_count": 46,
     "metadata": {},
     "output_type": "execute_result"
    }
   ],
   "source": [
    "flowDF[flowDF['Time'] > 2012.677]"
   ]
  },
  {
   "cell_type": "code",
   "execution_count": 50,
   "metadata": {},
   "outputs": [],
   "source": [
    "finalFlow = flowDF[273:10771]"
   ]
  },
  {
   "cell_type": "code",
   "execution_count": 52,
   "metadata": {},
   "outputs": [
    {
     "data": {
      "text/html": [
       "<div>\n",
       "<style scoped>\n",
       "    .dataframe tbody tr th:only-of-type {\n",
       "        vertical-align: middle;\n",
       "    }\n",
       "\n",
       "    .dataframe tbody tr th {\n",
       "        vertical-align: top;\n",
       "    }\n",
       "\n",
       "    .dataframe thead th {\n",
       "        text-align: right;\n",
       "    }\n",
       "</style>\n",
       "<table border=\"1\" class=\"dataframe\">\n",
       "  <thead>\n",
       "    <tr style=\"text-align: right;\">\n",
       "      <th></th>\n",
       "      <th>Time</th>\n",
       "      <th>Flow</th>\n",
       "    </tr>\n",
       "  </thead>\n",
       "  <tbody>\n",
       "    <tr>\n",
       "      <td>273</td>\n",
       "      <td>1907.69</td>\n",
       "      <td>0.167</td>\n",
       "    </tr>\n",
       "    <tr>\n",
       "      <td>274</td>\n",
       "      <td>1907.70</td>\n",
       "      <td>0.167</td>\n",
       "    </tr>\n",
       "    <tr>\n",
       "      <td>275</td>\n",
       "      <td>1907.71</td>\n",
       "      <td>0.200</td>\n",
       "    </tr>\n",
       "    <tr>\n",
       "      <td>276</td>\n",
       "      <td>1907.72</td>\n",
       "      <td>0.167</td>\n",
       "    </tr>\n",
       "    <tr>\n",
       "      <td>277</td>\n",
       "      <td>1907.73</td>\n",
       "      <td>0.133</td>\n",
       "    </tr>\n",
       "    <tr>\n",
       "      <td>...</td>\n",
       "      <td>...</td>\n",
       "      <td>...</td>\n",
       "    </tr>\n",
       "    <tr>\n",
       "      <td>10766</td>\n",
       "      <td>2012.62</td>\n",
       "      <td>-29.133</td>\n",
       "    </tr>\n",
       "    <tr>\n",
       "      <td>10767</td>\n",
       "      <td>2012.63</td>\n",
       "      <td>-28.067</td>\n",
       "    </tr>\n",
       "    <tr>\n",
       "      <td>10768</td>\n",
       "      <td>2012.64</td>\n",
       "      <td>-29.000</td>\n",
       "    </tr>\n",
       "    <tr>\n",
       "      <td>10769</td>\n",
       "      <td>2012.65</td>\n",
       "      <td>-27.567</td>\n",
       "    </tr>\n",
       "    <tr>\n",
       "      <td>10770</td>\n",
       "      <td>2012.66</td>\n",
       "      <td>-27.167</td>\n",
       "    </tr>\n",
       "  </tbody>\n",
       "</table>\n",
       "<p>10498 rows × 2 columns</p>\n",
       "</div>"
      ],
      "text/plain": [
       "          Time    Flow\n",
       "273    1907.69   0.167\n",
       "274    1907.70   0.167\n",
       "275    1907.71   0.200\n",
       "276    1907.72   0.167\n",
       "277    1907.73   0.133\n",
       "...        ...     ...\n",
       "10766  2012.62 -29.133\n",
       "10767  2012.63 -28.067\n",
       "10768  2012.64 -29.000\n",
       "10769  2012.65 -27.567\n",
       "10770  2012.66 -27.167\n",
       "\n",
       "[10498 rows x 2 columns]"
      ]
     },
     "execution_count": 52,
     "metadata": {},
     "output_type": "execute_result"
    }
   ],
   "source": [
    "finalFlow"
   ]
  },
  {
   "cell_type": "code",
   "execution_count": 55,
   "metadata": {},
   "outputs": [],
   "source": [
    "export_csv = finalFlow.to_csv(r'/Users/mikefurr/Documents/Raw_Data/FlowData.csv', header = True, index = None)"
   ]
  },
  {
   "cell_type": "code",
   "execution_count": 14,
   "metadata": {},
   "outputs": [],
   "source": [
    "x = range(0, len(df))"
   ]
  },
  {
   "cell_type": "code",
   "execution_count": 15,
   "metadata": {},
   "outputs": [
    {
     "data": {
      "image/png": "[encoded data removed]",
      "text/plain": [
       "<Figure size 1080x576 with 1 Axes>"
      ]
     },
     "metadata": {
      "needs_background": "light"
     },
     "output_type": "display_data"
    },
    {
     "data": {
      "image/png": "[encoded data removed]",
      "text/plain": [
       "<Figure size 1080x576 with 1 Axes>"
      ]
     },
     "metadata": {
      "needs_background": "light"
     },
     "output_type": "display_data"
    },
    {
     "data": {
      "image/png": "[encoded data removed]",
      "text/plain": [
       "<Figure size 1080x576 with 1 Axes>"
      ]
     },
     "metadata": {
      "needs_background": "light"
     },
     "output_type": "display_data"
    },
    {
     "data": {
      "image/png": "[encoded data removed]",
      "text/plain": [
       "<Figure size 1080x576 with 1 Axes>"
      ]
     },
     "metadata": {
      "needs_background": "light"
     },
     "output_type": "display_data"
    }
   ],
   "source": [
    "fig = plt.figure(figsize = (15, 8))\n",
    "plt.subplot(4,1,1)\n",
    "plt.plot(x, df['Sensor 1'], 'b')\n",
    "plt.show()\n",
    "\n",
    "fig = plt.figure(figsize = (15, 8))\n",
    "plt.subplot(4,1,2)\n",
    "plt.plot(x, df['Sensor 2'], 'b')\n",
    "plt.show()\n",
    "\n",
    "fig = plt.figure(figsize = (15, 8))\n",
    "plt.subplot(4,1,3)\n",
    "plt.plot(x, df['Sensor 3'], 'b')\n",
    "plt.show()\n",
    "\n",
    "fig = plt.figure(figsize = (15, 8))\n",
    "plt.subplot(4,1,4)\n",
    "plt.plot(x, df['Sensor 4'], 'b')\n",
    "plt.show()"
   ]
  },
  {
   "cell_type": "code",
   "execution_count": 15,
   "metadata": {},
   "outputs": [],
   "source": [
    "import datetime\n",
    "t = datetime.datetime.fromtimestamp(df['timeTracker'][0]).strftime('%Y-%m-%d %H:%M:%S.%f')"
   ]
  },
  {
   "cell_type": "code",
   "execution_count": 18,
   "metadata": {},
   "outputs": [
    {
     "data": {
      "text/plain": [
       "['2019-11-04 13', '31', '47.680655']"
      ]
     },
     "execution_count": 18,
     "metadata": {},
     "output_type": "execute_result"
    }
   ],
   "source": [
    "t.split(':')"
   ]
  },
  {
   "cell_type": "code",
   "execution_count": 25,
   "metadata": {},
   "outputs": [],
   "source": [
    "timeSeconds = []\n",
    "\n",
    "for i in range(0, len(df)):\n",
    "    \n",
    "    t = datetime.datetime.fromtimestamp(df['timeTracker'][i]).strftime('%Y-%m-%d %H:%M:%S.%f')\n",
    "    \n",
    "    seconds = float(t.split(':')[2])\n",
    "    \n",
    "    minutes = float(t.split(':')[1])\n",
    "    \n",
    "    timeSeconds.append(seconds + (minutes * 60))"
   ]
  },
  {
   "cell_type": "code",
   "execution_count": 28,
   "metadata": {},
   "outputs": [],
   "source": [
    "df.drop('timeTracker', inplace = True, axis = 1)"
   ]
  },
  {
   "cell_type": "code",
   "execution_count": 29,
   "metadata": {},
   "outputs": [],
   "source": [
    "df['Time'] = timeSeconds"
   ]
  },
  {
   "cell_type": "code",
   "execution_count": 30,
   "metadata": {},
   "outputs": [
    {
     "data": {
      "text/html": [
       "<div>\n",
       "<style scoped>\n",
       "    .dataframe tbody tr th:only-of-type {\n",
       "        vertical-align: middle;\n",
       "    }\n",
       "\n",
       "    .dataframe tbody tr th {\n",
       "        vertical-align: top;\n",
       "    }\n",
       "\n",
       "    .dataframe thead th {\n",
       "        text-align: right;\n",
       "    }\n",
       "</style>\n",
       "<table border=\"1\" class=\"dataframe\">\n",
       "  <thead>\n",
       "    <tr style=\"text-align: right;\">\n",
       "      <th></th>\n",
       "      <th>Sensor 1</th>\n",
       "      <th>Sensor 2</th>\n",
       "      <th>Sensor 3</th>\n",
       "      <th>Sensor 4</th>\n",
       "      <th>d_Sensor 1</th>\n",
       "      <th>d_Sensor 2</th>\n",
       "      <th>d_Sensor 3</th>\n",
       "      <th>d_Sensor 4</th>\n",
       "      <th>Time</th>\n",
       "    </tr>\n",
       "  </thead>\n",
       "  <tbody>\n",
       "    <tr>\n",
       "      <td>0</td>\n",
       "      <td>0.488485</td>\n",
       "      <td>0.454545</td>\n",
       "      <td>0.454545</td>\n",
       "      <td>0.464242</td>\n",
       "      <td>0.000000</td>\n",
       "      <td>0.000000</td>\n",
       "      <td>0.000000</td>\n",
       "      <td>0.000000</td>\n",
       "      <td>1907.680655</td>\n",
       "    </tr>\n",
       "    <tr>\n",
       "      <td>1</td>\n",
       "      <td>0.488485</td>\n",
       "      <td>0.452121</td>\n",
       "      <td>0.454545</td>\n",
       "      <td>0.466667</td>\n",
       "      <td>0.000000</td>\n",
       "      <td>-0.117997</td>\n",
       "      <td>0.000000</td>\n",
       "      <td>0.117997</td>\n",
       "      <td>1907.690928</td>\n",
       "    </tr>\n",
       "    <tr>\n",
       "      <td>2</td>\n",
       "      <td>0.478788</td>\n",
       "      <td>0.444825</td>\n",
       "      <td>0.449697</td>\n",
       "      <td>0.465856</td>\n",
       "      <td>-0.340005</td>\n",
       "      <td>-0.370207</td>\n",
       "      <td>-0.170002</td>\n",
       "      <td>0.039061</td>\n",
       "      <td>1907.700434</td>\n",
       "    </tr>\n",
       "    <tr>\n",
       "      <td>3</td>\n",
       "      <td>0.473834</td>\n",
       "      <td>0.441127</td>\n",
       "      <td>0.450922</td>\n",
       "      <td>0.456930</td>\n",
       "      <td>-0.416107</td>\n",
       "      <td>-0.377947</td>\n",
       "      <td>-0.066729</td>\n",
       "      <td>-0.277738</td>\n",
       "      <td>1907.709932</td>\n",
       "    </tr>\n",
       "    <tr>\n",
       "      <td>4</td>\n",
       "      <td>0.470851</td>\n",
       "      <td>0.437909</td>\n",
       "      <td>0.451656</td>\n",
       "      <td>0.458439</td>\n",
       "      <td>-0.381643</td>\n",
       "      <td>-0.366353</td>\n",
       "      <td>-0.021175</td>\n",
       "      <td>-0.100246</td>\n",
       "      <td>1907.719446</td>\n",
       "    </tr>\n",
       "  </tbody>\n",
       "</table>\n",
       "</div>"
      ],
      "text/plain": [
       "   Sensor 1  Sensor 2  Sensor 3  Sensor 4  d_Sensor 1  d_Sensor 2  d_Sensor 3  \\\n",
       "0  0.488485  0.454545  0.454545  0.464242    0.000000    0.000000    0.000000   \n",
       "1  0.488485  0.452121  0.454545  0.466667    0.000000   -0.117997    0.000000   \n",
       "2  0.478788  0.444825  0.449697  0.465856   -0.340005   -0.370207   -0.170002   \n",
       "3  0.473834  0.441127  0.450922  0.456930   -0.416107   -0.377947   -0.066729   \n",
       "4  0.470851  0.437909  0.451656  0.458439   -0.381643   -0.366353   -0.021175   \n",
       "\n",
       "   d_Sensor 4         Time  \n",
       "0    0.000000  1907.680655  \n",
       "1    0.117997  1907.690928  \n",
       "2    0.039061  1907.700434  \n",
       "3   -0.277738  1907.709932  \n",
       "4   -0.100246  1907.719446  "
      ]
     },
     "execution_count": 30,
     "metadata": {},
     "output_type": "execute_result"
    }
   ],
   "source": [
    "df.head()"
   ]
  },
  {
   "cell_type": "code",
   "execution_count": 31,
   "metadata": {},
   "outputs": [],
   "source": [
    "export_csv = df.to_csv(r'/Users/mikefurr/Documents/Raw_Data/SensorData.csv', header = True, index = None)"
   ]
  },
  {
   "cell_type": "code",
   "execution_count": null,
   "metadata": {},
   "outputs": [],
   "source": []
  }
 ],
 "metadata": {
  "kernelspec": {
   "display_name": "Python 3",
   "language": "python",
   "name": "python3"
  },
  "language_info": {
   "codemirror_mode": {
    "name": "ipython",
    "version": 3
   },
   "file_extension": ".py",
   "mimetype": "text/x-python",
   "name": "python",
   "nbconvert_exporter": "python",
   "pygments_lexer": "ipython3",
   "version": "3.7.3"
  }
 },
 "nbformat": 4,
 "nbformat_minor": 2
}
