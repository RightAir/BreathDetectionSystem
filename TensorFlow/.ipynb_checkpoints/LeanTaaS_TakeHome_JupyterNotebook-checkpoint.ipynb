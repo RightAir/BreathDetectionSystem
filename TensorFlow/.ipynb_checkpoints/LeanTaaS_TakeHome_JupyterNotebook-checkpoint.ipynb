{
 "cells": [
  {
   "cell_type": "markdown",
   "metadata": {},
   "source": [
    "## Lean TaaS Problem Set\n",
    "#### Oct 2019 | Michael Furr"
   ]
  },
  {
   "cell_type": "markdown",
   "metadata": {},
   "source": [
    "#### Import Libraries"
   ]
  },
  {
   "cell_type": "code",
   "execution_count": 1,
   "metadata": {},
   "outputs": [
    {
     "data": {
      "text/html": [
       "        <script type=\"text/javascript\">\n",
       "        window.PlotlyConfig = {MathJaxConfig: 'local'};\n",
       "        if (window.MathJax) {MathJax.Hub.Config({SVG: {font: \"STIX-Web\"}});}\n",
       "        if (typeof require !== 'undefined') {\n",
       "        require.undef(\"plotly\");\n",
       "        requirejs.config({\n",
       "            paths: {\n",
       "                'plotly': ['https://cdn.plot.ly/plotly-latest.min']\n",
       "            }\n",
       "        });\n",
       "        require(['plotly'], function(Plotly) {\n",
       "            window._Plotly = Plotly;\n",
       "        });\n",
       "        }\n",
       "        </script>\n",
       "        "
      ]
     },
     "metadata": {},
     "output_type": "display_data"
    },
    {
     "data": {
      "text/html": [
       "        <script type=\"text/javascript\">\n",
       "        window.PlotlyConfig = {MathJaxConfig: 'local'};\n",
       "        if (window.MathJax) {MathJax.Hub.Config({SVG: {font: \"STIX-Web\"}});}\n",
       "        if (typeof require !== 'undefined') {\n",
       "        require.undef(\"plotly\");\n",
       "        requirejs.config({\n",
       "            paths: {\n",
       "                'plotly': ['https://cdn.plot.ly/plotly-latest.min']\n",
       "            }\n",
       "        });\n",
       "        require(['plotly'], function(Plotly) {\n",
       "            window._Plotly = Plotly;\n",
       "        });\n",
       "        }\n",
       "        </script>\n",
       "        "
      ]
     },
     "metadata": {},
     "output_type": "display_data"
    }
   ],
   "source": [
    "import pandas as pd\n",
    "import sqlite3\n",
    "\n",
    "from datetime import datetime, timedelta\n",
    "\n",
    "import numpy as np\n",
    "import matplotlib.pyplot as plt\n",
    "import seaborn as sns\n",
    "%matplotlib inline\n",
    "\n",
    "from plotly import __version__\n",
    "from plotly.offline import download_plotlyjs, init_notebook_mode, plot, iplot\n",
    "\n",
    "import cufflinks as cf\n",
    "\n",
    "init_notebook_mode(connected=True)\n",
    "\n",
    "cf.go_offline()"
   ]
  },
  {
   "cell_type": "markdown",
   "metadata": {},
   "source": [
    "#### Pull in data"
   ]
  },
  {
   "cell_type": "code",
   "execution_count": 2,
   "metadata": {},
   "outputs": [],
   "source": [
    "conn = sqlite3.connect('LeanTaaSTestDB.db')\n",
    "df = pd.read_sql_query(\"SELECT * FROM exchange_transactions;\", conn)\n",
    "df['created_datetime'] = df['created_datetime'].apply(lambda x: x.split('.')[0])\n",
    "df['created_datetime'] = pd.to_datetime(df['created_datetime'])"
   ]
  },
  {
   "cell_type": "code",
   "execution_count": 3,
   "metadata": {},
   "outputs": [
    {
     "data": {
      "text/html": [
       "<div>\n",
       "<style scoped>\n",
       "    .dataframe tbody tr th:only-of-type {\n",
       "        vertical-align: middle;\n",
       "    }\n",
       "\n",
       "    .dataframe tbody tr th {\n",
       "        vertical-align: top;\n",
       "    }\n",
       "\n",
       "    .dataframe thead th {\n",
       "        text-align: right;\n",
       "    }\n",
       "</style>\n",
       "<table border=\"1\" class=\"dataframe\">\n",
       "  <thead>\n",
       "    <tr style=\"text-align: right;\">\n",
       "      <th></th>\n",
       "      <th>transaction_id</th>\n",
       "      <th>parent_transaction_id</th>\n",
       "      <th>action</th>\n",
       "      <th>scheduler</th>\n",
       "      <th>surgeon</th>\n",
       "      <th>created_datetime</th>\n",
       "      <th>snapshot_date</th>\n",
       "      <th>start_time</th>\n",
       "      <th>end_time</th>\n",
       "      <th>room_name</th>\n",
       "      <th>location</th>\n",
       "    </tr>\n",
       "  </thead>\n",
       "  <tbody>\n",
       "    <tr>\n",
       "      <td>0</td>\n",
       "      <td>2c91808267d2ea5301682f73e9a1093e</td>\n",
       "      <td>None</td>\n",
       "      <td>RELEASE</td>\n",
       "      <td>Jessie Shelley</td>\n",
       "      <td>Bryan Neer</td>\n",
       "      <td>2019-01-15 13:52:32</td>\n",
       "      <td>2019-07-01 00:00:00.000000</td>\n",
       "      <td>07:30:00</td>\n",
       "      <td>19:00:00</td>\n",
       "      <td>MRAH OR 03</td>\n",
       "      <td>CENTER</td>\n",
       "    </tr>\n",
       "    <tr>\n",
       "      <td>1</td>\n",
       "      <td>2c91808267d2ea5301683984e52b0bfb</td>\n",
       "      <td>None</td>\n",
       "      <td>TRANSFER</td>\n",
       "      <td>Raymond Smith</td>\n",
       "      <td>Charles Mcdonald</td>\n",
       "      <td>2019-01-17 12:47:17</td>\n",
       "      <td>2019-06-20 00:00:00.000000</td>\n",
       "      <td>07:30:00</td>\n",
       "      <td>19:00:00</td>\n",
       "      <td>MRAH OR 06</td>\n",
       "      <td>CENTER</td>\n",
       "    </tr>\n",
       "    <tr>\n",
       "      <td>2</td>\n",
       "      <td>2c91808267d2ea53016839855a480bfc</td>\n",
       "      <td>None</td>\n",
       "      <td>TRANSFER</td>\n",
       "      <td>Raymond Smith</td>\n",
       "      <td>Charles Mcdonald</td>\n",
       "      <td>2019-01-17 12:47:47</td>\n",
       "      <td>2019-06-20 00:00:00.000000</td>\n",
       "      <td>07:30:00</td>\n",
       "      <td>19:00:00</td>\n",
       "      <td>MNOR 36</td>\n",
       "      <td>CENTER</td>\n",
       "    </tr>\n",
       "    <tr>\n",
       "      <td>3</td>\n",
       "      <td>2c91808267d2eb4b016829281a390786</td>\n",
       "      <td>None</td>\n",
       "      <td>RELEASE</td>\n",
       "      <td>Kimberly Bugg</td>\n",
       "      <td>Joann Hinson</td>\n",
       "      <td>2019-01-14 08:32:01</td>\n",
       "      <td>2019-06-12 00:00:00.000000</td>\n",
       "      <td>08:50:00</td>\n",
       "      <td>19:00:00</td>\n",
       "      <td>MNOR 25</td>\n",
       "      <td>CENTER</td>\n",
       "    </tr>\n",
       "    <tr>\n",
       "      <td>4</td>\n",
       "      <td>2c91808267d2eb4b01682977274607cb</td>\n",
       "      <td>2c91808267d2eb4b016829281a390786</td>\n",
       "      <td>MARK_UPDATED</td>\n",
       "      <td>Dora Smith</td>\n",
       "      <td>Joann Hinson</td>\n",
       "      <td>2019-01-14 09:58:21</td>\n",
       "      <td>2019-06-12 00:00:00.000000</td>\n",
       "      <td>08:50:00</td>\n",
       "      <td>19:00:00</td>\n",
       "      <td>MNOR 25</td>\n",
       "      <td>CENTER</td>\n",
       "    </tr>\n",
       "    <tr>\n",
       "      <td>5</td>\n",
       "      <td>2c91808267d2eb4b01682f056761098f</td>\n",
       "      <td>None</td>\n",
       "      <td>RELEASE</td>\n",
       "      <td>Guy Medina</td>\n",
       "      <td>James Mcgraw</td>\n",
       "      <td>2019-01-15 11:51:50</td>\n",
       "      <td>2019-06-12 00:00:00.000000</td>\n",
       "      <td>11:45:00</td>\n",
       "      <td>17:00:00</td>\n",
       "      <td>MRAH OR 10</td>\n",
       "      <td>MRAH OR</td>\n",
       "    </tr>\n",
       "    <tr>\n",
       "      <td>6</td>\n",
       "      <td>2c91808267d2eb4b01682f0e2f72099b</td>\n",
       "      <td>2c91808267d2eb4b01682f056761098f</td>\n",
       "      <td>MARK_UPDATED</td>\n",
       "      <td>Moses Favuzza</td>\n",
       "      <td>James Mcgraw</td>\n",
       "      <td>2019-01-15 12:01:25</td>\n",
       "      <td>2019-06-12 00:00:00.000000</td>\n",
       "      <td>11:45:00</td>\n",
       "      <td>17:00:00</td>\n",
       "      <td>MRAH OR 10</td>\n",
       "      <td>MRAH OR</td>\n",
       "    </tr>\n",
       "    <tr>\n",
       "      <td>7</td>\n",
       "      <td>2c91808267d2eb4b01682fb1563009f8</td>\n",
       "      <td>2c91808267d2ea5301682f73e9a1093e</td>\n",
       "      <td>MARK_UPDATED</td>\n",
       "      <td>Mary White</td>\n",
       "      <td>Bryan Neer</td>\n",
       "      <td>2019-01-15 14:59:38</td>\n",
       "      <td>2019-07-01 00:00:00.000000</td>\n",
       "      <td>07:30:00</td>\n",
       "      <td>19:00:00</td>\n",
       "      <td>MRAH OR 03</td>\n",
       "      <td>CENTER</td>\n",
       "    </tr>\n",
       "    <tr>\n",
       "      <td>8</td>\n",
       "      <td>2c91808267d2eb4b016833c3be970ac0</td>\n",
       "      <td>None</td>\n",
       "      <td>RELEASE</td>\n",
       "      <td>James Gray</td>\n",
       "      <td>Donald Howard</td>\n",
       "      <td>2019-01-16 09:58:13</td>\n",
       "      <td>2019-06-05 00:00:00.000000</td>\n",
       "      <td>07:00:00</td>\n",
       "      <td>19:00:00</td>\n",
       "      <td>MRAH OR 17</td>\n",
       "      <td>MRAH OR</td>\n",
       "    </tr>\n",
       "    <tr>\n",
       "      <td>9</td>\n",
       "      <td>2c91808267d2eb4b016833d2ca6e0aca</td>\n",
       "      <td>2c91808267d2eb4b016833c3be970ac0</td>\n",
       "      <td>MARK_UPDATED</td>\n",
       "      <td>Moses Favuzza</td>\n",
       "      <td>Donald Howard</td>\n",
       "      <td>2019-01-16 10:14:39</td>\n",
       "      <td>2019-06-05 00:00:00.000000</td>\n",
       "      <td>07:00:00</td>\n",
       "      <td>19:00:00</td>\n",
       "      <td>MRAH OR 17</td>\n",
       "      <td>MRAH OR</td>\n",
       "    </tr>\n",
       "    <tr>\n",
       "      <td>10</td>\n",
       "      <td>2c918082683a16f801683dbcf9b2006e</td>\n",
       "      <td>None</td>\n",
       "      <td>TRANSFER</td>\n",
       "      <td>Luisa Green</td>\n",
       "      <td>Manuel Winfrey</td>\n",
       "      <td>2019-01-18 08:27:01</td>\n",
       "      <td>2019-07-17 00:00:00.000000</td>\n",
       "      <td>07:00:00</td>\n",
       "      <td>19:00:00</td>\n",
       "      <td>MRAH OR 19</td>\n",
       "      <td>MRAH OR</td>\n",
       "    </tr>\n",
       "    <tr>\n",
       "      <td>11</td>\n",
       "      <td>2c918082683a16f801683dbcf9b4006f</td>\n",
       "      <td>2c918082683a16f801683dbcf9b2006e</td>\n",
       "      <td>APPROVE_TRANSFER</td>\n",
       "      <td>Luisa Green</td>\n",
       "      <td>Manuel Winfrey</td>\n",
       "      <td>2019-01-18 08:27:01</td>\n",
       "      <td>2019-07-17 00:00:00.000000</td>\n",
       "      <td>07:00:00</td>\n",
       "      <td>19:00:00</td>\n",
       "      <td>MRAH OR 19</td>\n",
       "      <td>MRAH OR</td>\n",
       "    </tr>\n",
       "    <tr>\n",
       "      <td>12</td>\n",
       "      <td>2c918082683a16f801683dccae070082</td>\n",
       "      <td>2c918082683a16f801683dbcf9b2006e</td>\n",
       "      <td>MARK_UPDATED</td>\n",
       "      <td>Corey Williams</td>\n",
       "      <td>Manuel Winfrey</td>\n",
       "      <td>2019-01-18 08:44:11</td>\n",
       "      <td>2019-07-17 00:00:00.000000</td>\n",
       "      <td>07:00:00</td>\n",
       "      <td>19:00:00</td>\n",
       "      <td>MRAH OR 19</td>\n",
       "      <td>MRAH OR</td>\n",
       "    </tr>\n",
       "    <tr>\n",
       "      <td>13</td>\n",
       "      <td>2c918082683a16f801684de8c226027a</td>\n",
       "      <td>None</td>\n",
       "      <td>RELEASE</td>\n",
       "      <td>Kimberly Bugg</td>\n",
       "      <td>Joann Hinson</td>\n",
       "      <td>2019-01-21 11:48:46</td>\n",
       "      <td>2019-07-08 00:00:00.000000</td>\n",
       "      <td>07:30:00</td>\n",
       "      <td>19:00:00</td>\n",
       "      <td>MNOR 32</td>\n",
       "      <td>CENTER</td>\n",
       "    </tr>\n",
       "    <tr>\n",
       "      <td>14</td>\n",
       "      <td>2c918082683a16f801684e1405730293</td>\n",
       "      <td>2c918082683a16f801684de8c226027a</td>\n",
       "      <td>MARK_UPDATED</td>\n",
       "      <td>Dora Smith</td>\n",
       "      <td>Joann Hinson</td>\n",
       "      <td>2019-01-21 12:36:02</td>\n",
       "      <td>2019-07-08 00:00:00.000000</td>\n",
       "      <td>07:30:00</td>\n",
       "      <td>19:00:00</td>\n",
       "      <td>MNOR 32</td>\n",
       "      <td>CENTER</td>\n",
       "    </tr>\n",
       "    <tr>\n",
       "      <td>15</td>\n",
       "      <td>2c918082683a16f8016852105c480303</td>\n",
       "      <td>None</td>\n",
       "      <td>REQUEST</td>\n",
       "      <td>Guy Medina</td>\n",
       "      <td>James Mcgraw</td>\n",
       "      <td>2019-01-22 07:10:30</td>\n",
       "      <td>2019-06-12 00:00:00.000000</td>\n",
       "      <td>11:30:00</td>\n",
       "      <td>17:00:00</td>\n",
       "      <td>None</td>\n",
       "      <td>MRAH OR</td>\n",
       "    </tr>\n",
       "    <tr>\n",
       "      <td>16</td>\n",
       "      <td>2c918082683a16f8016852112b540304</td>\n",
       "      <td>2c918082683a181c01685207c50102fb</td>\n",
       "      <td>DENY_REQUEST</td>\n",
       "      <td>Guy Medina</td>\n",
       "      <td>James Mcgraw</td>\n",
       "      <td>2019-01-22 07:11:23</td>\n",
       "      <td>2019-06-12 00:00:00.000000</td>\n",
       "      <td>07:00:00</td>\n",
       "      <td>08:00:00</td>\n",
       "      <td>None</td>\n",
       "      <td>MRAH OR</td>\n",
       "    </tr>\n",
       "    <tr>\n",
       "      <td>17</td>\n",
       "      <td>2c918082683a16f80168521e275a030e</td>\n",
       "      <td>2c918082683a181c0168520bf0bd0302</td>\n",
       "      <td>APPROVE_REQUEST</td>\n",
       "      <td>Melody Hogsett</td>\n",
       "      <td>James Mcgraw</td>\n",
       "      <td>2019-01-22 07:25:34</td>\n",
       "      <td>2019-06-12 00:00:00.000000</td>\n",
       "      <td>07:00:00</td>\n",
       "      <td>17:00:00</td>\n",
       "      <td>MRAH OR 11</td>\n",
       "      <td>MRAH OR</td>\n",
       "    </tr>\n",
       "    <tr>\n",
       "      <td>18</td>\n",
       "      <td>2c918082683a16f80168522268290311</td>\n",
       "      <td>2c918082683a181c0168520bf0bd0302</td>\n",
       "      <td>MARK_UPDATED</td>\n",
       "      <td>Melody Hogsett</td>\n",
       "      <td>James Mcgraw</td>\n",
       "      <td>2019-01-22 07:30:13</td>\n",
       "      <td>2019-06-12 00:00:00.000000</td>\n",
       "      <td>07:00:00</td>\n",
       "      <td>17:00:00</td>\n",
       "      <td>None</td>\n",
       "      <td>MRAH OR</td>\n",
       "    </tr>\n",
       "    <tr>\n",
       "      <td>19</td>\n",
       "      <td>2c918082683a16f8016852860488035e</td>\n",
       "      <td>2c918082683a181c01684e440a8502b3</td>\n",
       "      <td>APPROVE_TRANSFER</td>\n",
       "      <td>Helen Bowman</td>\n",
       "      <td>Kenneth Zahler</td>\n",
       "      <td>2019-01-22 09:19:01</td>\n",
       "      <td>2019-06-10 00:00:00.000000</td>\n",
       "      <td>07:30:00</td>\n",
       "      <td>16:30:00</td>\n",
       "      <td>VISION OR 6</td>\n",
       "      <td>VISION OR</td>\n",
       "    </tr>\n",
       "  </tbody>\n",
       "</table>\n",
       "</div>"
      ],
      "text/plain": [
       "                      transaction_id             parent_transaction_id  \\\n",
       "0   2c91808267d2ea5301682f73e9a1093e                              None   \n",
       "1   2c91808267d2ea5301683984e52b0bfb                              None   \n",
       "2   2c91808267d2ea53016839855a480bfc                              None   \n",
       "3   2c91808267d2eb4b016829281a390786                              None   \n",
       "4   2c91808267d2eb4b01682977274607cb  2c91808267d2eb4b016829281a390786   \n",
       "5   2c91808267d2eb4b01682f056761098f                              None   \n",
       "6   2c91808267d2eb4b01682f0e2f72099b  2c91808267d2eb4b01682f056761098f   \n",
       "7   2c91808267d2eb4b01682fb1563009f8  2c91808267d2ea5301682f73e9a1093e   \n",
       "8   2c91808267d2eb4b016833c3be970ac0                              None   \n",
       "9   2c91808267d2eb4b016833d2ca6e0aca  2c91808267d2eb4b016833c3be970ac0   \n",
       "10  2c918082683a16f801683dbcf9b2006e                              None   \n",
       "11  2c918082683a16f801683dbcf9b4006f  2c918082683a16f801683dbcf9b2006e   \n",
       "12  2c918082683a16f801683dccae070082  2c918082683a16f801683dbcf9b2006e   \n",
       "13  2c918082683a16f801684de8c226027a                              None   \n",
       "14  2c918082683a16f801684e1405730293  2c918082683a16f801684de8c226027a   \n",
       "15  2c918082683a16f8016852105c480303                              None   \n",
       "16  2c918082683a16f8016852112b540304  2c918082683a181c01685207c50102fb   \n",
       "17  2c918082683a16f80168521e275a030e  2c918082683a181c0168520bf0bd0302   \n",
       "18  2c918082683a16f80168522268290311  2c918082683a181c0168520bf0bd0302   \n",
       "19  2c918082683a16f8016852860488035e  2c918082683a181c01684e440a8502b3   \n",
       "\n",
       "              action       scheduler           surgeon    created_datetime  \\\n",
       "0            RELEASE  Jessie Shelley        Bryan Neer 2019-01-15 13:52:32   \n",
       "1           TRANSFER   Raymond Smith  Charles Mcdonald 2019-01-17 12:47:17   \n",
       "2           TRANSFER   Raymond Smith  Charles Mcdonald 2019-01-17 12:47:47   \n",
       "3            RELEASE   Kimberly Bugg      Joann Hinson 2019-01-14 08:32:01   \n",
       "4       MARK_UPDATED      Dora Smith      Joann Hinson 2019-01-14 09:58:21   \n",
       "5            RELEASE      Guy Medina      James Mcgraw 2019-01-15 11:51:50   \n",
       "6       MARK_UPDATED   Moses Favuzza      James Mcgraw 2019-01-15 12:01:25   \n",
       "7       MARK_UPDATED      Mary White        Bryan Neer 2019-01-15 14:59:38   \n",
       "8            RELEASE      James Gray     Donald Howard 2019-01-16 09:58:13   \n",
       "9       MARK_UPDATED   Moses Favuzza     Donald Howard 2019-01-16 10:14:39   \n",
       "10          TRANSFER     Luisa Green    Manuel Winfrey 2019-01-18 08:27:01   \n",
       "11  APPROVE_TRANSFER     Luisa Green    Manuel Winfrey 2019-01-18 08:27:01   \n",
       "12      MARK_UPDATED  Corey Williams    Manuel Winfrey 2019-01-18 08:44:11   \n",
       "13           RELEASE   Kimberly Bugg      Joann Hinson 2019-01-21 11:48:46   \n",
       "14      MARK_UPDATED      Dora Smith      Joann Hinson 2019-01-21 12:36:02   \n",
       "15           REQUEST      Guy Medina      James Mcgraw 2019-01-22 07:10:30   \n",
       "16      DENY_REQUEST      Guy Medina      James Mcgraw 2019-01-22 07:11:23   \n",
       "17   APPROVE_REQUEST  Melody Hogsett      James Mcgraw 2019-01-22 07:25:34   \n",
       "18      MARK_UPDATED  Melody Hogsett      James Mcgraw 2019-01-22 07:30:13   \n",
       "19  APPROVE_TRANSFER    Helen Bowman    Kenneth Zahler 2019-01-22 09:19:01   \n",
       "\n",
       "                 snapshot_date start_time  end_time    room_name   location  \n",
       "0   2019-07-01 00:00:00.000000   07:30:00  19:00:00   MRAH OR 03     CENTER  \n",
       "1   2019-06-20 00:00:00.000000   07:30:00  19:00:00   MRAH OR 06     CENTER  \n",
       "2   2019-06-20 00:00:00.000000   07:30:00  19:00:00      MNOR 36     CENTER  \n",
       "3   2019-06-12 00:00:00.000000   08:50:00  19:00:00      MNOR 25     CENTER  \n",
       "4   2019-06-12 00:00:00.000000   08:50:00  19:00:00      MNOR 25     CENTER  \n",
       "5   2019-06-12 00:00:00.000000   11:45:00  17:00:00   MRAH OR 10    MRAH OR  \n",
       "6   2019-06-12 00:00:00.000000   11:45:00  17:00:00   MRAH OR 10    MRAH OR  \n",
       "7   2019-07-01 00:00:00.000000   07:30:00  19:00:00   MRAH OR 03     CENTER  \n",
       "8   2019-06-05 00:00:00.000000   07:00:00  19:00:00   MRAH OR 17    MRAH OR  \n",
       "9   2019-06-05 00:00:00.000000   07:00:00  19:00:00   MRAH OR 17    MRAH OR  \n",
       "10  2019-07-17 00:00:00.000000   07:00:00  19:00:00   MRAH OR 19    MRAH OR  \n",
       "11  2019-07-17 00:00:00.000000   07:00:00  19:00:00   MRAH OR 19    MRAH OR  \n",
       "12  2019-07-17 00:00:00.000000   07:00:00  19:00:00   MRAH OR 19    MRAH OR  \n",
       "13  2019-07-08 00:00:00.000000   07:30:00  19:00:00      MNOR 32     CENTER  \n",
       "14  2019-07-08 00:00:00.000000   07:30:00  19:00:00      MNOR 32     CENTER  \n",
       "15  2019-06-12 00:00:00.000000   11:30:00  17:00:00         None    MRAH OR  \n",
       "16  2019-06-12 00:00:00.000000   07:00:00  08:00:00         None    MRAH OR  \n",
       "17  2019-06-12 00:00:00.000000   07:00:00  17:00:00   MRAH OR 11    MRAH OR  \n",
       "18  2019-06-12 00:00:00.000000   07:00:00  17:00:00         None    MRAH OR  \n",
       "19  2019-06-10 00:00:00.000000   07:30:00  16:30:00  VISION OR 6  VISION OR  "
      ]
     },
     "execution_count": 3,
     "metadata": {},
     "output_type": "execute_result"
    }
   ],
   "source": [
    "df.head(20)"
   ]
  },
  {
   "cell_type": "code",
   "execution_count": 4,
   "metadata": {},
   "outputs": [],
   "source": [
    "# like that you did some formatting / cleaning early on, but i think before you jump into the questions \n",
    "# (or maybe during the questions) you should do a bit more EDA and cleaning. \n",
    "\n",
    "# for cleaning, you need to make a judgement call on these null values. do you remove rows with nulls, \n",
    "# or maybe rows with 2+ null values? if you dont want to remove the rows, impute the data - use mean or mode but make\n",
    "# sure you justify why you're doing so. try and find outliers (especially for transaction times) \n",
    "# and again, make a judgmenet call on those. a good rule of thumb is the IQR, but i usually just plot it anyway using\n",
    "# a box plot or a histogram, etc. to get a better idea of whats going on\n",
    "\n",
    "# for EDA, plot the distribution of transaction time, \n",
    "# create a bar chart to see who makes the most transactions, or which room has the most transactions, etc. "
   ]
  },
  {
   "cell_type": "code",
   "execution_count": 5,
   "metadata": {},
   "outputs": [
    {
     "data": {
      "text/html": [
       "<div>\n",
       "<style scoped>\n",
       "    .dataframe tbody tr th:only-of-type {\n",
       "        vertical-align: middle;\n",
       "    }\n",
       "\n",
       "    .dataframe tbody tr th {\n",
       "        vertical-align: top;\n",
       "    }\n",
       "\n",
       "    .dataframe thead th {\n",
       "        text-align: right;\n",
       "    }\n",
       "</style>\n",
       "<table border=\"1\" class=\"dataframe\">\n",
       "  <thead>\n",
       "    <tr style=\"text-align: right;\">\n",
       "      <th></th>\n",
       "      <th>transaction_id</th>\n",
       "      <th>parent_transaction_id</th>\n",
       "      <th>action</th>\n",
       "      <th>scheduler</th>\n",
       "      <th>surgeon</th>\n",
       "      <th>created_datetime</th>\n",
       "      <th>snapshot_date</th>\n",
       "      <th>start_time</th>\n",
       "      <th>end_time</th>\n",
       "      <th>room_name</th>\n",
       "      <th>location</th>\n",
       "    </tr>\n",
       "  </thead>\n",
       "  <tbody>\n",
       "    <tr>\n",
       "      <td>16</td>\n",
       "      <td>2c918082683a16f8016852112b540304</td>\n",
       "      <td>2c918082683a181c01685207c50102fb</td>\n",
       "      <td>DENY_REQUEST</td>\n",
       "      <td>Guy Medina</td>\n",
       "      <td>James Mcgraw</td>\n",
       "      <td>2019-01-22 07:11:23</td>\n",
       "      <td>2019-06-12 00:00:00.000000</td>\n",
       "      <td>07:00:00</td>\n",
       "      <td>08:00:00</td>\n",
       "      <td>None</td>\n",
       "      <td>MRAH OR</td>\n",
       "    </tr>\n",
       "  </tbody>\n",
       "</table>\n",
       "</div>"
      ],
      "text/plain": [
       "                      transaction_id             parent_transaction_id  \\\n",
       "16  2c918082683a16f8016852112b540304  2c918082683a181c01685207c50102fb   \n",
       "\n",
       "          action   scheduler       surgeon    created_datetime  \\\n",
       "16  DENY_REQUEST  Guy Medina  James Mcgraw 2019-01-22 07:11:23   \n",
       "\n",
       "                 snapshot_date start_time  end_time room_name location  \n",
       "16  2019-06-12 00:00:00.000000   07:00:00  08:00:00      None  MRAH OR  "
      ]
     },
     "execution_count": 5,
     "metadata": {},
     "output_type": "execute_result"
    }
   ],
   "source": [
    "df[df['parent_transaction_id'] == '2c918082683a181c01685207c50102fb']"
   ]
  },
  {
   "cell_type": "markdown",
   "metadata": {},
   "source": [
    "#### Question 1\n",
    "#### How many minutes of requests, transfers and releases have been completed? The marketplace is successful if there's a good amount of activities from both sides."
   ]
  },
  {
   "cell_type": "code",
   "execution_count": 6,
   "metadata": {},
   "outputs": [],
   "source": [
    "def releaseTime(df):\n",
    "    \"\"\"\n",
    "    Returns the release time and total release time for each release ID\n",
    "\n",
    "    Args:\n",
    "        df (pd.DataFrame): a DataFrame containing data from the exchange_transactions table of the LeanTaaSTestDB.db\n",
    "\n",
    "    Returns:\n",
    "        Release_IDs (list): xxxxx\n",
    "        releaseTime (list): xxxxx\n",
    "        totalReleaseTime (float): xxxxx\n",
    "    \"\"\"\n",
    "    \n",
    "    # get each unqiue Release_ID\n",
    "    Release_IDs = []\n",
    "    for i in range(0, len(df)):\n",
    "        if df['action'][i] == 'RELEASE':\n",
    "            Release_IDs.append(df['transaction_id'][i])\n",
    "    \n",
    "    # calculate the release time from each Release_ID\n",
    "    releaseTime = []\n",
    "    for i in range(0, len(Release_IDs)):\n",
    "        releaseTime.append(df[df['parent_transaction_id'] == Release_IDs[i]]['created_datetime'][df.index[df['parent_transaction_id'] == Release_IDs[i]][0]] - df[df['transaction_id'] == Release_IDs[i]]['created_datetime'][df.index[df['transaction_id'] == Release_IDs[i]][0]])\n",
    "    \n",
    "    # calculate the releaseTime in seconds\n",
    "    for i in range(0, len(releaseTime)):\n",
    "        releaseTime[i] = releaseTime[i].total_seconds()/60\n",
    "        \n",
    "    totalReleaseTime = sum(releaseTime)\n",
    "    return Release_IDs, releaseTime, totalReleaseTime\n",
    "\n",
    "Release_IDs, releaseTime, totalReleaseTime = releaseTime(df)"
   ]
  },
  {
   "cell_type": "code",
   "execution_count": 7,
   "metadata": {},
   "outputs": [],
   "source": [
    "def transferTime(df):\n",
    "    \"\"\"\n",
    "    Returns the transfer time and total transfer time for reach transaction\n",
    "    \n",
    "    Args:\n",
    "        df (pd.DataFrame): a DataFrame containing data from the exchange_transactions table of the LeanTaaSTestDB.db\n",
    "        \n",
    "    Returns:\n",
    "        Transfer_IDs (list): xxxxx\n",
    "        transferTime (list): xxxxx\n",
    "        totalTransferTime (float): xxxxx\n",
    "    \"\"\"\n",
    "    \n",
    "    Transfer_IDs = []\n",
    "    for i in range(0, len(df)):\n",
    "        if df['action'][i] == 'TRANSFER':\n",
    "            Transfer_IDs.append(df['transaction_id'][i])\n",
    "            \n",
    "    transferTime = []\n",
    "    for i in range(0, len(Transfer_IDs)):\n",
    "        \n",
    "        a = df[df['parent_transaction_id'] == Transfer_IDs[i]]\n",
    "        \n",
    "        if len(a[a['action'] == 'MARK_UPDATED']) == 1:\n",
    "            index_a = a.index[a['action'] == 'MARK_UPDATED'][0]\n",
    "            b = df[df['transaction_id'] == Transfer_IDs[i]]\n",
    "            index_b = b.index[0]\n",
    "            transferTime.append(a['created_datetime'][index_a] - b['created_datetime'][index_b])\n",
    "            \n",
    "        elif len(a[a['action'] == 'DENY_TRANSFER']) == 1:\n",
    "            index_a = a.index[a['action'] == 'DENY_TRANSFER'][0]\n",
    "            b = df[df['transaction_id'] == Transfer_IDs[i]]\n",
    "            index_b = b.index[0]\n",
    "            transferTime.append(a['created_datetime'][index_a] - b['created_datetime'][index_b])\n",
    "        \n",
    "    for i in range(0, len(transferTime)):\n",
    "        transferTime[i] = transferTime[i].total_seconds()/60\n",
    "        \n",
    "    totalTransferTime = sum(transferTime)\n",
    "    \n",
    "    return Transfer_IDs, transferTime, totalTransferTime\n",
    "\n",
    "Transfer_IDs, transferTime, totalTransferTime = transferTime(df)"
   ]
  },
  {
   "cell_type": "code",
   "execution_count": 8,
   "metadata": {},
   "outputs": [],
   "source": [
    "def requestTime(df):\n",
    "    \"\"\"\n",
    "    Returns the request time and total transfer time for reach transaction\n",
    "    \n",
    "    Args:\n",
    "        df (pd.DataFrame): a DataFrame containing data from the exchange_transactions table of the LeanTaaSTestDB.db\n",
    "        \n",
    "    Returns:\n",
    "        Request_IDs (list): xxxxx\n",
    "        requestTime (list): xxxxx\n",
    "        totalRequestTime (float): xxxxx\n",
    "    \"\"\"\n",
    "    \n",
    "    Request_IDs = []\n",
    "    for i in range(0, len(df)):\n",
    "        if df['action'][i] == 'REQUEST':\n",
    "            Request_IDs.append(df['transaction_id'][i])\n",
    "            \n",
    "    requestTime = []\n",
    "    for i in range(0, len(Request_IDs)):\n",
    "        \n",
    "        a = df[df['parent_transaction_id'] == Request_IDs[i]]\n",
    "    \n",
    "        if len(a[a['action'] == 'MARK_UPDATED']) == 1:\n",
    "            index_a = a.index[a['action'] == 'MARK_UPDATED'][0]\n",
    "            b = df[df['transaction_id'] == Request_IDs[i]]\n",
    "            index_b = b.index[0]\n",
    "            requestTime.append(a['created_datetime'][index_a] - b['created_datetime'][index_b])\n",
    "\n",
    "        elif len(a[a['action'] == 'DENY_REQUEST']) == 1:            \n",
    "            index_a = a.index[a['action'] == 'DENY_REQUEST'][0]\n",
    "            b = df[df['transaction_id'] == Request_IDs[i]]\n",
    "            index_b = b.index[0]\n",
    "            transferTime.append(a['created_datetime'][index_a] - b['created_datetime'][index_b])\n",
    "        \n",
    "    for i in range(0, len(requestTime)):\n",
    "        requestTime[i] = requestTime[i].total_seconds()/60\n",
    "        \n",
    "    totalRequestTime = sum(requestTime)\n",
    "        \n",
    "    return Request_IDs, requestTime, totalRequestTime\n",
    "\n",
    "Request_IDs, requestTime, totalRequestTime = requestTime(df)"
   ]
  },
  {
   "cell_type": "code",
   "execution_count": 9,
   "metadata": {},
   "outputs": [
    {
     "data": {
      "text/html": [
       "<div>\n",
       "<style scoped>\n",
       "    .dataframe tbody tr th:only-of-type {\n",
       "        vertical-align: middle;\n",
       "    }\n",
       "\n",
       "    .dataframe tbody tr th {\n",
       "        vertical-align: top;\n",
       "    }\n",
       "\n",
       "    .dataframe thead th {\n",
       "        text-align: right;\n",
       "    }\n",
       "</style>\n",
       "<table border=\"1\" class=\"dataframe\">\n",
       "  <thead>\n",
       "    <tr style=\"text-align: right;\">\n",
       "      <th></th>\n",
       "      <th>Total Duration (min)</th>\n",
       "      <th>Action Type</th>\n",
       "    </tr>\n",
       "  </thead>\n",
       "  <tbody>\n",
       "    <tr>\n",
       "      <td>1</td>\n",
       "      <td>140820.80</td>\n",
       "      <td>Transfer</td>\n",
       "    </tr>\n",
       "    <tr>\n",
       "      <td>2</td>\n",
       "      <td>512316.25</td>\n",
       "      <td>Release</td>\n",
       "    </tr>\n",
       "    <tr>\n",
       "      <td>0</td>\n",
       "      <td>710037.45</td>\n",
       "      <td>Request</td>\n",
       "    </tr>\n",
       "  </tbody>\n",
       "</table>\n",
       "</div>"
      ],
      "text/plain": [
       "   Total Duration (min) Action Type\n",
       "1             140820.80    Transfer\n",
       "2             512316.25     Release\n",
       "0             710037.45     Request"
      ]
     },
     "execution_count": 9,
     "metadata": {},
     "output_type": "execute_result"
    }
   ],
   "source": [
    "results = pd.DataFrame([totalRequestTime, totalTransferTime, totalReleaseTime], columns = ['Total Duration (min)'])\n",
    "results.sort_values('Total Duration (min)', inplace = True)\n",
    "results['Action Type'] = ['Transfer', 'Release', 'Request']\n",
    "results"
   ]
  },
  {
   "cell_type": "code",
   "execution_count": 10,
   "metadata": {},
   "outputs": [
    {
     "data": {
      "image/png": "[encoded data removed]",
      "text/plain": [
       "<Figure size 396x396 with 1 Axes>"
      ]
     },
     "metadata": {
      "needs_background": "light"
     },
     "output_type": "display_data"
    }
   ],
   "source": [
    "fig1 = plt.figure(figsize = (5.5, 5.5))\n",
    "plt.title('Total Duration per Action Type')\n",
    "sns.barplot(x = 'Action Type', y = 'Total Duration (min)', data = results, palette = 'Blues_d')\n",
    "fig1.savefig('Total_Action_Duration.png')"
   ]
  },
  {
   "cell_type": "code",
   "execution_count": 11,
   "metadata": {},
   "outputs": [],
   "source": [
    "# i would also look at the # of each, since the total time of one transaction could be huge and would change the bar significantly\n",
    "# plus, i think the # of transactions is actaully more important than the time. i know the questin asked for time but they\n",
    "# also stated the activity on both sides is what's important, which i think is better measured by # of each, or \n",
    "# avg and stdev per day, etc. \n",
    "\n",
    "# on a similar note, throw in more statistics if you can. this data is most categorical and time-date, but you should be\n",
    "# able to do a bit of statistical analysis\n",
    "\n",
    "# avg num of transactions for each day (and stdev) could be cool as well"
   ]
  },
  {
   "cell_type": "code",
   "execution_count": 12,
   "metadata": {},
   "outputs": [
    {
     "data": {
      "image/png": "[encoded data removed]",
      "text/plain": [
       "<Figure size 396x396 with 1 Axes>"
      ]
     },
     "metadata": {},
     "output_type": "display_data"
    }
   ],
   "source": [
    "colors = ['#ff9999','#66b3ff','#99ff99','#ffcc99']\n",
    "\n",
    "fig1, ax1 = plt.subplots(figsize = (5.5, 5.5))\n",
    "ax1.pie(results['Total Duration (min)'], colors = colors, labels = results['Action Type'], autopct='%1.1f%%', startangle=90)\n",
    "plt.title('Action Type Distribution')\n",
    "\n",
    "centre_circle = plt.Circle((0,0),0.70,fc='white')\n",
    "fig = plt.gcf()\n",
    "fig.gca().add_artist(centre_circle)\n",
    "# Equal aspect ratio ensures that pie is drawn as a circle\n",
    "ax1.axis('equal')  \n",
    "plt.tight_layout()"
   ]
  },
  {
   "cell_type": "code",
   "execution_count": 13,
   "metadata": {},
   "outputs": [
    {
     "data": {
      "application/vnd.plotly.v1+json": {
       "config": {
        "linkText": "Export to plot.ly",
        "plotlyServerURL": "https://plot.ly",
        "showLink": true
       },
       "data": [
        {
         "marker": {
          "color": "rgba(50, 171, 96, 0.6)",
          "line": {
           "color": "rgba(50, 171, 96, 1.0)",
           "width": 1
          }
         },
         "name": "Total Duration (min)",
         "orientation": "v",
         "text": "",
         "type": "bar",
         "uid": "a0c6adc1-9593-40f4-8e88-aa992c47cf8f",
         "x": [
          "Transfer",
          "Release",
          "Request"
         ],
         "y": [
          140820.8,
          512316.25000000023,
          710037.4499999988
         ]
        }
       ],
       "layout": {
        "legend": {
         "bgcolor": "#F5F6F9",
         "font": {
          "color": "#4D5663"
         }
        },
        "paper_bgcolor": "#F5F6F9",
        "plot_bgcolor": "#F5F6F9",
        "title": {
         "font": {
          "color": "#4D5663"
         },
         "text": "Total Duration per Action Type"
        },
        "xaxis": {
         "gridcolor": "#E1E5ED",
         "showgrid": true,
         "tickfont": {
          "color": "#4D5663"
         },
         "title": {
          "font": {
           "color": "#4D5663"
          },
          "text": "Action Type"
         },
         "zerolinecolor": "#E1E5ED"
        },
        "yaxis": {
         "gridcolor": "#E1E5ED",
         "showgrid": true,
         "tickfont": {
          "color": "#4D5663"
         },
         "title": {
          "font": {
           "color": "#4D5663"
          },
          "text": "Total Duration (min)"
         },
         "zerolinecolor": "#E1E5ED"
        }
       }
      },
      "text/html": [
       "<div>\n",
       "        \n",
       "        \n",
       "            <div id=\"72ae4b40-c70c-46a5-bf66-a4b0cd0e696f\" class=\"plotly-graph-div\" style=\"height:525px; width:100%;\"></div>\n",
       "            <script type=\"text/javascript\">\n",
       "                require([\"plotly\"], function(Plotly) {\n",
       "                    window.PLOTLYENV=window.PLOTLYENV || {};\n",
       "                    window.PLOTLYENV.BASE_URL='https://plot.ly';\n",
       "                    \n",
       "                if (document.getElementById(\"72ae4b40-c70c-46a5-bf66-a4b0cd0e696f\")) {\n",
       "                    Plotly.newPlot(\n",
       "                        '72ae4b40-c70c-46a5-bf66-a4b0cd0e696f',\n",
       "                        [{\"marker\": {\"color\": \"rgba(50, 171, 96, 0.6)\", \"line\": {\"color\": \"rgba(50, 171, 96, 1.0)\", \"width\": 1}}, \"name\": \"Total Duration (min)\", \"orientation\": \"v\", \"text\": \"\", \"type\": \"bar\", \"uid\": \"a0c6adc1-9593-40f4-8e88-aa992c47cf8f\", \"x\": [\"Transfer\", \"Release\", \"Request\"], \"y\": [140820.8, 512316.25000000023, 710037.4499999988]}],\n",
       "                        {\"legend\": {\"bgcolor\": \"#F5F6F9\", \"font\": {\"color\": \"#4D5663\"}}, \"paper_bgcolor\": \"#F5F6F9\", \"plot_bgcolor\": \"#F5F6F9\", \"title\": {\"font\": {\"color\": \"#4D5663\"}, \"text\": \"Total Duration per Action Type\"}, \"xaxis\": {\"gridcolor\": \"#E1E5ED\", \"showgrid\": true, \"tickfont\": {\"color\": \"#4D5663\"}, \"title\": {\"font\": {\"color\": \"#4D5663\"}, \"text\": \"Action Type\"}, \"zerolinecolor\": \"#E1E5ED\"}, \"yaxis\": {\"gridcolor\": \"#E1E5ED\", \"showgrid\": true, \"tickfont\": {\"color\": \"#4D5663\"}, \"title\": {\"font\": {\"color\": \"#4D5663\"}, \"text\": \"Total Duration (min)\"}, \"zerolinecolor\": \"#E1E5ED\"}},\n",
       "                        {\"showLink\": true, \"linkText\": \"Export to plot.ly\", \"plotlyServerURL\": \"https://plot.ly\", \"responsive\": true}\n",
       "                    ).then(function(){\n",
       "                            \n",
       "var gd = document.getElementById('72ae4b40-c70c-46a5-bf66-a4b0cd0e696f');\n",
       "var x = new MutationObserver(function (mutations, observer) {{\n",
       "        var display = window.getComputedStyle(gd).display;\n",
       "        if (!display || display === 'none') {{\n",
       "            console.log([gd, 'removed!']);\n",
       "            Plotly.purge(gd);\n",
       "            observer.disconnect();\n",
       "        }}\n",
       "}});\n",
       "\n",
       "// Listen for the removal of the full notebook cells\n",
       "var notebookContainer = gd.closest('#notebook-container');\n",
       "if (notebookContainer) {{\n",
       "    x.observe(notebookContainer, {childList: true});\n",
       "}}\n",
       "\n",
       "// Listen for the clearing of the current output cell\n",
       "var outputEl = gd.closest('.output');\n",
       "if (outputEl) {{\n",
       "    x.observe(outputEl, {childList: true});\n",
       "}}\n",
       "\n",
       "                        })\n",
       "                };\n",
       "                });\n",
       "            </script>\n",
       "        </div>"
      ]
     },
     "metadata": {},
     "output_type": "display_data"
    }
   ],
   "source": [
    "results.iplot(kind = 'bar', x = 'Action Type', \n",
    "              y = 'Total Duration (min)', \n",
    "              title = 'Total Duration per Action Type', \n",
    "             xTitle = 'Action Type', \n",
    "             yTitle = 'Total Duration (min)', color = 'rgba(50, 171, 96, 1.0)')"
   ]
  },
  {
   "cell_type": "code",
   "execution_count": 14,
   "metadata": {},
   "outputs": [],
   "source": [
    "# another cool thing would be to link the transaction id with its parent. you could potentially chain them all together and see the length of the chain, etc. "
   ]
  },
  {
   "cell_type": "code",
   "execution_count": 15,
   "metadata": {},
   "outputs": [
    {
     "data": {
      "text/html": [
       "<div>\n",
       "<style scoped>\n",
       "    .dataframe tbody tr th:only-of-type {\n",
       "        vertical-align: middle;\n",
       "    }\n",
       "\n",
       "    .dataframe tbody tr th {\n",
       "        vertical-align: top;\n",
       "    }\n",
       "\n",
       "    .dataframe thead th {\n",
       "        text-align: right;\n",
       "    }\n",
       "</style>\n",
       "<table border=\"1\" class=\"dataframe\">\n",
       "  <thead>\n",
       "    <tr style=\"text-align: right;\">\n",
       "      <th></th>\n",
       "      <th>transaction_id</th>\n",
       "      <th>parent_transaction_id</th>\n",
       "      <th>action</th>\n",
       "      <th>scheduler</th>\n",
       "      <th>surgeon</th>\n",
       "      <th>created_datetime</th>\n",
       "      <th>snapshot_date</th>\n",
       "      <th>start_time</th>\n",
       "      <th>end_time</th>\n",
       "      <th>room_name</th>\n",
       "      <th>location</th>\n",
       "    </tr>\n",
       "  </thead>\n",
       "  <tbody>\n",
       "    <tr>\n",
       "      <td>0</td>\n",
       "      <td>2c91808267d2ea5301682f73e9a1093e</td>\n",
       "      <td>None</td>\n",
       "      <td>RELEASE</td>\n",
       "      <td>Jessie Shelley</td>\n",
       "      <td>Bryan Neer</td>\n",
       "      <td>2019-01-15 13:52:32</td>\n",
       "      <td>2019-07-01 00:00:00.000000</td>\n",
       "      <td>07:30:00</td>\n",
       "      <td>19:00:00</td>\n",
       "      <td>MRAH OR 03</td>\n",
       "      <td>CENTER</td>\n",
       "    </tr>\n",
       "    <tr>\n",
       "      <td>1</td>\n",
       "      <td>2c91808267d2ea5301683984e52b0bfb</td>\n",
       "      <td>None</td>\n",
       "      <td>TRANSFER</td>\n",
       "      <td>Raymond Smith</td>\n",
       "      <td>Charles Mcdonald</td>\n",
       "      <td>2019-01-17 12:47:17</td>\n",
       "      <td>2019-06-20 00:00:00.000000</td>\n",
       "      <td>07:30:00</td>\n",
       "      <td>19:00:00</td>\n",
       "      <td>MRAH OR 06</td>\n",
       "      <td>CENTER</td>\n",
       "    </tr>\n",
       "    <tr>\n",
       "      <td>2</td>\n",
       "      <td>2c91808267d2ea53016839855a480bfc</td>\n",
       "      <td>None</td>\n",
       "      <td>TRANSFER</td>\n",
       "      <td>Raymond Smith</td>\n",
       "      <td>Charles Mcdonald</td>\n",
       "      <td>2019-01-17 12:47:47</td>\n",
       "      <td>2019-06-20 00:00:00.000000</td>\n",
       "      <td>07:30:00</td>\n",
       "      <td>19:00:00</td>\n",
       "      <td>MNOR 36</td>\n",
       "      <td>CENTER</td>\n",
       "    </tr>\n",
       "    <tr>\n",
       "      <td>3</td>\n",
       "      <td>2c91808267d2eb4b016829281a390786</td>\n",
       "      <td>None</td>\n",
       "      <td>RELEASE</td>\n",
       "      <td>Kimberly Bugg</td>\n",
       "      <td>Joann Hinson</td>\n",
       "      <td>2019-01-14 08:32:01</td>\n",
       "      <td>2019-06-12 00:00:00.000000</td>\n",
       "      <td>08:50:00</td>\n",
       "      <td>19:00:00</td>\n",
       "      <td>MNOR 25</td>\n",
       "      <td>CENTER</td>\n",
       "    </tr>\n",
       "    <tr>\n",
       "      <td>4</td>\n",
       "      <td>2c91808267d2eb4b01682977274607cb</td>\n",
       "      <td>2c91808267d2eb4b016829281a390786</td>\n",
       "      <td>MARK_UPDATED</td>\n",
       "      <td>Dora Smith</td>\n",
       "      <td>Joann Hinson</td>\n",
       "      <td>2019-01-14 09:58:21</td>\n",
       "      <td>2019-06-12 00:00:00.000000</td>\n",
       "      <td>08:50:00</td>\n",
       "      <td>19:00:00</td>\n",
       "      <td>MNOR 25</td>\n",
       "      <td>CENTER</td>\n",
       "    </tr>\n",
       "  </tbody>\n",
       "</table>\n",
       "</div>"
      ],
      "text/plain": [
       "                     transaction_id             parent_transaction_id  \\\n",
       "0  2c91808267d2ea5301682f73e9a1093e                              None   \n",
       "1  2c91808267d2ea5301683984e52b0bfb                              None   \n",
       "2  2c91808267d2ea53016839855a480bfc                              None   \n",
       "3  2c91808267d2eb4b016829281a390786                              None   \n",
       "4  2c91808267d2eb4b01682977274607cb  2c91808267d2eb4b016829281a390786   \n",
       "\n",
       "         action       scheduler           surgeon    created_datetime  \\\n",
       "0       RELEASE  Jessie Shelley        Bryan Neer 2019-01-15 13:52:32   \n",
       "1      TRANSFER   Raymond Smith  Charles Mcdonald 2019-01-17 12:47:17   \n",
       "2      TRANSFER   Raymond Smith  Charles Mcdonald 2019-01-17 12:47:47   \n",
       "3       RELEASE   Kimberly Bugg      Joann Hinson 2019-01-14 08:32:01   \n",
       "4  MARK_UPDATED      Dora Smith      Joann Hinson 2019-01-14 09:58:21   \n",
       "\n",
       "                snapshot_date start_time  end_time   room_name location  \n",
       "0  2019-07-01 00:00:00.000000   07:30:00  19:00:00  MRAH OR 03   CENTER  \n",
       "1  2019-06-20 00:00:00.000000   07:30:00  19:00:00  MRAH OR 06   CENTER  \n",
       "2  2019-06-20 00:00:00.000000   07:30:00  19:00:00     MNOR 36   CENTER  \n",
       "3  2019-06-12 00:00:00.000000   08:50:00  19:00:00     MNOR 25   CENTER  \n",
       "4  2019-06-12 00:00:00.000000   08:50:00  19:00:00     MNOR 25   CENTER  "
      ]
     },
     "execution_count": 15,
     "metadata": {},
     "output_type": "execute_result"
    }
   ],
   "source": [
    "df.head()"
   ]
  },
  {
   "cell_type": "code",
   "execution_count": 17,
   "metadata": {},
   "outputs": [
    {
     "data": {
      "text/plain": [
       "264"
      ]
     },
     "execution_count": 17,
     "metadata": {},
     "output_type": "execute_result"
    }
   ],
   "source": [
    "len(Transfer_IDs)"
   ]
  },
  {
   "cell_type": "code",
   "execution_count": 18,
   "metadata": {},
   "outputs": [
    {
     "data": {
      "text/plain": [
       "1201"
      ]
     },
     "execution_count": 18,
     "metadata": {},
     "output_type": "execute_result"
    }
   ],
   "source": [
    "len(Release_IDs)"
   ]
  },
  {
   "cell_type": "code",
   "execution_count": 19,
   "metadata": {},
   "outputs": [
    {
     "data": {
      "text/plain": [
       "1324"
      ]
     },
     "execution_count": 19,
     "metadata": {},
     "output_type": "execute_result"
    }
   ],
   "source": [
    "len(Request_IDs)"
   ]
  },
  {
   "cell_type": "code",
   "execution_count": 22,
   "metadata": {},
   "outputs": [
    {
     "data": {
      "text/plain": [
       "<BarContainer object of 3 artists>"
      ]
     },
     "execution_count": 22,
     "metadata": {},
     "output_type": "execute_result"
    },
    {
     "data": {
      "image/png": "[encoded data removed]",
      "text/plain": [
       "<Figure size 576x576 with 1 Axes>"
      ]
     },
     "metadata": {
      "needs_background": "light"
     },
     "output_type": "display_data"
    }
   ],
   "source": [
    "plt.figure(figsize = (5.5, 5.5))\n",
    "plt.title('Total Amount of Transactions')\n",
    "plt.xlabel('Action Type')\n",
    "plt.ylabel('Amount of Transactions')\n",
    "plt.bar(x = ['Request', 'Transfer', 'Release'], \n",
    "        height = [len(Request_IDs), \n",
    "                  len(Transfer_IDs), \n",
    "                 len(Release_IDs)], \n",
    "                    color = 'r', alpha = 0.3)"
   ]
  },
  {
   "cell_type": "code",
   "execution_count": 24,
   "metadata": {},
   "outputs": [
    {
     "data": {
      "text/plain": [
       "<BarContainer object of 2 artists>"
      ]
     },
     "execution_count": 24,
     "metadata": {},
     "output_type": "execute_result"
    },
    {
     "data": {
      "image/png": "[encoded data removed]",
      "text/plain": [
       "<Figure size 576x576 with 1 Axes>"
      ]
     },
     "metadata": {
      "needs_background": "light"
     },
     "output_type": "display_data"
    }
   ],
   "source": [
    "plt.figure(figsize = (5.5, 5.5))\n",
    "plt.title('Total Amount of Transactions')\n",
    "plt.xlabel('Action Type')\n",
    "plt.ylabel('Amount of Transactions')\n",
    "plt.bar(x = ['Request', 'Release'], \n",
    "        height = [len(Request_IDs), \n",
    "                  len(Release_IDs)], \n",
    "                    color = 'r', alpha = 0.3)"
   ]
  },
  {
   "cell_type": "code",
   "execution_count": 74,
   "metadata": {},
   "outputs": [],
   "source": [
    "by_surgeon = df[df['action'] == 'RELEASE'].groupby(['surgeon', 'action'])"
   ]
  },
  {
   "cell_type": "code",
   "execution_count": 75,
   "metadata": {},
   "outputs": [],
   "source": [
    "sorted = by_surgeon.count()"
   ]
  },
  {
   "cell_type": "code",
   "execution_count": 79,
   "metadata": {},
   "outputs": [
    {
     "data": {
      "text/html": [
       "<div>\n",
       "<style scoped>\n",
       "    .dataframe tbody tr th:only-of-type {\n",
       "        vertical-align: middle;\n",
       "    }\n",
       "\n",
       "    .dataframe tbody tr th {\n",
       "        vertical-align: top;\n",
       "    }\n",
       "\n",
       "    .dataframe thead th {\n",
       "        text-align: right;\n",
       "    }\n",
       "</style>\n",
       "<table border=\"1\" class=\"dataframe\">\n",
       "  <thead>\n",
       "    <tr style=\"text-align: right;\">\n",
       "      <th></th>\n",
       "      <th></th>\n",
       "      <th>transaction_id</th>\n",
       "      <th>parent_transaction_id</th>\n",
       "      <th>scheduler</th>\n",
       "      <th>created_datetime</th>\n",
       "      <th>snapshot_date</th>\n",
       "      <th>start_time</th>\n",
       "      <th>end_time</th>\n",
       "      <th>room_name</th>\n",
       "      <th>location</th>\n",
       "    </tr>\n",
       "    <tr>\n",
       "      <th>surgeon</th>\n",
       "      <th>action</th>\n",
       "      <th></th>\n",
       "      <th></th>\n",
       "      <th></th>\n",
       "      <th></th>\n",
       "      <th></th>\n",
       "      <th></th>\n",
       "      <th></th>\n",
       "      <th></th>\n",
       "      <th></th>\n",
       "    </tr>\n",
       "  </thead>\n",
       "  <tbody>\n",
       "    <tr>\n",
       "      <td>Dorothy Shaver</td>\n",
       "      <td>RELEASE</td>\n",
       "      <td>21</td>\n",
       "      <td>0</td>\n",
       "      <td>21</td>\n",
       "      <td>21</td>\n",
       "      <td>21</td>\n",
       "      <td>21</td>\n",
       "      <td>21</td>\n",
       "      <td>21</td>\n",
       "      <td>21</td>\n",
       "    </tr>\n",
       "    <tr>\n",
       "      <td>Mikel Smith</td>\n",
       "      <td>RELEASE</td>\n",
       "      <td>19</td>\n",
       "      <td>0</td>\n",
       "      <td>19</td>\n",
       "      <td>19</td>\n",
       "      <td>19</td>\n",
       "      <td>19</td>\n",
       "      <td>19</td>\n",
       "      <td>19</td>\n",
       "      <td>19</td>\n",
       "    </tr>\n",
       "    <tr>\n",
       "      <td>Daniel Finney</td>\n",
       "      <td>RELEASE</td>\n",
       "      <td>18</td>\n",
       "      <td>0</td>\n",
       "      <td>18</td>\n",
       "      <td>18</td>\n",
       "      <td>18</td>\n",
       "      <td>18</td>\n",
       "      <td>18</td>\n",
       "      <td>18</td>\n",
       "      <td>18</td>\n",
       "    </tr>\n",
       "    <tr>\n",
       "      <td>Gregory Hunt</td>\n",
       "      <td>RELEASE</td>\n",
       "      <td>17</td>\n",
       "      <td>0</td>\n",
       "      <td>17</td>\n",
       "      <td>17</td>\n",
       "      <td>17</td>\n",
       "      <td>17</td>\n",
       "      <td>17</td>\n",
       "      <td>17</td>\n",
       "      <td>17</td>\n",
       "    </tr>\n",
       "    <tr>\n",
       "      <td>James Mcnutt</td>\n",
       "      <td>RELEASE</td>\n",
       "      <td>14</td>\n",
       "      <td>0</td>\n",
       "      <td>14</td>\n",
       "      <td>14</td>\n",
       "      <td>14</td>\n",
       "      <td>14</td>\n",
       "      <td>14</td>\n",
       "      <td>14</td>\n",
       "      <td>14</td>\n",
       "    </tr>\n",
       "  </tbody>\n",
       "</table>\n",
       "</div>"
      ],
      "text/plain": [
       "                        transaction_id  parent_transaction_id  scheduler  \\\n",
       "surgeon        action                                                      \n",
       "Dorothy Shaver RELEASE              21                      0         21   \n",
       "Mikel Smith    RELEASE              19                      0         19   \n",
       "Daniel Finney  RELEASE              18                      0         18   \n",
       "Gregory Hunt   RELEASE              17                      0         17   \n",
       "James Mcnutt   RELEASE              14                      0         14   \n",
       "\n",
       "                        created_datetime  snapshot_date  start_time  end_time  \\\n",
       "surgeon        action                                                           \n",
       "Dorothy Shaver RELEASE                21             21          21        21   \n",
       "Mikel Smith    RELEASE                19             19          19        19   \n",
       "Daniel Finney  RELEASE                18             18          18        18   \n",
       "Gregory Hunt   RELEASE                17             17          17        17   \n",
       "James Mcnutt   RELEASE                14             14          14        14   \n",
       "\n",
       "                        room_name  location  \n",
       "surgeon        action                        \n",
       "Dorothy Shaver RELEASE         21        21  \n",
       "Mikel Smith    RELEASE         19        19  \n",
       "Daniel Finney  RELEASE         18        18  \n",
       "Gregory Hunt   RELEASE         17        17  \n",
       "James Mcnutt   RELEASE         14        14  "
      ]
     },
     "execution_count": 79,
     "metadata": {},
     "output_type": "execute_result"
    }
   ],
   "source": [
    "sorted.nlargest(5, 'transaction_id')"
   ]
  },
  {
   "cell_type": "code",
   "execution_count": 38,
   "metadata": {},
   "outputs": [],
   "source": [
    "# Question 2"
   ]
  },
  {
   "cell_type": "code",
   "execution_count": 39,
   "metadata": {},
   "outputs": [
    {
     "data": {
      "text/html": [
       "<div>\n",
       "<style scoped>\n",
       "    .dataframe tbody tr th:only-of-type {\n",
       "        vertical-align: middle;\n",
       "    }\n",
       "\n",
       "    .dataframe tbody tr th {\n",
       "        vertical-align: top;\n",
       "    }\n",
       "\n",
       "    .dataframe thead th {\n",
       "        text-align: right;\n",
       "    }\n",
       "</style>\n",
       "<table border=\"1\" class=\"dataframe\">\n",
       "  <thead>\n",
       "    <tr style=\"text-align: right;\">\n",
       "      <th></th>\n",
       "      <th>transaction_id</th>\n",
       "      <th>parent_transaction_id</th>\n",
       "      <th>action</th>\n",
       "      <th>scheduler</th>\n",
       "      <th>surgeon</th>\n",
       "      <th>created_datetime</th>\n",
       "      <th>snapshot_date</th>\n",
       "      <th>start_time</th>\n",
       "      <th>end_time</th>\n",
       "      <th>room_name</th>\n",
       "      <th>location</th>\n",
       "    </tr>\n",
       "  </thead>\n",
       "  <tbody>\n",
       "    <tr>\n",
       "      <td>0</td>\n",
       "      <td>2c91808267d2ea5301682f73e9a1093e</td>\n",
       "      <td>None</td>\n",
       "      <td>RELEASE</td>\n",
       "      <td>Jessie Shelley</td>\n",
       "      <td>Bryan Neer</td>\n",
       "      <td>2019-01-15 13:52:32</td>\n",
       "      <td>2019-07-01 00:00:00.000000</td>\n",
       "      <td>07:30:00</td>\n",
       "      <td>19:00:00</td>\n",
       "      <td>MRAH OR 03</td>\n",
       "      <td>CENTER</td>\n",
       "    </tr>\n",
       "    <tr>\n",
       "      <td>1</td>\n",
       "      <td>2c91808267d2ea5301683984e52b0bfb</td>\n",
       "      <td>None</td>\n",
       "      <td>TRANSFER</td>\n",
       "      <td>Raymond Smith</td>\n",
       "      <td>Charles Mcdonald</td>\n",
       "      <td>2019-01-17 12:47:17</td>\n",
       "      <td>2019-06-20 00:00:00.000000</td>\n",
       "      <td>07:30:00</td>\n",
       "      <td>19:00:00</td>\n",
       "      <td>MRAH OR 06</td>\n",
       "      <td>CENTER</td>\n",
       "    </tr>\n",
       "    <tr>\n",
       "      <td>2</td>\n",
       "      <td>2c91808267d2ea53016839855a480bfc</td>\n",
       "      <td>None</td>\n",
       "      <td>TRANSFER</td>\n",
       "      <td>Raymond Smith</td>\n",
       "      <td>Charles Mcdonald</td>\n",
       "      <td>2019-01-17 12:47:47</td>\n",
       "      <td>2019-06-20 00:00:00.000000</td>\n",
       "      <td>07:30:00</td>\n",
       "      <td>19:00:00</td>\n",
       "      <td>MNOR 36</td>\n",
       "      <td>CENTER</td>\n",
       "    </tr>\n",
       "    <tr>\n",
       "      <td>3</td>\n",
       "      <td>2c91808267d2eb4b016829281a390786</td>\n",
       "      <td>None</td>\n",
       "      <td>RELEASE</td>\n",
       "      <td>Kimberly Bugg</td>\n",
       "      <td>Joann Hinson</td>\n",
       "      <td>2019-01-14 08:32:01</td>\n",
       "      <td>2019-06-12 00:00:00.000000</td>\n",
       "      <td>08:50:00</td>\n",
       "      <td>19:00:00</td>\n",
       "      <td>MNOR 25</td>\n",
       "      <td>CENTER</td>\n",
       "    </tr>\n",
       "    <tr>\n",
       "      <td>4</td>\n",
       "      <td>2c91808267d2eb4b01682977274607cb</td>\n",
       "      <td>2c91808267d2eb4b016829281a390786</td>\n",
       "      <td>MARK_UPDATED</td>\n",
       "      <td>Dora Smith</td>\n",
       "      <td>Joann Hinson</td>\n",
       "      <td>2019-01-14 09:58:21</td>\n",
       "      <td>2019-06-12 00:00:00.000000</td>\n",
       "      <td>08:50:00</td>\n",
       "      <td>19:00:00</td>\n",
       "      <td>MNOR 25</td>\n",
       "      <td>CENTER</td>\n",
       "    </tr>\n",
       "  </tbody>\n",
       "</table>\n",
       "</div>"
      ],
      "text/plain": [
       "                     transaction_id             parent_transaction_id  \\\n",
       "0  2c91808267d2ea5301682f73e9a1093e                              None   \n",
       "1  2c91808267d2ea5301683984e52b0bfb                              None   \n",
       "2  2c91808267d2ea53016839855a480bfc                              None   \n",
       "3  2c91808267d2eb4b016829281a390786                              None   \n",
       "4  2c91808267d2eb4b01682977274607cb  2c91808267d2eb4b016829281a390786   \n",
       "\n",
       "         action       scheduler           surgeon    created_datetime  \\\n",
       "0       RELEASE  Jessie Shelley        Bryan Neer 2019-01-15 13:52:32   \n",
       "1      TRANSFER   Raymond Smith  Charles Mcdonald 2019-01-17 12:47:17   \n",
       "2      TRANSFER   Raymond Smith  Charles Mcdonald 2019-01-17 12:47:47   \n",
       "3       RELEASE   Kimberly Bugg      Joann Hinson 2019-01-14 08:32:01   \n",
       "4  MARK_UPDATED      Dora Smith      Joann Hinson 2019-01-14 09:58:21   \n",
       "\n",
       "                snapshot_date start_time  end_time   room_name location  \n",
       "0  2019-07-01 00:00:00.000000   07:30:00  19:00:00  MRAH OR 03   CENTER  \n",
       "1  2019-06-20 00:00:00.000000   07:30:00  19:00:00  MRAH OR 06   CENTER  \n",
       "2  2019-06-20 00:00:00.000000   07:30:00  19:00:00     MNOR 36   CENTER  \n",
       "3  2019-06-12 00:00:00.000000   08:50:00  19:00:00     MNOR 25   CENTER  \n",
       "4  2019-06-12 00:00:00.000000   08:50:00  19:00:00     MNOR 25   CENTER  "
      ]
     },
     "execution_count": 39,
     "metadata": {},
     "output_type": "execute_result"
    }
   ],
   "source": [
    "df.head()"
   ]
  },
  {
   "cell_type": "code",
   "execution_count": 40,
   "metadata": {},
   "outputs": [],
   "source": [
    "def transferApproval(df):\n",
    "    \"\"\"\n",
    "    Returns the transfer approval and denial transaction IDs\n",
    "\n",
    "    Args:\n",
    "        df (pd.DataFrame): a DataFrame containing data from the exchange_transactions table of the LeanTaaSTestDB.db\n",
    "\n",
    "    Returns:\n",
    "        transferApproval_ID (list): xxxxx\n",
    "        transferDenial_ID (list): xxxxx\n",
    "    \"\"\"\n",
    "\n",
    "    transferApproval_ID = []\n",
    "    transferDenial_ID = []\n",
    "    for i in range(0, len(Transfer_IDs)):\n",
    "\n",
    "            a = df[df['parent_transaction_id'] == Transfer_IDs[i]]\n",
    "\n",
    "            if len(a[a['action'] == 'APPROVE_TRANSFER']) == 1:\n",
    "                if len(a[a['action'] == 'MARK_UPDATED']) == 1:\n",
    "                    index_a = a.index[a['action'] == 'APPROVE_TRANSFER'][0]\n",
    "                    transferApproval_ID.append(index_a)\n",
    "\n",
    "            elif len(a[a['action'] == 'DENY_TRANSFER']) == 1:\n",
    "                index_a = a.index[a['action'] == 'DENY_TRANSFER'][0]\n",
    "                transferDenial_ID.append(index_a)\n",
    "                \n",
    "    return transferApproval_ID, transferDenial_ID\n",
    "\n",
    "transferApproval_ID, transferDenial_ID = transferApproval(df)"
   ]
  },
  {
   "cell_type": "code",
   "execution_count": 41,
   "metadata": {},
   "outputs": [],
   "source": [
    "totalApprovedTransfers = len(transferApproval_ID)\n",
    "totalDeniedTransfers = len(transferDenial_ID)\n",
    "\n",
    "Approval_Rate_Transfers = totalApprovedTransfers / (totalApprovedTransfers + totalDeniedTransfers)\n",
    "Denial_Rate_Transfers = totalDeniedTransfers / (totalApprovedTransfers + totalDeniedTransfers)"
   ]
  },
  {
   "cell_type": "code",
   "execution_count": 42,
   "metadata": {},
   "outputs": [
    {
     "data": {
      "text/plain": [
       "0.026717557251908396"
      ]
     },
     "execution_count": 42,
     "metadata": {},
     "output_type": "execute_result"
    }
   ],
   "source": [
    "Denial_Rate_Transfers"
   ]
  },
  {
   "cell_type": "code",
   "execution_count": 43,
   "metadata": {},
   "outputs": [
    {
     "data": {
      "text/plain": [
       "0.9732824427480916"
      ]
     },
     "execution_count": 43,
     "metadata": {},
     "output_type": "execute_result"
    }
   ],
   "source": [
    "Approval_Rate_Transfers"
   ]
  },
  {
   "cell_type": "code",
   "execution_count": 44,
   "metadata": {},
   "outputs": [
    {
     "data": {
      "image/png": "[encoded data removed]",
      "text/plain": [
       "<Figure size 396x396 with 1 Axes>"
      ]
     },
     "metadata": {},
     "output_type": "display_data"
    }
   ],
   "source": [
    "labels = ['Denial Rate %', 'Approval Rate %']\n",
    "\n",
    "colors = ['#ff9999','#66b3ff','#99ff99','#ffcc99']\n",
    "\n",
    "fig1, ax1 = plt.subplots(figsize = (5.5, 5.5))\n",
    "ax1.pie([Denial_Rate_Transfers, Approval_Rate_Transfers], labels = labels, colors = colors, autopct='%1.1f%%', startangle=90)\n",
    "\n",
    "centre_circle = plt.Circle((0,0),0.70,fc='white')\n",
    "fig = plt.gcf()\n",
    "fig.gca().add_artist(centre_circle)\n",
    "# Equal aspect ratio ensures that pie is drawn as a circle\n",
    "ax1.axis('equal')  \n",
    "plt.title('Transfers Approval Rate', {'horizontalalignment': 'left'})\n",
    "plt.tight_layout()"
   ]
  },
  {
   "cell_type": "code",
   "execution_count": 45,
   "metadata": {},
   "outputs": [],
   "source": [
    "def requestApproval(df):\n",
    "    \"\"\"\n",
    "    Returns the request approval and denial transaction IDs\n",
    "\n",
    "    Args:\n",
    "        df (pd.DataFrame): a DataFrame containing data from the exchange_transactions table of the LeanTaaSTestDB.db\n",
    "\n",
    "    Returns:\n",
    "        requestApproval_ID (list): xxxxx\n",
    "        requestDenial_ID (list): xxxxx\n",
    "    \"\"\"\n",
    "\n",
    "    requestApproval_ID = []\n",
    "    requestDenial_ID = []\n",
    "    for i in range(0, len(Request_IDs)):\n",
    "\n",
    "            a = df[df['parent_transaction_id'] == Request_IDs[i]]\n",
    "\n",
    "            if len(a[a['action'] == 'APPROVE_REQUEST']) == 1:\n",
    "                if len(a[a['action'] == 'MARK_UPDATED']) == 1:\n",
    "                    index_a = a.index[a['action'] == 'APPROVE_REQUEST'][0]\n",
    "                    requestApproval_ID.append(index_a)\n",
    "\n",
    "            elif len(a[a['action'] == 'DENY_REQUEST']) == 1:\n",
    "                index_a = a.index[a['action'] == 'DENY_REQUEST'][0]\n",
    "                requestDenial_ID.append(index_a)\n",
    "                \n",
    "    return requestApproval_ID, requestDenial_ID\n",
    "    \n",
    "requestApproval_ID, requestDenial_ID = requestApproval(df)"
   ]
  },
  {
   "cell_type": "code",
   "execution_count": 46,
   "metadata": {},
   "outputs": [],
   "source": [
    "totalApprovedRequests = len(requestApproval_ID)\n",
    "totalDeniedRequests = len(requestDenial_ID)\n",
    "\n",
    "Approval_Rate_Requests = totalApprovedRequests / (totalApprovedRequests + totalDeniedRequests)\n",
    "Denial_Rate_Requests = totalDeniedRequests / (totalApprovedRequests + totalDeniedRequests)"
   ]
  },
  {
   "cell_type": "code",
   "execution_count": 47,
   "metadata": {},
   "outputs": [
    {
     "data": {
      "image/png": "[encoded data removed]",
      "text/plain": [
       "<Figure size 396x396 with 1 Axes>"
      ]
     },
     "metadata": {},
     "output_type": "display_data"
    }
   ],
   "source": [
    "labels = ['Denial Rate %', 'Approval Rate %']\n",
    "\n",
    "colors = ['#ff9999','#66b3ff','#99ff99','#ffcc99']\n",
    "\n",
    "fig1, ax1 = plt.subplots(figsize = (5.5, 5.5))\n",
    "ax1.pie([Denial_Rate_Requests, Approval_Rate_Requests], labels = labels, colors = colors, autopct='%1.1f%%', startangle=90)\n",
    "\n",
    "centre_circle = plt.Circle((0,0),0.70,fc='white')\n",
    "fig = plt.gcf()\n",
    "fig.gca().add_artist(centre_circle)\n",
    "plt.title('Request Approval Rate', {'horizontalalignment': 'left'})\n",
    "ax1.axis('equal')  \n",
    "plt.tight_layout()"
   ]
  },
  {
   "cell_type": "code",
   "execution_count": 48,
   "metadata": {},
   "outputs": [],
   "source": [
    "def responseTimeTransfer(df):\n",
    "    \"\"\"\n",
    "    Returns the response time for transfer transactions\n",
    "\n",
    "    Args:\n",
    "        df (pd.DataFrame): a DataFrame containing data from the exchange_transactions table of the LeanTaaSTestDB.db\n",
    "\n",
    "    Returns:\n",
    "        responseTimeTransfer (list): xxxxx\n",
    "    \"\"\"\n",
    "\n",
    "    responseTimeTransfer = []\n",
    "    for i in range(0, len(Transfer_IDs)):\n",
    "\n",
    "            a = df[df['parent_transaction_id'] == Transfer_IDs[i]]\n",
    "            b = df[df['transaction_id'] == Transfer_IDs[i]]\n",
    "            index_b = b.index[0]\n",
    "\n",
    "            if len(a[a['action'] == 'APPROVE_TRANSFER']) == 1:\n",
    "                if len(a[a['action'] == 'MARK_UPDATED']) == 1:\n",
    "                    index_a = a.index[a['action'] == 'APPROVE_TRANSFER'][0]\n",
    "                    responseTimeTransfer.append(a['created_datetime'][index_a] - b['created_datetime'][index_b])\n",
    "\n",
    "            elif len(a[a['action'] == 'DENY_TRANSFER']) == 1:\n",
    "                index_a = a.index[a['action'] == 'DENY_TRANSFER'][0]\n",
    "                responseTimeTransfer.append(a['created_datetime'][index_a] - b['created_datetime'][index_b])\n",
    "                \n",
    "    return responseTimeTransfer\n",
    "\n",
    "responseTimeTransfer = responseTimeTransfer(df)"
   ]
  },
  {
   "cell_type": "code",
   "execution_count": 49,
   "metadata": {},
   "outputs": [],
   "source": [
    "for i in range(0, len(responseTimeTransfer)):\n",
    "    \n",
    "    responseTimeTransfer[i] = responseTimeTransfer[i].total_seconds()/60\n",
    "\n",
    "averageResponseTimeTransfer = sum(responseTimeTransfer) / len(responseTimeTransfer)"
   ]
  },
  {
   "cell_type": "code",
   "execution_count": 55,
   "metadata": {},
   "outputs": [],
   "source": [
    "def responseTimeRequest(df):\n",
    "    \"\"\"\n",
    "    Returns the response time for request transactions\n",
    "\n",
    "    Args:\n",
    "        df (pd.DataFrame): a DataFrame containing data from the exchange_transactions table of the LeanTaaSTestDB.db\n",
    "\n",
    "    Returns:\n",
    "        responseTimeRequest (list): xxxxx\n",
    "    \"\"\"\n",
    "\n",
    "    responseTimeRequest = []\n",
    "    for i in range(0, len(Request_IDs)):\n",
    "            a = df[df['parent_transaction_id'] == Request_IDs[i]]\n",
    "            b = df[df['transaction_id'] == Request_IDs[i]]\n",
    "            index_b = b.index[0]\n",
    "\n",
    "            if len(a[a['action'] == 'APPROVE_REQUEST']) == 1:\n",
    "                if len(a[a['action'] == 'MARK_UPDATED']) == 1:\n",
    "                    index_a = a.index[a['action'] == 'APPROVE_REQUEST'][0]\n",
    "                    responseTimeRequest.append(a['created_datetime'][index_a] - b['created_datetime'][index_b])\n",
    "\n",
    "            elif len(a[a['action'] == 'DENY_REQUEST']) == 1:\n",
    "                index_a = a.index[a['action'] == 'DENY_REQUEST'][0]\n",
    "                responseTimeRequest.append(a['created_datetime'][index_a] - b['created_datetime'][index_b])\n",
    "                \n",
    "    return responseTimeRequest\n",
    "\n",
    "responseTimeRequest = responseTimeRequest(df)              "
   ]
  },
  {
   "cell_type": "code",
   "execution_count": 56,
   "metadata": {},
   "outputs": [],
   "source": [
    "for i in range(0, len(responseTimeRequest)):\n",
    "\n",
    "    responseTimeRequest[i] = responseTimeRequest[i].total_seconds()/60\n",
    "        \n",
    "averageResponseTimeRequest = sum(responseTimeRequest) / len(responseTimeRequest)"
   ]
  },
  {
   "cell_type": "code",
   "execution_count": 57,
   "metadata": {},
   "outputs": [
    {
     "data": {
      "text/plain": [
       "<BarContainer object of 2 artists>"
      ]
     },
     "execution_count": 57,
     "metadata": {},
     "output_type": "execute_result"
    },
    {
     "data": {
      "image/png": "[encoded data removed]",
      "text/plain": [
       "<Figure size 576x576 with 1 Axes>"
      ]
     },
     "metadata": {
      "needs_background": "light"
     },
     "output_type": "display_data"
    }
   ],
   "source": [
    "plt.figure(figsize = (8, 8))\n",
    "plt.title('Average Response Time per Action')\n",
    "plt.xlabel('Action Type')\n",
    "plt.ylabel('Duration in minutes')\n",
    "plt.bar(x = ['Request', 'Transfer'], \n",
    "        height = [averageResponseTimeRequest, \n",
    "                  averageResponseTimeTransfer], \n",
    "                    color = 'g', alpha = 0.3)"
   ]
  },
  {
   "cell_type": "code",
   "execution_count": 58,
   "metadata": {},
   "outputs": [],
   "source": [
    "CustomerData = {'Action Type': ['Requests', 'Transfers', 'Releases'], 'Approval Rate': [Approval_Rate_Requests, Approval_Rate_Transfers, '--'], \n",
    "               'Denial Rate': [Denial_Rate_Requests, Denial_Rate_Transfers, '--'], \n",
    "               'Average Response Time': [averageResponseTimeRequest, averageResponseTimeTransfer, '--'],\n",
    "              'Total Request Time': [totalRequestTime, totalTransferTime, totalReleaseTime]}"
   ]
  },
  {
   "cell_type": "code",
   "execution_count": 59,
   "metadata": {},
   "outputs": [],
   "source": [
    "Results = pd.DataFrame(data = CustomerData)\n",
    "Results.set_index('Action Type', drop = True, inplace = True)"
   ]
  },
  {
   "cell_type": "code",
   "execution_count": 60,
   "metadata": {},
   "outputs": [
    {
     "data": {
      "text/html": [
       "<div>\n",
       "<style scoped>\n",
       "    .dataframe tbody tr th:only-of-type {\n",
       "        vertical-align: middle;\n",
       "    }\n",
       "\n",
       "    .dataframe tbody tr th {\n",
       "        vertical-align: top;\n",
       "    }\n",
       "\n",
       "    .dataframe thead th {\n",
       "        text-align: right;\n",
       "    }\n",
       "</style>\n",
       "<table border=\"1\" class=\"dataframe\">\n",
       "  <thead>\n",
       "    <tr style=\"text-align: right;\">\n",
       "      <th></th>\n",
       "      <th>Approval Rate</th>\n",
       "      <th>Denial Rate</th>\n",
       "      <th>Average Response Time</th>\n",
       "      <th>Total Request Time</th>\n",
       "    </tr>\n",
       "    <tr>\n",
       "      <th>Action Type</th>\n",
       "      <th></th>\n",
       "      <th></th>\n",
       "      <th></th>\n",
       "      <th></th>\n",
       "    </tr>\n",
       "  </thead>\n",
       "  <tbody>\n",
       "    <tr>\n",
       "      <td>Requests</td>\n",
       "      <td>0.866462</td>\n",
       "      <td>0.133538</td>\n",
       "      <td>702.391</td>\n",
       "      <td>710037.45</td>\n",
       "    </tr>\n",
       "    <tr>\n",
       "      <td>Transfers</td>\n",
       "      <td>0.973282</td>\n",
       "      <td>0.0267176</td>\n",
       "      <td>462.629</td>\n",
       "      <td>140820.80</td>\n",
       "    </tr>\n",
       "    <tr>\n",
       "      <td>Releases</td>\n",
       "      <td>--</td>\n",
       "      <td>--</td>\n",
       "      <td>--</td>\n",
       "      <td>512316.25</td>\n",
       "    </tr>\n",
       "  </tbody>\n",
       "</table>\n",
       "</div>"
      ],
      "text/plain": [
       "            Approval Rate Denial Rate Average Response Time  \\\n",
       "Action Type                                                   \n",
       "Requests         0.866462    0.133538               702.391   \n",
       "Transfers        0.973282   0.0267176               462.629   \n",
       "Releases               --          --                    --   \n",
       "\n",
       "             Total Request Time  \n",
       "Action Type                      \n",
       "Requests              710037.45  \n",
       "Transfers             140820.80  \n",
       "Releases              512316.25  "
      ]
     },
     "execution_count": 60,
     "metadata": {},
     "output_type": "execute_result"
    }
   ],
   "source": [
    "Results"
   ]
  },
  {
   "cell_type": "code",
   "execution_count": 35,
   "metadata": {},
   "outputs": [],
   "source": [
    "writer = pd.ExcelWriter('TransactionData.xlsx', engine='xlsxwriter')\n",
    "Results.to_excel(writer, sheet_name = 'Sheet1')\n",
    "writer.save()"
   ]
  },
  {
   "cell_type": "code",
   "execution_count": null,
   "metadata": {},
   "outputs": [],
   "source": []
  }
 ],
 "metadata": {
  "kernelspec": {
   "display_name": "Python 3",
   "language": "python",
   "name": "python3"
  },
  "language_info": {
   "codemirror_mode": {
    "name": "ipython",
    "version": 3
   },
   "file_extension": ".py",
   "mimetype": "text/x-python",
   "name": "python",
   "nbconvert_exporter": "python",
   "pygments_lexer": "ipython3",
   "version": "3.7.3"
  }
 },
 "nbformat": 4,
 "nbformat_minor": 2
}
