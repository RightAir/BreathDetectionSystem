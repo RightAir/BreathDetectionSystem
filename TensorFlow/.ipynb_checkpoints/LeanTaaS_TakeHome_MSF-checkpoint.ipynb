{
 "cells": [
  {
   "cell_type": "markdown",
   "metadata": {},
   "source": [
    "## Lean TaaS Problem Set\n",
    "#### Oct 2019 | Michael Furr"
   ]
  },
  {
   "cell_type": "markdown",
   "metadata": {},
   "source": [
    "#### Import Libraries"
   ]
  },
  {
   "cell_type": "code",
   "execution_count": 54,
   "metadata": {},
   "outputs": [
    {
     "data": {
      "text/html": [
       "        <script type=\"text/javascript\">\n",
       "        window.PlotlyConfig = {MathJaxConfig: 'local'};\n",
       "        if (window.MathJax) {MathJax.Hub.Config({SVG: {font: \"STIX-Web\"}});}\n",
       "        if (typeof require !== 'undefined') {\n",
       "        require.undef(\"plotly\");\n",
       "        requirejs.config({\n",
       "            paths: {\n",
       "                'plotly': ['https://cdn.plot.ly/plotly-latest.min']\n",
       "            }\n",
       "        });\n",
       "        require(['plotly'], function(Plotly) {\n",
       "            window._Plotly = Plotly;\n",
       "        });\n",
       "        }\n",
       "        </script>\n",
       "        "
      ]
     },
     "metadata": {},
     "output_type": "display_data"
    },
    {
     "data": {
      "text/html": [
       "        <script type=\"text/javascript\">\n",
       "        window.PlotlyConfig = {MathJaxConfig: 'local'};\n",
       "        if (window.MathJax) {MathJax.Hub.Config({SVG: {font: \"STIX-Web\"}});}\n",
       "        if (typeof require !== 'undefined') {\n",
       "        require.undef(\"plotly\");\n",
       "        requirejs.config({\n",
       "            paths: {\n",
       "                'plotly': ['https://cdn.plot.ly/plotly-latest.min']\n",
       "            }\n",
       "        });\n",
       "        require(['plotly'], function(Plotly) {\n",
       "            window._Plotly = Plotly;\n",
       "        });\n",
       "        }\n",
       "        </script>\n",
       "        "
      ]
     },
     "metadata": {},
     "output_type": "display_data"
    }
   ],
   "source": [
    "import pandas as pd\n",
    "import sqlite3\n",
    "\n",
    "from datetime import datetime, timedelta\n",
    "\n",
    "import numpy as np\n",
    "import matplotlib.pyplot as plt\n",
    "import seaborn as sns\n",
    "%matplotlib inline\n",
    "\n",
    "from plotly import __version__\n",
    "from plotly.offline import download_plotlyjs, init_notebook_mode, plot, iplot\n",
    "\n",
    "import cufflinks as cf\n",
    "\n",
    "init_notebook_mode(connected=True)\n",
    "\n",
    "cf.go_offline()"
   ]
  },
  {
   "cell_type": "markdown",
   "metadata": {},
   "source": [
    "#### Pull in data"
   ]
  },
  {
   "cell_type": "code",
   "execution_count": 55,
   "metadata": {},
   "outputs": [],
   "source": [
    "conn = sqlite3.connect('LeanTaaSTestDB.db')\n",
    "df = pd.read_sql_query(\"select * from exchange_transactions;\", conn)"
   ]
  },
  {
   "cell_type": "code",
   "execution_count": 56,
   "metadata": {
    "scrolled": true
   },
   "outputs": [],
   "source": [
    "for i in range(0, len(df)):\n",
    "    \n",
    "    df['created_datetime'][i] = df['created_datetime'][i].split('.')[0]\n",
    "\n",
    "df['created_datetime'] = pd.to_datetime(df['created_datetime'])"
   ]
  },
  {
   "cell_type": "code",
   "execution_count": 57,
   "metadata": {},
   "outputs": [
    {
     "data": {
      "text/html": [
       "<div>\n",
       "<style scoped>\n",
       "    .dataframe tbody tr th:only-of-type {\n",
       "        vertical-align: middle;\n",
       "    }\n",
       "\n",
       "    .dataframe tbody tr th {\n",
       "        vertical-align: top;\n",
       "    }\n",
       "\n",
       "    .dataframe thead th {\n",
       "        text-align: right;\n",
       "    }\n",
       "</style>\n",
       "<table border=\"1\" class=\"dataframe\">\n",
       "  <thead>\n",
       "    <tr style=\"text-align: right;\">\n",
       "      <th></th>\n",
       "      <th>transaction_id</th>\n",
       "      <th>parent_transaction_id</th>\n",
       "      <th>action</th>\n",
       "      <th>scheduler</th>\n",
       "      <th>surgeon</th>\n",
       "      <th>created_datetime</th>\n",
       "      <th>snapshot_date</th>\n",
       "      <th>start_time</th>\n",
       "      <th>end_time</th>\n",
       "      <th>room_name</th>\n",
       "      <th>location</th>\n",
       "    </tr>\n",
       "  </thead>\n",
       "  <tbody>\n",
       "    <tr>\n",
       "      <td>0</td>\n",
       "      <td>2c91808267d2ea5301682f73e9a1093e</td>\n",
       "      <td>None</td>\n",
       "      <td>RELEASE</td>\n",
       "      <td>Jessie Shelley</td>\n",
       "      <td>Bryan Neer</td>\n",
       "      <td>2019-01-15 13:52:32</td>\n",
       "      <td>2019-07-01 00:00:00.000000</td>\n",
       "      <td>07:30:00</td>\n",
       "      <td>19:00:00</td>\n",
       "      <td>MRAH OR 03</td>\n",
       "      <td>CENTER</td>\n",
       "    </tr>\n",
       "    <tr>\n",
       "      <td>1</td>\n",
       "      <td>2c91808267d2ea5301683984e52b0bfb</td>\n",
       "      <td>None</td>\n",
       "      <td>TRANSFER</td>\n",
       "      <td>Raymond Smith</td>\n",
       "      <td>Charles Mcdonald</td>\n",
       "      <td>2019-01-17 12:47:17</td>\n",
       "      <td>2019-06-20 00:00:00.000000</td>\n",
       "      <td>07:30:00</td>\n",
       "      <td>19:00:00</td>\n",
       "      <td>MRAH OR 06</td>\n",
       "      <td>CENTER</td>\n",
       "    </tr>\n",
       "    <tr>\n",
       "      <td>2</td>\n",
       "      <td>2c91808267d2ea53016839855a480bfc</td>\n",
       "      <td>None</td>\n",
       "      <td>TRANSFER</td>\n",
       "      <td>Raymond Smith</td>\n",
       "      <td>Charles Mcdonald</td>\n",
       "      <td>2019-01-17 12:47:47</td>\n",
       "      <td>2019-06-20 00:00:00.000000</td>\n",
       "      <td>07:30:00</td>\n",
       "      <td>19:00:00</td>\n",
       "      <td>MNOR 36</td>\n",
       "      <td>CENTER</td>\n",
       "    </tr>\n",
       "    <tr>\n",
       "      <td>3</td>\n",
       "      <td>2c91808267d2eb4b016829281a390786</td>\n",
       "      <td>None</td>\n",
       "      <td>RELEASE</td>\n",
       "      <td>Kimberly Bugg</td>\n",
       "      <td>Joann Hinson</td>\n",
       "      <td>2019-01-14 08:32:01</td>\n",
       "      <td>2019-06-12 00:00:00.000000</td>\n",
       "      <td>08:50:00</td>\n",
       "      <td>19:00:00</td>\n",
       "      <td>MNOR 25</td>\n",
       "      <td>CENTER</td>\n",
       "    </tr>\n",
       "    <tr>\n",
       "      <td>4</td>\n",
       "      <td>2c91808267d2eb4b01682977274607cb</td>\n",
       "      <td>2c91808267d2eb4b016829281a390786</td>\n",
       "      <td>MARK_UPDATED</td>\n",
       "      <td>Dora Smith</td>\n",
       "      <td>Joann Hinson</td>\n",
       "      <td>2019-01-14 09:58:21</td>\n",
       "      <td>2019-06-12 00:00:00.000000</td>\n",
       "      <td>08:50:00</td>\n",
       "      <td>19:00:00</td>\n",
       "      <td>MNOR 25</td>\n",
       "      <td>CENTER</td>\n",
       "    </tr>\n",
       "    <tr>\n",
       "      <td>5</td>\n",
       "      <td>2c91808267d2eb4b01682f056761098f</td>\n",
       "      <td>None</td>\n",
       "      <td>RELEASE</td>\n",
       "      <td>Guy Medina</td>\n",
       "      <td>James Mcgraw</td>\n",
       "      <td>2019-01-15 11:51:50</td>\n",
       "      <td>2019-06-12 00:00:00.000000</td>\n",
       "      <td>11:45:00</td>\n",
       "      <td>17:00:00</td>\n",
       "      <td>MRAH OR 10</td>\n",
       "      <td>MRAH OR</td>\n",
       "    </tr>\n",
       "    <tr>\n",
       "      <td>6</td>\n",
       "      <td>2c91808267d2eb4b01682f0e2f72099b</td>\n",
       "      <td>2c91808267d2eb4b01682f056761098f</td>\n",
       "      <td>MARK_UPDATED</td>\n",
       "      <td>Moses Favuzza</td>\n",
       "      <td>James Mcgraw</td>\n",
       "      <td>2019-01-15 12:01:25</td>\n",
       "      <td>2019-06-12 00:00:00.000000</td>\n",
       "      <td>11:45:00</td>\n",
       "      <td>17:00:00</td>\n",
       "      <td>MRAH OR 10</td>\n",
       "      <td>MRAH OR</td>\n",
       "    </tr>\n",
       "    <tr>\n",
       "      <td>7</td>\n",
       "      <td>2c91808267d2eb4b01682fb1563009f8</td>\n",
       "      <td>2c91808267d2ea5301682f73e9a1093e</td>\n",
       "      <td>MARK_UPDATED</td>\n",
       "      <td>Mary White</td>\n",
       "      <td>Bryan Neer</td>\n",
       "      <td>2019-01-15 14:59:38</td>\n",
       "      <td>2019-07-01 00:00:00.000000</td>\n",
       "      <td>07:30:00</td>\n",
       "      <td>19:00:00</td>\n",
       "      <td>MRAH OR 03</td>\n",
       "      <td>CENTER</td>\n",
       "    </tr>\n",
       "    <tr>\n",
       "      <td>8</td>\n",
       "      <td>2c91808267d2eb4b016833c3be970ac0</td>\n",
       "      <td>None</td>\n",
       "      <td>RELEASE</td>\n",
       "      <td>James Gray</td>\n",
       "      <td>Donald Howard</td>\n",
       "      <td>2019-01-16 09:58:13</td>\n",
       "      <td>2019-06-05 00:00:00.000000</td>\n",
       "      <td>07:00:00</td>\n",
       "      <td>19:00:00</td>\n",
       "      <td>MRAH OR 17</td>\n",
       "      <td>MRAH OR</td>\n",
       "    </tr>\n",
       "    <tr>\n",
       "      <td>9</td>\n",
       "      <td>2c91808267d2eb4b016833d2ca6e0aca</td>\n",
       "      <td>2c91808267d2eb4b016833c3be970ac0</td>\n",
       "      <td>MARK_UPDATED</td>\n",
       "      <td>Moses Favuzza</td>\n",
       "      <td>Donald Howard</td>\n",
       "      <td>2019-01-16 10:14:39</td>\n",
       "      <td>2019-06-05 00:00:00.000000</td>\n",
       "      <td>07:00:00</td>\n",
       "      <td>19:00:00</td>\n",
       "      <td>MRAH OR 17</td>\n",
       "      <td>MRAH OR</td>\n",
       "    </tr>\n",
       "    <tr>\n",
       "      <td>10</td>\n",
       "      <td>2c918082683a16f801683dbcf9b2006e</td>\n",
       "      <td>None</td>\n",
       "      <td>TRANSFER</td>\n",
       "      <td>Luisa Green</td>\n",
       "      <td>Manuel Winfrey</td>\n",
       "      <td>2019-01-18 08:27:01</td>\n",
       "      <td>2019-07-17 00:00:00.000000</td>\n",
       "      <td>07:00:00</td>\n",
       "      <td>19:00:00</td>\n",
       "      <td>MRAH OR 19</td>\n",
       "      <td>MRAH OR</td>\n",
       "    </tr>\n",
       "    <tr>\n",
       "      <td>11</td>\n",
       "      <td>2c918082683a16f801683dbcf9b4006f</td>\n",
       "      <td>2c918082683a16f801683dbcf9b2006e</td>\n",
       "      <td>APPROVE_TRANSFER</td>\n",
       "      <td>Luisa Green</td>\n",
       "      <td>Manuel Winfrey</td>\n",
       "      <td>2019-01-18 08:27:01</td>\n",
       "      <td>2019-07-17 00:00:00.000000</td>\n",
       "      <td>07:00:00</td>\n",
       "      <td>19:00:00</td>\n",
       "      <td>MRAH OR 19</td>\n",
       "      <td>MRAH OR</td>\n",
       "    </tr>\n",
       "    <tr>\n",
       "      <td>12</td>\n",
       "      <td>2c918082683a16f801683dccae070082</td>\n",
       "      <td>2c918082683a16f801683dbcf9b2006e</td>\n",
       "      <td>MARK_UPDATED</td>\n",
       "      <td>Corey Williams</td>\n",
       "      <td>Manuel Winfrey</td>\n",
       "      <td>2019-01-18 08:44:11</td>\n",
       "      <td>2019-07-17 00:00:00.000000</td>\n",
       "      <td>07:00:00</td>\n",
       "      <td>19:00:00</td>\n",
       "      <td>MRAH OR 19</td>\n",
       "      <td>MRAH OR</td>\n",
       "    </tr>\n",
       "    <tr>\n",
       "      <td>13</td>\n",
       "      <td>2c918082683a16f801684de8c226027a</td>\n",
       "      <td>None</td>\n",
       "      <td>RELEASE</td>\n",
       "      <td>Kimberly Bugg</td>\n",
       "      <td>Joann Hinson</td>\n",
       "      <td>2019-01-21 11:48:46</td>\n",
       "      <td>2019-07-08 00:00:00.000000</td>\n",
       "      <td>07:30:00</td>\n",
       "      <td>19:00:00</td>\n",
       "      <td>MNOR 32</td>\n",
       "      <td>CENTER</td>\n",
       "    </tr>\n",
       "    <tr>\n",
       "      <td>14</td>\n",
       "      <td>2c918082683a16f801684e1405730293</td>\n",
       "      <td>2c918082683a16f801684de8c226027a</td>\n",
       "      <td>MARK_UPDATED</td>\n",
       "      <td>Dora Smith</td>\n",
       "      <td>Joann Hinson</td>\n",
       "      <td>2019-01-21 12:36:02</td>\n",
       "      <td>2019-07-08 00:00:00.000000</td>\n",
       "      <td>07:30:00</td>\n",
       "      <td>19:00:00</td>\n",
       "      <td>MNOR 32</td>\n",
       "      <td>CENTER</td>\n",
       "    </tr>\n",
       "    <tr>\n",
       "      <td>15</td>\n",
       "      <td>2c918082683a16f8016852105c480303</td>\n",
       "      <td>None</td>\n",
       "      <td>REQUEST</td>\n",
       "      <td>Guy Medina</td>\n",
       "      <td>James Mcgraw</td>\n",
       "      <td>2019-01-22 07:10:30</td>\n",
       "      <td>2019-06-12 00:00:00.000000</td>\n",
       "      <td>11:30:00</td>\n",
       "      <td>17:00:00</td>\n",
       "      <td>None</td>\n",
       "      <td>MRAH OR</td>\n",
       "    </tr>\n",
       "    <tr>\n",
       "      <td>16</td>\n",
       "      <td>2c918082683a16f8016852112b540304</td>\n",
       "      <td>2c918082683a181c01685207c50102fb</td>\n",
       "      <td>DENY_REQUEST</td>\n",
       "      <td>Guy Medina</td>\n",
       "      <td>James Mcgraw</td>\n",
       "      <td>2019-01-22 07:11:23</td>\n",
       "      <td>2019-06-12 00:00:00.000000</td>\n",
       "      <td>07:00:00</td>\n",
       "      <td>08:00:00</td>\n",
       "      <td>None</td>\n",
       "      <td>MRAH OR</td>\n",
       "    </tr>\n",
       "    <tr>\n",
       "      <td>17</td>\n",
       "      <td>2c918082683a16f80168521e275a030e</td>\n",
       "      <td>2c918082683a181c0168520bf0bd0302</td>\n",
       "      <td>APPROVE_REQUEST</td>\n",
       "      <td>Melody Hogsett</td>\n",
       "      <td>James Mcgraw</td>\n",
       "      <td>2019-01-22 07:25:34</td>\n",
       "      <td>2019-06-12 00:00:00.000000</td>\n",
       "      <td>07:00:00</td>\n",
       "      <td>17:00:00</td>\n",
       "      <td>MRAH OR 11</td>\n",
       "      <td>MRAH OR</td>\n",
       "    </tr>\n",
       "    <tr>\n",
       "      <td>18</td>\n",
       "      <td>2c918082683a16f80168522268290311</td>\n",
       "      <td>2c918082683a181c0168520bf0bd0302</td>\n",
       "      <td>MARK_UPDATED</td>\n",
       "      <td>Melody Hogsett</td>\n",
       "      <td>James Mcgraw</td>\n",
       "      <td>2019-01-22 07:30:13</td>\n",
       "      <td>2019-06-12 00:00:00.000000</td>\n",
       "      <td>07:00:00</td>\n",
       "      <td>17:00:00</td>\n",
       "      <td>None</td>\n",
       "      <td>MRAH OR</td>\n",
       "    </tr>\n",
       "    <tr>\n",
       "      <td>19</td>\n",
       "      <td>2c918082683a16f8016852860488035e</td>\n",
       "      <td>2c918082683a181c01684e440a8502b3</td>\n",
       "      <td>APPROVE_TRANSFER</td>\n",
       "      <td>Helen Bowman</td>\n",
       "      <td>Kenneth Zahler</td>\n",
       "      <td>2019-01-22 09:19:01</td>\n",
       "      <td>2019-06-10 00:00:00.000000</td>\n",
       "      <td>07:30:00</td>\n",
       "      <td>16:30:00</td>\n",
       "      <td>VISION OR 6</td>\n",
       "      <td>VISION OR</td>\n",
       "    </tr>\n",
       "  </tbody>\n",
       "</table>\n",
       "</div>"
      ],
      "text/plain": [
       "                      transaction_id             parent_transaction_id  \\\n",
       "0   2c91808267d2ea5301682f73e9a1093e                              None   \n",
       "1   2c91808267d2ea5301683984e52b0bfb                              None   \n",
       "2   2c91808267d2ea53016839855a480bfc                              None   \n",
       "3   2c91808267d2eb4b016829281a390786                              None   \n",
       "4   2c91808267d2eb4b01682977274607cb  2c91808267d2eb4b016829281a390786   \n",
       "5   2c91808267d2eb4b01682f056761098f                              None   \n",
       "6   2c91808267d2eb4b01682f0e2f72099b  2c91808267d2eb4b01682f056761098f   \n",
       "7   2c91808267d2eb4b01682fb1563009f8  2c91808267d2ea5301682f73e9a1093e   \n",
       "8   2c91808267d2eb4b016833c3be970ac0                              None   \n",
       "9   2c91808267d2eb4b016833d2ca6e0aca  2c91808267d2eb4b016833c3be970ac0   \n",
       "10  2c918082683a16f801683dbcf9b2006e                              None   \n",
       "11  2c918082683a16f801683dbcf9b4006f  2c918082683a16f801683dbcf9b2006e   \n",
       "12  2c918082683a16f801683dccae070082  2c918082683a16f801683dbcf9b2006e   \n",
       "13  2c918082683a16f801684de8c226027a                              None   \n",
       "14  2c918082683a16f801684e1405730293  2c918082683a16f801684de8c226027a   \n",
       "15  2c918082683a16f8016852105c480303                              None   \n",
       "16  2c918082683a16f8016852112b540304  2c918082683a181c01685207c50102fb   \n",
       "17  2c918082683a16f80168521e275a030e  2c918082683a181c0168520bf0bd0302   \n",
       "18  2c918082683a16f80168522268290311  2c918082683a181c0168520bf0bd0302   \n",
       "19  2c918082683a16f8016852860488035e  2c918082683a181c01684e440a8502b3   \n",
       "\n",
       "              action       scheduler           surgeon    created_datetime  \\\n",
       "0            RELEASE  Jessie Shelley        Bryan Neer 2019-01-15 13:52:32   \n",
       "1           TRANSFER   Raymond Smith  Charles Mcdonald 2019-01-17 12:47:17   \n",
       "2           TRANSFER   Raymond Smith  Charles Mcdonald 2019-01-17 12:47:47   \n",
       "3            RELEASE   Kimberly Bugg      Joann Hinson 2019-01-14 08:32:01   \n",
       "4       MARK_UPDATED      Dora Smith      Joann Hinson 2019-01-14 09:58:21   \n",
       "5            RELEASE      Guy Medina      James Mcgraw 2019-01-15 11:51:50   \n",
       "6       MARK_UPDATED   Moses Favuzza      James Mcgraw 2019-01-15 12:01:25   \n",
       "7       MARK_UPDATED      Mary White        Bryan Neer 2019-01-15 14:59:38   \n",
       "8            RELEASE      James Gray     Donald Howard 2019-01-16 09:58:13   \n",
       "9       MARK_UPDATED   Moses Favuzza     Donald Howard 2019-01-16 10:14:39   \n",
       "10          TRANSFER     Luisa Green    Manuel Winfrey 2019-01-18 08:27:01   \n",
       "11  APPROVE_TRANSFER     Luisa Green    Manuel Winfrey 2019-01-18 08:27:01   \n",
       "12      MARK_UPDATED  Corey Williams    Manuel Winfrey 2019-01-18 08:44:11   \n",
       "13           RELEASE   Kimberly Bugg      Joann Hinson 2019-01-21 11:48:46   \n",
       "14      MARK_UPDATED      Dora Smith      Joann Hinson 2019-01-21 12:36:02   \n",
       "15           REQUEST      Guy Medina      James Mcgraw 2019-01-22 07:10:30   \n",
       "16      DENY_REQUEST      Guy Medina      James Mcgraw 2019-01-22 07:11:23   \n",
       "17   APPROVE_REQUEST  Melody Hogsett      James Mcgraw 2019-01-22 07:25:34   \n",
       "18      MARK_UPDATED  Melody Hogsett      James Mcgraw 2019-01-22 07:30:13   \n",
       "19  APPROVE_TRANSFER    Helen Bowman    Kenneth Zahler 2019-01-22 09:19:01   \n",
       "\n",
       "                 snapshot_date start_time  end_time    room_name   location  \n",
       "0   2019-07-01 00:00:00.000000   07:30:00  19:00:00   MRAH OR 03     CENTER  \n",
       "1   2019-06-20 00:00:00.000000   07:30:00  19:00:00   MRAH OR 06     CENTER  \n",
       "2   2019-06-20 00:00:00.000000   07:30:00  19:00:00      MNOR 36     CENTER  \n",
       "3   2019-06-12 00:00:00.000000   08:50:00  19:00:00      MNOR 25     CENTER  \n",
       "4   2019-06-12 00:00:00.000000   08:50:00  19:00:00      MNOR 25     CENTER  \n",
       "5   2019-06-12 00:00:00.000000   11:45:00  17:00:00   MRAH OR 10    MRAH OR  \n",
       "6   2019-06-12 00:00:00.000000   11:45:00  17:00:00   MRAH OR 10    MRAH OR  \n",
       "7   2019-07-01 00:00:00.000000   07:30:00  19:00:00   MRAH OR 03     CENTER  \n",
       "8   2019-06-05 00:00:00.000000   07:00:00  19:00:00   MRAH OR 17    MRAH OR  \n",
       "9   2019-06-05 00:00:00.000000   07:00:00  19:00:00   MRAH OR 17    MRAH OR  \n",
       "10  2019-07-17 00:00:00.000000   07:00:00  19:00:00   MRAH OR 19    MRAH OR  \n",
       "11  2019-07-17 00:00:00.000000   07:00:00  19:00:00   MRAH OR 19    MRAH OR  \n",
       "12  2019-07-17 00:00:00.000000   07:00:00  19:00:00   MRAH OR 19    MRAH OR  \n",
       "13  2019-07-08 00:00:00.000000   07:30:00  19:00:00      MNOR 32     CENTER  \n",
       "14  2019-07-08 00:00:00.000000   07:30:00  19:00:00      MNOR 32     CENTER  \n",
       "15  2019-06-12 00:00:00.000000   11:30:00  17:00:00         None    MRAH OR  \n",
       "16  2019-06-12 00:00:00.000000   07:00:00  08:00:00         None    MRAH OR  \n",
       "17  2019-06-12 00:00:00.000000   07:00:00  17:00:00   MRAH OR 11    MRAH OR  \n",
       "18  2019-06-12 00:00:00.000000   07:00:00  17:00:00         None    MRAH OR  \n",
       "19  2019-06-10 00:00:00.000000   07:30:00  16:30:00  VISION OR 6  VISION OR  "
      ]
     },
     "execution_count": 57,
     "metadata": {},
     "output_type": "execute_result"
    }
   ],
   "source": [
    "df.head(20)"
   ]
  },
  {
   "cell_type": "code",
   "execution_count": 58,
   "metadata": {},
   "outputs": [
    {
     "data": {
      "text/html": [
       "<div>\n",
       "<style scoped>\n",
       "    .dataframe tbody tr th:only-of-type {\n",
       "        vertical-align: middle;\n",
       "    }\n",
       "\n",
       "    .dataframe tbody tr th {\n",
       "        vertical-align: top;\n",
       "    }\n",
       "\n",
       "    .dataframe thead th {\n",
       "        text-align: right;\n",
       "    }\n",
       "</style>\n",
       "<table border=\"1\" class=\"dataframe\">\n",
       "  <thead>\n",
       "    <tr style=\"text-align: right;\">\n",
       "      <th></th>\n",
       "      <th>transaction_id</th>\n",
       "      <th>parent_transaction_id</th>\n",
       "      <th>action</th>\n",
       "      <th>scheduler</th>\n",
       "      <th>surgeon</th>\n",
       "      <th>created_datetime</th>\n",
       "      <th>snapshot_date</th>\n",
       "      <th>start_time</th>\n",
       "      <th>end_time</th>\n",
       "      <th>room_name</th>\n",
       "      <th>location</th>\n",
       "    </tr>\n",
       "  </thead>\n",
       "  <tbody>\n",
       "    <tr>\n",
       "      <td>16</td>\n",
       "      <td>2c918082683a16f8016852112b540304</td>\n",
       "      <td>2c918082683a181c01685207c50102fb</td>\n",
       "      <td>DENY_REQUEST</td>\n",
       "      <td>Guy Medina</td>\n",
       "      <td>James Mcgraw</td>\n",
       "      <td>2019-01-22 07:11:23</td>\n",
       "      <td>2019-06-12 00:00:00.000000</td>\n",
       "      <td>07:00:00</td>\n",
       "      <td>08:00:00</td>\n",
       "      <td>None</td>\n",
       "      <td>MRAH OR</td>\n",
       "    </tr>\n",
       "  </tbody>\n",
       "</table>\n",
       "</div>"
      ],
      "text/plain": [
       "                      transaction_id             parent_transaction_id  \\\n",
       "16  2c918082683a16f8016852112b540304  2c918082683a181c01685207c50102fb   \n",
       "\n",
       "          action   scheduler       surgeon    created_datetime  \\\n",
       "16  DENY_REQUEST  Guy Medina  James Mcgraw 2019-01-22 07:11:23   \n",
       "\n",
       "                 snapshot_date start_time  end_time room_name location  \n",
       "16  2019-06-12 00:00:00.000000   07:00:00  08:00:00      None  MRAH OR  "
      ]
     },
     "execution_count": 58,
     "metadata": {},
     "output_type": "execute_result"
    }
   ],
   "source": [
    "df[df['parent_transaction_id'] == '2c918082683a181c01685207c50102fb']"
   ]
  },
  {
   "cell_type": "markdown",
   "metadata": {},
   "source": [
    "#### Question 1\n",
    "#### How many minutes of requests, transfers and releases have been completed? The marketplace is successful if there's a good amount of activities from both sides."
   ]
  },
  {
   "cell_type": "code",
   "execution_count": 59,
   "metadata": {},
   "outputs": [],
   "source": [
    "def releaseTime(df):\n",
    "    \n",
    "    Release_IDs = []\n",
    "    \n",
    "    for i in range(0, len(df)):\n",
    "\n",
    "        if df['action'][i] == 'RELEASE':\n",
    "        \n",
    "            Release_IDs.append(df['transaction_id'][i])\n",
    "    \n",
    "    releaseTime = []\n",
    "    \n",
    "    for i in range(0, len(Release_IDs)):\n",
    "    \n",
    "        releaseTime.append(df[df['parent_transaction_id'] == Release_IDs[i]]['created_datetime'][df.index[df['parent_transaction_id'] == Release_IDs[i]][0]] - df[df['transaction_id'] == Release_IDs[i]]['created_datetime'][df.index[df['transaction_id'] == Release_IDs[i]][0]])\n",
    "        \n",
    "    for i in range(0, len(releaseTime)):\n",
    "    \n",
    "        releaseTime[i] = releaseTime[i].total_seconds()/60\n",
    "        \n",
    "    totalReleaseTime = sum(releaseTime)\n",
    "    \n",
    "    return Release_IDs, releaseTime, totalReleaseTime\n",
    "\n",
    "Release_IDs, releaseTime, totalReleaseTime = releaseTime(df)\n"
   ]
  },
  {
   "cell_type": "code",
   "execution_count": 60,
   "metadata": {},
   "outputs": [],
   "source": [
    "def transferTime(df):\n",
    "    \n",
    "    Transfer_IDs = []\n",
    "\n",
    "    for i in range(0, len(df)):\n",
    "    \n",
    "        if df['action'][i] == 'TRANSFER':\n",
    "        \n",
    "            Transfer_IDs.append(df['transaction_id'][i])\n",
    "            \n",
    "    transferTime = []\n",
    "\n",
    "    for i in range(0, len(Transfer_IDs)):\n",
    "        \n",
    "        a = df[df['parent_transaction_id'] == Transfer_IDs[i]]\n",
    "    \n",
    "        if len(a[a['action'] == 'MARK_UPDATED']) == 1:\n",
    "        \n",
    "            index_a = a.index[a['action'] == 'MARK_UPDATED'][0]\n",
    "    \n",
    "            b = df[df['transaction_id'] == Transfer_IDs[i]]\n",
    "            index_b = b.index[0]\n",
    "    \n",
    "            transferTime.append(a['created_datetime'][index_a] - b['created_datetime'][index_b])\n",
    "        \n",
    "        elif len(a[a['action'] == 'DENY_TRANSFER']) == 1:\n",
    "            \n",
    "            index_a = a.index[a['action'] == 'DENY_TRANSFER'][0]\n",
    "            \n",
    "            b = df[df['transaction_id'] == Transfer_IDs[i]]\n",
    "            index_b = b.index[0]\n",
    "            \n",
    "            transferTime.append(a['created_datetime'][index_a] - b['created_datetime'][index_b])\n",
    "        \n",
    "    for i in range(0, len(transferTime)):\n",
    "    \n",
    "        transferTime[i] = transferTime[i].total_seconds()/60\n",
    "        \n",
    "    totalTransferTime = sum(transferTime)\n",
    "    \n",
    "    return Transfer_IDs, transferTime, totalTransferTime\n",
    "\n",
    "Transfer_IDs, transferTime, totalTransferTime = transferTime(df)"
   ]
  },
  {
   "cell_type": "code",
   "execution_count": 61,
   "metadata": {},
   "outputs": [],
   "source": [
    "def requestTime(df):\n",
    "    \n",
    "    Request_IDs = []\n",
    "\n",
    "    for i in range(0, len(df)):\n",
    "    \n",
    "        if df['action'][i] == 'REQUEST':\n",
    "        \n",
    "            Request_IDs.append(df['transaction_id'][i])\n",
    "            \n",
    "    requestTime = []\n",
    "\n",
    "    for i in range(0, len(Request_IDs)):\n",
    "        \n",
    "        a = df[df['parent_transaction_id'] == Request_IDs[i]]\n",
    "    \n",
    "        if len(a[a['action'] == 'MARK_UPDATED']) == 1:\n",
    "        \n",
    "            index_a = a.index[a['action'] == 'MARK_UPDATED'][0]\n",
    "    \n",
    "            b = df[df['transaction_id'] == Request_IDs[i]]\n",
    "            index_b = b.index[0]\n",
    "    \n",
    "            requestTime.append(a['created_datetime'][index_a] - b['created_datetime'][index_b])\n",
    "        \n",
    "        elif len(a[a['action'] == 'DENY_REQUEST']) == 1:\n",
    "            \n",
    "            index_a = a.index[a['action'] == 'DENY_REQUEST'][0]\n",
    "            \n",
    "            b = df[df['transaction_id'] == Request_IDs[i]]\n",
    "            index_b = b.index[0]\n",
    "            \n",
    "            transferTime.append(a['created_datetime'][index_a] - b['created_datetime'][index_b])\n",
    "        \n",
    "    for i in range(0, len(requestTime)):\n",
    "    \n",
    "        requestTime[i] = requestTime[i].total_seconds()/60\n",
    "        \n",
    "    totalRequestTime = sum(requestTime)\n",
    "        \n",
    "    return Request_IDs, requestTime, totalRequestTime\n",
    "\n",
    "Request_IDs, requestTime, totalRequestTime = requestTime(df)"
   ]
  },
  {
   "cell_type": "code",
   "execution_count": 62,
   "metadata": {},
   "outputs": [
    {
     "data": {
      "text/html": [
       "<div>\n",
       "<style scoped>\n",
       "    .dataframe tbody tr th:only-of-type {\n",
       "        vertical-align: middle;\n",
       "    }\n",
       "\n",
       "    .dataframe tbody tr th {\n",
       "        vertical-align: top;\n",
       "    }\n",
       "\n",
       "    .dataframe thead th {\n",
       "        text-align: right;\n",
       "    }\n",
       "</style>\n",
       "<table border=\"1\" class=\"dataframe\">\n",
       "  <thead>\n",
       "    <tr style=\"text-align: right;\">\n",
       "      <th></th>\n",
       "      <th>Total Duration (min)</th>\n",
       "      <th>Action Type</th>\n",
       "    </tr>\n",
       "  </thead>\n",
       "  <tbody>\n",
       "    <tr>\n",
       "      <td>1</td>\n",
       "      <td>140820.80</td>\n",
       "      <td>Transfer</td>\n",
       "    </tr>\n",
       "    <tr>\n",
       "      <td>2</td>\n",
       "      <td>512316.25</td>\n",
       "      <td>Release</td>\n",
       "    </tr>\n",
       "    <tr>\n",
       "      <td>0</td>\n",
       "      <td>710037.45</td>\n",
       "      <td>Request</td>\n",
       "    </tr>\n",
       "  </tbody>\n",
       "</table>\n",
       "</div>"
      ],
      "text/plain": [
       "   Total Duration (min) Action Type\n",
       "1             140820.80    Transfer\n",
       "2             512316.25     Release\n",
       "0             710037.45     Request"
      ]
     },
     "execution_count": 62,
     "metadata": {},
     "output_type": "execute_result"
    }
   ],
   "source": [
    "results = pd.DataFrame([totalRequestTime, totalTransferTime, totalReleaseTime], columns = ['Total Duration (min)'])\n",
    "results.sort_values('Total Duration (min)', inplace = True)\n",
    "results['Action Type'] = ['Transfer', 'Release', 'Request']\n",
    "results"
   ]
  },
  {
   "cell_type": "code",
   "execution_count": 88,
   "metadata": {},
   "outputs": [
    {
     "data": {
      "text/plain": [
       "<matplotlib.axes._subplots.AxesSubplot at 0x1a21cb8eb8>"
      ]
     },
     "execution_count": 88,
     "metadata": {},
     "output_type": "execute_result"
    },
    {
     "data": {
      "image/png": "[encoded data removed]",
      "text/plain": [
       "<Figure size 396x396 with 1 Axes>"
      ]
     },
     "metadata": {
      "needs_background": "light"
     },
     "output_type": "display_data"
    }
   ],
   "source": [
    "plt.figure(figsize = (5.5, 5.5))\n",
    "plt.title('Total Duration per Action Type')\n",
    "sns.barplot(x = 'Action Type', y = 'Total Duration (min)', data = results, palette = 'Blues_d')"
   ]
  },
  {
   "cell_type": "code",
   "execution_count": 89,
   "metadata": {},
   "outputs": [
    {
     "data": {
      "image/png": "[encoded data removed]",
      "text/plain": [
       "<Figure size 396x396 with 1 Axes>"
      ]
     },
     "metadata": {},
     "output_type": "display_data"
    }
   ],
   "source": [
    "colors = ['#ff9999','#66b3ff','#99ff99','#ffcc99']\n",
    "\n",
    "fig1, ax1 = plt.subplots(figsize = (5.5, 5.5))\n",
    "ax1.pie(results['Total Duration (min)'], colors = colors, labels = results['Action Type'], autopct='%1.1f%%', startangle=90)\n",
    "plt.title('Action Type Distribution')\n",
    "\n",
    "centre_circle = plt.Circle((0,0),0.70,fc='white')\n",
    "fig = plt.gcf()\n",
    "fig.gca().add_artist(centre_circle)\n",
    "# Equal aspect ratio ensures that pie is drawn as a circle\n",
    "ax1.axis('equal')  \n",
    "plt.tight_layout()"
   ]
  },
  {
   "cell_type": "code",
   "execution_count": 65,
   "metadata": {},
   "outputs": [
    {
     "data": {
      "application/vnd.plotly.v1+json": {
       "config": {
        "linkText": "Export to plot.ly",
        "plotlyServerURL": "https://plot.ly",
        "showLink": true
       },
       "data": [
        {
         "marker": {
          "color": "rgba(50, 171, 96, 0.6)",
          "line": {
           "color": "rgba(50, 171, 96, 1.0)",
           "width": 1
          }
         },
         "name": "Total Duration (min)",
         "orientation": "v",
         "text": "",
         "type": "bar",
         "uid": "0073dee5-b1ed-4613-823d-8cc8cf5d3d67",
         "x": [
          "Transfer",
          "Release",
          "Request"
         ],
         "y": [
          140820.8,
          512316.25000000023,
          710037.4499999988
         ]
        }
       ],
       "layout": {
        "legend": {
         "bgcolor": "#F5F6F9",
         "font": {
          "color": "#4D5663"
         }
        },
        "paper_bgcolor": "#F5F6F9",
        "plot_bgcolor": "#F5F6F9",
        "title": {
         "font": {
          "color": "#4D5663"
         },
         "text": "Total Duration per Action Type"
        },
        "xaxis": {
         "gridcolor": "#E1E5ED",
         "showgrid": true,
         "tickfont": {
          "color": "#4D5663"
         },
         "title": {
          "font": {
           "color": "#4D5663"
          },
          "text": "Action Type"
         },
         "zerolinecolor": "#E1E5ED"
        },
        "yaxis": {
         "gridcolor": "#E1E5ED",
         "showgrid": true,
         "tickfont": {
          "color": "#4D5663"
         },
         "title": {
          "font": {
           "color": "#4D5663"
          },
          "text": "Total Duration (min)"
         },
         "zerolinecolor": "#E1E5ED"
        }
       }
      },
      "text/html": [
       "<div>\n",
       "        \n",
       "        \n",
       "            <div id=\"74c29b31-ea80-4c49-b3b5-3173ed4ed564\" class=\"plotly-graph-div\" style=\"height:525px; width:100%;\"></div>\n",
       "            <script type=\"text/javascript\">\n",
       "                require([\"plotly\"], function(Plotly) {\n",
       "                    window.PLOTLYENV=window.PLOTLYENV || {};\n",
       "                    window.PLOTLYENV.BASE_URL='https://plot.ly';\n",
       "                    \n",
       "                if (document.getElementById(\"74c29b31-ea80-4c49-b3b5-3173ed4ed564\")) {\n",
       "                    Plotly.newPlot(\n",
       "                        '74c29b31-ea80-4c49-b3b5-3173ed4ed564',\n",
       "                        [{\"marker\": {\"color\": \"rgba(50, 171, 96, 0.6)\", \"line\": {\"color\": \"rgba(50, 171, 96, 1.0)\", \"width\": 1}}, \"name\": \"Total Duration (min)\", \"orientation\": \"v\", \"text\": \"\", \"type\": \"bar\", \"uid\": \"0073dee5-b1ed-4613-823d-8cc8cf5d3d67\", \"x\": [\"Transfer\", \"Release\", \"Request\"], \"y\": [140820.8, 512316.25000000023, 710037.4499999988]}],\n",
       "                        {\"legend\": {\"bgcolor\": \"#F5F6F9\", \"font\": {\"color\": \"#4D5663\"}}, \"paper_bgcolor\": \"#F5F6F9\", \"plot_bgcolor\": \"#F5F6F9\", \"title\": {\"font\": {\"color\": \"#4D5663\"}, \"text\": \"Total Duration per Action Type\"}, \"xaxis\": {\"gridcolor\": \"#E1E5ED\", \"showgrid\": true, \"tickfont\": {\"color\": \"#4D5663\"}, \"title\": {\"font\": {\"color\": \"#4D5663\"}, \"text\": \"Action Type\"}, \"zerolinecolor\": \"#E1E5ED\"}, \"yaxis\": {\"gridcolor\": \"#E1E5ED\", \"showgrid\": true, \"tickfont\": {\"color\": \"#4D5663\"}, \"title\": {\"font\": {\"color\": \"#4D5663\"}, \"text\": \"Total Duration (min)\"}, \"zerolinecolor\": \"#E1E5ED\"}},\n",
       "                        {\"showLink\": true, \"linkText\": \"Export to plot.ly\", \"plotlyServerURL\": \"https://plot.ly\", \"responsive\": true}\n",
       "                    ).then(function(){\n",
       "                            \n",
       "var gd = document.getElementById('74c29b31-ea80-4c49-b3b5-3173ed4ed564');\n",
       "var x = new MutationObserver(function (mutations, observer) {{\n",
       "        var display = window.getComputedStyle(gd).display;\n",
       "        if (!display || display === 'none') {{\n",
       "            console.log([gd, 'removed!']);\n",
       "            Plotly.purge(gd);\n",
       "            observer.disconnect();\n",
       "        }}\n",
       "}});\n",
       "\n",
       "// Listen for the removal of the full notebook cells\n",
       "var notebookContainer = gd.closest('#notebook-container');\n",
       "if (notebookContainer) {{\n",
       "    x.observe(notebookContainer, {childList: true});\n",
       "}}\n",
       "\n",
       "// Listen for the clearing of the current output cell\n",
       "var outputEl = gd.closest('.output');\n",
       "if (outputEl) {{\n",
       "    x.observe(outputEl, {childList: true});\n",
       "}}\n",
       "\n",
       "                        })\n",
       "                };\n",
       "                });\n",
       "            </script>\n",
       "        </div>"
      ]
     },
     "metadata": {},
     "output_type": "display_data"
    }
   ],
   "source": [
    "results.iplot(kind = 'bar', x = 'Action Type', \n",
    "              y = 'Total Duration (min)', \n",
    "              title = 'Total Duration per Action Type', \n",
    "             xTitle = 'Action Type', \n",
    "             yTitle = 'Total Duration (min)', color = 'rgba(50, 171, 96, 1.0)')"
   ]
  },
  {
   "cell_type": "code",
   "execution_count": 66,
   "metadata": {},
   "outputs": [],
   "source": [
    "# Question 2"
   ]
  },
  {
   "cell_type": "code",
   "execution_count": 67,
   "metadata": {},
   "outputs": [
    {
     "data": {
      "text/html": [
       "<div>\n",
       "<style scoped>\n",
       "    .dataframe tbody tr th:only-of-type {\n",
       "        vertical-align: middle;\n",
       "    }\n",
       "\n",
       "    .dataframe tbody tr th {\n",
       "        vertical-align: top;\n",
       "    }\n",
       "\n",
       "    .dataframe thead th {\n",
       "        text-align: right;\n",
       "    }\n",
       "</style>\n",
       "<table border=\"1\" class=\"dataframe\">\n",
       "  <thead>\n",
       "    <tr style=\"text-align: right;\">\n",
       "      <th></th>\n",
       "      <th>transaction_id</th>\n",
       "      <th>parent_transaction_id</th>\n",
       "      <th>action</th>\n",
       "      <th>scheduler</th>\n",
       "      <th>surgeon</th>\n",
       "      <th>created_datetime</th>\n",
       "      <th>snapshot_date</th>\n",
       "      <th>start_time</th>\n",
       "      <th>end_time</th>\n",
       "      <th>room_name</th>\n",
       "      <th>location</th>\n",
       "    </tr>\n",
       "  </thead>\n",
       "  <tbody>\n",
       "    <tr>\n",
       "      <td>0</td>\n",
       "      <td>2c91808267d2ea5301682f73e9a1093e</td>\n",
       "      <td>None</td>\n",
       "      <td>RELEASE</td>\n",
       "      <td>Jessie Shelley</td>\n",
       "      <td>Bryan Neer</td>\n",
       "      <td>2019-01-15 13:52:32</td>\n",
       "      <td>2019-07-01 00:00:00.000000</td>\n",
       "      <td>07:30:00</td>\n",
       "      <td>19:00:00</td>\n",
       "      <td>MRAH OR 03</td>\n",
       "      <td>CENTER</td>\n",
       "    </tr>\n",
       "    <tr>\n",
       "      <td>1</td>\n",
       "      <td>2c91808267d2ea5301683984e52b0bfb</td>\n",
       "      <td>None</td>\n",
       "      <td>TRANSFER</td>\n",
       "      <td>Raymond Smith</td>\n",
       "      <td>Charles Mcdonald</td>\n",
       "      <td>2019-01-17 12:47:17</td>\n",
       "      <td>2019-06-20 00:00:00.000000</td>\n",
       "      <td>07:30:00</td>\n",
       "      <td>19:00:00</td>\n",
       "      <td>MRAH OR 06</td>\n",
       "      <td>CENTER</td>\n",
       "    </tr>\n",
       "    <tr>\n",
       "      <td>2</td>\n",
       "      <td>2c91808267d2ea53016839855a480bfc</td>\n",
       "      <td>None</td>\n",
       "      <td>TRANSFER</td>\n",
       "      <td>Raymond Smith</td>\n",
       "      <td>Charles Mcdonald</td>\n",
       "      <td>2019-01-17 12:47:47</td>\n",
       "      <td>2019-06-20 00:00:00.000000</td>\n",
       "      <td>07:30:00</td>\n",
       "      <td>19:00:00</td>\n",
       "      <td>MNOR 36</td>\n",
       "      <td>CENTER</td>\n",
       "    </tr>\n",
       "    <tr>\n",
       "      <td>3</td>\n",
       "      <td>2c91808267d2eb4b016829281a390786</td>\n",
       "      <td>None</td>\n",
       "      <td>RELEASE</td>\n",
       "      <td>Kimberly Bugg</td>\n",
       "      <td>Joann Hinson</td>\n",
       "      <td>2019-01-14 08:32:01</td>\n",
       "      <td>2019-06-12 00:00:00.000000</td>\n",
       "      <td>08:50:00</td>\n",
       "      <td>19:00:00</td>\n",
       "      <td>MNOR 25</td>\n",
       "      <td>CENTER</td>\n",
       "    </tr>\n",
       "    <tr>\n",
       "      <td>4</td>\n",
       "      <td>2c91808267d2eb4b01682977274607cb</td>\n",
       "      <td>2c91808267d2eb4b016829281a390786</td>\n",
       "      <td>MARK_UPDATED</td>\n",
       "      <td>Dora Smith</td>\n",
       "      <td>Joann Hinson</td>\n",
       "      <td>2019-01-14 09:58:21</td>\n",
       "      <td>2019-06-12 00:00:00.000000</td>\n",
       "      <td>08:50:00</td>\n",
       "      <td>19:00:00</td>\n",
       "      <td>MNOR 25</td>\n",
       "      <td>CENTER</td>\n",
       "    </tr>\n",
       "  </tbody>\n",
       "</table>\n",
       "</div>"
      ],
      "text/plain": [
       "                     transaction_id             parent_transaction_id  \\\n",
       "0  2c91808267d2ea5301682f73e9a1093e                              None   \n",
       "1  2c91808267d2ea5301683984e52b0bfb                              None   \n",
       "2  2c91808267d2ea53016839855a480bfc                              None   \n",
       "3  2c91808267d2eb4b016829281a390786                              None   \n",
       "4  2c91808267d2eb4b01682977274607cb  2c91808267d2eb4b016829281a390786   \n",
       "\n",
       "         action       scheduler           surgeon    created_datetime  \\\n",
       "0       RELEASE  Jessie Shelley        Bryan Neer 2019-01-15 13:52:32   \n",
       "1      TRANSFER   Raymond Smith  Charles Mcdonald 2019-01-17 12:47:17   \n",
       "2      TRANSFER   Raymond Smith  Charles Mcdonald 2019-01-17 12:47:47   \n",
       "3       RELEASE   Kimberly Bugg      Joann Hinson 2019-01-14 08:32:01   \n",
       "4  MARK_UPDATED      Dora Smith      Joann Hinson 2019-01-14 09:58:21   \n",
       "\n",
       "                snapshot_date start_time  end_time   room_name location  \n",
       "0  2019-07-01 00:00:00.000000   07:30:00  19:00:00  MRAH OR 03   CENTER  \n",
       "1  2019-06-20 00:00:00.000000   07:30:00  19:00:00  MRAH OR 06   CENTER  \n",
       "2  2019-06-20 00:00:00.000000   07:30:00  19:00:00     MNOR 36   CENTER  \n",
       "3  2019-06-12 00:00:00.000000   08:50:00  19:00:00     MNOR 25   CENTER  \n",
       "4  2019-06-12 00:00:00.000000   08:50:00  19:00:00     MNOR 25   CENTER  "
      ]
     },
     "execution_count": 67,
     "metadata": {},
     "output_type": "execute_result"
    }
   ],
   "source": [
    "df.head()"
   ]
  },
  {
   "cell_type": "code",
   "execution_count": 90,
   "metadata": {},
   "outputs": [],
   "source": [
    "def transferApproval(df):\n",
    "\n",
    "    transferApproval_ID = []\n",
    "    transferDenial_ID = []\n",
    "\n",
    "    for i in range(0, len(Transfer_IDs)):\n",
    "\n",
    "            a = df[df['parent_transaction_id'] == Transfer_IDs[i]]\n",
    "\n",
    "            if len(a[a['action'] == 'APPROVE_TRANSFER']) == 1:\n",
    "\n",
    "                if len(a[a['action'] == 'MARK_UPDATED']) == 1:\n",
    "\n",
    "                    index_a = a.index[a['action'] == 'APPROVE_TRANSFER'][0]\n",
    "                    transferApproval_ID.append(index_a)\n",
    "\n",
    "            elif len(a[a['action'] == 'DENY_TRANSFER']) == 1:\n",
    "\n",
    "                index_a = a.index[a['action'] == 'DENY_TRANSFER'][0]\n",
    "                transferDenial_ID.append(index_a)\n",
    "                \n",
    "    return transferApproval_ID, transferDenial_ID\n",
    "\n",
    "transferApproval_ID, transferDenial_ID = transferApproval(df)"
   ]
  },
  {
   "cell_type": "code",
   "execution_count": 91,
   "metadata": {},
   "outputs": [],
   "source": [
    "totalApprovedTransfers = len(transferApproval_ID)\n",
    "totalDeniedTransfers = len(transferDenial_ID)\n",
    "\n",
    "Approval_Rate_Transfers = totalApprovedTransfers / (totalApprovedTransfers + totalDeniedTransfers)\n",
    "Denial_Rate_Transfers = totalDeniedTransfers / (totalApprovedTransfers + totalDeniedTransfers)"
   ]
  },
  {
   "cell_type": "code",
   "execution_count": 92,
   "metadata": {},
   "outputs": [
    {
     "data": {
      "text/plain": [
       "0.026717557251908396"
      ]
     },
     "execution_count": 92,
     "metadata": {},
     "output_type": "execute_result"
    }
   ],
   "source": [
    "Denial_Rate_Transfers"
   ]
  },
  {
   "cell_type": "code",
   "execution_count": 93,
   "metadata": {},
   "outputs": [
    {
     "data": {
      "text/plain": [
       "0.9732824427480916"
      ]
     },
     "execution_count": 93,
     "metadata": {},
     "output_type": "execute_result"
    }
   ],
   "source": [
    "Approval_Rate_Transfers"
   ]
  },
  {
   "cell_type": "code",
   "execution_count": 94,
   "metadata": {},
   "outputs": [
    {
     "data": {
      "image/png": "[encoded data removed]",
      "text/plain": [
       "<Figure size 576x576 with 1 Axes>"
      ]
     },
     "metadata": {},
     "output_type": "display_data"
    }
   ],
   "source": [
    "labels = ['Denial Rate %', 'Approval Rate %']\n",
    "\n",
    "colors = ['#ff9999','#66b3ff','#99ff99','#ffcc99']\n",
    "\n",
    "fig1, ax1 = plt.subplots(figsize = (8, 8))\n",
    "ax1.pie([Denial_Rate_Transfers, Approval_Rate_Transfers], labels = labels, colors = colors, autopct='%1.1f%%', startangle=90)\n",
    "\n",
    "centre_circle = plt.Circle((0,0),0.70,fc='white')\n",
    "fig = plt.gcf()\n",
    "fig.gca().add_artist(centre_circle)\n",
    "# Equal aspect ratio ensures that pie is drawn as a circle\n",
    "ax1.axis('equal')  \n",
    "plt.tight_layout()"
   ]
  },
  {
   "cell_type": "code",
   "execution_count": 76,
   "metadata": {},
   "outputs": [],
   "source": [
    "def requestApproval(df):\n",
    "\n",
    "    requestApproval_ID = []\n",
    "    requestDenial_ID = []\n",
    "\n",
    "    for i in range(0, len(Request_IDs)):\n",
    "\n",
    "            a = df[df['parent_transaction_id'] == Request_IDs[i]]\n",
    "\n",
    "            if len(a[a['action'] == 'APPROVE_REQUEST']) == 1:\n",
    "\n",
    "                if len(a[a['action'] == 'MARK_UPDATED']) == 1:\n",
    "\n",
    "                    index_a = a.index[a['action'] == 'APPROVE_REQUEST'][0]\n",
    "                    requestApproval_ID.append(index_a)\n",
    "\n",
    "            elif len(a[a['action'] == 'DENY_REQUEST']) == 1:\n",
    "\n",
    "                index_a = a.index[a['action'] == 'DENY_REQUEST'][0]\n",
    "                requestDenial_ID.append(index_a)\n",
    "                \n",
    "    return requestApproval_ID, requestDenial_ID\n",
    "    \n",
    "requestApproval_ID, requestDenial_ID = requestApproval(df)"
   ]
  },
  {
   "cell_type": "code",
   "execution_count": 77,
   "metadata": {},
   "outputs": [],
   "source": [
    "totalApprovedRequests = len(requestApproval_ID)\n",
    "totalDeniedRequests = len(requestDenial_ID)\n",
    "\n",
    "Approval_Rate_Requests = totalApprovedRequests / (totalApprovedRequests + totalDeniedRequests)\n",
    "Denial_Rate_Requests = totalDeniedRequests / (totalApprovedRequests + totalDeniedRequests)"
   ]
  },
  {
   "cell_type": "code",
   "execution_count": 78,
   "metadata": {},
   "outputs": [
    {
     "data": {
      "image/png": "[encoded data removed]",
      "text/plain": [
       "<Figure size 576x576 with 1 Axes>"
      ]
     },
     "metadata": {},
     "output_type": "display_data"
    }
   ],
   "source": [
    "labels = ['Denial Rate %', 'Approval Rate %']\n",
    "\n",
    "colors = ['#ff9999','#66b3ff','#99ff99','#ffcc99']\n",
    "\n",
    "fig1, ax1 = plt.subplots(figsize = (8, 8))\n",
    "ax1.pie([Denial_Rate_Requests, Approval_Rate_Requests], labels = labels, colors = colors, autopct='%1.1f%%', startangle=90)\n",
    "\n",
    "centre_circle = plt.Circle((0,0),0.70,fc='white')\n",
    "fig = plt.gcf()\n",
    "fig.gca().add_artist(centre_circle)\n",
    "# Equal aspect ratio ensures that pie is drawn as a circle\n",
    "ax1.axis('equal')  \n",
    "plt.tight_layout()"
   ]
  },
  {
   "cell_type": "code",
   "execution_count": 79,
   "metadata": {},
   "outputs": [],
   "source": [
    "responseTimeTransfer = []"
   ]
  },
  {
   "cell_type": "code",
   "execution_count": 80,
   "metadata": {},
   "outputs": [],
   "source": [
    "for i in range(0, len(Transfer_IDs)):\n",
    "        \n",
    "        a = df[df['parent_transaction_id'] == Transfer_IDs[i]]\n",
    "        \n",
    "        b = df[df['transaction_id'] == Transfer_IDs[i]]\n",
    "        index_b = b.index[0]\n",
    "        \n",
    "        if len(a[a['action'] == 'APPROVE_TRANSFER']) == 1:\n",
    "            \n",
    "            if len(a[a['action'] == 'MARK_UPDATED']) == 1:\n",
    "                \n",
    "                index_a = a.index[a['action'] == 'APPROVE_TRANSFER'][0]\n",
    "                responseTimeTransfer.append(a['created_datetime'][index_a] - b['created_datetime'][index_b])\n",
    "            \n",
    "        elif len(a[a['action'] == 'DENY_TRANSFER']) == 1:\n",
    "                \n",
    "            index_a = a.index[a['action'] == 'DENY_TRANSFER'][0]\n",
    "            responseTimeTransfer.append(a['created_datetime'][index_a] - b['created_datetime'][index_b])"
   ]
  },
  {
   "cell_type": "code",
   "execution_count": 81,
   "metadata": {},
   "outputs": [],
   "source": [
    "for i in range(0, len(responseTimeTransfer)):\n",
    "    \n",
    "    responseTimeTransfer[i] = responseTimeTransfer[i].total_seconds()/60"
   ]
  },
  {
   "cell_type": "code",
   "execution_count": 82,
   "metadata": {},
   "outputs": [],
   "source": [
    "averageResponseTimeTransfer = sum(responseTimeTransfer) / len(responseTimeTransfer)"
   ]
  },
  {
   "cell_type": "code",
   "execution_count": 83,
   "metadata": {},
   "outputs": [],
   "source": [
    "responseTimeRequest = []"
   ]
  },
  {
   "cell_type": "code",
   "execution_count": 84,
   "metadata": {},
   "outputs": [],
   "source": [
    "for i in range(0, len(Request_IDs)):\n",
    "        \n",
    "        a = df[df['parent_transaction_id'] == Request_IDs[i]]\n",
    "        \n",
    "        b = df[df['transaction_id'] == Request_IDs[i]]\n",
    "        index_b = b.index[0]\n",
    "        \n",
    "        if len(a[a['action'] == 'APPROVE_REQUEST']) == 1:\n",
    "            \n",
    "            if len(a[a['action'] == 'MARK_UPDATED']) == 1:\n",
    "                \n",
    "                index_a = a.index[a['action'] == 'APPROVE_REQUEST'][0]\n",
    "                responseTimeRequest.append(a['created_datetime'][index_a] - b['created_datetime'][index_b])\n",
    "            \n",
    "        elif len(a[a['action'] == 'DENY_REQUEST']) == 1:\n",
    "                \n",
    "            index_a = a.index[a['action'] == 'DENY_REQUEST'][0]\n",
    "            responseTimeRequest.append(a['created_datetime'][index_a] - b['created_datetime'][index_b])"
   ]
  },
  {
   "cell_type": "code",
   "execution_count": 85,
   "metadata": {},
   "outputs": [],
   "source": [
    "for i in range(0, len(responseTimeRequest)):\n",
    "    \n",
    "    responseTimeRequest[i] = responseTimeRequest[i].total_seconds()/60"
   ]
  },
  {
   "cell_type": "code",
   "execution_count": 86,
   "metadata": {},
   "outputs": [],
   "source": [
    "averageResponseTimeRequest = sum(responseTimeRequest) / len(responseTimeRequest)"
   ]
  },
  {
   "cell_type": "code",
   "execution_count": 87,
   "metadata": {},
   "outputs": [
    {
     "data": {
      "text/plain": [
       "<BarContainer object of 2 artists>"
      ]
     },
     "execution_count": 87,
     "metadata": {},
     "output_type": "execute_result"
    },
    {
     "data": {
      "image/png": "[encoded data removed]",
      "text/plain": [
       "<Figure size 576x576 with 1 Axes>"
      ]
     },
     "metadata": {
      "needs_background": "light"
     },
     "output_type": "display_data"
    }
   ],
   "source": [
    "plt.figure(figsize = (8, 8))\n",
    "plt.title('Average Response Time per Action')\n",
    "plt.xlabel('Action Type')\n",
    "plt.ylabel('Duratino in minutes')\n",
    "plt.bar(x = ['Request', 'Transfer'], \n",
    "        height = [averageResponseTimeRequest, \n",
    "                  averageResponseTimeTransfer], \n",
    "                    color = 'g', alpha = 0.3)"
   ]
  },
  {
   "cell_type": "code",
   "execution_count": null,
   "metadata": {},
   "outputs": [],
   "source": []
  }
 ],
 "metadata": {
  "kernelspec": {
   "display_name": "Python 3",
   "language": "python",
   "name": "python3"
  },
  "language_info": {
   "codemirror_mode": {
    "name": "ipython",
    "version": 3
   },
   "file_extension": ".py",
   "mimetype": "text/x-python",
   "name": "python",
   "nbconvert_exporter": "python",
   "pygments_lexer": "ipython3",
   "version": "3.7.3"
  }
 },
 "nbformat": 4,
 "nbformat_minor": 2
}
