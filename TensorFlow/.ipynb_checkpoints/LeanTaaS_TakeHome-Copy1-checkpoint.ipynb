{
 "cells": [
  {
   "cell_type": "code",
   "execution_count": 2,
   "metadata": {},
   "outputs": [],
   "source": [
    "import pandas as pd\n",
    "import sqlite3\n",
    "\n",
    "from datetime import datetime, timedelta\n",
    "\n",
    "import numpy as np\n",
    "import matplotlib.pyplot as plt\n",
    "import seaborn as sns\n",
    "%matplotlib inline"
   ]
  },
  {
   "cell_type": "code",
   "execution_count": 3,
   "metadata": {},
   "outputs": [],
   "source": [
    "conn = sqlite3.connect('LeanTaaSTestDB.db')\n",
    "df = pd.read_sql_query(\"select * from exchange_transactions;\", conn)"
   ]
  },
  {
   "cell_type": "code",
   "execution_count": 4,
   "metadata": {},
   "outputs": [
    {
     "data": {
      "text/html": [
       "<div>\n",
       "<style scoped>\n",
       "    .dataframe tbody tr th:only-of-type {\n",
       "        vertical-align: middle;\n",
       "    }\n",
       "\n",
       "    .dataframe tbody tr th {\n",
       "        vertical-align: top;\n",
       "    }\n",
       "\n",
       "    .dataframe thead th {\n",
       "        text-align: right;\n",
       "    }\n",
       "</style>\n",
       "<table border=\"1\" class=\"dataframe\">\n",
       "  <thead>\n",
       "    <tr style=\"text-align: right;\">\n",
       "      <th></th>\n",
       "      <th>transaction_id</th>\n",
       "      <th>parent_transaction_id</th>\n",
       "      <th>action</th>\n",
       "      <th>scheduler</th>\n",
       "      <th>surgeon</th>\n",
       "      <th>created_datetime</th>\n",
       "      <th>snapshot_date</th>\n",
       "      <th>start_time</th>\n",
       "      <th>end_time</th>\n",
       "      <th>room_name</th>\n",
       "      <th>location</th>\n",
       "    </tr>\n",
       "  </thead>\n",
       "  <tbody>\n",
       "    <tr>\n",
       "      <td>0</td>\n",
       "      <td>2c91808267d2ea5301682f73e9a1093e</td>\n",
       "      <td>None</td>\n",
       "      <td>RELEASE</td>\n",
       "      <td>Jessie Shelley</td>\n",
       "      <td>Bryan Neer</td>\n",
       "      <td>2019-01-15 13:52:32.000000</td>\n",
       "      <td>2019-07-01 00:00:00.000000</td>\n",
       "      <td>07:30:00</td>\n",
       "      <td>19:00:00</td>\n",
       "      <td>MRAH OR 03</td>\n",
       "      <td>CENTER</td>\n",
       "    </tr>\n",
       "    <tr>\n",
       "      <td>1</td>\n",
       "      <td>2c91808267d2ea5301683984e52b0bfb</td>\n",
       "      <td>None</td>\n",
       "      <td>TRANSFER</td>\n",
       "      <td>Raymond Smith</td>\n",
       "      <td>Charles Mcdonald</td>\n",
       "      <td>2019-01-17 12:47:17.000000</td>\n",
       "      <td>2019-06-20 00:00:00.000000</td>\n",
       "      <td>07:30:00</td>\n",
       "      <td>19:00:00</td>\n",
       "      <td>MRAH OR 06</td>\n",
       "      <td>CENTER</td>\n",
       "    </tr>\n",
       "    <tr>\n",
       "      <td>2</td>\n",
       "      <td>2c91808267d2ea53016839855a480bfc</td>\n",
       "      <td>None</td>\n",
       "      <td>TRANSFER</td>\n",
       "      <td>Raymond Smith</td>\n",
       "      <td>Charles Mcdonald</td>\n",
       "      <td>2019-01-17 12:47:47.000000</td>\n",
       "      <td>2019-06-20 00:00:00.000000</td>\n",
       "      <td>07:30:00</td>\n",
       "      <td>19:00:00</td>\n",
       "      <td>MNOR 36</td>\n",
       "      <td>CENTER</td>\n",
       "    </tr>\n",
       "    <tr>\n",
       "      <td>3</td>\n",
       "      <td>2c91808267d2eb4b016829281a390786</td>\n",
       "      <td>None</td>\n",
       "      <td>RELEASE</td>\n",
       "      <td>Kimberly Bugg</td>\n",
       "      <td>Joann Hinson</td>\n",
       "      <td>2019-01-14 08:32:01.000000</td>\n",
       "      <td>2019-06-12 00:00:00.000000</td>\n",
       "      <td>08:50:00</td>\n",
       "      <td>19:00:00</td>\n",
       "      <td>MNOR 25</td>\n",
       "      <td>CENTER</td>\n",
       "    </tr>\n",
       "    <tr>\n",
       "      <td>4</td>\n",
       "      <td>2c91808267d2eb4b01682977274607cb</td>\n",
       "      <td>2c91808267d2eb4b016829281a390786</td>\n",
       "      <td>MARK_UPDATED</td>\n",
       "      <td>Dora Smith</td>\n",
       "      <td>Joann Hinson</td>\n",
       "      <td>2019-01-14 09:58:21.000000</td>\n",
       "      <td>2019-06-12 00:00:00.000000</td>\n",
       "      <td>08:50:00</td>\n",
       "      <td>19:00:00</td>\n",
       "      <td>MNOR 25</td>\n",
       "      <td>CENTER</td>\n",
       "    </tr>\n",
       "  </tbody>\n",
       "</table>\n",
       "</div>"
      ],
      "text/plain": [
       "                     transaction_id             parent_transaction_id  \\\n",
       "0  2c91808267d2ea5301682f73e9a1093e                              None   \n",
       "1  2c91808267d2ea5301683984e52b0bfb                              None   \n",
       "2  2c91808267d2ea53016839855a480bfc                              None   \n",
       "3  2c91808267d2eb4b016829281a390786                              None   \n",
       "4  2c91808267d2eb4b01682977274607cb  2c91808267d2eb4b016829281a390786   \n",
       "\n",
       "         action       scheduler           surgeon            created_datetime  \\\n",
       "0       RELEASE  Jessie Shelley        Bryan Neer  2019-01-15 13:52:32.000000   \n",
       "1      TRANSFER   Raymond Smith  Charles Mcdonald  2019-01-17 12:47:17.000000   \n",
       "2      TRANSFER   Raymond Smith  Charles Mcdonald  2019-01-17 12:47:47.000000   \n",
       "3       RELEASE   Kimberly Bugg      Joann Hinson  2019-01-14 08:32:01.000000   \n",
       "4  MARK_UPDATED      Dora Smith      Joann Hinson  2019-01-14 09:58:21.000000   \n",
       "\n",
       "                snapshot_date start_time  end_time   room_name location  \n",
       "0  2019-07-01 00:00:00.000000   07:30:00  19:00:00  MRAH OR 03   CENTER  \n",
       "1  2019-06-20 00:00:00.000000   07:30:00  19:00:00  MRAH OR 06   CENTER  \n",
       "2  2019-06-20 00:00:00.000000   07:30:00  19:00:00     MNOR 36   CENTER  \n",
       "3  2019-06-12 00:00:00.000000   08:50:00  19:00:00     MNOR 25   CENTER  \n",
       "4  2019-06-12 00:00:00.000000   08:50:00  19:00:00     MNOR 25   CENTER  "
      ]
     },
     "execution_count": 4,
     "metadata": {},
     "output_type": "execute_result"
    }
   ],
   "source": [
    "df.head()"
   ]
  },
  {
   "cell_type": "code",
   "execution_count": 5,
   "metadata": {},
   "outputs": [],
   "source": [
    "df['end_time'] = pd.to_datetime(df['end_time'], format = '%H:%M:%S')"
   ]
  },
  {
   "cell_type": "code",
   "execution_count": 6,
   "metadata": {},
   "outputs": [],
   "source": [
    "df['start_time'] = pd.to_datetime(df['start_time'], format = '%H:%M:%S')"
   ]
  },
  {
   "cell_type": "code",
   "execution_count": 7,
   "metadata": {},
   "outputs": [],
   "source": [
    "time_delta = df['end_time'] - df['start_time']"
   ]
  },
  {
   "cell_type": "code",
   "execution_count": 8,
   "metadata": {},
   "outputs": [],
   "source": [
    "df['duration'] = time_delta"
   ]
  },
  {
   "cell_type": "code",
   "execution_count": 9,
   "metadata": {},
   "outputs": [],
   "source": [
    "td = []\n",
    "\n",
    "for i in range(0, len(time_delta)):\n",
    "    \n",
    "    td.append(time_delta[i].total_seconds())"
   ]
  },
  {
   "cell_type": "code",
   "execution_count": 10,
   "metadata": {},
   "outputs": [],
   "source": [
    "td = [i / 60 for i in td]"
   ]
  },
  {
   "cell_type": "code",
   "execution_count": 11,
   "metadata": {},
   "outputs": [],
   "source": [
    "df.drop('duration', inplace = True, axis = 1)"
   ]
  },
  {
   "cell_type": "code",
   "execution_count": 12,
   "metadata": {},
   "outputs": [],
   "source": [
    "df['duration_mins'] = td"
   ]
  },
  {
   "cell_type": "code",
   "execution_count": 13,
   "metadata": {},
   "outputs": [
    {
     "data": {
      "text/html": [
       "<div>\n",
       "<style scoped>\n",
       "    .dataframe tbody tr th:only-of-type {\n",
       "        vertical-align: middle;\n",
       "    }\n",
       "\n",
       "    .dataframe tbody tr th {\n",
       "        vertical-align: top;\n",
       "    }\n",
       "\n",
       "    .dataframe thead th {\n",
       "        text-align: right;\n",
       "    }\n",
       "</style>\n",
       "<table border=\"1\" class=\"dataframe\">\n",
       "  <thead>\n",
       "    <tr style=\"text-align: right;\">\n",
       "      <th></th>\n",
       "      <th>transaction_id</th>\n",
       "      <th>parent_transaction_id</th>\n",
       "      <th>action</th>\n",
       "      <th>scheduler</th>\n",
       "      <th>surgeon</th>\n",
       "      <th>created_datetime</th>\n",
       "      <th>snapshot_date</th>\n",
       "      <th>start_time</th>\n",
       "      <th>end_time</th>\n",
       "      <th>room_name</th>\n",
       "      <th>location</th>\n",
       "      <th>duration_mins</th>\n",
       "    </tr>\n",
       "  </thead>\n",
       "  <tbody>\n",
       "    <tr>\n",
       "      <td>0</td>\n",
       "      <td>2c91808267d2ea5301682f73e9a1093e</td>\n",
       "      <td>None</td>\n",
       "      <td>RELEASE</td>\n",
       "      <td>Jessie Shelley</td>\n",
       "      <td>Bryan Neer</td>\n",
       "      <td>2019-01-15 13:52:32.000000</td>\n",
       "      <td>2019-07-01 00:00:00.000000</td>\n",
       "      <td>1900-01-01 07:30:00</td>\n",
       "      <td>1900-01-01 19:00:00</td>\n",
       "      <td>MRAH OR 03</td>\n",
       "      <td>CENTER</td>\n",
       "      <td>690.0</td>\n",
       "    </tr>\n",
       "    <tr>\n",
       "      <td>1</td>\n",
       "      <td>2c91808267d2ea5301683984e52b0bfb</td>\n",
       "      <td>None</td>\n",
       "      <td>TRANSFER</td>\n",
       "      <td>Raymond Smith</td>\n",
       "      <td>Charles Mcdonald</td>\n",
       "      <td>2019-01-17 12:47:17.000000</td>\n",
       "      <td>2019-06-20 00:00:00.000000</td>\n",
       "      <td>1900-01-01 07:30:00</td>\n",
       "      <td>1900-01-01 19:00:00</td>\n",
       "      <td>MRAH OR 06</td>\n",
       "      <td>CENTER</td>\n",
       "      <td>690.0</td>\n",
       "    </tr>\n",
       "    <tr>\n",
       "      <td>2</td>\n",
       "      <td>2c91808267d2ea53016839855a480bfc</td>\n",
       "      <td>None</td>\n",
       "      <td>TRANSFER</td>\n",
       "      <td>Raymond Smith</td>\n",
       "      <td>Charles Mcdonald</td>\n",
       "      <td>2019-01-17 12:47:47.000000</td>\n",
       "      <td>2019-06-20 00:00:00.000000</td>\n",
       "      <td>1900-01-01 07:30:00</td>\n",
       "      <td>1900-01-01 19:00:00</td>\n",
       "      <td>MNOR 36</td>\n",
       "      <td>CENTER</td>\n",
       "      <td>690.0</td>\n",
       "    </tr>\n",
       "    <tr>\n",
       "      <td>3</td>\n",
       "      <td>2c91808267d2eb4b016829281a390786</td>\n",
       "      <td>None</td>\n",
       "      <td>RELEASE</td>\n",
       "      <td>Kimberly Bugg</td>\n",
       "      <td>Joann Hinson</td>\n",
       "      <td>2019-01-14 08:32:01.000000</td>\n",
       "      <td>2019-06-12 00:00:00.000000</td>\n",
       "      <td>1900-01-01 08:50:00</td>\n",
       "      <td>1900-01-01 19:00:00</td>\n",
       "      <td>MNOR 25</td>\n",
       "      <td>CENTER</td>\n",
       "      <td>610.0</td>\n",
       "    </tr>\n",
       "    <tr>\n",
       "      <td>4</td>\n",
       "      <td>2c91808267d2eb4b01682977274607cb</td>\n",
       "      <td>2c91808267d2eb4b016829281a390786</td>\n",
       "      <td>MARK_UPDATED</td>\n",
       "      <td>Dora Smith</td>\n",
       "      <td>Joann Hinson</td>\n",
       "      <td>2019-01-14 09:58:21.000000</td>\n",
       "      <td>2019-06-12 00:00:00.000000</td>\n",
       "      <td>1900-01-01 08:50:00</td>\n",
       "      <td>1900-01-01 19:00:00</td>\n",
       "      <td>MNOR 25</td>\n",
       "      <td>CENTER</td>\n",
       "      <td>610.0</td>\n",
       "    </tr>\n",
       "  </tbody>\n",
       "</table>\n",
       "</div>"
      ],
      "text/plain": [
       "                     transaction_id             parent_transaction_id  \\\n",
       "0  2c91808267d2ea5301682f73e9a1093e                              None   \n",
       "1  2c91808267d2ea5301683984e52b0bfb                              None   \n",
       "2  2c91808267d2ea53016839855a480bfc                              None   \n",
       "3  2c91808267d2eb4b016829281a390786                              None   \n",
       "4  2c91808267d2eb4b01682977274607cb  2c91808267d2eb4b016829281a390786   \n",
       "\n",
       "         action       scheduler           surgeon            created_datetime  \\\n",
       "0       RELEASE  Jessie Shelley        Bryan Neer  2019-01-15 13:52:32.000000   \n",
       "1      TRANSFER   Raymond Smith  Charles Mcdonald  2019-01-17 12:47:17.000000   \n",
       "2      TRANSFER   Raymond Smith  Charles Mcdonald  2019-01-17 12:47:47.000000   \n",
       "3       RELEASE   Kimberly Bugg      Joann Hinson  2019-01-14 08:32:01.000000   \n",
       "4  MARK_UPDATED      Dora Smith      Joann Hinson  2019-01-14 09:58:21.000000   \n",
       "\n",
       "                snapshot_date          start_time            end_time  \\\n",
       "0  2019-07-01 00:00:00.000000 1900-01-01 07:30:00 1900-01-01 19:00:00   \n",
       "1  2019-06-20 00:00:00.000000 1900-01-01 07:30:00 1900-01-01 19:00:00   \n",
       "2  2019-06-20 00:00:00.000000 1900-01-01 07:30:00 1900-01-01 19:00:00   \n",
       "3  2019-06-12 00:00:00.000000 1900-01-01 08:50:00 1900-01-01 19:00:00   \n",
       "4  2019-06-12 00:00:00.000000 1900-01-01 08:50:00 1900-01-01 19:00:00   \n",
       "\n",
       "    room_name location  duration_mins  \n",
       "0  MRAH OR 03   CENTER          690.0  \n",
       "1  MRAH OR 06   CENTER          690.0  \n",
       "2     MNOR 36   CENTER          690.0  \n",
       "3     MNOR 25   CENTER          610.0  \n",
       "4     MNOR 25   CENTER          610.0  "
      ]
     },
     "execution_count": 13,
     "metadata": {},
     "output_type": "execute_result"
    }
   ],
   "source": [
    "df.head()"
   ]
  },
  {
   "cell_type": "code",
   "execution_count": 14,
   "metadata": {},
   "outputs": [],
   "source": [
    "duration_data = df.groupby(['action']).sum()"
   ]
  },
  {
   "cell_type": "code",
   "execution_count": 15,
   "metadata": {},
   "outputs": [],
   "source": [
    "duration_data.reset_index(inplace = True)"
   ]
  },
  {
   "cell_type": "code",
   "execution_count": 17,
   "metadata": {},
   "outputs": [
    {
     "data": {
      "text/html": [
       "<div>\n",
       "<style scoped>\n",
       "    .dataframe tbody tr th:only-of-type {\n",
       "        vertical-align: middle;\n",
       "    }\n",
       "\n",
       "    .dataframe tbody tr th {\n",
       "        vertical-align: top;\n",
       "    }\n",
       "\n",
       "    .dataframe thead th {\n",
       "        text-align: right;\n",
       "    }\n",
       "</style>\n",
       "<table border=\"1\" class=\"dataframe\">\n",
       "  <thead>\n",
       "    <tr style=\"text-align: right;\">\n",
       "      <th></th>\n",
       "      <th>action</th>\n",
       "      <th>duration_mins</th>\n",
       "    </tr>\n",
       "  </thead>\n",
       "  <tbody>\n",
       "    <tr>\n",
       "      <td>0</td>\n",
       "      <td>APPROVE_REQUEST</td>\n",
       "      <td>282655.0</td>\n",
       "    </tr>\n",
       "    <tr>\n",
       "      <td>1</td>\n",
       "      <td>APPROVE_TRANSFER</td>\n",
       "      <td>125815.0</td>\n",
       "    </tr>\n",
       "    <tr>\n",
       "      <td>2</td>\n",
       "      <td>DENY_RELEASE</td>\n",
       "      <td>9475.0</td>\n",
       "    </tr>\n",
       "    <tr>\n",
       "      <td>3</td>\n",
       "      <td>DENY_REQUEST</td>\n",
       "      <td>33225.0</td>\n",
       "    </tr>\n",
       "    <tr>\n",
       "      <td>4</td>\n",
       "      <td>DENY_TRANSFER</td>\n",
       "      <td>2535.0</td>\n",
       "    </tr>\n",
       "  </tbody>\n",
       "</table>\n",
       "</div>"
      ],
      "text/plain": [
       "             action  duration_mins\n",
       "0   APPROVE_REQUEST       282655.0\n",
       "1  APPROVE_TRANSFER       125815.0\n",
       "2      DENY_RELEASE         9475.0\n",
       "3      DENY_REQUEST        33225.0\n",
       "4     DENY_TRANSFER         2535.0"
      ]
     },
     "execution_count": 17,
     "metadata": {},
     "output_type": "execute_result"
    }
   ],
   "source": [
    "duration_data.head()"
   ]
  },
  {
   "cell_type": "code",
   "execution_count": 16,
   "metadata": {},
   "outputs": [
    {
     "data": {
      "text/plain": [
       "[Text(0, 0.5, 'Task Duration in Minutes'), Text(0.5, 0, 'Action Category')]"
      ]
     },
     "execution_count": 16,
     "metadata": {},
     "output_type": "execute_result"
    },
    {
     "data": {
      "image/png": "[encoded data removed]",
      "text/plain": [
       "<Figure size 864x432 with 1 Axes>"
      ]
     },
     "metadata": {
      "needs_background": "light"
     },
     "output_type": "display_data"
    }
   ],
   "source": [
    "plt.figure(figsize=(12,6))\n",
    "plt.title('Action Type vs Minutes')\n",
    "\n",
    "sns.despine(left=True)\n",
    "sns.barplot(y = 'duration_mins', x = 'action', data = duration_data, palette = 'coolwarm')\n",
    "\n",
    "ax = sns.barplot(y = 'duration_mins', x = 'action', data = duration_data, palette = 'coolwarm')\n",
    "ax.set_xticklabels(ax.get_xticklabels(), rotation = 40, ha = \"right\")\n",
    "ax.set(xlabel = 'Action Category', ylabel = 'Task Duration in Minutes')"
   ]
  },
  {
   "cell_type": "code",
   "execution_count": null,
   "metadata": {},
   "outputs": [],
   "source": []
  }
 ],
 "metadata": {
  "kernelspec": {
   "display_name": "Python 3",
   "language": "python",
   "name": "python3"
  },
  "language_info": {
   "codemirror_mode": {
    "name": "ipython",
    "version": 3
   },
   "file_extension": ".py",
   "mimetype": "text/x-python",
   "name": "python",
   "nbconvert_exporter": "python",
   "pygments_lexer": "ipython3",
   "version": "3.7.3"
  }
 },
 "nbformat": 4,
 "nbformat_minor": 2
}
