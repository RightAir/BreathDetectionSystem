{
 "cells": [
  {
   "cell_type": "markdown",
   "metadata": {},
   "source": [
    "### Import Libraries"
   ]
  },
  {
   "cell_type": "code",
   "execution_count": 2,
   "metadata": {},
   "outputs": [],
   "source": [
    "import pandas as pd\n",
    "import tensorflow as tf\n",
    "from sklearn.model_selection import train_test_split\n",
    "from sklearn.metrics import classification_report,confusion_matrix\n",
    "from sklearn.preprocessing import StandardScaler\n",
    "from tensorflow import keras\n",
    "import numpy as np\n",
    "import matplotlib.pyplot as plt\n",
    "import seaborn as sns\n",
    "from scipy import stats"
   ]
  },
  {
   "cell_type": "markdown",
   "metadata": {},
   "source": [
    "### Read in Dataset"
   ]
  },
  {
   "cell_type": "code",
   "execution_count": 3,
   "metadata": {},
   "outputs": [],
   "source": [
    "df = pd.read_csv('fbdh1.csv')"
   ]
  },
  {
   "cell_type": "code",
   "execution_count": 4,
   "metadata": {},
   "outputs": [
    {
     "data": {
      "text/html": [
       "<div>\n",
       "<style scoped>\n",
       "    .dataframe tbody tr th:only-of-type {\n",
       "        vertical-align: middle;\n",
       "    }\n",
       "\n",
       "    .dataframe tbody tr th {\n",
       "        vertical-align: top;\n",
       "    }\n",
       "\n",
       "    .dataframe thead th {\n",
       "        text-align: right;\n",
       "    }\n",
       "</style>\n",
       "<table border=\"1\" class=\"dataframe\">\n",
       "  <thead>\n",
       "    <tr style=\"text-align: right;\">\n",
       "      <th></th>\n",
       "      <th>Flow</th>\n",
       "      <th>D1</th>\n",
       "      <th>D2</th>\n",
       "      <th>P1</th>\n",
       "      <th>P2</th>\n",
       "      <th>dD1</th>\n",
       "      <th>dD2</th>\n",
       "      <th>dP1</th>\n",
       "      <th>dP2</th>\n",
       "    </tr>\n",
       "  </thead>\n",
       "  <tbody>\n",
       "    <tr>\n",
       "      <th>0</th>\n",
       "      <td>-16.69</td>\n",
       "      <td>99.49</td>\n",
       "      <td>-145.71</td>\n",
       "      <td>48.04</td>\n",
       "      <td>-15.90</td>\n",
       "      <td>81.17</td>\n",
       "      <td>12.26</td>\n",
       "      <td>36.71</td>\n",
       "      <td>2.21</td>\n",
       "    </tr>\n",
       "    <tr>\n",
       "      <th>1</th>\n",
       "      <td>-16.23</td>\n",
       "      <td>172.78</td>\n",
       "      <td>-118.66</td>\n",
       "      <td>79.84</td>\n",
       "      <td>-11.94</td>\n",
       "      <td>80.09</td>\n",
       "      <td>18.49</td>\n",
       "      <td>35.48</td>\n",
       "      <td>2.91</td>\n",
       "    </tr>\n",
       "    <tr>\n",
       "      <th>2</th>\n",
       "      <td>-15.54</td>\n",
       "      <td>242.66</td>\n",
       "      <td>-81.28</td>\n",
       "      <td>109.77</td>\n",
       "      <td>-7.75</td>\n",
       "      <td>75.74</td>\n",
       "      <td>24.65</td>\n",
       "      <td>33.03</td>\n",
       "      <td>3.26</td>\n",
       "    </tr>\n",
       "    <tr>\n",
       "      <th>3</th>\n",
       "      <td>-15.17</td>\n",
       "      <td>316.42</td>\n",
       "      <td>-55.50</td>\n",
       "      <td>140.84</td>\n",
       "      <td>-5.30</td>\n",
       "      <td>74.07</td>\n",
       "      <td>28.43</td>\n",
       "      <td>31.89</td>\n",
       "      <td>3.37</td>\n",
       "    </tr>\n",
       "    <tr>\n",
       "      <th>4</th>\n",
       "      <td>-14.51</td>\n",
       "      <td>392.40</td>\n",
       "      <td>-31.67</td>\n",
       "      <td>171.92</td>\n",
       "      <td>-1.24</td>\n",
       "      <td>73.96</td>\n",
       "      <td>29.70</td>\n",
       "      <td>31.32</td>\n",
       "      <td>3.68</td>\n",
       "    </tr>\n",
       "  </tbody>\n",
       "</table>\n",
       "</div>"
      ],
      "text/plain": [
       "    Flow      D1      D2      P1     P2    dD1    dD2    dP1   dP2\n",
       "0 -16.69   99.49 -145.71   48.04 -15.90  81.17  12.26  36.71  2.21\n",
       "1 -16.23  172.78 -118.66   79.84 -11.94  80.09  18.49  35.48  2.91\n",
       "2 -15.54  242.66  -81.28  109.77  -7.75  75.74  24.65  33.03  3.26\n",
       "3 -15.17  316.42  -55.50  140.84  -5.30  74.07  28.43  31.89  3.37\n",
       "4 -14.51  392.40  -31.67  171.92  -1.24  73.96  29.70  31.32  3.68"
      ]
     },
     "execution_count": 4,
     "metadata": {},
     "output_type": "execute_result"
    }
   ],
   "source": [
    "df.head()"
   ]
  },
  {
   "cell_type": "code",
   "execution_count": 5,
   "metadata": {},
   "outputs": [],
   "source": [
    "def label_fix(label):\n",
    "    if label < -7.5:\n",
    "        return 0\n",
    "    elif label > 7.5:\n",
    "        return 1\n",
    "    else:\n",
    "        return 2\n",
    "\n",
    "df['Class'] = df['Flow'].apply(label_fix)"
   ]
  },
  {
   "cell_type": "code",
   "execution_count": 6,
   "metadata": {},
   "outputs": [
    {
     "data": {
      "text/html": [
       "<div>\n",
       "<style scoped>\n",
       "    .dataframe tbody tr th:only-of-type {\n",
       "        vertical-align: middle;\n",
       "    }\n",
       "\n",
       "    .dataframe tbody tr th {\n",
       "        vertical-align: top;\n",
       "    }\n",
       "\n",
       "    .dataframe thead th {\n",
       "        text-align: right;\n",
       "    }\n",
       "</style>\n",
       "<table border=\"1\" class=\"dataframe\">\n",
       "  <thead>\n",
       "    <tr style=\"text-align: right;\">\n",
       "      <th></th>\n",
       "      <th>Flow</th>\n",
       "      <th>D1</th>\n",
       "      <th>D2</th>\n",
       "      <th>P1</th>\n",
       "      <th>P2</th>\n",
       "      <th>dD1</th>\n",
       "      <th>dD2</th>\n",
       "      <th>dP1</th>\n",
       "      <th>dP2</th>\n",
       "      <th>Class</th>\n",
       "    </tr>\n",
       "  </thead>\n",
       "  <tbody>\n",
       "    <tr>\n",
       "      <th>0</th>\n",
       "      <td>-16.69</td>\n",
       "      <td>99.49</td>\n",
       "      <td>-145.71</td>\n",
       "      <td>48.04</td>\n",
       "      <td>-15.90</td>\n",
       "      <td>81.17</td>\n",
       "      <td>12.26</td>\n",
       "      <td>36.71</td>\n",
       "      <td>2.21</td>\n",
       "      <td>0</td>\n",
       "    </tr>\n",
       "    <tr>\n",
       "      <th>1</th>\n",
       "      <td>-16.23</td>\n",
       "      <td>172.78</td>\n",
       "      <td>-118.66</td>\n",
       "      <td>79.84</td>\n",
       "      <td>-11.94</td>\n",
       "      <td>80.09</td>\n",
       "      <td>18.49</td>\n",
       "      <td>35.48</td>\n",
       "      <td>2.91</td>\n",
       "      <td>0</td>\n",
       "    </tr>\n",
       "    <tr>\n",
       "      <th>2</th>\n",
       "      <td>-15.54</td>\n",
       "      <td>242.66</td>\n",
       "      <td>-81.28</td>\n",
       "      <td>109.77</td>\n",
       "      <td>-7.75</td>\n",
       "      <td>75.74</td>\n",
       "      <td>24.65</td>\n",
       "      <td>33.03</td>\n",
       "      <td>3.26</td>\n",
       "      <td>0</td>\n",
       "    </tr>\n",
       "    <tr>\n",
       "      <th>3</th>\n",
       "      <td>-15.17</td>\n",
       "      <td>316.42</td>\n",
       "      <td>-55.50</td>\n",
       "      <td>140.84</td>\n",
       "      <td>-5.30</td>\n",
       "      <td>74.07</td>\n",
       "      <td>28.43</td>\n",
       "      <td>31.89</td>\n",
       "      <td>3.37</td>\n",
       "      <td>0</td>\n",
       "    </tr>\n",
       "    <tr>\n",
       "      <th>4</th>\n",
       "      <td>-14.51</td>\n",
       "      <td>392.40</td>\n",
       "      <td>-31.67</td>\n",
       "      <td>171.92</td>\n",
       "      <td>-1.24</td>\n",
       "      <td>73.96</td>\n",
       "      <td>29.70</td>\n",
       "      <td>31.32</td>\n",
       "      <td>3.68</td>\n",
       "      <td>0</td>\n",
       "    </tr>\n",
       "  </tbody>\n",
       "</table>\n",
       "</div>"
      ],
      "text/plain": [
       "    Flow      D1      D2      P1     P2    dD1    dD2    dP1   dP2  Class\n",
       "0 -16.69   99.49 -145.71   48.04 -15.90  81.17  12.26  36.71  2.21      0\n",
       "1 -16.23  172.78 -118.66   79.84 -11.94  80.09  18.49  35.48  2.91      0\n",
       "2 -15.54  242.66  -81.28  109.77  -7.75  75.74  24.65  33.03  3.26      0\n",
       "3 -15.17  316.42  -55.50  140.84  -5.30  74.07  28.43  31.89  3.37      0\n",
       "4 -14.51  392.40  -31.67  171.92  -1.24  73.96  29.70  31.32  3.68      0"
      ]
     },
     "execution_count": 6,
     "metadata": {},
     "output_type": "execute_result"
    }
   ],
   "source": [
    "df.head()"
   ]
  },
  {
   "cell_type": "code",
   "execution_count": 7,
   "metadata": {},
   "outputs": [],
   "source": [
    "# Create Function to Gather Data into Overlapping Windows\n",
    "# Cuts data into size compatible with window length and step size\n",
    "# Gathers data into results output\n",
    "# Takes the mode of the classes for each window and saves in classes output\n",
    "\n",
    "def windowData(df, windowSize, stepSize):\n",
    "    \n",
    "    df.reset_index(drop = True, inplace = True)\n",
    "    new_data = df\n",
    "    \n",
    "    for i in range(len(new_data) - windowSize, len(new_data)):\n",
    "        \n",
    "        if (i - windowSize) % stepSize  == 0:\n",
    "            new_data = df.truncate(after = i - 1)\n",
    "    \n",
    "    windf = new_data\n",
    "    \n",
    "    length = len(windf['D1'])\n",
    "    \n",
    "    results = np.zeros([int((length - windowSize) / stepSize), windowSize, 8])\n",
    "    classes = np.zeros([int((length - windowSize) / stepSize), 1])\n",
    "    \n",
    "    for j in range(0, results.shape[0]):\n",
    "        \n",
    "        classData = np.zeros([windowSize, 1])\n",
    "        \n",
    "        for i in range(0, windowSize):\n",
    "            \n",
    "            results[j][i] = [windf['D1'][i + (j * stepSize)], \n",
    "                                 windf['D2'][i + (j * stepSize)], \n",
    "                                 windf['P1'][i + (j * stepSize)], \n",
    "                                 windf['P2'][i + (j * stepSize)], \n",
    "                                 windf['dD1'][i + (j * stepSize)], \n",
    "                                 windf['dD2'][i + (j * stepSize)], \n",
    "                                 windf['dP1'][i + (j * stepSize)], \n",
    "                                 windf['dP2'][i + (j * stepSize)]]\n",
    "            \n",
    "            classData[i] = windf['Class'][i + (j * stepSize)]\n",
    "            \n",
    "        classes[j] = int(stats.mode(classData)[0])\n",
    "        \n",
    "    return results, classes"
   ]
  },
  {
   "cell_type": "markdown",
   "metadata": {},
   "source": [
    "### Create Feature Matrix / Gather Training and Testing Data"
   ]
  },
  {
   "cell_type": "code",
   "execution_count": 24,
   "metadata": {},
   "outputs": [
    {
     "data": {
      "text/html": [
       "<div>\n",
       "<style scoped>\n",
       "    .dataframe tbody tr th:only-of-type {\n",
       "        vertical-align: middle;\n",
       "    }\n",
       "\n",
       "    .dataframe tbody tr th {\n",
       "        vertical-align: top;\n",
       "    }\n",
       "\n",
       "    .dataframe thead th {\n",
       "        text-align: right;\n",
       "    }\n",
       "</style>\n",
       "<table border=\"1\" class=\"dataframe\">\n",
       "  <thead>\n",
       "    <tr style=\"text-align: right;\">\n",
       "      <th></th>\n",
       "      <th>Flow</th>\n",
       "      <th>D1</th>\n",
       "      <th>D2</th>\n",
       "      <th>P1</th>\n",
       "      <th>P2</th>\n",
       "      <th>dD1</th>\n",
       "      <th>dD2</th>\n",
       "      <th>dP1</th>\n",
       "      <th>dP2</th>\n",
       "      <th>Class</th>\n",
       "    </tr>\n",
       "  </thead>\n",
       "  <tbody>\n",
       "    <tr>\n",
       "      <th>0</th>\n",
       "      <td>-16.69</td>\n",
       "      <td>99.49</td>\n",
       "      <td>-145.71</td>\n",
       "      <td>48.04</td>\n",
       "      <td>-15.90</td>\n",
       "      <td>81.17</td>\n",
       "      <td>12.26</td>\n",
       "      <td>36.71</td>\n",
       "      <td>2.21</td>\n",
       "      <td>0</td>\n",
       "    </tr>\n",
       "    <tr>\n",
       "      <th>1</th>\n",
       "      <td>-16.23</td>\n",
       "      <td>172.78</td>\n",
       "      <td>-118.66</td>\n",
       "      <td>79.84</td>\n",
       "      <td>-11.94</td>\n",
       "      <td>80.09</td>\n",
       "      <td>18.49</td>\n",
       "      <td>35.48</td>\n",
       "      <td>2.91</td>\n",
       "      <td>0</td>\n",
       "    </tr>\n",
       "    <tr>\n",
       "      <th>2</th>\n",
       "      <td>-15.54</td>\n",
       "      <td>242.66</td>\n",
       "      <td>-81.28</td>\n",
       "      <td>109.77</td>\n",
       "      <td>-7.75</td>\n",
       "      <td>75.74</td>\n",
       "      <td>24.65</td>\n",
       "      <td>33.03</td>\n",
       "      <td>3.26</td>\n",
       "      <td>0</td>\n",
       "    </tr>\n",
       "    <tr>\n",
       "      <th>3</th>\n",
       "      <td>-15.17</td>\n",
       "      <td>316.42</td>\n",
       "      <td>-55.50</td>\n",
       "      <td>140.84</td>\n",
       "      <td>-5.30</td>\n",
       "      <td>74.07</td>\n",
       "      <td>28.43</td>\n",
       "      <td>31.89</td>\n",
       "      <td>3.37</td>\n",
       "      <td>0</td>\n",
       "    </tr>\n",
       "    <tr>\n",
       "      <th>4</th>\n",
       "      <td>-14.51</td>\n",
       "      <td>392.40</td>\n",
       "      <td>-31.67</td>\n",
       "      <td>171.92</td>\n",
       "      <td>-1.24</td>\n",
       "      <td>73.96</td>\n",
       "      <td>29.70</td>\n",
       "      <td>31.32</td>\n",
       "      <td>3.68</td>\n",
       "      <td>0</td>\n",
       "    </tr>\n",
       "  </tbody>\n",
       "</table>\n",
       "</div>"
      ],
      "text/plain": [
       "    Flow      D1      D2      P1     P2    dD1    dD2    dP1   dP2  Class\n",
       "0 -16.69   99.49 -145.71   48.04 -15.90  81.17  12.26  36.71  2.21      0\n",
       "1 -16.23  172.78 -118.66   79.84 -11.94  80.09  18.49  35.48  2.91      0\n",
       "2 -15.54  242.66  -81.28  109.77  -7.75  75.74  24.65  33.03  3.26      0\n",
       "3 -15.17  316.42  -55.50  140.84  -5.30  74.07  28.43  31.89  3.37      0\n",
       "4 -14.51  392.40  -31.67  171.92  -1.24  73.96  29.70  31.32  3.68      0"
      ]
     },
     "execution_count": 24,
     "metadata": {},
     "output_type": "execute_result"
    }
   ],
   "source": [
    "df.head()"
   ]
  },
  {
   "cell_type": "code",
   "execution_count": 26,
   "metadata": {},
   "outputs": [],
   "source": [
    "scaleData = df.drop('Flow', axis = 1)\n",
    "scaleData.drop('Class', axis = 1, inplace = True)\n",
    "\n",
    "scaler = StandardScaler()\n",
    "scaler.fit(scaleData)\n",
    "scaled_features = scaler.transform(scaleData)\n",
    "\n",
    "X = pd.DataFrame(scaled_features, columns = df.columns[1:9])\n",
    "X['Class'] = df['Class']\n",
    "\n",
    "X_train, X_test, y_train, y_test = train_test_split(X, y, test_size = 0.3)"
   ]
  },
  {
   "cell_type": "code",
   "execution_count": 51,
   "metadata": {},
   "outputs": [],
   "source": [
    "trainX, trainY = windowData(X_train, 5, 1)\n",
    "testX, testY = windowData(X_test, 5, 1)"
   ]
  },
  {
   "cell_type": "code",
   "execution_count": 52,
   "metadata": {},
   "outputs": [
    {
     "data": {
      "text/plain": [
       "(4658, 5, 8)"
      ]
     },
     "execution_count": 52,
     "metadata": {},
     "output_type": "execute_result"
    }
   ],
   "source": [
    "trainX.shape"
   ]
  },
  {
   "cell_type": "code",
   "execution_count": 53,
   "metadata": {},
   "outputs": [
    {
     "data": {
      "text/plain": [
       "(4658, 1)"
      ]
     },
     "execution_count": 53,
     "metadata": {},
     "output_type": "execute_result"
    }
   ],
   "source": [
    "trainY.shape"
   ]
  },
  {
   "cell_type": "code",
   "execution_count": 54,
   "metadata": {},
   "outputs": [
    {
     "data": {
      "text/plain": [
       "array([[0.],\n",
       "       [1.],\n",
       "       [0.],\n",
       "       ...,\n",
       "       [0.],\n",
       "       [0.],\n",
       "       [0.]])"
      ]
     },
     "execution_count": 54,
     "metadata": {},
     "output_type": "execute_result"
    }
   ],
   "source": [
    "trainY"
   ]
  },
  {
   "cell_type": "markdown",
   "metadata": {},
   "source": [
    "### Develop LSTM Model"
   ]
  },
  {
   "cell_type": "code",
   "execution_count": 55,
   "metadata": {},
   "outputs": [
    {
     "name": "stdout",
     "output_type": "stream",
     "text": [
      "Model: \"sequential_3\"\n",
      "_________________________________________________________________\n",
      "Layer (type)                 Output Shape              Param #   \n",
      "=================================================================\n",
      "lstm_3 (LSTM)                (None, 175)               128800    \n",
      "_________________________________________________________________\n",
      "dropout_6 (Dropout)          (None, 175)               0         \n",
      "_________________________________________________________________\n",
      "dense_6 (Dense)              (None, 50)                8800      \n",
      "_________________________________________________________________\n",
      "dropout_7 (Dropout)          (None, 50)                0         \n",
      "_________________________________________________________________\n",
      "dense_7 (Dense)              (None, 3)                 153       \n",
      "=================================================================\n",
      "Total params: 137,753\n",
      "Trainable params: 137,753\n",
      "Non-trainable params: 0\n",
      "_________________________________________________________________\n"
     ]
    }
   ],
   "source": [
    "time_steps = trainX.shape[1]\n",
    "features = trainX.shape[2]\n",
    "\n",
    "LSTM = keras.Sequential()\n",
    "LSTM.add(keras.layers.LSTM(175, input_shape = (time_steps, features)))\n",
    "LSTM.add(keras.layers.Dropout(0.3))\n",
    "LSTM.add(keras.layers.Dense(50, activation = tf.nn.relu))\n",
    "LSTM.add(keras.layers.Dropout(0.4))\n",
    "LSTM.add(keras.layers.Dense(3, activation = tf.nn.softmax))\n",
    "LSTM.compile(loss = 'sparse_categorical_crossentropy', optimizer = 'adam', metrics = ['accuracy'])\n",
    "\n",
    "LSTM.summary()"
   ]
  },
  {
   "cell_type": "code",
   "execution_count": 56,
   "metadata": {},
   "outputs": [
    {
     "name": "stdout",
     "output_type": "stream",
     "text": [
      "Epoch 1/50\n",
      "4658/4658 [==============================] - 1s 279us/sample - loss: 0.6040 - acc: 0.7759\n",
      "Epoch 2/50\n",
      "4658/4658 [==============================] - 1s 184us/sample - loss: 0.5033 - acc: 0.8064\n",
      "Epoch 3/50\n",
      "4658/4658 [==============================] - 1s 180us/sample - loss: 0.4835 - acc: 0.8094\n",
      "Epoch 4/50\n",
      "4658/4658 [==============================] - 1s 181us/sample - loss: 0.4697 - acc: 0.8122\n",
      "Epoch 5/50\n",
      "4658/4658 [==============================] - 1s 183us/sample - loss: 0.4512 - acc: 0.8186\n",
      "Epoch 6/50\n",
      "4658/4658 [==============================] - 1s 185us/sample - loss: 0.4371 - acc: 0.8214\n",
      "Epoch 7/50\n",
      "4658/4658 [==============================] - 1s 187us/sample - loss: 0.4237 - acc: 0.8261\n",
      "Epoch 8/50\n",
      "4658/4658 [==============================] - 1s 192us/sample - loss: 0.4111 - acc: 0.8338\n",
      "Epoch 9/50\n",
      "4658/4658 [==============================] - 1s 185us/sample - loss: 0.4060 - acc: 0.8364\n",
      "Epoch 10/50\n",
      "4658/4658 [==============================] - 1s 187us/sample - loss: 0.3917 - acc: 0.8396\n",
      "Epoch 11/50\n",
      "4658/4658 [==============================] - 1s 186us/sample - loss: 0.3792 - acc: 0.8439\n",
      "Epoch 12/50\n",
      "4658/4658 [==============================] - 1s 180us/sample - loss: 0.3703 - acc: 0.8429\n",
      "Epoch 13/50\n",
      "4658/4658 [==============================] - 1s 185us/sample - loss: 0.3658 - acc: 0.8493\n",
      "Epoch 14/50\n",
      "4658/4658 [==============================] - 1s 194us/sample - loss: 0.3575 - acc: 0.8536\n",
      "Epoch 15/50\n",
      "4658/4658 [==============================] - 1s 189us/sample - loss: 0.3459 - acc: 0.8579\n",
      "Epoch 16/50\n",
      "4658/4658 [==============================] - 1s 199us/sample - loss: 0.3361 - acc: 0.8620\n",
      "Epoch 17/50\n",
      "4658/4658 [==============================] - 1s 201us/sample - loss: 0.3254 - acc: 0.8641\n",
      "Epoch 18/50\n",
      "4658/4658 [==============================] - 1s 195us/sample - loss: 0.3157 - acc: 0.8697\n",
      "Epoch 19/50\n",
      "4658/4658 [==============================] - 1s 195us/sample - loss: 0.3049 - acc: 0.8684\n",
      "Epoch 20/50\n",
      "4658/4658 [==============================] - 1s 193us/sample - loss: 0.3008 - acc: 0.8729\n",
      "Epoch 21/50\n",
      "4658/4658 [==============================] - 1s 186us/sample - loss: 0.2864 - acc: 0.8843\n",
      "Epoch 22/50\n",
      "4658/4658 [==============================] - 1s 191us/sample - loss: 0.2730 - acc: 0.8877\n",
      "Epoch 23/50\n",
      "4658/4658 [==============================] - 1s 190us/sample - loss: 0.2641 - acc: 0.8937\n",
      "Epoch 24/50\n",
      "4658/4658 [==============================] - 1s 189us/sample - loss: 0.2545 - acc: 0.8963\n",
      "Epoch 25/50\n",
      "4658/4658 [==============================] - 1s 194us/sample - loss: 0.2432 - acc: 0.9047\n",
      "Epoch 26/50\n",
      "4658/4658 [==============================] - 1s 191us/sample - loss: 0.2276 - acc: 0.9075\n",
      "Epoch 27/50\n",
      "4658/4658 [==============================] - 1s 189us/sample - loss: 0.2135 - acc: 0.9105\n",
      "Epoch 28/50\n",
      "4658/4658 [==============================] - 1s 188us/sample - loss: 0.2084 - acc: 0.9143\n",
      "Epoch 29/50\n",
      "4658/4658 [==============================] - 1s 190us/sample - loss: 0.1885 - acc: 0.9180\n",
      "Epoch 30/50\n",
      "4658/4658 [==============================] - 1s 187us/sample - loss: 0.1756 - acc: 0.9277\n",
      "Epoch 31/50\n",
      "4658/4658 [==============================] - 1s 189us/sample - loss: 0.1671 - acc: 0.9341\n",
      "Epoch 32/50\n",
      "4658/4658 [==============================] - 1s 195us/sample - loss: 0.1511 - acc: 0.9386\n",
      "Epoch 33/50\n",
      "4658/4658 [==============================] - 1s 194us/sample - loss: 0.1422 - acc: 0.9416\n",
      "Epoch 34/50\n",
      "4658/4658 [==============================] - 1s 193us/sample - loss: 0.1314 - acc: 0.9478\n",
      "Epoch 35/50\n",
      "4658/4658 [==============================] - 1s 187us/sample - loss: 0.1283 - acc: 0.9495\n",
      "Epoch 36/50\n",
      "4658/4658 [==============================] - 1s 190us/sample - loss: 0.1182 - acc: 0.9532\n",
      "Epoch 37/50\n",
      "4658/4658 [==============================] - 1s 189us/sample - loss: 0.1134 - acc: 0.9534\n",
      "Epoch 38/50\n",
      "4658/4658 [==============================] - 1s 193us/sample - loss: 0.1024 - acc: 0.9603\n",
      "Epoch 39/50\n",
      "4658/4658 [==============================] - 1s 192us/sample - loss: 0.0895 - acc: 0.9644\n",
      "Epoch 40/50\n",
      "4658/4658 [==============================] - 1s 197us/sample - loss: 0.0798 - acc: 0.9693\n",
      "Epoch 41/50\n",
      "4658/4658 [==============================] - 1s 205us/sample - loss: 0.0880 - acc: 0.9667\n",
      "Epoch 42/50\n",
      "4658/4658 [==============================] - 1s 205us/sample - loss: 0.0777 - acc: 0.9684\n",
      "Epoch 43/50\n",
      "4658/4658 [==============================] - 1s 203us/sample - loss: 0.0708 - acc: 0.9710\n",
      "Epoch 44/50\n",
      "4658/4658 [==============================] - 1s 202us/sample - loss: 0.0613 - acc: 0.9783\n",
      "Epoch 45/50\n",
      "4658/4658 [==============================] - 1s 197us/sample - loss: 0.0527 - acc: 0.9807\n",
      "Epoch 46/50\n",
      "4658/4658 [==============================] - 1s 196us/sample - loss: 0.0567 - acc: 0.9785\n",
      "Epoch 47/50\n",
      "4658/4658 [==============================] - 1s 204us/sample - loss: 0.0539 - acc: 0.9800\n",
      "Epoch 48/50\n",
      "4658/4658 [==============================] - 1s 193us/sample - loss: 0.0590 - acc: 0.9811\n",
      "Epoch 49/50\n",
      "4658/4658 [==============================] - 1s 189us/sample - loss: 0.0418 - acc: 0.9845\n",
      "Epoch 50/50\n",
      "4658/4658 [==============================] - 1s 192us/sample - loss: 0.0434 - acc: 0.9839\n"
     ]
    },
    {
     "data": {
      "text/plain": [
       "<tensorflow.python.keras.callbacks.History at 0x1a37fa0ac8>"
      ]
     },
     "execution_count": 56,
     "metadata": {},
     "output_type": "execute_result"
    }
   ],
   "source": [
    "LSTM.fit(trainX, trainY, epochs = 50)"
   ]
  },
  {
   "cell_type": "markdown",
   "metadata": {},
   "source": [
    "### Evaluate Model on Testing Split"
   ]
  },
  {
   "cell_type": "code",
   "execution_count": 57,
   "metadata": {},
   "outputs": [
    {
     "data": {
      "text/plain": [
       "(1994, 5, 8)"
      ]
     },
     "execution_count": 57,
     "metadata": {},
     "output_type": "execute_result"
    }
   ],
   "source": [
    "testX.shape"
   ]
  },
  {
   "cell_type": "code",
   "execution_count": 58,
   "metadata": {},
   "outputs": [
    {
     "data": {
      "text/plain": [
       "(1994, 1)"
      ]
     },
     "execution_count": 58,
     "metadata": {},
     "output_type": "execute_result"
    }
   ],
   "source": [
    "testY.shape"
   ]
  },
  {
   "cell_type": "code",
   "execution_count": 59,
   "metadata": {},
   "outputs": [],
   "source": [
    "predictions = LSTM.predict(testX)"
   ]
  },
  {
   "cell_type": "code",
   "execution_count": 61,
   "metadata": {},
   "outputs": [
    {
     "name": "stdout",
     "output_type": "stream",
     "text": [
      "              precision    recall  f1-score   support\n",
      "\n",
      "         0.0       0.86      0.85      0.85      1129\n",
      "         1.0       0.78      0.83      0.81       768\n",
      "         2.0       0.29      0.15      0.20        97\n",
      "\n",
      "   micro avg       0.81      0.81      0.81      1994\n",
      "   macro avg       0.64      0.61      0.62      1994\n",
      "weighted avg       0.80      0.81      0.80      1994\n",
      "\n"
     ]
    }
   ],
   "source": [
    "final_pred = []\n",
    "for score in range(0, len(predictions)):\n",
    "    final_pred.append(np.argmax(predictions[score]))\n",
    "    \n",
    "print(classification_report(testY, final_pred))"
   ]
  },
  {
   "cell_type": "markdown",
   "metadata": {},
   "source": [
    "### Test on New Dataset"
   ]
  },
  {
   "cell_type": "code",
   "execution_count": 19,
   "metadata": {},
   "outputs": [],
   "source": [
    "# Read in dataframe\n",
    "test = pd.read_csv('test_data_2.csv')\n",
    "test['Class'] = test['Flow'].apply(label_fix)\n",
    "\n",
    "# Create the Feature Matrix and Scale Features\n",
    "X_1 = test.drop('Class', axis = 1)\n",
    "X_1.drop('Flow', axis = 1, inplace = True)\n",
    "\n",
    "scaler = StandardScaler()\n",
    "scaler.fit(X_1)\n",
    "scaled_features = scaler.transform(X_1)\n",
    "X_1 = pd.DataFrame(scaled_features, columns = X_1.columns[:])\n",
    "\n",
    "# Create the classification matrix\n",
    "y_1 = test['Class']\n",
    "\n",
    "X_LSTM = X_1.values.reshape(5019, 1, 8)"
   ]
  },
  {
   "cell_type": "code",
   "execution_count": 20,
   "metadata": {},
   "outputs": [
    {
     "name": "stdout",
     "output_type": "stream",
     "text": [
      "              precision    recall  f1-score   support\n",
      "\n",
      "           0       0.87      0.90      0.88      2145\n",
      "           1       0.87      0.89      0.88      2074\n",
      "           2       0.73      0.64      0.68       800\n",
      "\n",
      "   micro avg       0.85      0.85      0.85      5019\n",
      "   macro avg       0.82      0.81      0.81      5019\n",
      "weighted avg       0.85      0.85      0.85      5019\n",
      "\n"
     ]
    }
   ],
   "source": [
    "test_predictions = LSTM.predict(X_LSTM)\n",
    "\n",
    "final_pred_test = []\n",
    "for score in range(0, len(test_predictions)):\n",
    "    final_pred_test.append(np.argmax(test_predictions[score]))\n",
    "    \n",
    "print(classification_report(y_1, final_pred_test))"
   ]
  },
  {
   "cell_type": "code",
   "execution_count": null,
   "metadata": {},
   "outputs": [],
   "source": []
  }
 ],
 "metadata": {
  "kernelspec": {
   "display_name": "Python 3",
   "language": "python",
   "name": "python3"
  },
  "language_info": {
   "codemirror_mode": {
    "name": "ipython",
    "version": 3
   },
   "file_extension": ".py",
   "mimetype": "text/x-python",
   "name": "python",
   "nbconvert_exporter": "python",
   "pygments_lexer": "ipython3",
   "version": "3.7.3"
  }
 },
 "nbformat": 4,
 "nbformat_minor": 2
}
