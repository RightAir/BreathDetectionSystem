{
 "cells": [
  {
   "cell_type": "markdown",
   "metadata": {},
   "source": [
    "## Lean TaaS Problem Set\n",
    "#### Oct 2019 | Michael Furr"
   ]
  },
  {
   "cell_type": "markdown",
   "metadata": {},
   "source": [
    "#### Import Libraries"
   ]
  },
  {
   "cell_type": "code",
   "execution_count": 1,
   "metadata": {},
   "outputs": [
    {
     "data": {
      "text/html": [
       "        <script type=\"text/javascript\">\n",
       "        window.PlotlyConfig = {MathJaxConfig: 'local'};\n",
       "        if (window.MathJax) {MathJax.Hub.Config({SVG: {font: \"STIX-Web\"}});}\n",
       "        if (typeof require !== 'undefined') {\n",
       "        require.undef(\"plotly\");\n",
       "        requirejs.config({\n",
       "            paths: {\n",
       "                'plotly': ['https://cdn.plot.ly/plotly-latest.min']\n",
       "            }\n",
       "        });\n",
       "        require(['plotly'], function(Plotly) {\n",
       "            window._Plotly = Plotly;\n",
       "        });\n",
       "        }\n",
       "        </script>\n",
       "        "
      ]
     },
     "metadata": {},
     "output_type": "display_data"
    },
    {
     "data": {
      "text/html": [
       "        <script type=\"text/javascript\">\n",
       "        window.PlotlyConfig = {MathJaxConfig: 'local'};\n",
       "        if (window.MathJax) {MathJax.Hub.Config({SVG: {font: \"STIX-Web\"}});}\n",
       "        if (typeof require !== 'undefined') {\n",
       "        require.undef(\"plotly\");\n",
       "        requirejs.config({\n",
       "            paths: {\n",
       "                'plotly': ['https://cdn.plot.ly/plotly-latest.min']\n",
       "            }\n",
       "        });\n",
       "        require(['plotly'], function(Plotly) {\n",
       "            window._Plotly = Plotly;\n",
       "        });\n",
       "        }\n",
       "        </script>\n",
       "        "
      ]
     },
     "metadata": {},
     "output_type": "display_data"
    }
   ],
   "source": [
    "import pandas as pd\n",
    "import sqlite3\n",
    "\n",
    "from datetime import datetime, timedelta\n",
    "\n",
    "import numpy as np\n",
    "import matplotlib.pyplot as plt\n",
    "import seaborn as sns\n",
    "%matplotlib inline\n",
    "\n",
    "from plotly import __version__\n",
    "from plotly.offline import download_plotlyjs, init_notebook_mode, plot, iplot\n",
    "\n",
    "import cufflinks as cf\n",
    "\n",
    "init_notebook_mode(connected=True)\n",
    "\n",
    "cf.go_offline()"
   ]
  },
  {
   "cell_type": "markdown",
   "metadata": {},
   "source": [
    "#### Pull in data"
   ]
  },
  {
   "cell_type": "code",
   "execution_count": 2,
   "metadata": {},
   "outputs": [],
   "source": [
    "conn = sqlite3.connect('LeanTaaSTestDB.db')\n",
    "df = pd.read_sql_query(\"SELECT * FROM exchange_transactions;\", conn)\n",
    "df['created_datetime'] = df['created_datetime'].apply(lambda x: x.split('.')[0])\n",
    "df['created_datetime'] = pd.to_datetime(df['created_datetime'])\n",
    "\n",
    "df['start_time'] = pd.to_datetime(df['start_time'])\n",
    "df['end_time'] = pd.to_datetime(df['end_time'])"
   ]
  },
  {
   "cell_type": "code",
   "execution_count": 3,
   "metadata": {},
   "outputs": [
    {
     "data": {
      "text/html": [
       "<div>\n",
       "<style scoped>\n",
       "    .dataframe tbody tr th:only-of-type {\n",
       "        vertical-align: middle;\n",
       "    }\n",
       "\n",
       "    .dataframe tbody tr th {\n",
       "        vertical-align: top;\n",
       "    }\n",
       "\n",
       "    .dataframe thead th {\n",
       "        text-align: right;\n",
       "    }\n",
       "</style>\n",
       "<table border=\"1\" class=\"dataframe\">\n",
       "  <thead>\n",
       "    <tr style=\"text-align: right;\">\n",
       "      <th></th>\n",
       "      <th>transaction_id</th>\n",
       "      <th>parent_transaction_id</th>\n",
       "      <th>action</th>\n",
       "      <th>scheduler</th>\n",
       "      <th>surgeon</th>\n",
       "      <th>created_datetime</th>\n",
       "      <th>snapshot_date</th>\n",
       "      <th>start_time</th>\n",
       "      <th>end_time</th>\n",
       "      <th>room_name</th>\n",
       "      <th>location</th>\n",
       "    </tr>\n",
       "  </thead>\n",
       "  <tbody>\n",
       "    <tr>\n",
       "      <td>0</td>\n",
       "      <td>2c91808267d2ea5301682f73e9a1093e</td>\n",
       "      <td>None</td>\n",
       "      <td>RELEASE</td>\n",
       "      <td>Jessie Shelley</td>\n",
       "      <td>Bryan Neer</td>\n",
       "      <td>2019-01-15 13:52:32</td>\n",
       "      <td>2019-07-01 00:00:00.000000</td>\n",
       "      <td>2019-10-13 07:30:00</td>\n",
       "      <td>2019-10-13 19:00:00</td>\n",
       "      <td>MRAH OR 03</td>\n",
       "      <td>CENTER</td>\n",
       "    </tr>\n",
       "    <tr>\n",
       "      <td>1</td>\n",
       "      <td>2c91808267d2ea5301683984e52b0bfb</td>\n",
       "      <td>None</td>\n",
       "      <td>TRANSFER</td>\n",
       "      <td>Raymond Smith</td>\n",
       "      <td>Charles Mcdonald</td>\n",
       "      <td>2019-01-17 12:47:17</td>\n",
       "      <td>2019-06-20 00:00:00.000000</td>\n",
       "      <td>2019-10-13 07:30:00</td>\n",
       "      <td>2019-10-13 19:00:00</td>\n",
       "      <td>MRAH OR 06</td>\n",
       "      <td>CENTER</td>\n",
       "    </tr>\n",
       "    <tr>\n",
       "      <td>2</td>\n",
       "      <td>2c91808267d2ea53016839855a480bfc</td>\n",
       "      <td>None</td>\n",
       "      <td>TRANSFER</td>\n",
       "      <td>Raymond Smith</td>\n",
       "      <td>Charles Mcdonald</td>\n",
       "      <td>2019-01-17 12:47:47</td>\n",
       "      <td>2019-06-20 00:00:00.000000</td>\n",
       "      <td>2019-10-13 07:30:00</td>\n",
       "      <td>2019-10-13 19:00:00</td>\n",
       "      <td>MNOR 36</td>\n",
       "      <td>CENTER</td>\n",
       "    </tr>\n",
       "    <tr>\n",
       "      <td>3</td>\n",
       "      <td>2c91808267d2eb4b016829281a390786</td>\n",
       "      <td>None</td>\n",
       "      <td>RELEASE</td>\n",
       "      <td>Kimberly Bugg</td>\n",
       "      <td>Joann Hinson</td>\n",
       "      <td>2019-01-14 08:32:01</td>\n",
       "      <td>2019-06-12 00:00:00.000000</td>\n",
       "      <td>2019-10-13 08:50:00</td>\n",
       "      <td>2019-10-13 19:00:00</td>\n",
       "      <td>MNOR 25</td>\n",
       "      <td>CENTER</td>\n",
       "    </tr>\n",
       "    <tr>\n",
       "      <td>4</td>\n",
       "      <td>2c91808267d2eb4b01682977274607cb</td>\n",
       "      <td>2c91808267d2eb4b016829281a390786</td>\n",
       "      <td>MARK_UPDATED</td>\n",
       "      <td>Dora Smith</td>\n",
       "      <td>Joann Hinson</td>\n",
       "      <td>2019-01-14 09:58:21</td>\n",
       "      <td>2019-06-12 00:00:00.000000</td>\n",
       "      <td>2019-10-13 08:50:00</td>\n",
       "      <td>2019-10-13 19:00:00</td>\n",
       "      <td>MNOR 25</td>\n",
       "      <td>CENTER</td>\n",
       "    </tr>\n",
       "  </tbody>\n",
       "</table>\n",
       "</div>"
      ],
      "text/plain": [
       "                     transaction_id             parent_transaction_id  \\\n",
       "0  2c91808267d2ea5301682f73e9a1093e                              None   \n",
       "1  2c91808267d2ea5301683984e52b0bfb                              None   \n",
       "2  2c91808267d2ea53016839855a480bfc                              None   \n",
       "3  2c91808267d2eb4b016829281a390786                              None   \n",
       "4  2c91808267d2eb4b01682977274607cb  2c91808267d2eb4b016829281a390786   \n",
       "\n",
       "         action       scheduler           surgeon    created_datetime  \\\n",
       "0       RELEASE  Jessie Shelley        Bryan Neer 2019-01-15 13:52:32   \n",
       "1      TRANSFER   Raymond Smith  Charles Mcdonald 2019-01-17 12:47:17   \n",
       "2      TRANSFER   Raymond Smith  Charles Mcdonald 2019-01-17 12:47:47   \n",
       "3       RELEASE   Kimberly Bugg      Joann Hinson 2019-01-14 08:32:01   \n",
       "4  MARK_UPDATED      Dora Smith      Joann Hinson 2019-01-14 09:58:21   \n",
       "\n",
       "                snapshot_date          start_time            end_time  \\\n",
       "0  2019-07-01 00:00:00.000000 2019-10-13 07:30:00 2019-10-13 19:00:00   \n",
       "1  2019-06-20 00:00:00.000000 2019-10-13 07:30:00 2019-10-13 19:00:00   \n",
       "2  2019-06-20 00:00:00.000000 2019-10-13 07:30:00 2019-10-13 19:00:00   \n",
       "3  2019-06-12 00:00:00.000000 2019-10-13 08:50:00 2019-10-13 19:00:00   \n",
       "4  2019-06-12 00:00:00.000000 2019-10-13 08:50:00 2019-10-13 19:00:00   \n",
       "\n",
       "    room_name location  \n",
       "0  MRAH OR 03   CENTER  \n",
       "1  MRAH OR 06   CENTER  \n",
       "2     MNOR 36   CENTER  \n",
       "3     MNOR 25   CENTER  \n",
       "4     MNOR 25   CENTER  "
      ]
     },
     "execution_count": 3,
     "metadata": {},
     "output_type": "execute_result"
    }
   ],
   "source": [
    "df.head()"
   ]
  },
  {
   "cell_type": "markdown",
   "metadata": {},
   "source": [
    "#### Question 1\n",
    "#### How many minutes of requests, transfers and releases have been completed? The marketplace is successful if there's a good amount of activities from both sides."
   ]
  },
  {
   "cell_type": "code",
   "execution_count": 4,
   "metadata": {},
   "outputs": [],
   "source": [
    "def releaseTime_timeBlock(df):\n",
    "    \"\"\"\n",
    "    Returns the duration of the scheduling block associated with the original transaction\n",
    "\n",
    "    Args:\n",
    "        df (pd.DataFrame): a DataFrame containing data from the exchange_transactions table of the LeanTaaSTestDB.db\n",
    "\n",
    "    Returns:\n",
    "        releaseTime (list): xxxxx\n",
    "        totalReleaseTime (float): xxxxx\n",
    "    \"\"\"\n",
    "    \n",
    "    # get each unqiue Release_ID\n",
    "    releaseTime = []\n",
    "    Release_IDs = []\n",
    "    for i in range(0, len(df)):\n",
    "        if df['action'][i] == 'RELEASE':\n",
    "            releaseTime.append(df['end_time'][i] - df['start_time'][i])\n",
    "\n",
    "    # calculate the releaseTime in seconds\n",
    "    for i in range(0, len(releaseTime)):\n",
    "        releaseTime[i] = releaseTime[i].total_seconds()/60\n",
    "        \n",
    "    totalReleaseTime = sum(releaseTime)\n",
    "    return releaseTime, totalReleaseTime\n",
    "\n",
    "releaseTime_timeBlock, totalReleaseTime_timeBlock = releaseTime_timeBlock(df)"
   ]
  },
  {
   "cell_type": "code",
   "execution_count": 5,
   "metadata": {},
   "outputs": [],
   "source": [
    "def transferTime_timeBlock(df):\n",
    "    \"\"\"\n",
    "    Returns the duration of the scheduling block associated with the original transaction\n",
    "\n",
    "    Args:\n",
    "        df (pd.DataFrame): a DataFrame containing data from the exchange_transactions table of the LeanTaaSTestDB.db\n",
    "\n",
    "    Returns:\n",
    "        transferTime (list): xxxxx\n",
    "        totalTransferTime (float): xxxxx\n",
    "    \"\"\"\n",
    "    \n",
    "    transferTime = []\n",
    "    for i in range(0, len(df)):\n",
    "        if df['action'][i] == 'TRANSFER':\n",
    "            transferTime.append(df['end_time'][i] - df['start_time'][i])\n",
    "\n",
    "    # calculate the transferTime in seconds\n",
    "    for i in range(0, len(transferTime)):\n",
    "        transferTime[i] = transferTime[i].total_seconds()/60\n",
    "        \n",
    "    totalTransferTime = sum(transferTime)\n",
    "    return transferTime, totalTransferTime\n",
    "\n",
    "transferTime_timeBlock, totalTransferTime_timeBlock = transferTime_timeBlock(df)\n"
   ]
  },
  {
   "cell_type": "code",
   "execution_count": 6,
   "metadata": {},
   "outputs": [],
   "source": [
    "def requestTime_timeBlock(df):\n",
    "    \"\"\"\n",
    "    Returns the duration of the scheduling block associated with the original transaction\n",
    "\n",
    "    Args:\n",
    "        df (pd.DataFrame): a DataFrame containing data from the exchange_transactions table of the LeanTaaSTestDB.db\n",
    "\n",
    "    Returns:\n",
    "        requestTime (list): xxxxx\n",
    "        totalRequestTime (float): xxxxx\n",
    "    \"\"\"\n",
    "    \n",
    "    requestTime = []\n",
    "    for i in range(0, len(df)):\n",
    "        if df['action'][i] == 'REQUEST':\n",
    "            requestTime.append(df['end_time'][i] - df['start_time'][i])\n",
    "\n",
    "    # calculate the requestTime in seconds\n",
    "    for i in range(0, len(requestTime)):\n",
    "        requestTime[i] = requestTime[i].total_seconds()/60\n",
    "        \n",
    "    totalRequestTime = sum(requestTime)\n",
    "    return requestTime, totalRequestTime\n",
    "\n",
    "requestTime_timeBlock, totalRequestTime_timeBlock = requestTime_timeBlock(df)"
   ]
  },
  {
   "cell_type": "code",
   "execution_count": 7,
   "metadata": {},
   "outputs": [],
   "source": [
    "def releaseTime(df):\n",
    "    \"\"\"\n",
    "    Returns the release time and total release time for each release ID\n",
    "\n",
    "    Args:\n",
    "        df (pd.DataFrame): a DataFrame containing data from the exchange_transactions table of the LeanTaaSTestDB.db\n",
    "\n",
    "    Returns:\n",
    "        Release_IDs (list): xxxxx\n",
    "        releaseTime (list): xxxxx\n",
    "        totalReleaseTime (float): xxxxx\n",
    "    \"\"\"\n",
    "    \n",
    "    # get each unqiue Release_ID\n",
    "    Release_IDs = []\n",
    "    for i in range(0, len(df)):\n",
    "        if df['action'][i] == 'RELEASE':\n",
    "            Release_IDs.append(df['transaction_id'][i])\n",
    "    \n",
    "    # calculate the release time from each Release_ID\n",
    "    releaseTime = []\n",
    "    for i in range(0, len(Release_IDs)):\n",
    "        releaseTime.append(df[df['parent_transaction_id'] == Release_IDs[i]]['created_datetime'][df.index[df['parent_transaction_id'] == Release_IDs[i]][0]] - df[df['transaction_id'] == Release_IDs[i]]['created_datetime'][df.index[df['transaction_id'] == Release_IDs[i]][0]])\n",
    "    \n",
    "    # calculate the releaseTime in seconds\n",
    "    for i in range(0, len(releaseTime)):\n",
    "        releaseTime[i] = releaseTime[i].total_seconds()/60\n",
    "        \n",
    "    totalReleaseTime = sum(releaseTime)\n",
    "    return Release_IDs, releaseTime, totalReleaseTime\n",
    "\n",
    "Release_IDs, releaseTime, totalReleaseTime = releaseTime(df)"
   ]
  },
  {
   "cell_type": "code",
   "execution_count": 8,
   "metadata": {},
   "outputs": [],
   "source": [
    "def transferTime(df):\n",
    "    \"\"\"\n",
    "    Returns the transfer time and total transfer time for reach transaction\n",
    "    \n",
    "    Args:\n",
    "        df (pd.DataFrame): a DataFrame containing data from the exchange_transactions table of the LeanTaaSTestDB.db\n",
    "        \n",
    "    Returns:\n",
    "        Transfer_IDs (list): xxxxx\n",
    "        transferTime (list): xxxxx\n",
    "        totalTransferTime (float): xxxxx\n",
    "    \"\"\"\n",
    "    \n",
    "    Transfer_IDs = []\n",
    "    for i in range(0, len(df)):\n",
    "        if df['action'][i] == 'TRANSFER':\n",
    "            Transfer_IDs.append(df['transaction_id'][i])\n",
    "            \n",
    "    transferTime = []\n",
    "    for i in range(0, len(Transfer_IDs)):\n",
    "        \n",
    "        a = df[df['parent_transaction_id'] == Transfer_IDs[i]]\n",
    "        \n",
    "        if len(a[a['action'] == 'MARK_UPDATED']) == 1:\n",
    "            index_a = a.index[a['action'] == 'MARK_UPDATED'][0]\n",
    "            b = df[df['transaction_id'] == Transfer_IDs[i]]\n",
    "            index_b = b.index[0]\n",
    "            transferTime.append(a['created_datetime'][index_a] - b['created_datetime'][index_b])\n",
    "            \n",
    "        elif len(a[a['action'] == 'DENY_TRANSFER']) == 1:\n",
    "            index_a = a.index[a['action'] == 'DENY_TRANSFER'][0]\n",
    "            b = df[df['transaction_id'] == Transfer_IDs[i]]\n",
    "            index_b = b.index[0]\n",
    "            transferTime.append(a['created_datetime'][index_a] - b['created_datetime'][index_b])\n",
    "        \n",
    "    for i in range(0, len(transferTime)):\n",
    "        transferTime[i] = transferTime[i].total_seconds()/60\n",
    "        \n",
    "    totalTransferTime = sum(transferTime)\n",
    "    \n",
    "    return Transfer_IDs, transferTime, totalTransferTime\n",
    "\n",
    "Transfer_IDs, transferTime, totalTransferTime = transferTime(df)"
   ]
  },
  {
   "cell_type": "code",
   "execution_count": 9,
   "metadata": {},
   "outputs": [],
   "source": [
    "def requestTime(df):\n",
    "    \"\"\"\n",
    "    Returns the request time and total transfer time for reach transaction\n",
    "    \n",
    "    Args:\n",
    "        df (pd.DataFrame): a DataFrame containing data from the exchange_transactions table of the LeanTaaSTestDB.db\n",
    "        \n",
    "    Returns:\n",
    "        Request_IDs (list): xxxxx\n",
    "        requestTime (list): xxxxx\n",
    "        totalRequestTime (float): xxxxx\n",
    "    \"\"\"\n",
    "    \n",
    "    Request_IDs = []\n",
    "    for i in range(0, len(df)):\n",
    "        if df['action'][i] == 'REQUEST':\n",
    "            Request_IDs.append(df['transaction_id'][i])\n",
    "            \n",
    "    requestTime = []\n",
    "    for i in range(0, len(Request_IDs)):\n",
    "        \n",
    "        a = df[df['parent_transaction_id'] == Request_IDs[i]]\n",
    "    \n",
    "        if len(a[a['action'] == 'MARK_UPDATED']) == 1:\n",
    "            index_a = a.index[a['action'] == 'MARK_UPDATED'][0]\n",
    "            b = df[df['transaction_id'] == Request_IDs[i]]\n",
    "            index_b = b.index[0]\n",
    "            requestTime.append(a['created_datetime'][index_a] - b['created_datetime'][index_b])\n",
    "\n",
    "        elif len(a[a['action'] == 'DENY_REQUEST']) == 1:            \n",
    "            index_a = a.index[a['action'] == 'DENY_REQUEST'][0]\n",
    "            b = df[df['transaction_id'] == Request_IDs[i]]\n",
    "            index_b = b.index[0]\n",
    "            transferTime.append(a['created_datetime'][index_a] - b['created_datetime'][index_b])\n",
    "        \n",
    "    for i in range(0, len(requestTime)):\n",
    "        requestTime[i] = requestTime[i].total_seconds()/60\n",
    "        \n",
    "    totalRequestTime = sum(requestTime)\n",
    "        \n",
    "    return Request_IDs, requestTime, totalRequestTime\n",
    "\n",
    "Request_IDs, requestTime, totalRequestTime = requestTime(df)"
   ]
  },
  {
   "cell_type": "markdown",
   "metadata": {},
   "source": [
    "### EDA and Data Analysis"
   ]
  },
  {
   "cell_type": "code",
   "execution_count": 10,
   "metadata": {},
   "outputs": [
    {
     "data": {
      "text/html": [
       "<div>\n",
       "<style scoped>\n",
       "    .dataframe tbody tr th:only-of-type {\n",
       "        vertical-align: middle;\n",
       "    }\n",
       "\n",
       "    .dataframe tbody tr th {\n",
       "        vertical-align: top;\n",
       "    }\n",
       "\n",
       "    .dataframe thead th {\n",
       "        text-align: right;\n",
       "    }\n",
       "</style>\n",
       "<table border=\"1\" class=\"dataframe\">\n",
       "  <thead>\n",
       "    <tr style=\"text-align: right;\">\n",
       "      <th></th>\n",
       "      <th>Total Duration (min)</th>\n",
       "      <th>Action Type</th>\n",
       "    </tr>\n",
       "  </thead>\n",
       "  <tbody>\n",
       "    <tr>\n",
       "      <td>1</td>\n",
       "      <td>140820.80</td>\n",
       "      <td>Transfer</td>\n",
       "    </tr>\n",
       "    <tr>\n",
       "      <td>2</td>\n",
       "      <td>512316.25</td>\n",
       "      <td>Release</td>\n",
       "    </tr>\n",
       "    <tr>\n",
       "      <td>0</td>\n",
       "      <td>710037.45</td>\n",
       "      <td>Request</td>\n",
       "    </tr>\n",
       "  </tbody>\n",
       "</table>\n",
       "</div>"
      ],
      "text/plain": [
       "   Total Duration (min) Action Type\n",
       "1             140820.80    Transfer\n",
       "2             512316.25     Release\n",
       "0             710037.45     Request"
      ]
     },
     "execution_count": 10,
     "metadata": {},
     "output_type": "execute_result"
    }
   ],
   "source": [
    "results = pd.DataFrame([totalRequestTime, totalTransferTime, totalReleaseTime], columns = ['Total Duration (min)'])\n",
    "results.sort_values('Total Duration (min)', inplace = True)\n",
    "results['Action Type'] = ['Transfer', 'Release', 'Request']\n",
    "results"
   ]
  },
  {
   "cell_type": "code",
   "execution_count": 11,
   "metadata": {},
   "outputs": [
    {
     "data": {
      "image/png": "[encoded data removed]",
      "text/plain": [
       "<Figure size 540x396 with 1 Axes>"
      ]
     },
     "metadata": {
      "needs_background": "light"
     },
     "output_type": "display_data"
    }
   ],
   "source": [
    "resultsTimeBlock = pd.DataFrame([totalRequestTime_timeBlock, totalTransferTime_timeBlock, \\\n",
    "                        totalReleaseTime_timeBlock], columns = ['Total Time Block Duration (min)'])\n",
    "resultsTimeBlock.sort_values('Total Time Block Duration (min)', inplace = True)\n",
    "resultsTimeBlock['Action Type'] = ['Transfer', 'Request', 'Release']\n",
    "\n",
    "fig12 = plt.figure(figsize = (7.5, 5.5))\n",
    "plt.title('Total Time Block Duration per Action Type')\n",
    "sns.barplot(x = 'Action Type', y = 'Total Time Block Duration (min)', \\\n",
    "            data = resultsTimeBlock, palette = 'Blues_d')\n",
    "fig12.savefig('Total_TimeBlock_Duration.png')"
   ]
  },
  {
   "cell_type": "code",
   "execution_count": 12,
   "metadata": {},
   "outputs": [
    {
     "data": {
      "image/png": "[encoded data removed]",
      "text/plain": [
       "<Figure size 540x396 with 1 Axes>"
      ]
     },
     "metadata": {
      "needs_background": "light"
     },
     "output_type": "display_data"
    }
   ],
   "source": [
    "fig1 = plt.figure(figsize = (7.5, 5.5))\n",
    "plt.title('Total Duration per Action Type')\n",
    "sns.barplot(x = 'Action Type', y = 'Total Duration (min)', data = results, palette = 'Blues_d')\n",
    "fig1.savefig('Total_Action_Duration.png')"
   ]
  },
  {
   "cell_type": "code",
   "execution_count": 13,
   "metadata": {},
   "outputs": [
    {
     "data": {
      "image/png": "[encoded data removed]",
      "text/plain": [
       "<Figure size 396x396 with 1 Axes>"
      ]
     },
     "metadata": {},
     "output_type": "display_data"
    }
   ],
   "source": [
    "colors = ['#ff9999','#66b3ff','#99ff99','#ffcc99']\n",
    "\n",
    "fig1, ax1 = plt.subplots(figsize = (5.5, 5.5))\n",
    "ax1.pie(results['Total Duration (min)'], colors = colors, labels = results['Action Type'], autopct='%1.1f%%', startangle=90)\n",
    "plt.title('Action Type Distribution')\n",
    "\n",
    "centre_circle = plt.Circle((0,0),0.70,fc='white')\n",
    "fig = plt.gcf()\n",
    "fig.gca().add_artist(centre_circle)\n",
    "# Equal aspect ratio ensures that pie is drawn as a circle\n",
    "ax1.axis('equal')  \n",
    "plt.tight_layout()"
   ]
  },
  {
   "cell_type": "code",
   "execution_count": 14,
   "metadata": {},
   "outputs": [
    {
     "data": {
      "application/vnd.plotly.v1+json": {
       "config": {
        "linkText": "Export to plot.ly",
        "plotlyServerURL": "https://plot.ly",
        "showLink": true
       },
       "data": [
        {
         "marker": {
          "color": "rgba(50, 171, 96, 0.6)",
          "line": {
           "color": "rgba(50, 171, 96, 1.0)",
           "width": 1
          }
         },
         "name": "Total Duration (min)",
         "orientation": "v",
         "text": "",
         "type": "bar",
         "uid": "9fc2b70d-5c9e-4c14-8686-1c82bc776a4f",
         "x": [
          "Transfer",
          "Release",
          "Request"
         ],
         "y": [
          140820.8,
          512316.25000000023,
          710037.4499999988
         ]
        }
       ],
       "layout": {
        "legend": {
         "bgcolor": "#F5F6F9",
         "font": {
          "color": "#4D5663"
         }
        },
        "paper_bgcolor": "#F5F6F9",
        "plot_bgcolor": "#F5F6F9",
        "title": {
         "font": {
          "color": "#4D5663"
         },
         "text": "Total Duration per Action Type"
        },
        "xaxis": {
         "gridcolor": "#E1E5ED",
         "showgrid": true,
         "tickfont": {
          "color": "#4D5663"
         },
         "title": {
          "font": {
           "color": "#4D5663"
          },
          "text": "Action Type"
         },
         "zerolinecolor": "#E1E5ED"
        },
        "yaxis": {
         "gridcolor": "#E1E5ED",
         "showgrid": true,
         "tickfont": {
          "color": "#4D5663"
         },
         "title": {
          "font": {
           "color": "#4D5663"
          },
          "text": "Total Duration (min)"
         },
         "zerolinecolor": "#E1E5ED"
        }
       }
      },
      "text/html": [
       "<div>\n",
       "        \n",
       "        \n",
       "            <div id=\"558227af-07d5-479d-9e74-b1973aeef788\" class=\"plotly-graph-div\" style=\"height:525px; width:100%;\"></div>\n",
       "            <script type=\"text/javascript\">\n",
       "                require([\"plotly\"], function(Plotly) {\n",
       "                    window.PLOTLYENV=window.PLOTLYENV || {};\n",
       "                    window.PLOTLYENV.BASE_URL='https://plot.ly';\n",
       "                    \n",
       "                if (document.getElementById(\"558227af-07d5-479d-9e74-b1973aeef788\")) {\n",
       "                    Plotly.newPlot(\n",
       "                        '558227af-07d5-479d-9e74-b1973aeef788',\n",
       "                        [{\"marker\": {\"color\": \"rgba(50, 171, 96, 0.6)\", \"line\": {\"color\": \"rgba(50, 171, 96, 1.0)\", \"width\": 1}}, \"name\": \"Total Duration (min)\", \"orientation\": \"v\", \"text\": \"\", \"type\": \"bar\", \"uid\": \"9fc2b70d-5c9e-4c14-8686-1c82bc776a4f\", \"x\": [\"Transfer\", \"Release\", \"Request\"], \"y\": [140820.8, 512316.25000000023, 710037.4499999988]}],\n",
       "                        {\"legend\": {\"bgcolor\": \"#F5F6F9\", \"font\": {\"color\": \"#4D5663\"}}, \"paper_bgcolor\": \"#F5F6F9\", \"plot_bgcolor\": \"#F5F6F9\", \"title\": {\"font\": {\"color\": \"#4D5663\"}, \"text\": \"Total Duration per Action Type\"}, \"xaxis\": {\"gridcolor\": \"#E1E5ED\", \"showgrid\": true, \"tickfont\": {\"color\": \"#4D5663\"}, \"title\": {\"font\": {\"color\": \"#4D5663\"}, \"text\": \"Action Type\"}, \"zerolinecolor\": \"#E1E5ED\"}, \"yaxis\": {\"gridcolor\": \"#E1E5ED\", \"showgrid\": true, \"tickfont\": {\"color\": \"#4D5663\"}, \"title\": {\"font\": {\"color\": \"#4D5663\"}, \"text\": \"Total Duration (min)\"}, \"zerolinecolor\": \"#E1E5ED\"}},\n",
       "                        {\"showLink\": true, \"linkText\": \"Export to plot.ly\", \"plotlyServerURL\": \"https://plot.ly\", \"responsive\": true}\n",
       "                    ).then(function(){\n",
       "                            \n",
       "var gd = document.getElementById('558227af-07d5-479d-9e74-b1973aeef788');\n",
       "var x = new MutationObserver(function (mutations, observer) {{\n",
       "        var display = window.getComputedStyle(gd).display;\n",
       "        if (!display || display === 'none') {{\n",
       "            console.log([gd, 'removed!']);\n",
       "            Plotly.purge(gd);\n",
       "            observer.disconnect();\n",
       "        }}\n",
       "}});\n",
       "\n",
       "// Listen for the removal of the full notebook cells\n",
       "var notebookContainer = gd.closest('#notebook-container');\n",
       "if (notebookContainer) {{\n",
       "    x.observe(notebookContainer, {childList: true});\n",
       "}}\n",
       "\n",
       "// Listen for the clearing of the current output cell\n",
       "var outputEl = gd.closest('.output');\n",
       "if (outputEl) {{\n",
       "    x.observe(outputEl, {childList: true});\n",
       "}}\n",
       "\n",
       "                        })\n",
       "                };\n",
       "                });\n",
       "            </script>\n",
       "        </div>"
      ]
     },
     "metadata": {},
     "output_type": "display_data"
    }
   ],
   "source": [
    "results.iplot(kind = 'bar', x = 'Action Type', \n",
    "              y = 'Total Duration (min)', \n",
    "              title = 'Total Duration per Action Type', \n",
    "             xTitle = 'Action Type', \n",
    "             yTitle = 'Total Duration (min)', color = 'rgba(50, 171, 96, 1.0)')"
   ]
  },
  {
   "cell_type": "code",
   "execution_count": 15,
   "metadata": {},
   "outputs": [
    {
     "data": {
      "text/html": [
       "<div>\n",
       "<style scoped>\n",
       "    .dataframe tbody tr th:only-of-type {\n",
       "        vertical-align: middle;\n",
       "    }\n",
       "\n",
       "    .dataframe tbody tr th {\n",
       "        vertical-align: top;\n",
       "    }\n",
       "\n",
       "    .dataframe thead th {\n",
       "        text-align: right;\n",
       "    }\n",
       "</style>\n",
       "<table border=\"1\" class=\"dataframe\">\n",
       "  <thead>\n",
       "    <tr style=\"text-align: right;\">\n",
       "      <th></th>\n",
       "      <th>transaction_id</th>\n",
       "      <th>parent_transaction_id</th>\n",
       "      <th>action</th>\n",
       "      <th>scheduler</th>\n",
       "      <th>surgeon</th>\n",
       "      <th>created_datetime</th>\n",
       "      <th>snapshot_date</th>\n",
       "      <th>start_time</th>\n",
       "      <th>end_time</th>\n",
       "      <th>room_name</th>\n",
       "      <th>location</th>\n",
       "    </tr>\n",
       "  </thead>\n",
       "  <tbody>\n",
       "    <tr>\n",
       "      <td>0</td>\n",
       "      <td>2c91808267d2ea5301682f73e9a1093e</td>\n",
       "      <td>None</td>\n",
       "      <td>RELEASE</td>\n",
       "      <td>Jessie Shelley</td>\n",
       "      <td>Bryan Neer</td>\n",
       "      <td>2019-01-15 13:52:32</td>\n",
       "      <td>2019-07-01 00:00:00.000000</td>\n",
       "      <td>2019-10-13 07:30:00</td>\n",
       "      <td>2019-10-13 19:00:00</td>\n",
       "      <td>MRAH OR 03</td>\n",
       "      <td>CENTER</td>\n",
       "    </tr>\n",
       "    <tr>\n",
       "      <td>1</td>\n",
       "      <td>2c91808267d2ea5301683984e52b0bfb</td>\n",
       "      <td>None</td>\n",
       "      <td>TRANSFER</td>\n",
       "      <td>Raymond Smith</td>\n",
       "      <td>Charles Mcdonald</td>\n",
       "      <td>2019-01-17 12:47:17</td>\n",
       "      <td>2019-06-20 00:00:00.000000</td>\n",
       "      <td>2019-10-13 07:30:00</td>\n",
       "      <td>2019-10-13 19:00:00</td>\n",
       "      <td>MRAH OR 06</td>\n",
       "      <td>CENTER</td>\n",
       "    </tr>\n",
       "    <tr>\n",
       "      <td>2</td>\n",
       "      <td>2c91808267d2ea53016839855a480bfc</td>\n",
       "      <td>None</td>\n",
       "      <td>TRANSFER</td>\n",
       "      <td>Raymond Smith</td>\n",
       "      <td>Charles Mcdonald</td>\n",
       "      <td>2019-01-17 12:47:47</td>\n",
       "      <td>2019-06-20 00:00:00.000000</td>\n",
       "      <td>2019-10-13 07:30:00</td>\n",
       "      <td>2019-10-13 19:00:00</td>\n",
       "      <td>MNOR 36</td>\n",
       "      <td>CENTER</td>\n",
       "    </tr>\n",
       "    <tr>\n",
       "      <td>3</td>\n",
       "      <td>2c91808267d2eb4b016829281a390786</td>\n",
       "      <td>None</td>\n",
       "      <td>RELEASE</td>\n",
       "      <td>Kimberly Bugg</td>\n",
       "      <td>Joann Hinson</td>\n",
       "      <td>2019-01-14 08:32:01</td>\n",
       "      <td>2019-06-12 00:00:00.000000</td>\n",
       "      <td>2019-10-13 08:50:00</td>\n",
       "      <td>2019-10-13 19:00:00</td>\n",
       "      <td>MNOR 25</td>\n",
       "      <td>CENTER</td>\n",
       "    </tr>\n",
       "    <tr>\n",
       "      <td>4</td>\n",
       "      <td>2c91808267d2eb4b01682977274607cb</td>\n",
       "      <td>2c91808267d2eb4b016829281a390786</td>\n",
       "      <td>MARK_UPDATED</td>\n",
       "      <td>Dora Smith</td>\n",
       "      <td>Joann Hinson</td>\n",
       "      <td>2019-01-14 09:58:21</td>\n",
       "      <td>2019-06-12 00:00:00.000000</td>\n",
       "      <td>2019-10-13 08:50:00</td>\n",
       "      <td>2019-10-13 19:00:00</td>\n",
       "      <td>MNOR 25</td>\n",
       "      <td>CENTER</td>\n",
       "    </tr>\n",
       "  </tbody>\n",
       "</table>\n",
       "</div>"
      ],
      "text/plain": [
       "                     transaction_id             parent_transaction_id  \\\n",
       "0  2c91808267d2ea5301682f73e9a1093e                              None   \n",
       "1  2c91808267d2ea5301683984e52b0bfb                              None   \n",
       "2  2c91808267d2ea53016839855a480bfc                              None   \n",
       "3  2c91808267d2eb4b016829281a390786                              None   \n",
       "4  2c91808267d2eb4b01682977274607cb  2c91808267d2eb4b016829281a390786   \n",
       "\n",
       "         action       scheduler           surgeon    created_datetime  \\\n",
       "0       RELEASE  Jessie Shelley        Bryan Neer 2019-01-15 13:52:32   \n",
       "1      TRANSFER   Raymond Smith  Charles Mcdonald 2019-01-17 12:47:17   \n",
       "2      TRANSFER   Raymond Smith  Charles Mcdonald 2019-01-17 12:47:47   \n",
       "3       RELEASE   Kimberly Bugg      Joann Hinson 2019-01-14 08:32:01   \n",
       "4  MARK_UPDATED      Dora Smith      Joann Hinson 2019-01-14 09:58:21   \n",
       "\n",
       "                snapshot_date          start_time            end_time  \\\n",
       "0  2019-07-01 00:00:00.000000 2019-10-13 07:30:00 2019-10-13 19:00:00   \n",
       "1  2019-06-20 00:00:00.000000 2019-10-13 07:30:00 2019-10-13 19:00:00   \n",
       "2  2019-06-20 00:00:00.000000 2019-10-13 07:30:00 2019-10-13 19:00:00   \n",
       "3  2019-06-12 00:00:00.000000 2019-10-13 08:50:00 2019-10-13 19:00:00   \n",
       "4  2019-06-12 00:00:00.000000 2019-10-13 08:50:00 2019-10-13 19:00:00   \n",
       "\n",
       "    room_name location  \n",
       "0  MRAH OR 03   CENTER  \n",
       "1  MRAH OR 06   CENTER  \n",
       "2     MNOR 36   CENTER  \n",
       "3     MNOR 25   CENTER  \n",
       "4     MNOR 25   CENTER  "
      ]
     },
     "execution_count": 15,
     "metadata": {},
     "output_type": "execute_result"
    }
   ],
   "source": [
    "df.head()"
   ]
  },
  {
   "cell_type": "code",
   "execution_count": 16,
   "metadata": {},
   "outputs": [
    {
     "data": {
      "text/plain": [
       "264"
      ]
     },
     "execution_count": 16,
     "metadata": {},
     "output_type": "execute_result"
    }
   ],
   "source": [
    "len(Transfer_IDs)"
   ]
  },
  {
   "cell_type": "code",
   "execution_count": 17,
   "metadata": {},
   "outputs": [
    {
     "data": {
      "text/plain": [
       "1201"
      ]
     },
     "execution_count": 17,
     "metadata": {},
     "output_type": "execute_result"
    }
   ],
   "source": [
    "len(Release_IDs)"
   ]
  },
  {
   "cell_type": "code",
   "execution_count": 18,
   "metadata": {},
   "outputs": [
    {
     "data": {
      "text/plain": [
       "1324"
      ]
     },
     "execution_count": 18,
     "metadata": {},
     "output_type": "execute_result"
    }
   ],
   "source": [
    "len(Request_IDs)"
   ]
  },
  {
   "cell_type": "code",
   "execution_count": 19,
   "metadata": {},
   "outputs": [
    {
     "data": {
      "text/plain": [
       "<BarContainer object of 3 artists>"
      ]
     },
     "execution_count": 19,
     "metadata": {},
     "output_type": "execute_result"
    },
    {
     "data": {
      "image/png": "[encoded data removed]",
      "text/plain": [
       "<Figure size 396x396 with 1 Axes>"
      ]
     },
     "metadata": {
      "needs_background": "light"
     },
     "output_type": "display_data"
    }
   ],
   "source": [
    "plt.figure(figsize = (5.5, 5.5))\n",
    "plt.title('Total Amount of Transactions')\n",
    "plt.xlabel('Action Type')\n",
    "plt.ylabel('Amount of Transactions')\n",
    "plt.bar(x = ['Request', 'Transfer', 'Release'], \n",
    "        height = [len(Request_IDs), \n",
    "                  len(Transfer_IDs), \n",
    "                 len(Release_IDs)], \n",
    "                    color = 'r', alpha = 0.3)"
   ]
  },
  {
   "cell_type": "code",
   "execution_count": 20,
   "metadata": {},
   "outputs": [
    {
     "data": {
      "text/plain": [
       "<BarContainer object of 2 artists>"
      ]
     },
     "execution_count": 20,
     "metadata": {},
     "output_type": "execute_result"
    },
    {
     "data": {
      "image/png": "[encoded data removed]",
      "text/plain": [
       "<Figure size 396x396 with 1 Axes>"
      ]
     },
     "metadata": {
      "needs_background": "light"
     },
     "output_type": "display_data"
    }
   ],
   "source": [
    "plt.figure(figsize = (5.5, 5.5))\n",
    "plt.title('Total Amount of Transactions')\n",
    "plt.xlabel('Action Type')\n",
    "plt.ylabel('Amount of Transactions')\n",
    "plt.bar(x = ['Request', 'Release'], \n",
    "        height = [len(Request_IDs), \n",
    "                  len(Release_IDs)], \n",
    "                    color = 'r', alpha = 0.3)"
   ]
  },
  {
   "cell_type": "code",
   "execution_count": 21,
   "metadata": {},
   "outputs": [],
   "source": [
    "by_surgeon = df[df['action'] == 'RELEASE'].groupby(['surgeon', 'action'])"
   ]
  },
  {
   "cell_type": "code",
   "execution_count": 22,
   "metadata": {},
   "outputs": [],
   "source": [
    "sorted = by_surgeon.count()"
   ]
  },
  {
   "cell_type": "code",
   "execution_count": 23,
   "metadata": {},
   "outputs": [
    {
     "data": {
      "text/html": [
       "<div>\n",
       "<style scoped>\n",
       "    .dataframe tbody tr th:only-of-type {\n",
       "        vertical-align: middle;\n",
       "    }\n",
       "\n",
       "    .dataframe tbody tr th {\n",
       "        vertical-align: top;\n",
       "    }\n",
       "\n",
       "    .dataframe thead th {\n",
       "        text-align: right;\n",
       "    }\n",
       "</style>\n",
       "<table border=\"1\" class=\"dataframe\">\n",
       "  <thead>\n",
       "    <tr style=\"text-align: right;\">\n",
       "      <th></th>\n",
       "      <th></th>\n",
       "      <th>transaction_id</th>\n",
       "      <th>parent_transaction_id</th>\n",
       "      <th>scheduler</th>\n",
       "      <th>created_datetime</th>\n",
       "      <th>snapshot_date</th>\n",
       "      <th>start_time</th>\n",
       "      <th>end_time</th>\n",
       "      <th>room_name</th>\n",
       "      <th>location</th>\n",
       "    </tr>\n",
       "    <tr>\n",
       "      <th>surgeon</th>\n",
       "      <th>action</th>\n",
       "      <th></th>\n",
       "      <th></th>\n",
       "      <th></th>\n",
       "      <th></th>\n",
       "      <th></th>\n",
       "      <th></th>\n",
       "      <th></th>\n",
       "      <th></th>\n",
       "      <th></th>\n",
       "    </tr>\n",
       "  </thead>\n",
       "  <tbody>\n",
       "    <tr>\n",
       "      <td>Dorothy Shaver</td>\n",
       "      <td>RELEASE</td>\n",
       "      <td>21</td>\n",
       "      <td>0</td>\n",
       "      <td>21</td>\n",
       "      <td>21</td>\n",
       "      <td>21</td>\n",
       "      <td>21</td>\n",
       "      <td>21</td>\n",
       "      <td>21</td>\n",
       "      <td>21</td>\n",
       "    </tr>\n",
       "    <tr>\n",
       "      <td>Mikel Smith</td>\n",
       "      <td>RELEASE</td>\n",
       "      <td>19</td>\n",
       "      <td>0</td>\n",
       "      <td>19</td>\n",
       "      <td>19</td>\n",
       "      <td>19</td>\n",
       "      <td>19</td>\n",
       "      <td>19</td>\n",
       "      <td>19</td>\n",
       "      <td>19</td>\n",
       "    </tr>\n",
       "    <tr>\n",
       "      <td>Daniel Finney</td>\n",
       "      <td>RELEASE</td>\n",
       "      <td>18</td>\n",
       "      <td>0</td>\n",
       "      <td>18</td>\n",
       "      <td>18</td>\n",
       "      <td>18</td>\n",
       "      <td>18</td>\n",
       "      <td>18</td>\n",
       "      <td>18</td>\n",
       "      <td>18</td>\n",
       "    </tr>\n",
       "    <tr>\n",
       "      <td>Gregory Hunt</td>\n",
       "      <td>RELEASE</td>\n",
       "      <td>17</td>\n",
       "      <td>0</td>\n",
       "      <td>17</td>\n",
       "      <td>17</td>\n",
       "      <td>17</td>\n",
       "      <td>17</td>\n",
       "      <td>17</td>\n",
       "      <td>17</td>\n",
       "      <td>17</td>\n",
       "    </tr>\n",
       "    <tr>\n",
       "      <td>James Mcnutt</td>\n",
       "      <td>RELEASE</td>\n",
       "      <td>14</td>\n",
       "      <td>0</td>\n",
       "      <td>14</td>\n",
       "      <td>14</td>\n",
       "      <td>14</td>\n",
       "      <td>14</td>\n",
       "      <td>14</td>\n",
       "      <td>14</td>\n",
       "      <td>14</td>\n",
       "    </tr>\n",
       "  </tbody>\n",
       "</table>\n",
       "</div>"
      ],
      "text/plain": [
       "                        transaction_id  parent_transaction_id  scheduler  \\\n",
       "surgeon        action                                                      \n",
       "Dorothy Shaver RELEASE              21                      0         21   \n",
       "Mikel Smith    RELEASE              19                      0         19   \n",
       "Daniel Finney  RELEASE              18                      0         18   \n",
       "Gregory Hunt   RELEASE              17                      0         17   \n",
       "James Mcnutt   RELEASE              14                      0         14   \n",
       "\n",
       "                        created_datetime  snapshot_date  start_time  end_time  \\\n",
       "surgeon        action                                                           \n",
       "Dorothy Shaver RELEASE                21             21          21        21   \n",
       "Mikel Smith    RELEASE                19             19          19        19   \n",
       "Daniel Finney  RELEASE                18             18          18        18   \n",
       "Gregory Hunt   RELEASE                17             17          17        17   \n",
       "James Mcnutt   RELEASE                14             14          14        14   \n",
       "\n",
       "                        room_name  location  \n",
       "surgeon        action                        \n",
       "Dorothy Shaver RELEASE         21        21  \n",
       "Mikel Smith    RELEASE         19        19  \n",
       "Daniel Finney  RELEASE         18        18  \n",
       "Gregory Hunt   RELEASE         17        17  \n",
       "James Mcnutt   RELEASE         14        14  "
      ]
     },
     "execution_count": 23,
     "metadata": {},
     "output_type": "execute_result"
    }
   ],
   "source": [
    "sorted.nlargest(5, 'transaction_id')"
   ]
  },
  {
   "cell_type": "markdown",
   "metadata": {},
   "source": [
    "### Question 2\n",
    "\n",
    "#### What is the denial rate and response time? The marketplace is easy to use if transactions are both quick and easy."
   ]
  },
  {
   "cell_type": "code",
   "execution_count": 24,
   "metadata": {},
   "outputs": [
    {
     "data": {
      "text/html": [
       "<div>\n",
       "<style scoped>\n",
       "    .dataframe tbody tr th:only-of-type {\n",
       "        vertical-align: middle;\n",
       "    }\n",
       "\n",
       "    .dataframe tbody tr th {\n",
       "        vertical-align: top;\n",
       "    }\n",
       "\n",
       "    .dataframe thead th {\n",
       "        text-align: right;\n",
       "    }\n",
       "</style>\n",
       "<table border=\"1\" class=\"dataframe\">\n",
       "  <thead>\n",
       "    <tr style=\"text-align: right;\">\n",
       "      <th></th>\n",
       "      <th>transaction_id</th>\n",
       "      <th>parent_transaction_id</th>\n",
       "      <th>action</th>\n",
       "      <th>scheduler</th>\n",
       "      <th>surgeon</th>\n",
       "      <th>created_datetime</th>\n",
       "      <th>snapshot_date</th>\n",
       "      <th>start_time</th>\n",
       "      <th>end_time</th>\n",
       "      <th>room_name</th>\n",
       "      <th>location</th>\n",
       "    </tr>\n",
       "  </thead>\n",
       "  <tbody>\n",
       "    <tr>\n",
       "      <td>0</td>\n",
       "      <td>2c91808267d2ea5301682f73e9a1093e</td>\n",
       "      <td>None</td>\n",
       "      <td>RELEASE</td>\n",
       "      <td>Jessie Shelley</td>\n",
       "      <td>Bryan Neer</td>\n",
       "      <td>2019-01-15 13:52:32</td>\n",
       "      <td>2019-07-01 00:00:00.000000</td>\n",
       "      <td>2019-10-13 07:30:00</td>\n",
       "      <td>2019-10-13 19:00:00</td>\n",
       "      <td>MRAH OR 03</td>\n",
       "      <td>CENTER</td>\n",
       "    </tr>\n",
       "    <tr>\n",
       "      <td>1</td>\n",
       "      <td>2c91808267d2ea5301683984e52b0bfb</td>\n",
       "      <td>None</td>\n",
       "      <td>TRANSFER</td>\n",
       "      <td>Raymond Smith</td>\n",
       "      <td>Charles Mcdonald</td>\n",
       "      <td>2019-01-17 12:47:17</td>\n",
       "      <td>2019-06-20 00:00:00.000000</td>\n",
       "      <td>2019-10-13 07:30:00</td>\n",
       "      <td>2019-10-13 19:00:00</td>\n",
       "      <td>MRAH OR 06</td>\n",
       "      <td>CENTER</td>\n",
       "    </tr>\n",
       "    <tr>\n",
       "      <td>2</td>\n",
       "      <td>2c91808267d2ea53016839855a480bfc</td>\n",
       "      <td>None</td>\n",
       "      <td>TRANSFER</td>\n",
       "      <td>Raymond Smith</td>\n",
       "      <td>Charles Mcdonald</td>\n",
       "      <td>2019-01-17 12:47:47</td>\n",
       "      <td>2019-06-20 00:00:00.000000</td>\n",
       "      <td>2019-10-13 07:30:00</td>\n",
       "      <td>2019-10-13 19:00:00</td>\n",
       "      <td>MNOR 36</td>\n",
       "      <td>CENTER</td>\n",
       "    </tr>\n",
       "    <tr>\n",
       "      <td>3</td>\n",
       "      <td>2c91808267d2eb4b016829281a390786</td>\n",
       "      <td>None</td>\n",
       "      <td>RELEASE</td>\n",
       "      <td>Kimberly Bugg</td>\n",
       "      <td>Joann Hinson</td>\n",
       "      <td>2019-01-14 08:32:01</td>\n",
       "      <td>2019-06-12 00:00:00.000000</td>\n",
       "      <td>2019-10-13 08:50:00</td>\n",
       "      <td>2019-10-13 19:00:00</td>\n",
       "      <td>MNOR 25</td>\n",
       "      <td>CENTER</td>\n",
       "    </tr>\n",
       "    <tr>\n",
       "      <td>4</td>\n",
       "      <td>2c91808267d2eb4b01682977274607cb</td>\n",
       "      <td>2c91808267d2eb4b016829281a390786</td>\n",
       "      <td>MARK_UPDATED</td>\n",
       "      <td>Dora Smith</td>\n",
       "      <td>Joann Hinson</td>\n",
       "      <td>2019-01-14 09:58:21</td>\n",
       "      <td>2019-06-12 00:00:00.000000</td>\n",
       "      <td>2019-10-13 08:50:00</td>\n",
       "      <td>2019-10-13 19:00:00</td>\n",
       "      <td>MNOR 25</td>\n",
       "      <td>CENTER</td>\n",
       "    </tr>\n",
       "  </tbody>\n",
       "</table>\n",
       "</div>"
      ],
      "text/plain": [
       "                     transaction_id             parent_transaction_id  \\\n",
       "0  2c91808267d2ea5301682f73e9a1093e                              None   \n",
       "1  2c91808267d2ea5301683984e52b0bfb                              None   \n",
       "2  2c91808267d2ea53016839855a480bfc                              None   \n",
       "3  2c91808267d2eb4b016829281a390786                              None   \n",
       "4  2c91808267d2eb4b01682977274607cb  2c91808267d2eb4b016829281a390786   \n",
       "\n",
       "         action       scheduler           surgeon    created_datetime  \\\n",
       "0       RELEASE  Jessie Shelley        Bryan Neer 2019-01-15 13:52:32   \n",
       "1      TRANSFER   Raymond Smith  Charles Mcdonald 2019-01-17 12:47:17   \n",
       "2      TRANSFER   Raymond Smith  Charles Mcdonald 2019-01-17 12:47:47   \n",
       "3       RELEASE   Kimberly Bugg      Joann Hinson 2019-01-14 08:32:01   \n",
       "4  MARK_UPDATED      Dora Smith      Joann Hinson 2019-01-14 09:58:21   \n",
       "\n",
       "                snapshot_date          start_time            end_time  \\\n",
       "0  2019-07-01 00:00:00.000000 2019-10-13 07:30:00 2019-10-13 19:00:00   \n",
       "1  2019-06-20 00:00:00.000000 2019-10-13 07:30:00 2019-10-13 19:00:00   \n",
       "2  2019-06-20 00:00:00.000000 2019-10-13 07:30:00 2019-10-13 19:00:00   \n",
       "3  2019-06-12 00:00:00.000000 2019-10-13 08:50:00 2019-10-13 19:00:00   \n",
       "4  2019-06-12 00:00:00.000000 2019-10-13 08:50:00 2019-10-13 19:00:00   \n",
       "\n",
       "    room_name location  \n",
       "0  MRAH OR 03   CENTER  \n",
       "1  MRAH OR 06   CENTER  \n",
       "2     MNOR 36   CENTER  \n",
       "3     MNOR 25   CENTER  \n",
       "4     MNOR 25   CENTER  "
      ]
     },
     "execution_count": 24,
     "metadata": {},
     "output_type": "execute_result"
    }
   ],
   "source": [
    "df.head()"
   ]
  },
  {
   "cell_type": "code",
   "execution_count": 25,
   "metadata": {},
   "outputs": [],
   "source": [
    "def transferApproval(df):\n",
    "    \"\"\"\n",
    "    Returns the transfer approval and denial transaction IDs\n",
    "\n",
    "    Args:\n",
    "        df (pd.DataFrame): a DataFrame containing data from the exchange_transactions table of the LeanTaaSTestDB.db\n",
    "\n",
    "    Returns:\n",
    "        transferApproval_ID (list): xxxxx\n",
    "        transferDenial_ID (list): xxxxx\n",
    "    \"\"\"\n",
    "\n",
    "    transferApproval_ID = []\n",
    "    transferDenial_ID = []\n",
    "    for i in range(0, len(Transfer_IDs)):\n",
    "\n",
    "            a = df[df['parent_transaction_id'] == Transfer_IDs[i]]\n",
    "\n",
    "            if len(a[a['action'] == 'APPROVE_TRANSFER']) == 1:\n",
    "                if len(a[a['action'] == 'MARK_UPDATED']) == 1:\n",
    "                    index_a = a.index[a['action'] == 'APPROVE_TRANSFER'][0]\n",
    "                    transferApproval_ID.append(index_a)\n",
    "\n",
    "            elif len(a[a['action'] == 'DENY_TRANSFER']) == 1:\n",
    "                index_a = a.index[a['action'] == 'DENY_TRANSFER'][0]\n",
    "                transferDenial_ID.append(index_a)\n",
    "                \n",
    "    return transferApproval_ID, transferDenial_ID\n",
    "\n",
    "transferApproval_ID, transferDenial_ID = transferApproval(df)"
   ]
  },
  {
   "cell_type": "code",
   "execution_count": 26,
   "metadata": {},
   "outputs": [],
   "source": [
    "totalApprovedTransfers = len(transferApproval_ID)\n",
    "totalDeniedTransfers = len(transferDenial_ID)\n",
    "\n",
    "Approval_Rate_Transfers = totalApprovedTransfers / (totalApprovedTransfers + totalDeniedTransfers)\n",
    "Denial_Rate_Transfers = totalDeniedTransfers / (totalApprovedTransfers + totalDeniedTransfers)"
   ]
  },
  {
   "cell_type": "code",
   "execution_count": 27,
   "metadata": {},
   "outputs": [
    {
     "data": {
      "text/plain": [
       "0.026717557251908396"
      ]
     },
     "execution_count": 27,
     "metadata": {},
     "output_type": "execute_result"
    }
   ],
   "source": [
    "Denial_Rate_Transfers"
   ]
  },
  {
   "cell_type": "code",
   "execution_count": 28,
   "metadata": {},
   "outputs": [
    {
     "data": {
      "text/plain": [
       "0.9732824427480916"
      ]
     },
     "execution_count": 28,
     "metadata": {},
     "output_type": "execute_result"
    }
   ],
   "source": [
    "Approval_Rate_Transfers"
   ]
  },
  {
   "cell_type": "markdown",
   "metadata": {},
   "source": [
    "### EDA"
   ]
  },
  {
   "cell_type": "code",
   "execution_count": 29,
   "metadata": {},
   "outputs": [
    {
     "data": {
      "image/png": "[encoded data removed]",
      "text/plain": [
       "<Figure size 396x396 with 1 Axes>"
      ]
     },
     "metadata": {},
     "output_type": "display_data"
    }
   ],
   "source": [
    "labels = ['Denial Rate %', 'Approval Rate %']\n",
    "\n",
    "colors = ['#ff9999','#66b3ff','#99ff99','#ffcc99']\n",
    "\n",
    "fig1, ax1 = plt.subplots(figsize = (5.5, 5.5))\n",
    "ax1.pie([Denial_Rate_Transfers, Approval_Rate_Transfers], labels = labels, colors = colors, autopct='%1.1f%%', startangle=90)\n",
    "\n",
    "centre_circle = plt.Circle((0,0),0.70,fc='white')\n",
    "fig = plt.gcf()\n",
    "fig.gca().add_artist(centre_circle)\n",
    "# Equal aspect ratio ensures that pie is drawn as a circle\n",
    "ax1.axis('equal')  \n",
    "plt.title('Transfers Approval Rate', {'horizontalalignment': 'left'})\n",
    "plt.tight_layout()"
   ]
  },
  {
   "cell_type": "code",
   "execution_count": 30,
   "metadata": {},
   "outputs": [],
   "source": [
    "def requestApproval(df):\n",
    "    \"\"\"\n",
    "    Returns the request approval and denial transaction IDs\n",
    "\n",
    "    Args:\n",
    "        df (pd.DataFrame): a DataFrame containing data from the exchange_transactions table of the LeanTaaSTestDB.db\n",
    "\n",
    "    Returns:\n",
    "        requestApproval_ID (list): xxxxx\n",
    "        requestDenial_ID (list): xxxxx\n",
    "    \"\"\"\n",
    "\n",
    "    requestApproval_ID = []\n",
    "    requestDenial_ID = []\n",
    "    for i in range(0, len(Request_IDs)):\n",
    "\n",
    "            a = df[df['parent_transaction_id'] == Request_IDs[i]]\n",
    "\n",
    "            if len(a[a['action'] == 'APPROVE_REQUEST']) == 1:\n",
    "                if len(a[a['action'] == 'MARK_UPDATED']) == 1:\n",
    "                    index_a = a.index[a['action'] == 'APPROVE_REQUEST'][0]\n",
    "                    requestApproval_ID.append(index_a)\n",
    "\n",
    "            elif len(a[a['action'] == 'DENY_REQUEST']) == 1:\n",
    "                index_a = a.index[a['action'] == 'DENY_REQUEST'][0]\n",
    "                requestDenial_ID.append(index_a)\n",
    "                \n",
    "    return requestApproval_ID, requestDenial_ID\n",
    "    \n",
    "requestApproval_ID, requestDenial_ID = requestApproval(df)"
   ]
  },
  {
   "cell_type": "code",
   "execution_count": 31,
   "metadata": {},
   "outputs": [],
   "source": [
    "totalApprovedRequests = len(requestApproval_ID)\n",
    "totalDeniedRequests = len(requestDenial_ID)\n",
    "\n",
    "Approval_Rate_Requests = totalApprovedRequests / (totalApprovedRequests + totalDeniedRequests)\n",
    "Denial_Rate_Requests = totalDeniedRequests / (totalApprovedRequests + totalDeniedRequests)"
   ]
  },
  {
   "cell_type": "code",
   "execution_count": 32,
   "metadata": {},
   "outputs": [
    {
     "data": {
      "image/png": "[encoded data removed]",
      "text/plain": [
       "<Figure size 396x396 with 1 Axes>"
      ]
     },
     "metadata": {},
     "output_type": "display_data"
    }
   ],
   "source": [
    "labels = ['Denial Rate %', 'Approval Rate %']\n",
    "\n",
    "colors = ['#ff9999','#66b3ff','#99ff99','#ffcc99']\n",
    "\n",
    "fig1, ax1 = plt.subplots(figsize = (5.5, 5.5))\n",
    "ax1.pie([Denial_Rate_Requests, Approval_Rate_Requests], labels = labels, colors = colors, autopct='%1.1f%%', startangle=90)\n",
    "\n",
    "centre_circle = plt.Circle((0,0),0.70,fc='white')\n",
    "fig = plt.gcf()\n",
    "fig.gca().add_artist(centre_circle)\n",
    "plt.title('Request Approval Rate', {'horizontalalignment': 'left'})\n",
    "ax1.axis('equal')  \n",
    "plt.tight_layout()"
   ]
  },
  {
   "cell_type": "code",
   "execution_count": 33,
   "metadata": {},
   "outputs": [],
   "source": [
    "def responseTimeTransfer(df):\n",
    "    \"\"\"\n",
    "    Returns the response time for transfer transactions\n",
    "\n",
    "    Args:\n",
    "        df (pd.DataFrame): a DataFrame containing data from the exchange_transactions table of the LeanTaaSTestDB.db\n",
    "\n",
    "    Returns:\n",
    "        responseTimeTransfer (list): xxxxx\n",
    "    \"\"\"\n",
    "\n",
    "    responseTimeTransfer = []\n",
    "    for i in range(0, len(Transfer_IDs)):\n",
    "\n",
    "            a = df[df['parent_transaction_id'] == Transfer_IDs[i]]\n",
    "            b = df[df['transaction_id'] == Transfer_IDs[i]]\n",
    "            index_b = b.index[0]\n",
    "\n",
    "            if len(a[a['action'] == 'APPROVE_TRANSFER']) == 1:\n",
    "                if len(a[a['action'] == 'MARK_UPDATED']) == 1:\n",
    "                    index_a = a.index[a['action'] == 'APPROVE_TRANSFER'][0]\n",
    "                    responseTimeTransfer.append(a['created_datetime'][index_a] - b['created_datetime'][index_b])\n",
    "\n",
    "            elif len(a[a['action'] == 'DENY_TRANSFER']) == 1:\n",
    "                index_a = a.index[a['action'] == 'DENY_TRANSFER'][0]\n",
    "                responseTimeTransfer.append(a['created_datetime'][index_a] - b['created_datetime'][index_b])\n",
    "                \n",
    "    return responseTimeTransfer\n",
    "\n",
    "responseTimeTransfer = responseTimeTransfer(df)"
   ]
  },
  {
   "cell_type": "code",
   "execution_count": 34,
   "metadata": {},
   "outputs": [],
   "source": [
    "for i in range(0, len(responseTimeTransfer)):\n",
    "    \n",
    "    responseTimeTransfer[i] = responseTimeTransfer[i].total_seconds()/60\n",
    "\n",
    "averageResponseTimeTransfer = sum(responseTimeTransfer) / len(responseTimeTransfer)"
   ]
  },
  {
   "cell_type": "code",
   "execution_count": 35,
   "metadata": {},
   "outputs": [],
   "source": [
    "def responseTimeRequest(df):\n",
    "    \"\"\"\n",
    "    Returns the response time for request transactions\n",
    "\n",
    "    Args:\n",
    "        df (pd.DataFrame): a DataFrame containing data from the exchange_transactions table of the LeanTaaSTestDB.db\n",
    "\n",
    "    Returns:\n",
    "        responseTimeRequest (list): xxxxx\n",
    "    \"\"\"\n",
    "\n",
    "    responseTimeRequest = []\n",
    "    for i in range(0, len(Request_IDs)):\n",
    "            a = df[df['parent_transaction_id'] == Request_IDs[i]]\n",
    "            b = df[df['transaction_id'] == Request_IDs[i]]\n",
    "            index_b = b.index[0]\n",
    "\n",
    "            if len(a[a['action'] == 'APPROVE_REQUEST']) == 1:\n",
    "                if len(a[a['action'] == 'MARK_UPDATED']) == 1:\n",
    "                    index_a = a.index[a['action'] == 'APPROVE_REQUEST'][0]\n",
    "                    responseTimeRequest.append(a['created_datetime'][index_a] - b['created_datetime'][index_b])\n",
    "\n",
    "            elif len(a[a['action'] == 'DENY_REQUEST']) == 1:\n",
    "                index_a = a.index[a['action'] == 'DENY_REQUEST'][0]\n",
    "                responseTimeRequest.append(a['created_datetime'][index_a] - b['created_datetime'][index_b])\n",
    "                \n",
    "    return responseTimeRequest\n",
    "\n",
    "responseTimeRequest = responseTimeRequest(df)              "
   ]
  },
  {
   "cell_type": "code",
   "execution_count": 36,
   "metadata": {},
   "outputs": [],
   "source": [
    "for i in range(0, len(responseTimeRequest)):\n",
    "\n",
    "    responseTimeRequest[i] = responseTimeRequest[i].total_seconds()/60\n",
    "        \n",
    "averageResponseTimeRequest = sum(responseTimeRequest) / len(responseTimeRequest)"
   ]
  },
  {
   "cell_type": "code",
   "execution_count": 37,
   "metadata": {},
   "outputs": [
    {
     "data": {
      "text/plain": [
       "<BarContainer object of 2 artists>"
      ]
     },
     "execution_count": 37,
     "metadata": {},
     "output_type": "execute_result"
    },
    {
     "data": {
      "image/png": "[encoded data removed]",
      "text/plain": [
       "<Figure size 576x576 with 1 Axes>"
      ]
     },
     "metadata": {
      "needs_background": "light"
     },
     "output_type": "display_data"
    }
   ],
   "source": [
    "plt.figure(figsize = (8, 8))\n",
    "plt.title('Average Response Time per Action')\n",
    "plt.xlabel('Action Type')\n",
    "plt.ylabel('Duration in minutes')\n",
    "plt.bar(x = ['Request', 'Transfer'], \n",
    "        height = [averageResponseTimeRequest, \n",
    "                  averageResponseTimeTransfer], \n",
    "                    color = 'g', alpha = 0.3)"
   ]
  },
  {
   "cell_type": "markdown",
   "metadata": {},
   "source": [
    "### Generate Data Outputs for Customer"
   ]
  },
  {
   "cell_type": "code",
   "execution_count": 38,
   "metadata": {},
   "outputs": [],
   "source": [
    "CustomerData = {'Action Type': ['Requests', 'Transfers', 'Releases'], 'Approval Rate': [Approval_Rate_Requests, Approval_Rate_Transfers, '--'], \n",
    "               'Denial Rate': [Denial_Rate_Requests, Denial_Rate_Transfers, '--'], \n",
    "               'Average Response Time': [averageResponseTimeRequest, averageResponseTimeTransfer, '--'],\n",
    "              'Total Request Time': [totalRequestTime, totalTransferTime, totalReleaseTime]}"
   ]
  },
  {
   "cell_type": "code",
   "execution_count": 39,
   "metadata": {},
   "outputs": [],
   "source": [
    "Results = pd.DataFrame(data = CustomerData)\n",
    "Results.set_index('Action Type', drop = True, inplace = True)"
   ]
  },
  {
   "cell_type": "code",
   "execution_count": 40,
   "metadata": {},
   "outputs": [
    {
     "data": {
      "text/html": [
       "<div>\n",
       "<style scoped>\n",
       "    .dataframe tbody tr th:only-of-type {\n",
       "        vertical-align: middle;\n",
       "    }\n",
       "\n",
       "    .dataframe tbody tr th {\n",
       "        vertical-align: top;\n",
       "    }\n",
       "\n",
       "    .dataframe thead th {\n",
       "        text-align: right;\n",
       "    }\n",
       "</style>\n",
       "<table border=\"1\" class=\"dataframe\">\n",
       "  <thead>\n",
       "    <tr style=\"text-align: right;\">\n",
       "      <th></th>\n",
       "      <th>Approval Rate</th>\n",
       "      <th>Denial Rate</th>\n",
       "      <th>Average Response Time</th>\n",
       "      <th>Total Request Time</th>\n",
       "    </tr>\n",
       "    <tr>\n",
       "      <th>Action Type</th>\n",
       "      <th></th>\n",
       "      <th></th>\n",
       "      <th></th>\n",
       "      <th></th>\n",
       "    </tr>\n",
       "  </thead>\n",
       "  <tbody>\n",
       "    <tr>\n",
       "      <td>Requests</td>\n",
       "      <td>0.866462</td>\n",
       "      <td>0.133538</td>\n",
       "      <td>702.391</td>\n",
       "      <td>710037.45</td>\n",
       "    </tr>\n",
       "    <tr>\n",
       "      <td>Transfers</td>\n",
       "      <td>0.973282</td>\n",
       "      <td>0.0267176</td>\n",
       "      <td>462.629</td>\n",
       "      <td>140820.80</td>\n",
       "    </tr>\n",
       "    <tr>\n",
       "      <td>Releases</td>\n",
       "      <td>--</td>\n",
       "      <td>--</td>\n",
       "      <td>--</td>\n",
       "      <td>512316.25</td>\n",
       "    </tr>\n",
       "  </tbody>\n",
       "</table>\n",
       "</div>"
      ],
      "text/plain": [
       "            Approval Rate Denial Rate Average Response Time  \\\n",
       "Action Type                                                   \n",
       "Requests         0.866462    0.133538               702.391   \n",
       "Transfers        0.973282   0.0267176               462.629   \n",
       "Releases               --          --                    --   \n",
       "\n",
       "             Total Request Time  \n",
       "Action Type                      \n",
       "Requests              710037.45  \n",
       "Transfers             140820.80  \n",
       "Releases              512316.25  "
      ]
     },
     "execution_count": 40,
     "metadata": {},
     "output_type": "execute_result"
    }
   ],
   "source": [
    "Results"
   ]
  },
  {
   "cell_type": "code",
   "execution_count": 41,
   "metadata": {},
   "outputs": [],
   "source": [
    "writer = pd.ExcelWriter('TransactionData.xlsx', engine='xlsxwriter')\n",
    "Results.to_excel(writer, sheet_name = 'Sheet1')\n",
    "writer.save()"
   ]
  },
  {
   "cell_type": "code",
   "execution_count": null,
   "metadata": {},
   "outputs": [],
   "source": []
  }
 ],
 "metadata": {
  "kernelspec": {
   "display_name": "Python 3",
   "language": "python",
   "name": "python3"
  },
  "language_info": {
   "codemirror_mode": {
    "name": "ipython",
    "version": 3
   },
   "file_extension": ".py",
   "mimetype": "text/x-python",
   "name": "python",
   "nbconvert_exporter": "python",
   "pygments_lexer": "ipython3",
   "version": "3.7.3"
  }
 },
 "nbformat": 4,
 "nbformat_minor": 2
}
