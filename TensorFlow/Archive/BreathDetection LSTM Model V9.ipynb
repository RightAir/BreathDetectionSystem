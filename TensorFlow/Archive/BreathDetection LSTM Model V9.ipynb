{
 "cells": [
  {
   "cell_type": "markdown",
   "metadata": {},
   "source": [
    "### Import Libraries"
   ]
  },
  {
   "cell_type": "code",
   "execution_count": 2,
   "metadata": {},
   "outputs": [],
   "source": [
    "import pandas as pd\n",
    "import tensorflow as tf\n",
    "from sklearn.model_selection import train_test_split\n",
    "from sklearn.metrics import classification_report,confusion_matrix\n",
    "from sklearn.preprocessing import StandardScaler\n",
    "from tensorflow import keras\n",
    "import numpy as np\n",
    "import matplotlib.pyplot as plt\n",
    "import seaborn as sns\n",
    "from scipy import stats"
   ]
  },
  {
   "cell_type": "code",
   "execution_count": 19,
   "metadata": {},
   "outputs": [
    {
     "name": "stdout",
     "output_type": "stream",
     "text": [
      "1\n",
      "2\n",
      "3\n"
     ]
    }
   ],
   "source": [
    "for i in range(1, 4):\n",
    "    print(i)"
   ]
  },
  {
   "cell_type": "markdown",
   "metadata": {},
   "source": [
    "### Read in Dataset"
   ]
  },
  {
   "cell_type": "code",
   "execution_count": 3,
   "metadata": {},
   "outputs": [],
   "source": [
    "df = pd.read_csv('fbdh1.csv')"
   ]
  },
  {
   "cell_type": "code",
   "execution_count": 4,
   "metadata": {},
   "outputs": [
    {
     "data": {
      "text/html": [
       "<div>\n",
       "<style scoped>\n",
       "    .dataframe tbody tr th:only-of-type {\n",
       "        vertical-align: middle;\n",
       "    }\n",
       "\n",
       "    .dataframe tbody tr th {\n",
       "        vertical-align: top;\n",
       "    }\n",
       "\n",
       "    .dataframe thead th {\n",
       "        text-align: right;\n",
       "    }\n",
       "</style>\n",
       "<table border=\"1\" class=\"dataframe\">\n",
       "  <thead>\n",
       "    <tr style=\"text-align: right;\">\n",
       "      <th></th>\n",
       "      <th>Flow</th>\n",
       "      <th>D1</th>\n",
       "      <th>D2</th>\n",
       "      <th>P1</th>\n",
       "      <th>P2</th>\n",
       "      <th>dD1</th>\n",
       "      <th>dD2</th>\n",
       "      <th>dP1</th>\n",
       "      <th>dP2</th>\n",
       "    </tr>\n",
       "  </thead>\n",
       "  <tbody>\n",
       "    <tr>\n",
       "      <th>0</th>\n",
       "      <td>-16.69</td>\n",
       "      <td>99.49</td>\n",
       "      <td>-145.71</td>\n",
       "      <td>48.04</td>\n",
       "      <td>-15.90</td>\n",
       "      <td>81.17</td>\n",
       "      <td>12.26</td>\n",
       "      <td>36.71</td>\n",
       "      <td>2.21</td>\n",
       "    </tr>\n",
       "    <tr>\n",
       "      <th>1</th>\n",
       "      <td>-16.23</td>\n",
       "      <td>172.78</td>\n",
       "      <td>-118.66</td>\n",
       "      <td>79.84</td>\n",
       "      <td>-11.94</td>\n",
       "      <td>80.09</td>\n",
       "      <td>18.49</td>\n",
       "      <td>35.48</td>\n",
       "      <td>2.91</td>\n",
       "    </tr>\n",
       "    <tr>\n",
       "      <th>2</th>\n",
       "      <td>-15.54</td>\n",
       "      <td>242.66</td>\n",
       "      <td>-81.28</td>\n",
       "      <td>109.77</td>\n",
       "      <td>-7.75</td>\n",
       "      <td>75.74</td>\n",
       "      <td>24.65</td>\n",
       "      <td>33.03</td>\n",
       "      <td>3.26</td>\n",
       "    </tr>\n",
       "    <tr>\n",
       "      <th>3</th>\n",
       "      <td>-15.17</td>\n",
       "      <td>316.42</td>\n",
       "      <td>-55.50</td>\n",
       "      <td>140.84</td>\n",
       "      <td>-5.30</td>\n",
       "      <td>74.07</td>\n",
       "      <td>28.43</td>\n",
       "      <td>31.89</td>\n",
       "      <td>3.37</td>\n",
       "    </tr>\n",
       "    <tr>\n",
       "      <th>4</th>\n",
       "      <td>-14.51</td>\n",
       "      <td>392.40</td>\n",
       "      <td>-31.67</td>\n",
       "      <td>171.92</td>\n",
       "      <td>-1.24</td>\n",
       "      <td>73.96</td>\n",
       "      <td>29.70</td>\n",
       "      <td>31.32</td>\n",
       "      <td>3.68</td>\n",
       "    </tr>\n",
       "  </tbody>\n",
       "</table>\n",
       "</div>"
      ],
      "text/plain": [
       "    Flow      D1      D2      P1     P2    dD1    dD2    dP1   dP2\n",
       "0 -16.69   99.49 -145.71   48.04 -15.90  81.17  12.26  36.71  2.21\n",
       "1 -16.23  172.78 -118.66   79.84 -11.94  80.09  18.49  35.48  2.91\n",
       "2 -15.54  242.66  -81.28  109.77  -7.75  75.74  24.65  33.03  3.26\n",
       "3 -15.17  316.42  -55.50  140.84  -5.30  74.07  28.43  31.89  3.37\n",
       "4 -14.51  392.40  -31.67  171.92  -1.24  73.96  29.70  31.32  3.68"
      ]
     },
     "execution_count": 4,
     "metadata": {},
     "output_type": "execute_result"
    }
   ],
   "source": [
    "df.head()"
   ]
  },
  {
   "cell_type": "code",
   "execution_count": 5,
   "metadata": {},
   "outputs": [],
   "source": [
    "def label_fix(label):\n",
    "    if label < -7.5:\n",
    "        return 0\n",
    "    elif label > 7.5:\n",
    "        return 1\n",
    "    else:\n",
    "        return 2\n",
    "\n",
    "df['Class'] = df['Flow'].apply(label_fix)"
   ]
  },
  {
   "cell_type": "code",
   "execution_count": 6,
   "metadata": {},
   "outputs": [
    {
     "data": {
      "text/html": [
       "<div>\n",
       "<style scoped>\n",
       "    .dataframe tbody tr th:only-of-type {\n",
       "        vertical-align: middle;\n",
       "    }\n",
       "\n",
       "    .dataframe tbody tr th {\n",
       "        vertical-align: top;\n",
       "    }\n",
       "\n",
       "    .dataframe thead th {\n",
       "        text-align: right;\n",
       "    }\n",
       "</style>\n",
       "<table border=\"1\" class=\"dataframe\">\n",
       "  <thead>\n",
       "    <tr style=\"text-align: right;\">\n",
       "      <th></th>\n",
       "      <th>Flow</th>\n",
       "      <th>D1</th>\n",
       "      <th>D2</th>\n",
       "      <th>P1</th>\n",
       "      <th>P2</th>\n",
       "      <th>dD1</th>\n",
       "      <th>dD2</th>\n",
       "      <th>dP1</th>\n",
       "      <th>dP2</th>\n",
       "      <th>Class</th>\n",
       "    </tr>\n",
       "  </thead>\n",
       "  <tbody>\n",
       "    <tr>\n",
       "      <th>0</th>\n",
       "      <td>-16.69</td>\n",
       "      <td>99.49</td>\n",
       "      <td>-145.71</td>\n",
       "      <td>48.04</td>\n",
       "      <td>-15.90</td>\n",
       "      <td>81.17</td>\n",
       "      <td>12.26</td>\n",
       "      <td>36.71</td>\n",
       "      <td>2.21</td>\n",
       "      <td>0</td>\n",
       "    </tr>\n",
       "    <tr>\n",
       "      <th>1</th>\n",
       "      <td>-16.23</td>\n",
       "      <td>172.78</td>\n",
       "      <td>-118.66</td>\n",
       "      <td>79.84</td>\n",
       "      <td>-11.94</td>\n",
       "      <td>80.09</td>\n",
       "      <td>18.49</td>\n",
       "      <td>35.48</td>\n",
       "      <td>2.91</td>\n",
       "      <td>0</td>\n",
       "    </tr>\n",
       "    <tr>\n",
       "      <th>2</th>\n",
       "      <td>-15.54</td>\n",
       "      <td>242.66</td>\n",
       "      <td>-81.28</td>\n",
       "      <td>109.77</td>\n",
       "      <td>-7.75</td>\n",
       "      <td>75.74</td>\n",
       "      <td>24.65</td>\n",
       "      <td>33.03</td>\n",
       "      <td>3.26</td>\n",
       "      <td>0</td>\n",
       "    </tr>\n",
       "    <tr>\n",
       "      <th>3</th>\n",
       "      <td>-15.17</td>\n",
       "      <td>316.42</td>\n",
       "      <td>-55.50</td>\n",
       "      <td>140.84</td>\n",
       "      <td>-5.30</td>\n",
       "      <td>74.07</td>\n",
       "      <td>28.43</td>\n",
       "      <td>31.89</td>\n",
       "      <td>3.37</td>\n",
       "      <td>0</td>\n",
       "    </tr>\n",
       "    <tr>\n",
       "      <th>4</th>\n",
       "      <td>-14.51</td>\n",
       "      <td>392.40</td>\n",
       "      <td>-31.67</td>\n",
       "      <td>171.92</td>\n",
       "      <td>-1.24</td>\n",
       "      <td>73.96</td>\n",
       "      <td>29.70</td>\n",
       "      <td>31.32</td>\n",
       "      <td>3.68</td>\n",
       "      <td>0</td>\n",
       "    </tr>\n",
       "  </tbody>\n",
       "</table>\n",
       "</div>"
      ],
      "text/plain": [
       "    Flow      D1      D2      P1     P2    dD1    dD2    dP1   dP2  Class\n",
       "0 -16.69   99.49 -145.71   48.04 -15.90  81.17  12.26  36.71  2.21      0\n",
       "1 -16.23  172.78 -118.66   79.84 -11.94  80.09  18.49  35.48  2.91      0\n",
       "2 -15.54  242.66  -81.28  109.77  -7.75  75.74  24.65  33.03  3.26      0\n",
       "3 -15.17  316.42  -55.50  140.84  -5.30  74.07  28.43  31.89  3.37      0\n",
       "4 -14.51  392.40  -31.67  171.92  -1.24  73.96  29.70  31.32  3.68      0"
      ]
     },
     "execution_count": 6,
     "metadata": {},
     "output_type": "execute_result"
    }
   ],
   "source": [
    "df.head()"
   ]
  },
  {
   "cell_type": "code",
   "execution_count": 7,
   "metadata": {},
   "outputs": [],
   "source": [
    "def classSwitch(Classes):\n",
    "\n",
    "    log = []\n",
    "    decision = []\n",
    "\n",
    "    for i in range(0, len(Classes)):\n",
    "\n",
    "        if i > 0:\n",
    "\n",
    "            if Classes[i] != Classes[i - 1]:\n",
    "                log.append(i)\n",
    "\n",
    "                if len(log) > 1 and Classes[log[-1]] != Classes[log[-2] - 1] and Classes[log[-1]] != 2:\n",
    "                    decision.append(Classes[i])\n",
    "                    \n",
    "                elif len(log) > 1 and Classes[log[-1]] == Classes[log[-2] - 1] and Classes[log[-1]] != 2:\n",
    "                    decision.append(Classes[i])\n",
    "\n",
    "                elif Classes[i] == 2:\n",
    "                    decision.append(Classes[i - 1])\n",
    "\n",
    "            elif Classes[i] == 2:\n",
    "                decision.append(Classes[log[-1] - 1])\n",
    "\n",
    "            else:\n",
    "                decision.append(Classes[i])\n",
    "\n",
    "        else:\n",
    "            decision.append(Classes[i])\n",
    "            \n",
    "    return decision"
   ]
  },
  {
   "cell_type": "code",
   "execution_count": 8,
   "metadata": {},
   "outputs": [],
   "source": [
    "df['Class'] = classSwitch(df['Class'])"
   ]
  },
  {
   "cell_type": "code",
   "execution_count": 9,
   "metadata": {},
   "outputs": [],
   "source": [
    "# Create Function to Gather Data into Overlapping Windows\n",
    "# Cuts data into size compatible with window length and step size\n",
    "# Gathers data into results output\n",
    "# Takes the mode of the classes for each window and saves in classes output\n",
    "\n",
    "def windowData(df, windowSize, stepSize):\n",
    "    \n",
    "    df.reset_index(drop = True, inplace = True)\n",
    "    new_data = df\n",
    "    \n",
    "    for i in range(len(new_data) - windowSize, len(new_data)):\n",
    "        \n",
    "        if (i - windowSize) % stepSize  == 0:\n",
    "            new_data = df.truncate(after = i - 1)\n",
    "    \n",
    "    windf = new_data\n",
    "    \n",
    "    length = len(windf['D1'])\n",
    "    \n",
    "    results = np.zeros([int((length - windowSize) / stepSize), windowSize, 8])\n",
    "    classes = np.zeros([int((length - windowSize) / stepSize), 1])\n",
    "    \n",
    "    for j in range(0, results.shape[0]):\n",
    "        \n",
    "        classData = np.zeros([windowSize, 1])\n",
    "        \n",
    "        for i in range(0, windowSize):\n",
    "            \n",
    "            results[j][i] = [windf['D1'][i + (j * stepSize)], \n",
    "                                 windf['D2'][i + (j * stepSize)], \n",
    "                                 windf['P1'][i + (j * stepSize)], \n",
    "                                 windf['P2'][i + (j * stepSize)], \n",
    "                                 windf['dD1'][i + (j * stepSize)], \n",
    "                                 windf['dD2'][i + (j * stepSize)], \n",
    "                                 windf['dP1'][i + (j * stepSize)], \n",
    "                                 windf['dP2'][i + (j * stepSize)]]\n",
    "            \n",
    "            classData[i] = windf['Class'][i + (j * stepSize)]\n",
    "            \n",
    "        classes[j] = int(stats.mode(classData)[0])\n",
    "        \n",
    "    return results, classes"
   ]
  },
  {
   "cell_type": "markdown",
   "metadata": {},
   "source": [
    "### Create Feature Matrix / Gather Training and Testing Data"
   ]
  },
  {
   "cell_type": "code",
   "execution_count": 10,
   "metadata": {},
   "outputs": [
    {
     "data": {
      "text/html": [
       "<div>\n",
       "<style scoped>\n",
       "    .dataframe tbody tr th:only-of-type {\n",
       "        vertical-align: middle;\n",
       "    }\n",
       "\n",
       "    .dataframe tbody tr th {\n",
       "        vertical-align: top;\n",
       "    }\n",
       "\n",
       "    .dataframe thead th {\n",
       "        text-align: right;\n",
       "    }\n",
       "</style>\n",
       "<table border=\"1\" class=\"dataframe\">\n",
       "  <thead>\n",
       "    <tr style=\"text-align: right;\">\n",
       "      <th></th>\n",
       "      <th>Flow</th>\n",
       "      <th>D1</th>\n",
       "      <th>D2</th>\n",
       "      <th>P1</th>\n",
       "      <th>P2</th>\n",
       "      <th>dD1</th>\n",
       "      <th>dD2</th>\n",
       "      <th>dP1</th>\n",
       "      <th>dP2</th>\n",
       "      <th>Class</th>\n",
       "    </tr>\n",
       "  </thead>\n",
       "  <tbody>\n",
       "    <tr>\n",
       "      <th>0</th>\n",
       "      <td>-16.69</td>\n",
       "      <td>99.49</td>\n",
       "      <td>-145.71</td>\n",
       "      <td>48.04</td>\n",
       "      <td>-15.90</td>\n",
       "      <td>81.17</td>\n",
       "      <td>12.26</td>\n",
       "      <td>36.71</td>\n",
       "      <td>2.21</td>\n",
       "      <td>0</td>\n",
       "    </tr>\n",
       "    <tr>\n",
       "      <th>1</th>\n",
       "      <td>-16.23</td>\n",
       "      <td>172.78</td>\n",
       "      <td>-118.66</td>\n",
       "      <td>79.84</td>\n",
       "      <td>-11.94</td>\n",
       "      <td>80.09</td>\n",
       "      <td>18.49</td>\n",
       "      <td>35.48</td>\n",
       "      <td>2.91</td>\n",
       "      <td>0</td>\n",
       "    </tr>\n",
       "    <tr>\n",
       "      <th>2</th>\n",
       "      <td>-15.54</td>\n",
       "      <td>242.66</td>\n",
       "      <td>-81.28</td>\n",
       "      <td>109.77</td>\n",
       "      <td>-7.75</td>\n",
       "      <td>75.74</td>\n",
       "      <td>24.65</td>\n",
       "      <td>33.03</td>\n",
       "      <td>3.26</td>\n",
       "      <td>0</td>\n",
       "    </tr>\n",
       "    <tr>\n",
       "      <th>3</th>\n",
       "      <td>-15.17</td>\n",
       "      <td>316.42</td>\n",
       "      <td>-55.50</td>\n",
       "      <td>140.84</td>\n",
       "      <td>-5.30</td>\n",
       "      <td>74.07</td>\n",
       "      <td>28.43</td>\n",
       "      <td>31.89</td>\n",
       "      <td>3.37</td>\n",
       "      <td>0</td>\n",
       "    </tr>\n",
       "    <tr>\n",
       "      <th>4</th>\n",
       "      <td>-14.51</td>\n",
       "      <td>392.40</td>\n",
       "      <td>-31.67</td>\n",
       "      <td>171.92</td>\n",
       "      <td>-1.24</td>\n",
       "      <td>73.96</td>\n",
       "      <td>29.70</td>\n",
       "      <td>31.32</td>\n",
       "      <td>3.68</td>\n",
       "      <td>0</td>\n",
       "    </tr>\n",
       "  </tbody>\n",
       "</table>\n",
       "</div>"
      ],
      "text/plain": [
       "    Flow      D1      D2      P1     P2    dD1    dD2    dP1   dP2  Class\n",
       "0 -16.69   99.49 -145.71   48.04 -15.90  81.17  12.26  36.71  2.21      0\n",
       "1 -16.23  172.78 -118.66   79.84 -11.94  80.09  18.49  35.48  2.91      0\n",
       "2 -15.54  242.66  -81.28  109.77  -7.75  75.74  24.65  33.03  3.26      0\n",
       "3 -15.17  316.42  -55.50  140.84  -5.30  74.07  28.43  31.89  3.37      0\n",
       "4 -14.51  392.40  -31.67  171.92  -1.24  73.96  29.70  31.32  3.68      0"
      ]
     },
     "execution_count": 10,
     "metadata": {},
     "output_type": "execute_result"
    }
   ],
   "source": [
    "df.head()"
   ]
  },
  {
   "cell_type": "code",
   "execution_count": 11,
   "metadata": {},
   "outputs": [],
   "source": [
    "scaleData = df.drop('Flow', axis = 1)\n",
    "scaleData.drop('Class', axis = 1, inplace = True)\n",
    "\n",
    "scaler = StandardScaler()\n",
    "scaler.fit(scaleData)\n",
    "scaled_features = scaler.transform(scaleData)\n",
    "\n",
    "X = pd.DataFrame(scaled_features, columns = df.columns[1:9])\n",
    "X['Class'] = df['Class']\n",
    "\n",
    "y = df['Class']\n",
    "\n",
    "X_train, X_test, y_train, y_test = train_test_split(X, y, test_size = 0.3)"
   ]
  },
  {
   "cell_type": "code",
   "execution_count": 12,
   "metadata": {},
   "outputs": [],
   "source": [
    "trainX, trainY = windowData(X_train, 4, 1)\n",
    "testX, testY = windowData(X_test, 4, 1)"
   ]
  },
  {
   "cell_type": "code",
   "execution_count": 13,
   "metadata": {},
   "outputs": [
    {
     "data": {
      "text/plain": [
       "(4659, 4, 8)"
      ]
     },
     "execution_count": 13,
     "metadata": {},
     "output_type": "execute_result"
    }
   ],
   "source": [
    "trainX.shape"
   ]
  },
  {
   "cell_type": "code",
   "execution_count": 21,
   "metadata": {},
   "outputs": [
    {
     "data": {
      "text/plain": [
       "(4659, 1)"
      ]
     },
     "execution_count": 21,
     "metadata": {},
     "output_type": "execute_result"
    }
   ],
   "source": [
    "trainY.shape"
   ]
  },
  {
   "cell_type": "code",
   "execution_count": 22,
   "metadata": {},
   "outputs": [
    {
     "data": {
      "text/plain": [
       "<matplotlib.axes._subplots.AxesSubplot at 0x1a30183e48>"
      ]
     },
     "execution_count": 22,
     "metadata": {},
     "output_type": "execute_result"
    },
    {
     "data": {
      "image/png": "[encoded data removed]",
      "text/plain": [
       "<Figure size 1296x360 with 1 Axes>"
      ]
     },
     "metadata": {
      "needs_background": "light"
     },
     "output_type": "display_data"
    }
   ],
   "source": [
    "fig = plt.figure(figsize = (18, 5))\n",
    "sns.scatterplot(y = df['Flow'][0:300], x = range(0, 300), hue = df['Class'][0:300], palette = 'coolwarm')"
   ]
  },
  {
   "cell_type": "markdown",
   "metadata": {},
   "source": [
    "### Develop LSTM Model"
   ]
  },
  {
   "cell_type": "code",
   "execution_count": 53,
   "metadata": {},
   "outputs": [
    {
     "name": "stdout",
     "output_type": "stream",
     "text": [
      "Model: \"sequential_2\"\n",
      "_________________________________________________________________\n",
      "Layer (type)                 Output Shape              Param #   \n",
      "=================================================================\n",
      "lstm_2 (LSTM)                (None, 175)               128800    \n",
      "_________________________________________________________________\n",
      "dropout_4 (Dropout)          (None, 175)               0         \n",
      "_________________________________________________________________\n",
      "dense_4 (Dense)              (None, 50)                8800      \n",
      "_________________________________________________________________\n",
      "dropout_5 (Dropout)          (None, 50)                0         \n",
      "_________________________________________________________________\n",
      "dense_5 (Dense)              (None, 2)                 102       \n",
      "=================================================================\n",
      "Total params: 137,702\n",
      "Trainable params: 137,702\n",
      "Non-trainable params: 0\n",
      "_________________________________________________________________\n"
     ]
    }
   ],
   "source": [
    "time_steps = trainX.shape[1]\n",
    "features = trainX.shape[2]\n",
    "\n",
    "LSTM = keras.Sequential()\n",
    "LSTM.add(keras.layers.LSTM(175, input_shape = (time_steps, features)))\n",
    "LSTM.add(keras.layers.Dropout(0.3))\n",
    "LSTM.add(keras.layers.Dense(50, activation = tf.nn.relu))\n",
    "LSTM.add(keras.layers.Dropout(0.4))\n",
    "LSTM.add(keras.layers.Dense(2, activation = tf.nn.softmax))\n",
    "LSTM.compile(loss = 'sparse_categorical_crossentropy', optimizer = 'adam', metrics = ['accuracy'])\n",
    "\n",
    "LSTM.summary()"
   ]
  },
  {
   "cell_type": "code",
   "execution_count": 54,
   "metadata": {},
   "outputs": [
    {
     "name": "stdout",
     "output_type": "stream",
     "text": [
      "Epoch 1/50\n",
      "4659/4659 [==============================] - 1s 229us/sample - loss: 0.4025 - acc: 0.8270\n",
      "Epoch 2/50\n",
      "4659/4659 [==============================] - 1s 158us/sample - loss: 0.3464 - acc: 0.8433\n",
      "Epoch 3/50\n",
      "4659/4659 [==============================] - 1s 153us/sample - loss: 0.3288 - acc: 0.8528\n",
      "Epoch 4/50\n",
      "4659/4659 [==============================] - 1s 142us/sample - loss: 0.3129 - acc: 0.8646\n",
      "Epoch 5/50\n",
      "4659/4659 [==============================] - 1s 142us/sample - loss: 0.3036 - acc: 0.8598\n",
      "Epoch 6/50\n",
      "4659/4659 [==============================] - 1s 147us/sample - loss: 0.2900 - acc: 0.8689\n",
      "Epoch 7/50\n",
      "4659/4659 [==============================] - 1s 145us/sample - loss: 0.2794 - acc: 0.8751\n",
      "Epoch 8/50\n",
      "4659/4659 [==============================] - 1s 144us/sample - loss: 0.2753 - acc: 0.8787\n",
      "Epoch 9/50\n",
      "4659/4659 [==============================] - 1s 147us/sample - loss: 0.2628 - acc: 0.8817\n",
      "Epoch 10/50\n",
      "4659/4659 [==============================] - 1s 151us/sample - loss: 0.2504 - acc: 0.8860\n",
      "Epoch 11/50\n",
      "4659/4659 [==============================] - 1s 146us/sample - loss: 0.2409 - acc: 0.8935\n",
      "Epoch 12/50\n",
      "4659/4659 [==============================] - 1s 157us/sample - loss: 0.2312 - acc: 0.8976\n",
      "Epoch 13/50\n",
      "4659/4659 [==============================] - 1s 147us/sample - loss: 0.2268 - acc: 0.9032\n",
      "Epoch 14/50\n",
      "4659/4659 [==============================] - 1s 153us/sample - loss: 0.2176 - acc: 0.9047\n",
      "Epoch 15/50\n",
      "4659/4659 [==============================] - 1s 147us/sample - loss: 0.2107 - acc: 0.9094\n",
      "Epoch 16/50\n",
      "4659/4659 [==============================] - 1s 156us/sample - loss: 0.2100 - acc: 0.9099\n",
      "Epoch 17/50\n",
      "4659/4659 [==============================] - 1s 156us/sample - loss: 0.2003 - acc: 0.9144\n",
      "Epoch 18/50\n",
      "4659/4659 [==============================] - 1s 161us/sample - loss: 0.1980 - acc: 0.9169\n",
      "Epoch 19/50\n",
      "4659/4659 [==============================] - 1s 176us/sample - loss: 0.1821 - acc: 0.9225\n",
      "Epoch 20/50\n",
      "4659/4659 [==============================] - 1s 164us/sample - loss: 0.1812 - acc: 0.9206\n",
      "Epoch 21/50\n",
      "4659/4659 [==============================] - 1s 162us/sample - loss: 0.1656 - acc: 0.9320\n",
      "Epoch 22/50\n",
      "4659/4659 [==============================] - 1s 161us/sample - loss: 0.1634 - acc: 0.9298\n",
      "Epoch 23/50\n",
      "4659/4659 [==============================] - 1s 159us/sample - loss: 0.1562 - acc: 0.9339\n",
      "Epoch 24/50\n",
      "4659/4659 [==============================] - 1s 158us/sample - loss: 0.1520 - acc: 0.9352\n",
      "Epoch 25/50\n",
      "4659/4659 [==============================] - 1s 153us/sample - loss: 0.1474 - acc: 0.9371\n",
      "Epoch 26/50\n",
      "4659/4659 [==============================] - 1s 153us/sample - loss: 0.1449 - acc: 0.9425\n",
      "Epoch 27/50\n",
      "4659/4659 [==============================] - 1s 157us/sample - loss: 0.1343 - acc: 0.9440\n",
      "Epoch 28/50\n",
      "4659/4659 [==============================] - 1s 159us/sample - loss: 0.1214 - acc: 0.9500\n",
      "Epoch 29/50\n",
      "4659/4659 [==============================] - 1s 157us/sample - loss: 0.1220 - acc: 0.9521\n",
      "Epoch 30/50\n",
      "4659/4659 [==============================] - 1s 160us/sample - loss: 0.1132 - acc: 0.9500\n",
      "Epoch 31/50\n",
      "4659/4659 [==============================] - 1s 165us/sample - loss: 0.1101 - acc: 0.9543\n",
      "Epoch 32/50\n",
      "4659/4659 [==============================] - 1s 166us/sample - loss: 0.1073 - acc: 0.9564\n",
      "Epoch 33/50\n",
      "4659/4659 [==============================] - 1s 163us/sample - loss: 0.0972 - acc: 0.9605\n",
      "Epoch 34/50\n",
      "4659/4659 [==============================] - 1s 160us/sample - loss: 0.1005 - acc: 0.9592\n",
      "Epoch 35/50\n",
      "4659/4659 [==============================] - 1s 164us/sample - loss: 0.0869 - acc: 0.9631\n",
      "Epoch 36/50\n",
      "4659/4659 [==============================] - 1s 160us/sample - loss: 0.0812 - acc: 0.9650\n",
      "Epoch 37/50\n",
      "4659/4659 [==============================] - 1s 161us/sample - loss: 0.0858 - acc: 0.9642\n",
      "Epoch 38/50\n",
      "4659/4659 [==============================] - 1s 161us/sample - loss: 0.0764 - acc: 0.9663\n",
      "Epoch 39/50\n",
      "4659/4659 [==============================] - 1s 161us/sample - loss: 0.0715 - acc: 0.9715\n",
      "Epoch 40/50\n",
      "4659/4659 [==============================] - 1s 160us/sample - loss: 0.0658 - acc: 0.9732\n",
      "Epoch 41/50\n",
      "4659/4659 [==============================] - 1s 165us/sample - loss: 0.0603 - acc: 0.9770\n",
      "Epoch 42/50\n",
      "4659/4659 [==============================] - 1s 165us/sample - loss: 0.0612 - acc: 0.9734\n",
      "Epoch 43/50\n",
      "4659/4659 [==============================] - 1s 164us/sample - loss: 0.0601 - acc: 0.9753\n",
      "Epoch 44/50\n",
      "4659/4659 [==============================] - 1s 165us/sample - loss: 0.0571 - acc: 0.9770\n",
      "Epoch 45/50\n",
      "4659/4659 [==============================] - 1s 160us/sample - loss: 0.0491 - acc: 0.9798\n",
      "Epoch 46/50\n",
      "4659/4659 [==============================] - 1s 162us/sample - loss: 0.0494 - acc: 0.9798\n",
      "Epoch 47/50\n",
      "4659/4659 [==============================] - 1s 159us/sample - loss: 0.0494 - acc: 0.9796\n",
      "Epoch 48/50\n",
      "4659/4659 [==============================] - 1s 160us/sample - loss: 0.0413 - acc: 0.9841\n",
      "Epoch 49/50\n",
      "4659/4659 [==============================] - 1s 165us/sample - loss: 0.0456 - acc: 0.9820\n",
      "Epoch 50/50\n",
      "4659/4659 [==============================] - 1s 162us/sample - loss: 0.0411 - acc: 0.9828\n"
     ]
    },
    {
     "data": {
      "text/plain": [
       "<tensorflow.python.keras.callbacks.History at 0x1a358bd780>"
      ]
     },
     "execution_count": 54,
     "metadata": {},
     "output_type": "execute_result"
    }
   ],
   "source": [
    "LSTM.fit(trainX, trainY, epochs = 50)"
   ]
  },
  {
   "cell_type": "markdown",
   "metadata": {},
   "source": [
    "### Evaluate Model on Testing Split"
   ]
  },
  {
   "cell_type": "code",
   "execution_count": 63,
   "metadata": {},
   "outputs": [
    {
     "data": {
      "text/plain": [
       "(1995, 4, 8)"
      ]
     },
     "execution_count": 63,
     "metadata": {},
     "output_type": "execute_result"
    }
   ],
   "source": [
    "testX.shape"
   ]
  },
  {
   "cell_type": "code",
   "execution_count": 64,
   "metadata": {},
   "outputs": [
    {
     "data": {
      "text/plain": [
       "(1995, 1)"
      ]
     },
     "execution_count": 64,
     "metadata": {},
     "output_type": "execute_result"
    }
   ],
   "source": [
    "testY.shape"
   ]
  },
  {
   "cell_type": "code",
   "execution_count": 65,
   "metadata": {},
   "outputs": [],
   "source": [
    "predictions = LSTM.predict(testX)"
   ]
  },
  {
   "cell_type": "code",
   "execution_count": 66,
   "metadata": {},
   "outputs": [
    {
     "data": {
      "text/plain": [
       "(1995, 2)"
      ]
     },
     "execution_count": 66,
     "metadata": {},
     "output_type": "execute_result"
    }
   ],
   "source": [
    "predictions.shape"
   ]
  },
  {
   "cell_type": "code",
   "execution_count": 67,
   "metadata": {},
   "outputs": [
    {
     "name": "stdout",
     "output_type": "stream",
     "text": [
      "              precision    recall  f1-score   support\n",
      "\n",
      "         0.0       0.92      0.92      0.92      1163\n",
      "         1.0       0.89      0.88      0.89       832\n",
      "\n",
      "   micro avg       0.91      0.91      0.91      1995\n",
      "   macro avg       0.91      0.90      0.91      1995\n",
      "weighted avg       0.91      0.91      0.91      1995\n",
      "\n"
     ]
    }
   ],
   "source": [
    "final_pred = []\n",
    "for score in range(0, len(predictions)):\n",
    "    final_pred.append(np.argmax(predictions[score]))\n",
    "    \n",
    "print(classification_report(testY, final_pred))"
   ]
  },
  {
   "cell_type": "markdown",
   "metadata": {},
   "source": [
    "### Test on New Dataset"
   ]
  },
  {
   "cell_type": "code",
   "execution_count": 81,
   "metadata": {},
   "outputs": [],
   "source": [
    "# Read in dataframe\n",
    "test = pd.read_csv('test_data_2.csv')\n",
    "test['Class'] = test['Flow'].apply(label_fix)\n",
    "\n",
    "test['Class'] = classSwitch(test['Class'])\n",
    "\n",
    "scaleData_2 = test.drop('Flow', axis = 1)\n",
    "scaleData_2.drop('Class', axis = 1, inplace = True)\n",
    "\n",
    "scaler = StandardScaler()\n",
    "scaler.fit(scaleData_2)\n",
    "scaled_features = scaler.transform(scaleData_2)\n",
    "\n",
    "X_1 = pd.DataFrame(scaled_features, columns = df.columns[1:9])\n",
    "X_1['Class'] = test['Class']\n",
    "y_1 = test['Class']\n",
    "\n",
    "newX, newY = windowData(X_1, 4, 1)"
   ]
  },
  {
   "cell_type": "code",
   "execution_count": 91,
   "metadata": {},
   "outputs": [
    {
     "name": "stdout",
     "output_type": "stream",
     "text": [
      "              precision    recall  f1-score   support\n",
      "\n",
      "         0.0       0.84      0.90      0.87      2366\n",
      "         1.0       0.91      0.85      0.88      2648\n",
      "\n",
      "   micro avg       0.87      0.87      0.87      5014\n",
      "   macro avg       0.87      0.87      0.87      5014\n",
      "weighted avg       0.88      0.87      0.87      5014\n",
      "\n"
     ]
    }
   ],
   "source": [
    "test_predictions = LSTM.predict(newX)\n",
    "\n",
    "final_pred_test = []\n",
    "\n",
    "for score in range(0, len(test_predictions)):\n",
    "    final_pred_test.append(np.argmax(test_predictions[score]))\n",
    "    \n",
    "print(classification_report(newY, final_pred_test))"
   ]
  },
  {
   "cell_type": "code",
   "execution_count": 117,
   "metadata": {},
   "outputs": [],
   "source": [
    "del test_predictions"
   ]
  },
  {
   "cell_type": "code",
   "execution_count": 121,
   "metadata": {},
   "outputs": [
    {
     "name": "stdout",
     "output_type": "stream",
     "text": [
      "              precision    recall  f1-score   support\n",
      "\n",
      "         0.0       0.85      0.87      0.86      2366\n",
      "         1.0       0.88      0.87      0.88      2648\n",
      "\n",
      "   micro avg       0.87      0.87      0.87      5014\n",
      "   macro avg       0.87      0.87      0.87      5014\n",
      "weighted avg       0.87      0.87      0.87      5014\n",
      "\n"
     ]
    }
   ],
   "source": [
    "test_predictions = LSTM.predict(newX)\n",
    "\n",
    "final_pred_test_2 = []\n",
    "\n",
    "for score in range(0, len(test_predictions)):\n",
    "    \n",
    "    if score == 0:\n",
    "        \n",
    "        final_pred_test_2.append(np.argmax(test_predictions[score]))\n",
    "    \n",
    "    elif score > 0 and np.argmax(test_predictions[score]) > 0.7:\n",
    "        \n",
    "        final_pred_test_2.append(np.argmax(test_predictions[score]))\n",
    "        \n",
    "    elif score > 0 and np.argmax(test_predictions[score]) < 0.7:\n",
    "            \n",
    "        final_pred_test_2.append(final_pred_test[score - 1])\n",
    "    \n",
    "print(classification_report(newY, final_pred_test_2))"
   ]
  },
  {
   "cell_type": "code",
   "execution_count": 122,
   "metadata": {},
   "outputs": [
    {
     "data": {
      "text/plain": [
       "<matplotlib.axes._subplots.AxesSubplot at 0x1a374996a0>"
      ]
     },
     "execution_count": 122,
     "metadata": {},
     "output_type": "execute_result"
    },
    {
     "data": {
      "image/png": "[encoded data removed]",
      "text/plain": [
       "<Figure size 1296x360 with 1 Axes>"
      ]
     },
     "metadata": {
      "needs_background": "light"
     },
     "output_type": "display_data"
    },
    {
     "data": {
      "image/png": "[encoded data removed]",
      "text/plain": [
       "<Figure size 1296x360 with 1 Axes>"
      ]
     },
     "metadata": {
      "needs_background": "light"
     },
     "output_type": "display_data"
    }
   ],
   "source": [
    "fig = plt.figure(figsize = (18, 5))\n",
    "sns.scatterplot(y = test['Flow'][0:400], x = range(0, 400), hue = final_pred_test[0:400], palette = 'coolwarm')\n",
    "\n",
    "fig = plt.figure(figsize = (18, 5))\n",
    "sns.scatterplot(y = test['Flow'][0:400],x = range(0, 400), hue = final_pred_test_2[0:400])"
   ]
  },
  {
   "cell_type": "code",
   "execution_count": 41,
   "metadata": {},
   "outputs": [
    {
     "data": {
      "text/plain": [
       "array([[1.0000000e+00, 2.0162775e-13, 3.4425498e-25],\n",
       "       [1.0000000e+00, 1.6249221e-12, 2.1760002e-23],\n",
       "       [1.0000000e+00, 1.1994189e-11, 1.2740340e-21],\n",
       "       ...,\n",
       "       [1.3272377e-02, 9.8672765e-01, 2.5571645e-09],\n",
       "       [2.6207302e-02, 9.7379273e-01, 8.8064134e-09],\n",
       "       [1.2878526e-04, 9.9987125e-01, 1.2252906e-10]], dtype=float32)"
      ]
     },
     "execution_count": 41,
     "metadata": {},
     "output_type": "execute_result"
    }
   ],
   "source": [
    "test_predictions"
   ]
  },
  {
   "cell_type": "code",
   "execution_count": null,
   "metadata": {},
   "outputs": [],
   "source": []
  }
 ],
 "metadata": {
  "kernelspec": {
   "display_name": "Python 3",
   "language": "python",
   "name": "python3"
  },
  "language_info": {
   "codemirror_mode": {
    "name": "ipython",
    "version": 3
   },
   "file_extension": ".py",
   "mimetype": "text/x-python",
   "name": "python",
   "nbconvert_exporter": "python",
   "pygments_lexer": "ipython3",
   "version": "3.7.3"
  }
 },
 "nbformat": 4,
 "nbformat_minor": 2
}
