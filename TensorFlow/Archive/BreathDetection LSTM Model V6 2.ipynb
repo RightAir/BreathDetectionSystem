{
 "cells": [
  {
   "cell_type": "markdown",
   "metadata": {},
   "source": [
    "### Import Libraries"
   ]
  },
  {
   "cell_type": "code",
   "execution_count": 2,
   "metadata": {},
   "outputs": [],
   "source": [
    "import pandas as pd\n",
    "import tensorflow as tf\n",
    "from sklearn.model_selection import train_test_split\n",
    "from sklearn.metrics import classification_report,confusion_matrix\n",
    "from sklearn.preprocessing import StandardScaler\n",
    "from tensorflow import keras\n",
    "import numpy as np\n",
    "import matplotlib.pyplot as plt\n",
    "import seaborn as sns"
   ]
  },
  {
   "cell_type": "markdown",
   "metadata": {},
   "source": [
    "### Read in Dataset"
   ]
  },
  {
   "cell_type": "code",
   "execution_count": 3,
   "metadata": {},
   "outputs": [],
   "source": [
    "df = pd.read_csv('fbdh1.csv')"
   ]
  },
  {
   "cell_type": "code",
   "execution_count": 4,
   "metadata": {},
   "outputs": [
    {
     "data": {
      "text/html": [
       "<div>\n",
       "<style scoped>\n",
       "    .dataframe tbody tr th:only-of-type {\n",
       "        vertical-align: middle;\n",
       "    }\n",
       "\n",
       "    .dataframe tbody tr th {\n",
       "        vertical-align: top;\n",
       "    }\n",
       "\n",
       "    .dataframe thead th {\n",
       "        text-align: right;\n",
       "    }\n",
       "</style>\n",
       "<table border=\"1\" class=\"dataframe\">\n",
       "  <thead>\n",
       "    <tr style=\"text-align: right;\">\n",
       "      <th></th>\n",
       "      <th>Flow</th>\n",
       "      <th>D1</th>\n",
       "      <th>D2</th>\n",
       "      <th>P1</th>\n",
       "      <th>P2</th>\n",
       "      <th>dD1</th>\n",
       "      <th>dD2</th>\n",
       "      <th>dP1</th>\n",
       "      <th>dP2</th>\n",
       "    </tr>\n",
       "  </thead>\n",
       "  <tbody>\n",
       "    <tr>\n",
       "      <th>0</th>\n",
       "      <td>-16.69</td>\n",
       "      <td>99.49</td>\n",
       "      <td>-145.71</td>\n",
       "      <td>48.04</td>\n",
       "      <td>-15.90</td>\n",
       "      <td>81.17</td>\n",
       "      <td>12.26</td>\n",
       "      <td>36.71</td>\n",
       "      <td>2.21</td>\n",
       "    </tr>\n",
       "    <tr>\n",
       "      <th>1</th>\n",
       "      <td>-16.23</td>\n",
       "      <td>172.78</td>\n",
       "      <td>-118.66</td>\n",
       "      <td>79.84</td>\n",
       "      <td>-11.94</td>\n",
       "      <td>80.09</td>\n",
       "      <td>18.49</td>\n",
       "      <td>35.48</td>\n",
       "      <td>2.91</td>\n",
       "    </tr>\n",
       "    <tr>\n",
       "      <th>2</th>\n",
       "      <td>-15.54</td>\n",
       "      <td>242.66</td>\n",
       "      <td>-81.28</td>\n",
       "      <td>109.77</td>\n",
       "      <td>-7.75</td>\n",
       "      <td>75.74</td>\n",
       "      <td>24.65</td>\n",
       "      <td>33.03</td>\n",
       "      <td>3.26</td>\n",
       "    </tr>\n",
       "    <tr>\n",
       "      <th>3</th>\n",
       "      <td>-15.17</td>\n",
       "      <td>316.42</td>\n",
       "      <td>-55.50</td>\n",
       "      <td>140.84</td>\n",
       "      <td>-5.30</td>\n",
       "      <td>74.07</td>\n",
       "      <td>28.43</td>\n",
       "      <td>31.89</td>\n",
       "      <td>3.37</td>\n",
       "    </tr>\n",
       "    <tr>\n",
       "      <th>4</th>\n",
       "      <td>-14.51</td>\n",
       "      <td>392.40</td>\n",
       "      <td>-31.67</td>\n",
       "      <td>171.92</td>\n",
       "      <td>-1.24</td>\n",
       "      <td>73.96</td>\n",
       "      <td>29.70</td>\n",
       "      <td>31.32</td>\n",
       "      <td>3.68</td>\n",
       "    </tr>\n",
       "  </tbody>\n",
       "</table>\n",
       "</div>"
      ],
      "text/plain": [
       "    Flow      D1      D2      P1     P2    dD1    dD2    dP1   dP2\n",
       "0 -16.69   99.49 -145.71   48.04 -15.90  81.17  12.26  36.71  2.21\n",
       "1 -16.23  172.78 -118.66   79.84 -11.94  80.09  18.49  35.48  2.91\n",
       "2 -15.54  242.66  -81.28  109.77  -7.75  75.74  24.65  33.03  3.26\n",
       "3 -15.17  316.42  -55.50  140.84  -5.30  74.07  28.43  31.89  3.37\n",
       "4 -14.51  392.40  -31.67  171.92  -1.24  73.96  29.70  31.32  3.68"
      ]
     },
     "execution_count": 4,
     "metadata": {},
     "output_type": "execute_result"
    }
   ],
   "source": [
    "df.head()"
   ]
  },
  {
   "cell_type": "code",
   "execution_count": 5,
   "metadata": {},
   "outputs": [],
   "source": [
    "def label_fix(label):\n",
    "    if label < -7.5:\n",
    "        return 0\n",
    "    elif label > 7.5:\n",
    "        return 1\n",
    "    else:\n",
    "        return 2\n",
    "\n",
    "df['Class'] = df['Flow'].apply(label_fix)"
   ]
  },
  {
   "cell_type": "code",
   "execution_count": 6,
   "metadata": {},
   "outputs": [
    {
     "data": {
      "text/html": [
       "<div>\n",
       "<style scoped>\n",
       "    .dataframe tbody tr th:only-of-type {\n",
       "        vertical-align: middle;\n",
       "    }\n",
       "\n",
       "    .dataframe tbody tr th {\n",
       "        vertical-align: top;\n",
       "    }\n",
       "\n",
       "    .dataframe thead th {\n",
       "        text-align: right;\n",
       "    }\n",
       "</style>\n",
       "<table border=\"1\" class=\"dataframe\">\n",
       "  <thead>\n",
       "    <tr style=\"text-align: right;\">\n",
       "      <th></th>\n",
       "      <th>Flow</th>\n",
       "      <th>D1</th>\n",
       "      <th>D2</th>\n",
       "      <th>P1</th>\n",
       "      <th>P2</th>\n",
       "      <th>dD1</th>\n",
       "      <th>dD2</th>\n",
       "      <th>dP1</th>\n",
       "      <th>dP2</th>\n",
       "      <th>Class</th>\n",
       "    </tr>\n",
       "  </thead>\n",
       "  <tbody>\n",
       "    <tr>\n",
       "      <th>0</th>\n",
       "      <td>-16.69</td>\n",
       "      <td>99.49</td>\n",
       "      <td>-145.71</td>\n",
       "      <td>48.04</td>\n",
       "      <td>-15.90</td>\n",
       "      <td>81.17</td>\n",
       "      <td>12.26</td>\n",
       "      <td>36.71</td>\n",
       "      <td>2.21</td>\n",
       "      <td>0</td>\n",
       "    </tr>\n",
       "    <tr>\n",
       "      <th>1</th>\n",
       "      <td>-16.23</td>\n",
       "      <td>172.78</td>\n",
       "      <td>-118.66</td>\n",
       "      <td>79.84</td>\n",
       "      <td>-11.94</td>\n",
       "      <td>80.09</td>\n",
       "      <td>18.49</td>\n",
       "      <td>35.48</td>\n",
       "      <td>2.91</td>\n",
       "      <td>0</td>\n",
       "    </tr>\n",
       "    <tr>\n",
       "      <th>2</th>\n",
       "      <td>-15.54</td>\n",
       "      <td>242.66</td>\n",
       "      <td>-81.28</td>\n",
       "      <td>109.77</td>\n",
       "      <td>-7.75</td>\n",
       "      <td>75.74</td>\n",
       "      <td>24.65</td>\n",
       "      <td>33.03</td>\n",
       "      <td>3.26</td>\n",
       "      <td>0</td>\n",
       "    </tr>\n",
       "    <tr>\n",
       "      <th>3</th>\n",
       "      <td>-15.17</td>\n",
       "      <td>316.42</td>\n",
       "      <td>-55.50</td>\n",
       "      <td>140.84</td>\n",
       "      <td>-5.30</td>\n",
       "      <td>74.07</td>\n",
       "      <td>28.43</td>\n",
       "      <td>31.89</td>\n",
       "      <td>3.37</td>\n",
       "      <td>0</td>\n",
       "    </tr>\n",
       "    <tr>\n",
       "      <th>4</th>\n",
       "      <td>-14.51</td>\n",
       "      <td>392.40</td>\n",
       "      <td>-31.67</td>\n",
       "      <td>171.92</td>\n",
       "      <td>-1.24</td>\n",
       "      <td>73.96</td>\n",
       "      <td>29.70</td>\n",
       "      <td>31.32</td>\n",
       "      <td>3.68</td>\n",
       "      <td>0</td>\n",
       "    </tr>\n",
       "  </tbody>\n",
       "</table>\n",
       "</div>"
      ],
      "text/plain": [
       "    Flow      D1      D2      P1     P2    dD1    dD2    dP1   dP2  Class\n",
       "0 -16.69   99.49 -145.71   48.04 -15.90  81.17  12.26  36.71  2.21      0\n",
       "1 -16.23  172.78 -118.66   79.84 -11.94  80.09  18.49  35.48  2.91      0\n",
       "2 -15.54  242.66  -81.28  109.77  -7.75  75.74  24.65  33.03  3.26      0\n",
       "3 -15.17  316.42  -55.50  140.84  -5.30  74.07  28.43  31.89  3.37      0\n",
       "4 -14.51  392.40  -31.67  171.92  -1.24  73.96  29.70  31.32  3.68      0"
      ]
     },
     "execution_count": 6,
     "metadata": {},
     "output_type": "execute_result"
    }
   ],
   "source": [
    "df.head()"
   ]
  },
  {
   "cell_type": "code",
   "execution_count": null,
   "metadata": {},
   "outputs": [],
   "source": [
    "# Create Function to Gather Data into Overlapping Windows\n",
    "# Just attempting to gather information for 1 feature first\n",
    "\n",
    "results = np.zeros((0, 0, 0))\n",
    "\n",
    "def windowData(df, windowSize, overlap):\n",
    "    \n",
    "    for i in range(0, length(df['D1']) - windowSize):\n",
    "        \n",
    "        df['D1'][i:i+windowSize]\n",
    "    "
   ]
  },
  {
   "cell_type": "code",
   "execution_count": 26,
   "metadata": {},
   "outputs": [],
   "source": [
    "test = np.zeros((0, 0, 0))"
   ]
  },
  {
   "cell_type": "code",
   "execution_count": null,
   "metadata": {},
   "outputs": [],
   "source": []
  },
  {
   "cell_type": "code",
   "execution_count": null,
   "metadata": {},
   "outputs": [],
   "source": []
  },
  {
   "cell_type": "code",
   "execution_count": null,
   "metadata": {},
   "outputs": [],
   "source": []
  },
  {
   "cell_type": "code",
   "execution_count": null,
   "metadata": {},
   "outputs": [],
   "source": []
  },
  {
   "cell_type": "code",
   "execution_count": null,
   "metadata": {},
   "outputs": [],
   "source": []
  },
  {
   "cell_type": "code",
   "execution_count": null,
   "metadata": {},
   "outputs": [],
   "source": []
  },
  {
   "cell_type": "code",
   "execution_count": null,
   "metadata": {},
   "outputs": [],
   "source": []
  },
  {
   "cell_type": "code",
   "execution_count": null,
   "metadata": {},
   "outputs": [],
   "source": []
  },
  {
   "cell_type": "code",
   "execution_count": null,
   "metadata": {},
   "outputs": [],
   "source": []
  },
  {
   "cell_type": "code",
   "execution_count": null,
   "metadata": {},
   "outputs": [],
   "source": []
  },
  {
   "cell_type": "code",
   "execution_count": null,
   "metadata": {},
   "outputs": [],
   "source": []
  },
  {
   "cell_type": "code",
   "execution_count": null,
   "metadata": {},
   "outputs": [],
   "source": []
  },
  {
   "cell_type": "markdown",
   "metadata": {},
   "source": [
    "### Create Feature Matrix / Gather Training and Testing Data"
   ]
  },
  {
   "cell_type": "code",
   "execution_count": 70,
   "metadata": {},
   "outputs": [],
   "source": [
    "X = df.drop('Class', axis = 1)\n",
    "X.drop('Flow', axis = 1, inplace = True)\n",
    "\n",
    "scaler = StandardScaler()\n",
    "scaler.fit(X)\n",
    "scaled_features = scaler.transform(X)\n",
    "X = pd.DataFrame(scaled_features, columns = X.columns[:])\n",
    "\n",
    "y = df['Class']\n",
    "\n",
    "X_train, X_test, y_train, y_test = train_test_split(X, y, test_size = 0.3)"
   ]
  },
  {
   "cell_type": "code",
   "execution_count": 71,
   "metadata": {},
   "outputs": [],
   "source": [
    "# Cuts data into length evenly divisible by the window sizes\n",
    "\n",
    "def windowSize(data):\n",
    "    \n",
    "    window = 15\n",
    "    \n",
    "    data.reset_index(drop = True, inplace = True)\n",
    "    new_data = data\n",
    "    \n",
    "    for i in range(len(new_data) - window, len(new_data)):\n",
    "        \n",
    "        if i % window == 0:\n",
    "            new_data = data.truncate(after = i - 1)\n",
    "    \n",
    "    return new_data"
   ]
  },
  {
   "cell_type": "code",
   "execution_count": 72,
   "metadata": {},
   "outputs": [],
   "source": [
    "# Creates Classifiers for each window based on mode of that window\n",
    "\n",
    "def classWindow(data):\n",
    "    \n",
    "    Class = []\n",
    "    \n",
    "    for i in range(0, len(data), 15):\n",
    "        \n",
    "        Class.append(int(data[i:i+1].mode()))\n",
    "        \n",
    "    return pd.DataFrame(Class)"
   ]
  },
  {
   "cell_type": "code",
   "execution_count": 73,
   "metadata": {},
   "outputs": [],
   "source": [
    "trainY = classWindow(windowSize(y_train))"
   ]
  },
  {
   "cell_type": "code",
   "execution_count": 74,
   "metadata": {},
   "outputs": [],
   "source": [
    "trainX = windowSize(X_train).values.reshape(int(len(windowSize(X_train))/15), 15, 8)"
   ]
  },
  {
   "cell_type": "code",
   "execution_count": 75,
   "metadata": {},
   "outputs": [
    {
     "data": {
      "text/plain": [
       "(310, 15, 8)"
      ]
     },
     "execution_count": 75,
     "metadata": {},
     "output_type": "execute_result"
    }
   ],
   "source": [
    "trainX.shape"
   ]
  },
  {
   "cell_type": "markdown",
   "metadata": {},
   "source": [
    "### Develop LSTM Model"
   ]
  },
  {
   "cell_type": "code",
   "execution_count": 76,
   "metadata": {},
   "outputs": [
    {
     "name": "stderr",
     "output_type": "stream",
     "text": [
      "WARNING: Logging before flag parsing goes to stderr.\n",
      "W0912 14:41:59.610840 4719601088 deprecation.py:506] From /Users/mikefurr/anaconda3/lib/python3.7/site-packages/tensorflow/python/ops/init_ops.py:1251: calling VarianceScaling.__init__ (from tensorflow.python.ops.init_ops) with dtype is deprecated and will be removed in a future version.\n",
      "Instructions for updating:\n",
      "Call initializer instance with the dtype argument instead of passing it to the constructor\n"
     ]
    },
    {
     "name": "stdout",
     "output_type": "stream",
     "text": [
      "Model: \"sequential\"\n",
      "_________________________________________________________________\n",
      "Layer (type)                 Output Shape              Param #   \n",
      "=================================================================\n",
      "lstm (LSTM)                  (None, 175)               128800    \n",
      "_________________________________________________________________\n",
      "dropout (Dropout)            (None, 175)               0         \n",
      "_________________________________________________________________\n",
      "dense (Dense)                (None, 50)                8800      \n",
      "_________________________________________________________________\n",
      "dropout_1 (Dropout)          (None, 50)                0         \n",
      "_________________________________________________________________\n",
      "dense_1 (Dense)              (None, 3)                 153       \n",
      "=================================================================\n",
      "Total params: 137,753\n",
      "Trainable params: 137,753\n",
      "Non-trainable params: 0\n",
      "_________________________________________________________________\n"
     ]
    }
   ],
   "source": [
    "time_steps = trainX.shape[1]\n",
    "features = trainX.shape[2]\n",
    "\n",
    "LSTM = keras.Sequential()\n",
    "LSTM.add(keras.layers.LSTM(175, input_shape = (time_steps, features)))\n",
    "LSTM.add(keras.layers.Dropout(0.3))\n",
    "LSTM.add(keras.layers.Dense(50, activation = tf.nn.relu))\n",
    "LSTM.add(keras.layers.Dropout(0.4))\n",
    "LSTM.add(keras.layers.Dense(3, activation = tf.nn.softmax))\n",
    "LSTM.compile(loss = 'sparse_categorical_crossentropy', optimizer = 'adam', metrics = ['accuracy'])\n",
    "\n",
    "LSTM.summary()"
   ]
  },
  {
   "cell_type": "code",
   "execution_count": 77,
   "metadata": {},
   "outputs": [
    {
     "name": "stderr",
     "output_type": "stream",
     "text": [
      "W0912 14:42:02.587782 4719601088 deprecation.py:323] From /Users/mikefurr/anaconda3/lib/python3.7/site-packages/tensorflow/python/ops/math_grad.py:1250: add_dispatch_support.<locals>.wrapper (from tensorflow.python.ops.array_ops) is deprecated and will be removed in a future version.\n",
      "Instructions for updating:\n",
      "Use tf.where in 2.0, which has the same broadcast rule as np.where\n"
     ]
    },
    {
     "name": "stdout",
     "output_type": "stream",
     "text": [
      "Epoch 1/50\n",
      "310/310 [==============================] - 0s 2ms/sample - loss: 1.1035 - acc: 0.3065\n",
      "Epoch 2/50\n",
      "310/310 [==============================] - 0s 444us/sample - loss: 1.0660 - acc: 0.4548\n",
      "Epoch 3/50\n",
      "310/310 [==============================] - 0s 452us/sample - loss: 1.0406 - acc: 0.4645\n",
      "Epoch 4/50\n",
      "310/310 [==============================] - 0s 438us/sample - loss: 1.0423 - acc: 0.4806\n",
      "Epoch 5/50\n",
      "310/310 [==============================] - 0s 440us/sample - loss: 0.9908 - acc: 0.5226\n",
      "Epoch 6/50\n",
      "310/310 [==============================] - 0s 442us/sample - loss: 0.9557 - acc: 0.5323\n",
      "Epoch 7/50\n",
      "310/310 [==============================] - 0s 444us/sample - loss: 0.9026 - acc: 0.5839\n",
      "Epoch 8/50\n",
      "310/310 [==============================] - 0s 452us/sample - loss: 0.8850 - acc: 0.6129\n",
      "Epoch 9/50\n",
      "310/310 [==============================] - 0s 452us/sample - loss: 0.8881 - acc: 0.6161\n",
      "Epoch 10/50\n",
      "310/310 [==============================] - 0s 445us/sample - loss: 0.8355 - acc: 0.6516\n",
      "Epoch 11/50\n",
      "310/310 [==============================] - 0s 467us/sample - loss: 0.8822 - acc: 0.6323\n",
      "Epoch 12/50\n",
      "310/310 [==============================] - 0s 461us/sample - loss: 0.8488 - acc: 0.6419\n",
      "Epoch 13/50\n",
      "310/310 [==============================] - 0s 453us/sample - loss: 0.7724 - acc: 0.6903\n",
      "Epoch 14/50\n",
      "310/310 [==============================] - 0s 456us/sample - loss: 0.7070 - acc: 0.7194\n",
      "Epoch 15/50\n",
      "310/310 [==============================] - 0s 445us/sample - loss: 0.7291 - acc: 0.7194\n",
      "Epoch 16/50\n",
      "310/310 [==============================] - 0s 453us/sample - loss: 0.6766 - acc: 0.7452\n",
      "Epoch 17/50\n",
      "310/310 [==============================] - 0s 444us/sample - loss: 0.6627 - acc: 0.7323\n",
      "Epoch 18/50\n",
      "310/310 [==============================] - 0s 447us/sample - loss: 0.7625 - acc: 0.7226\n",
      "Epoch 19/50\n",
      "310/310 [==============================] - 0s 448us/sample - loss: 0.6574 - acc: 0.7516\n",
      "Epoch 20/50\n",
      "310/310 [==============================] - 0s 455us/sample - loss: 0.6226 - acc: 0.7645\n",
      "Epoch 21/50\n",
      "310/310 [==============================] - 0s 461us/sample - loss: 0.6287 - acc: 0.7548\n",
      "Epoch 22/50\n",
      "310/310 [==============================] - 0s 445us/sample - loss: 0.6155 - acc: 0.7452\n",
      "Epoch 23/50\n",
      "310/310 [==============================] - 0s 436us/sample - loss: 0.6059 - acc: 0.7548\n",
      "Epoch 24/50\n",
      "310/310 [==============================] - 0s 442us/sample - loss: 0.5978 - acc: 0.7677\n",
      "Epoch 25/50\n",
      "310/310 [==============================] - 0s 446us/sample - loss: 0.5762 - acc: 0.7742\n",
      "Epoch 26/50\n",
      "310/310 [==============================] - 0s 454us/sample - loss: 0.5189 - acc: 0.8032\n",
      "Epoch 27/50\n",
      "310/310 [==============================] - 0s 449us/sample - loss: 0.5118 - acc: 0.7839\n",
      "Epoch 28/50\n",
      "310/310 [==============================] - 0s 448us/sample - loss: 0.4660 - acc: 0.8097\n",
      "Epoch 29/50\n",
      "310/310 [==============================] - 0s 456us/sample - loss: 0.4721 - acc: 0.8000\n",
      "Epoch 30/50\n",
      "310/310 [==============================] - 0s 443us/sample - loss: 0.4682 - acc: 0.7968\n",
      "Epoch 31/50\n",
      "310/310 [==============================] - 0s 450us/sample - loss: 0.5056 - acc: 0.7774\n",
      "Epoch 32/50\n",
      "310/310 [==============================] - 0s 453us/sample - loss: 0.4694 - acc: 0.8355\n",
      "Epoch 33/50\n",
      "310/310 [==============================] - 0s 456us/sample - loss: 0.4415 - acc: 0.8258\n",
      "Epoch 34/50\n",
      "310/310 [==============================] - 0s 453us/sample - loss: 0.4513 - acc: 0.8194\n",
      "Epoch 35/50\n",
      "310/310 [==============================] - 0s 447us/sample - loss: 0.4077 - acc: 0.8226\n",
      "Epoch 36/50\n",
      "310/310 [==============================] - 0s 450us/sample - loss: 0.3805 - acc: 0.8452\n",
      "Epoch 37/50\n",
      "310/310 [==============================] - 0s 437us/sample - loss: 0.4183 - acc: 0.8355\n",
      "Epoch 38/50\n",
      "310/310 [==============================] - 0s 458us/sample - loss: 0.4996 - acc: 0.7968\n",
      "Epoch 39/50\n",
      "310/310 [==============================] - 0s 446us/sample - loss: 0.4220 - acc: 0.8355\n",
      "Epoch 40/50\n",
      "310/310 [==============================] - 0s 441us/sample - loss: 0.3815 - acc: 0.8484\n",
      "Epoch 41/50\n",
      "310/310 [==============================] - 0s 455us/sample - loss: 0.2879 - acc: 0.8742\n",
      "Epoch 42/50\n",
      "310/310 [==============================] - 0s 449us/sample - loss: 0.2995 - acc: 0.8613\n",
      "Epoch 43/50\n",
      "310/310 [==============================] - 0s 450us/sample - loss: 0.2744 - acc: 0.8968\n",
      "Epoch 44/50\n",
      "310/310 [==============================] - 0s 455us/sample - loss: 0.2748 - acc: 0.8968\n",
      "Epoch 45/50\n",
      "310/310 [==============================] - 0s 445us/sample - loss: 0.2768 - acc: 0.9032\n",
      "Epoch 46/50\n",
      "310/310 [==============================] - 0s 449us/sample - loss: 0.2546 - acc: 0.9129\n",
      "Epoch 47/50\n",
      "310/310 [==============================] - 0s 456us/sample - loss: 0.2631 - acc: 0.9129\n",
      "Epoch 48/50\n",
      "310/310 [==============================] - 0s 440us/sample - loss: 0.2493 - acc: 0.9161\n",
      "Epoch 49/50\n",
      "310/310 [==============================] - 0s 450us/sample - loss: 0.2289 - acc: 0.9129\n",
      "Epoch 50/50\n",
      "310/310 [==============================] - 0s 473us/sample - loss: 0.2342 - acc: 0.9194\n"
     ]
    },
    {
     "data": {
      "text/plain": [
       "<tensorflow.python.keras.callbacks.History at 0x1a397152b0>"
      ]
     },
     "execution_count": 77,
     "metadata": {},
     "output_type": "execute_result"
    }
   ],
   "source": [
    "LSTM.fit(trainX, trainY, epochs = 50)"
   ]
  },
  {
   "cell_type": "markdown",
   "metadata": {},
   "source": [
    "### Evaluate Model on Testing Split"
   ]
  },
  {
   "cell_type": "code",
   "execution_count": 78,
   "metadata": {},
   "outputs": [],
   "source": [
    "testX = windowSize(X_test).values.reshape(int(len(windowSize(X_test)) / 15), 15, 8)"
   ]
  },
  {
   "cell_type": "code",
   "execution_count": 79,
   "metadata": {},
   "outputs": [],
   "source": [
    "testY = classWindow(windowSize(y_test))"
   ]
  },
  {
   "cell_type": "code",
   "execution_count": 80,
   "metadata": {},
   "outputs": [
    {
     "data": {
      "text/plain": [
       "(133, 15, 8)"
      ]
     },
     "execution_count": 80,
     "metadata": {},
     "output_type": "execute_result"
    }
   ],
   "source": [
    "testX.shape"
   ]
  },
  {
   "cell_type": "code",
   "execution_count": 81,
   "metadata": {},
   "outputs": [
    {
     "data": {
      "text/plain": [
       "(133, 1)"
      ]
     },
     "execution_count": 81,
     "metadata": {},
     "output_type": "execute_result"
    }
   ],
   "source": [
    "testY.shape"
   ]
  },
  {
   "cell_type": "code",
   "execution_count": 82,
   "metadata": {},
   "outputs": [],
   "source": [
    "predictions = LSTM.predict(testX)"
   ]
  },
  {
   "cell_type": "code",
   "execution_count": 83,
   "metadata": {},
   "outputs": [
    {
     "data": {
      "text/plain": [
       "133"
      ]
     },
     "execution_count": 83,
     "metadata": {},
     "output_type": "execute_result"
    }
   ],
   "source": [
    "len(predictions)"
   ]
  },
  {
   "cell_type": "code",
   "execution_count": 84,
   "metadata": {},
   "outputs": [
    {
     "name": "stdout",
     "output_type": "stream",
     "text": [
      "              precision    recall  f1-score   support\n",
      "\n",
      "           0       0.89      0.78      0.83        60\n",
      "           1       0.71      0.88      0.79        52\n",
      "           2       0.27      0.19      0.22        21\n",
      "\n",
      "   micro avg       0.73      0.73      0.73       133\n",
      "   macro avg       0.62      0.62      0.61       133\n",
      "weighted avg       0.72      0.73      0.72       133\n",
      "\n"
     ]
    }
   ],
   "source": [
    "final_pred = []\n",
    "for score in range(0, len(predictions)):\n",
    "    final_pred.append(np.argmax(predictions[score]))\n",
    "    \n",
    "print(classification_report(testY, final_pred))"
   ]
  },
  {
   "cell_type": "markdown",
   "metadata": {},
   "source": [
    "### Test on New Dataset"
   ]
  },
  {
   "cell_type": "code",
   "execution_count": 19,
   "metadata": {},
   "outputs": [],
   "source": [
    "# Read in dataframe\n",
    "test = pd.read_csv('test_data_2.csv')\n",
    "test['Class'] = test['Flow'].apply(label_fix)\n",
    "\n",
    "# Create the Feature Matrix and Scale Features\n",
    "X_1 = test.drop('Class', axis = 1)\n",
    "X_1.drop('Flow', axis = 1, inplace = True)\n",
    "\n",
    "scaler = StandardScaler()\n",
    "scaler.fit(X_1)\n",
    "scaled_features = scaler.transform(X_1)\n",
    "X_1 = pd.DataFrame(scaled_features, columns = X_1.columns[:])\n",
    "\n",
    "# Create the classification matrix\n",
    "y_1 = test['Class']\n",
    "\n",
    "X_LSTM = X_1.values.reshape(5019, 1, 8)"
   ]
  },
  {
   "cell_type": "code",
   "execution_count": 20,
   "metadata": {},
   "outputs": [
    {
     "name": "stdout",
     "output_type": "stream",
     "text": [
      "              precision    recall  f1-score   support\n",
      "\n",
      "           0       0.87      0.90      0.88      2145\n",
      "           1       0.87      0.89      0.88      2074\n",
      "           2       0.73      0.64      0.68       800\n",
      "\n",
      "   micro avg       0.85      0.85      0.85      5019\n",
      "   macro avg       0.82      0.81      0.81      5019\n",
      "weighted avg       0.85      0.85      0.85      5019\n",
      "\n"
     ]
    }
   ],
   "source": [
    "test_predictions = LSTM.predict(X_LSTM)\n",
    "\n",
    "final_pred_test = []\n",
    "for score in range(0, len(test_predictions)):\n",
    "    final_pred_test.append(np.argmax(test_predictions[score]))\n",
    "    \n",
    "print(classification_report(y_1, final_pred_test))"
   ]
  },
  {
   "cell_type": "code",
   "execution_count": null,
   "metadata": {},
   "outputs": [],
   "source": []
  }
 ],
 "metadata": {
  "kernelspec": {
   "display_name": "Python 3",
   "language": "python",
   "name": "python3"
  },
  "language_info": {
   "codemirror_mode": {
    "name": "ipython",
    "version": 3
   },
   "file_extension": ".py",
   "mimetype": "text/x-python",
   "name": "python",
   "nbconvert_exporter": "python",
   "pygments_lexer": "ipython3",
   "version": "3.7.3"
  }
 },
 "nbformat": 4,
 "nbformat_minor": 2
}
