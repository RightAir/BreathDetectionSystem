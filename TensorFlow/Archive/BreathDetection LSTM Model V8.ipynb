{
 "cells": [
  {
   "cell_type": "markdown",
   "metadata": {},
   "source": [
    "### Import Libraries"
   ]
  },
  {
   "cell_type": "code",
   "execution_count": 2,
   "metadata": {},
   "outputs": [],
   "source": [
    "import pandas as pd\n",
    "import tensorflow as tf\n",
    "from sklearn.model_selection import train_test_split\n",
    "from sklearn.metrics import classification_report,confusion_matrix\n",
    "from sklearn.preprocessing import StandardScaler\n",
    "from tensorflow import keras\n",
    "import numpy as np\n",
    "import matplotlib.pyplot as plt\n",
    "import seaborn as sns\n",
    "from scipy import stats"
   ]
  },
  {
   "cell_type": "markdown",
   "metadata": {},
   "source": [
    "### Read in Dataset"
   ]
  },
  {
   "cell_type": "code",
   "execution_count": 3,
   "metadata": {},
   "outputs": [],
   "source": [
    "df = pd.read_csv('fbdh1.csv')"
   ]
  },
  {
   "cell_type": "code",
   "execution_count": 4,
   "metadata": {},
   "outputs": [
    {
     "data": {
      "text/html": [
       "<div>\n",
       "<style scoped>\n",
       "    .dataframe tbody tr th:only-of-type {\n",
       "        vertical-align: middle;\n",
       "    }\n",
       "\n",
       "    .dataframe tbody tr th {\n",
       "        vertical-align: top;\n",
       "    }\n",
       "\n",
       "    .dataframe thead th {\n",
       "        text-align: right;\n",
       "    }\n",
       "</style>\n",
       "<table border=\"1\" class=\"dataframe\">\n",
       "  <thead>\n",
       "    <tr style=\"text-align: right;\">\n",
       "      <th></th>\n",
       "      <th>Flow</th>\n",
       "      <th>D1</th>\n",
       "      <th>D2</th>\n",
       "      <th>P1</th>\n",
       "      <th>P2</th>\n",
       "      <th>dD1</th>\n",
       "      <th>dD2</th>\n",
       "      <th>dP1</th>\n",
       "      <th>dP2</th>\n",
       "    </tr>\n",
       "  </thead>\n",
       "  <tbody>\n",
       "    <tr>\n",
       "      <th>0</th>\n",
       "      <td>-16.69</td>\n",
       "      <td>99.49</td>\n",
       "      <td>-145.71</td>\n",
       "      <td>48.04</td>\n",
       "      <td>-15.90</td>\n",
       "      <td>81.17</td>\n",
       "      <td>12.26</td>\n",
       "      <td>36.71</td>\n",
       "      <td>2.21</td>\n",
       "    </tr>\n",
       "    <tr>\n",
       "      <th>1</th>\n",
       "      <td>-16.23</td>\n",
       "      <td>172.78</td>\n",
       "      <td>-118.66</td>\n",
       "      <td>79.84</td>\n",
       "      <td>-11.94</td>\n",
       "      <td>80.09</td>\n",
       "      <td>18.49</td>\n",
       "      <td>35.48</td>\n",
       "      <td>2.91</td>\n",
       "    </tr>\n",
       "    <tr>\n",
       "      <th>2</th>\n",
       "      <td>-15.54</td>\n",
       "      <td>242.66</td>\n",
       "      <td>-81.28</td>\n",
       "      <td>109.77</td>\n",
       "      <td>-7.75</td>\n",
       "      <td>75.74</td>\n",
       "      <td>24.65</td>\n",
       "      <td>33.03</td>\n",
       "      <td>3.26</td>\n",
       "    </tr>\n",
       "    <tr>\n",
       "      <th>3</th>\n",
       "      <td>-15.17</td>\n",
       "      <td>316.42</td>\n",
       "      <td>-55.50</td>\n",
       "      <td>140.84</td>\n",
       "      <td>-5.30</td>\n",
       "      <td>74.07</td>\n",
       "      <td>28.43</td>\n",
       "      <td>31.89</td>\n",
       "      <td>3.37</td>\n",
       "    </tr>\n",
       "    <tr>\n",
       "      <th>4</th>\n",
       "      <td>-14.51</td>\n",
       "      <td>392.40</td>\n",
       "      <td>-31.67</td>\n",
       "      <td>171.92</td>\n",
       "      <td>-1.24</td>\n",
       "      <td>73.96</td>\n",
       "      <td>29.70</td>\n",
       "      <td>31.32</td>\n",
       "      <td>3.68</td>\n",
       "    </tr>\n",
       "  </tbody>\n",
       "</table>\n",
       "</div>"
      ],
      "text/plain": [
       "    Flow      D1      D2      P1     P2    dD1    dD2    dP1   dP2\n",
       "0 -16.69   99.49 -145.71   48.04 -15.90  81.17  12.26  36.71  2.21\n",
       "1 -16.23  172.78 -118.66   79.84 -11.94  80.09  18.49  35.48  2.91\n",
       "2 -15.54  242.66  -81.28  109.77  -7.75  75.74  24.65  33.03  3.26\n",
       "3 -15.17  316.42  -55.50  140.84  -5.30  74.07  28.43  31.89  3.37\n",
       "4 -14.51  392.40  -31.67  171.92  -1.24  73.96  29.70  31.32  3.68"
      ]
     },
     "execution_count": 4,
     "metadata": {},
     "output_type": "execute_result"
    }
   ],
   "source": [
    "df.head()"
   ]
  },
  {
   "cell_type": "code",
   "execution_count": 5,
   "metadata": {},
   "outputs": [],
   "source": [
    "def label_fix(label):\n",
    "    if label < -7.5:\n",
    "        return 0\n",
    "    elif label > 7.5:\n",
    "        return 1\n",
    "    else:\n",
    "        return 2\n",
    "\n",
    "df['Class'] = df['Flow'].apply(label_fix)"
   ]
  },
  {
   "cell_type": "code",
   "execution_count": 6,
   "metadata": {},
   "outputs": [
    {
     "data": {
      "text/html": [
       "<div>\n",
       "<style scoped>\n",
       "    .dataframe tbody tr th:only-of-type {\n",
       "        vertical-align: middle;\n",
       "    }\n",
       "\n",
       "    .dataframe tbody tr th {\n",
       "        vertical-align: top;\n",
       "    }\n",
       "\n",
       "    .dataframe thead th {\n",
       "        text-align: right;\n",
       "    }\n",
       "</style>\n",
       "<table border=\"1\" class=\"dataframe\">\n",
       "  <thead>\n",
       "    <tr style=\"text-align: right;\">\n",
       "      <th></th>\n",
       "      <th>Flow</th>\n",
       "      <th>D1</th>\n",
       "      <th>D2</th>\n",
       "      <th>P1</th>\n",
       "      <th>P2</th>\n",
       "      <th>dD1</th>\n",
       "      <th>dD2</th>\n",
       "      <th>dP1</th>\n",
       "      <th>dP2</th>\n",
       "      <th>Class</th>\n",
       "    </tr>\n",
       "  </thead>\n",
       "  <tbody>\n",
       "    <tr>\n",
       "      <th>0</th>\n",
       "      <td>-16.69</td>\n",
       "      <td>99.49</td>\n",
       "      <td>-145.71</td>\n",
       "      <td>48.04</td>\n",
       "      <td>-15.90</td>\n",
       "      <td>81.17</td>\n",
       "      <td>12.26</td>\n",
       "      <td>36.71</td>\n",
       "      <td>2.21</td>\n",
       "      <td>0</td>\n",
       "    </tr>\n",
       "    <tr>\n",
       "      <th>1</th>\n",
       "      <td>-16.23</td>\n",
       "      <td>172.78</td>\n",
       "      <td>-118.66</td>\n",
       "      <td>79.84</td>\n",
       "      <td>-11.94</td>\n",
       "      <td>80.09</td>\n",
       "      <td>18.49</td>\n",
       "      <td>35.48</td>\n",
       "      <td>2.91</td>\n",
       "      <td>0</td>\n",
       "    </tr>\n",
       "    <tr>\n",
       "      <th>2</th>\n",
       "      <td>-15.54</td>\n",
       "      <td>242.66</td>\n",
       "      <td>-81.28</td>\n",
       "      <td>109.77</td>\n",
       "      <td>-7.75</td>\n",
       "      <td>75.74</td>\n",
       "      <td>24.65</td>\n",
       "      <td>33.03</td>\n",
       "      <td>3.26</td>\n",
       "      <td>0</td>\n",
       "    </tr>\n",
       "    <tr>\n",
       "      <th>3</th>\n",
       "      <td>-15.17</td>\n",
       "      <td>316.42</td>\n",
       "      <td>-55.50</td>\n",
       "      <td>140.84</td>\n",
       "      <td>-5.30</td>\n",
       "      <td>74.07</td>\n",
       "      <td>28.43</td>\n",
       "      <td>31.89</td>\n",
       "      <td>3.37</td>\n",
       "      <td>0</td>\n",
       "    </tr>\n",
       "    <tr>\n",
       "      <th>4</th>\n",
       "      <td>-14.51</td>\n",
       "      <td>392.40</td>\n",
       "      <td>-31.67</td>\n",
       "      <td>171.92</td>\n",
       "      <td>-1.24</td>\n",
       "      <td>73.96</td>\n",
       "      <td>29.70</td>\n",
       "      <td>31.32</td>\n",
       "      <td>3.68</td>\n",
       "      <td>0</td>\n",
       "    </tr>\n",
       "  </tbody>\n",
       "</table>\n",
       "</div>"
      ],
      "text/plain": [
       "    Flow      D1      D2      P1     P2    dD1    dD2    dP1   dP2  Class\n",
       "0 -16.69   99.49 -145.71   48.04 -15.90  81.17  12.26  36.71  2.21      0\n",
       "1 -16.23  172.78 -118.66   79.84 -11.94  80.09  18.49  35.48  2.91      0\n",
       "2 -15.54  242.66  -81.28  109.77  -7.75  75.74  24.65  33.03  3.26      0\n",
       "3 -15.17  316.42  -55.50  140.84  -5.30  74.07  28.43  31.89  3.37      0\n",
       "4 -14.51  392.40  -31.67  171.92  -1.24  73.96  29.70  31.32  3.68      0"
      ]
     },
     "execution_count": 6,
     "metadata": {},
     "output_type": "execute_result"
    }
   ],
   "source": [
    "df.head()"
   ]
  },
  {
   "cell_type": "code",
   "execution_count": 7,
   "metadata": {},
   "outputs": [],
   "source": [
    "# Create Function to Gather Data into Overlapping Windows\n",
    "# Cuts data into size compatible with window length and step size\n",
    "# Gathers data into results output\n",
    "# Takes the mode of the classes for each window and saves in classes output\n",
    "\n",
    "def windowData(df, windowSize, stepSize):\n",
    "    \n",
    "    df.reset_index(drop = True, inplace = True)\n",
    "    new_data = df\n",
    "    \n",
    "    for i in range(len(new_data) - windowSize, len(new_data)):\n",
    "        \n",
    "        if (i - windowSize) % stepSize  == 0:\n",
    "            new_data = df.truncate(after = i - 1)\n",
    "    \n",
    "    windf = new_data\n",
    "    \n",
    "    length = len(windf['D1'])\n",
    "    \n",
    "    results = np.zeros([int((length - windowSize) / stepSize), windowSize, 8])\n",
    "    classes = np.zeros([int((length - windowSize) / stepSize), windowSize, 1])\n",
    "    \n",
    "    for j in range(0, results.shape[0]):\n",
    "        \n",
    "        for i in range(0, windowSize):\n",
    "            \n",
    "            results[j][i] = [windf['D1'][i + (j * stepSize)], \n",
    "                                 windf['D2'][i + (j * stepSize)], \n",
    "                                 windf['P1'][i + (j * stepSize)], \n",
    "                                 windf['P2'][i + (j * stepSize)], \n",
    "                                 windf['dD1'][i + (j * stepSize)], \n",
    "                                 windf['dD2'][i + (j * stepSize)], \n",
    "                                 windf['dP1'][i + (j * stepSize)], \n",
    "                                 windf['dP2'][i + (j * stepSize)]]\n",
    "            \n",
    "            classes[j][i] = windf['Class'][i + (j * stepSize)]\n",
    "        \n",
    "    return results, classes"
   ]
  },
  {
   "cell_type": "code",
   "execution_count": 9,
   "metadata": {},
   "outputs": [],
   "source": [
    "results, classes = windowData(df, 10, 2)"
   ]
  },
  {
   "cell_type": "markdown",
   "metadata": {},
   "source": [
    "### Create Feature Matrix / Gather Training and Testing Data"
   ]
  },
  {
   "cell_type": "code",
   "execution_count": 24,
   "metadata": {},
   "outputs": [
    {
     "data": {
      "text/html": [
       "<div>\n",
       "<style scoped>\n",
       "    .dataframe tbody tr th:only-of-type {\n",
       "        vertical-align: middle;\n",
       "    }\n",
       "\n",
       "    .dataframe tbody tr th {\n",
       "        vertical-align: top;\n",
       "    }\n",
       "\n",
       "    .dataframe thead th {\n",
       "        text-align: right;\n",
       "    }\n",
       "</style>\n",
       "<table border=\"1\" class=\"dataframe\">\n",
       "  <thead>\n",
       "    <tr style=\"text-align: right;\">\n",
       "      <th></th>\n",
       "      <th>Flow</th>\n",
       "      <th>D1</th>\n",
       "      <th>D2</th>\n",
       "      <th>P1</th>\n",
       "      <th>P2</th>\n",
       "      <th>dD1</th>\n",
       "      <th>dD2</th>\n",
       "      <th>dP1</th>\n",
       "      <th>dP2</th>\n",
       "      <th>Class</th>\n",
       "    </tr>\n",
       "  </thead>\n",
       "  <tbody>\n",
       "    <tr>\n",
       "      <th>0</th>\n",
       "      <td>-16.69</td>\n",
       "      <td>99.49</td>\n",
       "      <td>-145.71</td>\n",
       "      <td>48.04</td>\n",
       "      <td>-15.90</td>\n",
       "      <td>81.17</td>\n",
       "      <td>12.26</td>\n",
       "      <td>36.71</td>\n",
       "      <td>2.21</td>\n",
       "      <td>0</td>\n",
       "    </tr>\n",
       "    <tr>\n",
       "      <th>1</th>\n",
       "      <td>-16.23</td>\n",
       "      <td>172.78</td>\n",
       "      <td>-118.66</td>\n",
       "      <td>79.84</td>\n",
       "      <td>-11.94</td>\n",
       "      <td>80.09</td>\n",
       "      <td>18.49</td>\n",
       "      <td>35.48</td>\n",
       "      <td>2.91</td>\n",
       "      <td>0</td>\n",
       "    </tr>\n",
       "    <tr>\n",
       "      <th>2</th>\n",
       "      <td>-15.54</td>\n",
       "      <td>242.66</td>\n",
       "      <td>-81.28</td>\n",
       "      <td>109.77</td>\n",
       "      <td>-7.75</td>\n",
       "      <td>75.74</td>\n",
       "      <td>24.65</td>\n",
       "      <td>33.03</td>\n",
       "      <td>3.26</td>\n",
       "      <td>0</td>\n",
       "    </tr>\n",
       "    <tr>\n",
       "      <th>3</th>\n",
       "      <td>-15.17</td>\n",
       "      <td>316.42</td>\n",
       "      <td>-55.50</td>\n",
       "      <td>140.84</td>\n",
       "      <td>-5.30</td>\n",
       "      <td>74.07</td>\n",
       "      <td>28.43</td>\n",
       "      <td>31.89</td>\n",
       "      <td>3.37</td>\n",
       "      <td>0</td>\n",
       "    </tr>\n",
       "    <tr>\n",
       "      <th>4</th>\n",
       "      <td>-14.51</td>\n",
       "      <td>392.40</td>\n",
       "      <td>-31.67</td>\n",
       "      <td>171.92</td>\n",
       "      <td>-1.24</td>\n",
       "      <td>73.96</td>\n",
       "      <td>29.70</td>\n",
       "      <td>31.32</td>\n",
       "      <td>3.68</td>\n",
       "      <td>0</td>\n",
       "    </tr>\n",
       "  </tbody>\n",
       "</table>\n",
       "</div>"
      ],
      "text/plain": [
       "    Flow      D1      D2      P1     P2    dD1    dD2    dP1   dP2  Class\n",
       "0 -16.69   99.49 -145.71   48.04 -15.90  81.17  12.26  36.71  2.21      0\n",
       "1 -16.23  172.78 -118.66   79.84 -11.94  80.09  18.49  35.48  2.91      0\n",
       "2 -15.54  242.66  -81.28  109.77  -7.75  75.74  24.65  33.03  3.26      0\n",
       "3 -15.17  316.42  -55.50  140.84  -5.30  74.07  28.43  31.89  3.37      0\n",
       "4 -14.51  392.40  -31.67  171.92  -1.24  73.96  29.70  31.32  3.68      0"
      ]
     },
     "execution_count": 24,
     "metadata": {},
     "output_type": "execute_result"
    }
   ],
   "source": [
    "df.head()"
   ]
  },
  {
   "cell_type": "code",
   "execution_count": 15,
   "metadata": {},
   "outputs": [],
   "source": [
    "scaleData = df.drop('Flow', axis = 1)\n",
    "scaleData.drop('Class', axis = 1, inplace = True)\n",
    "\n",
    "scaler = StandardScaler()\n",
    "scaler.fit(scaleData)\n",
    "scaled_features = scaler.transform(scaleData)\n",
    "\n",
    "X = pd.DataFrame(scaled_features, columns = df.columns[1:9])\n",
    "X['Class'] = df['Class']\n",
    "\n",
    "y = df['Class']\n",
    "\n",
    "X_train, X_test, y_train, y_test = train_test_split(X, y, test_size = 0.3)"
   ]
  },
  {
   "cell_type": "code",
   "execution_count": 16,
   "metadata": {},
   "outputs": [],
   "source": [
    "trainX, trainY = windowData(X_train, 5, 1)\n",
    "testX, testY = windowData(X_test, 5, 1)"
   ]
  },
  {
   "cell_type": "code",
   "execution_count": 17,
   "metadata": {},
   "outputs": [
    {
     "data": {
      "text/plain": [
       "(4658, 5, 8)"
      ]
     },
     "execution_count": 17,
     "metadata": {},
     "output_type": "execute_result"
    }
   ],
   "source": [
    "trainX.shape"
   ]
  },
  {
   "cell_type": "code",
   "execution_count": 18,
   "metadata": {},
   "outputs": [
    {
     "data": {
      "text/plain": [
       "(4658, 5, 1)"
      ]
     },
     "execution_count": 18,
     "metadata": {},
     "output_type": "execute_result"
    }
   ],
   "source": [
    "trainY.shape"
   ]
  },
  {
   "cell_type": "code",
   "execution_count": 54,
   "metadata": {},
   "outputs": [
    {
     "data": {
      "text/plain": [
       "array([[0.],\n",
       "       [1.],\n",
       "       [0.],\n",
       "       ...,\n",
       "       [0.],\n",
       "       [0.],\n",
       "       [0.]])"
      ]
     },
     "execution_count": 54,
     "metadata": {},
     "output_type": "execute_result"
    }
   ],
   "source": [
    "trainY"
   ]
  },
  {
   "cell_type": "markdown",
   "metadata": {},
   "source": [
    "### Develop LSTM Model"
   ]
  },
  {
   "cell_type": "code",
   "execution_count": 19,
   "metadata": {},
   "outputs": [
    {
     "name": "stderr",
     "output_type": "stream",
     "text": [
      "WARNING: Logging before flag parsing goes to stderr.\n",
      "W0916 15:39:16.841998 4555544000 deprecation.py:506] From /Users/mikefurr/anaconda3/lib/python3.7/site-packages/tensorflow/python/ops/init_ops.py:1251: calling VarianceScaling.__init__ (from tensorflow.python.ops.init_ops) with dtype is deprecated and will be removed in a future version.\n",
      "Instructions for updating:\n",
      "Call initializer instance with the dtype argument instead of passing it to the constructor\n"
     ]
    },
    {
     "name": "stdout",
     "output_type": "stream",
     "text": [
      "Model: \"sequential\"\n",
      "_________________________________________________________________\n",
      "Layer (type)                 Output Shape              Param #   \n",
      "=================================================================\n",
      "lstm (LSTM)                  (None, 175)               128800    \n",
      "_________________________________________________________________\n",
      "dropout (Dropout)            (None, 175)               0         \n",
      "_________________________________________________________________\n",
      "dense (Dense)                (None, 50)                8800      \n",
      "_________________________________________________________________\n",
      "dropout_1 (Dropout)          (None, 50)                0         \n",
      "_________________________________________________________________\n",
      "dense_1 (Dense)              (None, 3)                 153       \n",
      "=================================================================\n",
      "Total params: 137,753\n",
      "Trainable params: 137,753\n",
      "Non-trainable params: 0\n",
      "_________________________________________________________________\n"
     ]
    }
   ],
   "source": [
    "time_steps = trainX.shape[1]\n",
    "features = trainX.shape[2]\n",
    "\n",
    "LSTM = keras.Sequential()\n",
    "LSTM.add(keras.layers.LSTM(175, input_shape = (time_steps, features)))\n",
    "LSTM.add(keras.layers.Dropout(0.3))\n",
    "LSTM.add(keras.layers.Dense(50, activation = tf.nn.relu))\n",
    "LSTM.add(keras.layers.Dropout(0.4))\n",
    "LSTM.add(keras.layers.Dense(3, activation = tf.nn.softmax))\n",
    "LSTM.compile(loss = 'sparse_categorical_crossentropy', optimizer = 'adam', metrics = ['accuracy'])\n",
    "\n",
    "LSTM.summary()"
   ]
  },
  {
   "cell_type": "code",
   "execution_count": 20,
   "metadata": {},
   "outputs": [
    {
     "name": "stderr",
     "output_type": "stream",
     "text": [
      "W0916 15:39:20.181264 4555544000 deprecation.py:323] From /Users/mikefurr/anaconda3/lib/python3.7/site-packages/tensorflow/python/ops/math_grad.py:1250: add_dispatch_support.<locals>.wrapper (from tensorflow.python.ops.array_ops) is deprecated and will be removed in a future version.\n",
      "Instructions for updating:\n",
      "Use tf.where in 2.0, which has the same broadcast rule as np.where\n"
     ]
    },
    {
     "name": "stdout",
     "output_type": "stream",
     "text": [
      "Epoch 1/50\n"
     ]
    },
    {
     "ename": "InvalidArgumentError",
     "evalue": "Incompatible shapes: [32] vs. [32,5]\n\t [[{{node metrics/acc/Equal}}]]",
     "output_type": "error",
     "traceback": [
      "\u001b[0;31m---------------------------------------------------------------------------\u001b[0m",
      "\u001b[0;31mInvalidArgumentError\u001b[0m                      Traceback (most recent call last)",
      "\u001b[0;32m<ipython-input-20-4cbe85ee75cf>\u001b[0m in \u001b[0;36m<module>\u001b[0;34m\u001b[0m\n\u001b[0;32m----> 1\u001b[0;31m \u001b[0mLSTM\u001b[0m\u001b[0;34m.\u001b[0m\u001b[0mfit\u001b[0m\u001b[0;34m(\u001b[0m\u001b[0mtrainX\u001b[0m\u001b[0;34m,\u001b[0m \u001b[0mtrainY\u001b[0m\u001b[0;34m,\u001b[0m \u001b[0mepochs\u001b[0m \u001b[0;34m=\u001b[0m \u001b[0;36m50\u001b[0m\u001b[0;34m)\u001b[0m\u001b[0;34m\u001b[0m\u001b[0;34m\u001b[0m\u001b[0m\n\u001b[0m",
      "\u001b[0;32m~/anaconda3/lib/python3.7/site-packages/tensorflow/python/keras/engine/training.py\u001b[0m in \u001b[0;36mfit\u001b[0;34m(self, x, y, batch_size, epochs, verbose, callbacks, validation_split, validation_data, shuffle, class_weight, sample_weight, initial_epoch, steps_per_epoch, validation_steps, validation_freq, max_queue_size, workers, use_multiprocessing, **kwargs)\u001b[0m\n\u001b[1;32m    778\u001b[0m           \u001b[0mvalidation_steps\u001b[0m\u001b[0;34m=\u001b[0m\u001b[0mvalidation_steps\u001b[0m\u001b[0;34m,\u001b[0m\u001b[0;34m\u001b[0m\u001b[0;34m\u001b[0m\u001b[0m\n\u001b[1;32m    779\u001b[0m           \u001b[0mvalidation_freq\u001b[0m\u001b[0;34m=\u001b[0m\u001b[0mvalidation_freq\u001b[0m\u001b[0;34m,\u001b[0m\u001b[0;34m\u001b[0m\u001b[0;34m\u001b[0m\u001b[0m\n\u001b[0;32m--> 780\u001b[0;31m           steps_name='steps_per_epoch')\n\u001b[0m\u001b[1;32m    781\u001b[0m \u001b[0;34m\u001b[0m\u001b[0m\n\u001b[1;32m    782\u001b[0m   def evaluate(self,\n",
      "\u001b[0;32m~/anaconda3/lib/python3.7/site-packages/tensorflow/python/keras/engine/training_arrays.py\u001b[0m in \u001b[0;36mmodel_iteration\u001b[0;34m(model, inputs, targets, sample_weights, batch_size, epochs, verbose, callbacks, val_inputs, val_targets, val_sample_weights, shuffle, initial_epoch, steps_per_epoch, validation_steps, validation_freq, mode, validation_in_fit, prepared_feed_values_from_dataset, steps_name, **kwargs)\u001b[0m\n\u001b[1;32m    361\u001b[0m \u001b[0;34m\u001b[0m\u001b[0m\n\u001b[1;32m    362\u001b[0m         \u001b[0;31m# Get outputs.\u001b[0m\u001b[0;34m\u001b[0m\u001b[0;34m\u001b[0m\u001b[0;34m\u001b[0m\u001b[0m\n\u001b[0;32m--> 363\u001b[0;31m         \u001b[0mbatch_outs\u001b[0m \u001b[0;34m=\u001b[0m \u001b[0mf\u001b[0m\u001b[0;34m(\u001b[0m\u001b[0mins_batch\u001b[0m\u001b[0;34m)\u001b[0m\u001b[0;34m\u001b[0m\u001b[0;34m\u001b[0m\u001b[0m\n\u001b[0m\u001b[1;32m    364\u001b[0m         \u001b[0;32mif\u001b[0m \u001b[0;32mnot\u001b[0m \u001b[0misinstance\u001b[0m\u001b[0;34m(\u001b[0m\u001b[0mbatch_outs\u001b[0m\u001b[0;34m,\u001b[0m \u001b[0mlist\u001b[0m\u001b[0;34m)\u001b[0m\u001b[0;34m:\u001b[0m\u001b[0;34m\u001b[0m\u001b[0;34m\u001b[0m\u001b[0m\n\u001b[1;32m    365\u001b[0m           \u001b[0mbatch_outs\u001b[0m \u001b[0;34m=\u001b[0m \u001b[0;34m[\u001b[0m\u001b[0mbatch_outs\u001b[0m\u001b[0;34m]\u001b[0m\u001b[0;34m\u001b[0m\u001b[0;34m\u001b[0m\u001b[0m\n",
      "\u001b[0;32m~/anaconda3/lib/python3.7/site-packages/tensorflow/python/keras/backend.py\u001b[0m in \u001b[0;36m__call__\u001b[0;34m(self, inputs)\u001b[0m\n\u001b[1;32m   3290\u001b[0m \u001b[0;34m\u001b[0m\u001b[0m\n\u001b[1;32m   3291\u001b[0m     fetched = self._callable_fn(*array_vals,\n\u001b[0;32m-> 3292\u001b[0;31m                                 run_metadata=self.run_metadata)\n\u001b[0m\u001b[1;32m   3293\u001b[0m     \u001b[0mself\u001b[0m\u001b[0;34m.\u001b[0m\u001b[0m_call_fetch_callbacks\u001b[0m\u001b[0;34m(\u001b[0m\u001b[0mfetched\u001b[0m\u001b[0;34m[\u001b[0m\u001b[0;34m-\u001b[0m\u001b[0mlen\u001b[0m\u001b[0;34m(\u001b[0m\u001b[0mself\u001b[0m\u001b[0;34m.\u001b[0m\u001b[0m_fetches\u001b[0m\u001b[0;34m)\u001b[0m\u001b[0;34m:\u001b[0m\u001b[0;34m]\u001b[0m\u001b[0;34m)\u001b[0m\u001b[0;34m\u001b[0m\u001b[0;34m\u001b[0m\u001b[0m\n\u001b[1;32m   3294\u001b[0m     output_structure = nest.pack_sequence_as(\n",
      "\u001b[0;32m~/anaconda3/lib/python3.7/site-packages/tensorflow/python/client/session.py\u001b[0m in \u001b[0;36m__call__\u001b[0;34m(self, *args, **kwargs)\u001b[0m\n\u001b[1;32m   1456\u001b[0m         ret = tf_session.TF_SessionRunCallable(self._session._session,\n\u001b[1;32m   1457\u001b[0m                                                \u001b[0mself\u001b[0m\u001b[0;34m.\u001b[0m\u001b[0m_handle\u001b[0m\u001b[0;34m,\u001b[0m \u001b[0margs\u001b[0m\u001b[0;34m,\u001b[0m\u001b[0;34m\u001b[0m\u001b[0;34m\u001b[0m\u001b[0m\n\u001b[0;32m-> 1458\u001b[0;31m                                                run_metadata_ptr)\n\u001b[0m\u001b[1;32m   1459\u001b[0m         \u001b[0;32mif\u001b[0m \u001b[0mrun_metadata\u001b[0m\u001b[0;34m:\u001b[0m\u001b[0;34m\u001b[0m\u001b[0;34m\u001b[0m\u001b[0m\n\u001b[1;32m   1460\u001b[0m           \u001b[0mproto_data\u001b[0m \u001b[0;34m=\u001b[0m \u001b[0mtf_session\u001b[0m\u001b[0;34m.\u001b[0m\u001b[0mTF_GetBuffer\u001b[0m\u001b[0;34m(\u001b[0m\u001b[0mrun_metadata_ptr\u001b[0m\u001b[0;34m)\u001b[0m\u001b[0;34m\u001b[0m\u001b[0;34m\u001b[0m\u001b[0m\n",
      "\u001b[0;31mInvalidArgumentError\u001b[0m: Incompatible shapes: [32] vs. [32,5]\n\t [[{{node metrics/acc/Equal}}]]"
     ]
    }
   ],
   "source": [
    "LSTM.fit(trainX, trainY, epochs = 50)"
   ]
  },
  {
   "cell_type": "markdown",
   "metadata": {},
   "source": [
    "### Evaluate Model on Testing Split"
   ]
  },
  {
   "cell_type": "code",
   "execution_count": 57,
   "metadata": {},
   "outputs": [
    {
     "data": {
      "text/plain": [
       "(1994, 5, 8)"
      ]
     },
     "execution_count": 57,
     "metadata": {},
     "output_type": "execute_result"
    }
   ],
   "source": [
    "testX.shape"
   ]
  },
  {
   "cell_type": "code",
   "execution_count": 58,
   "metadata": {},
   "outputs": [
    {
     "data": {
      "text/plain": [
       "(1994, 1)"
      ]
     },
     "execution_count": 58,
     "metadata": {},
     "output_type": "execute_result"
    }
   ],
   "source": [
    "testY.shape"
   ]
  },
  {
   "cell_type": "code",
   "execution_count": 59,
   "metadata": {},
   "outputs": [],
   "source": [
    "predictions = LSTM.predict(testX)"
   ]
  },
  {
   "cell_type": "code",
   "execution_count": 61,
   "metadata": {},
   "outputs": [
    {
     "name": "stdout",
     "output_type": "stream",
     "text": [
      "              precision    recall  f1-score   support\n",
      "\n",
      "         0.0       0.86      0.85      0.85      1129\n",
      "         1.0       0.78      0.83      0.81       768\n",
      "         2.0       0.29      0.15      0.20        97\n",
      "\n",
      "   micro avg       0.81      0.81      0.81      1994\n",
      "   macro avg       0.64      0.61      0.62      1994\n",
      "weighted avg       0.80      0.81      0.80      1994\n",
      "\n"
     ]
    }
   ],
   "source": [
    "final_pred = []\n",
    "for score in range(0, len(predictions)):\n",
    "    final_pred.append(np.argmax(predictions[score]))\n",
    "    \n",
    "print(classification_report(testY, final_pred))"
   ]
  },
  {
   "cell_type": "markdown",
   "metadata": {},
   "source": [
    "### Test on New Dataset"
   ]
  },
  {
   "cell_type": "code",
   "execution_count": 19,
   "metadata": {},
   "outputs": [],
   "source": [
    "# Read in dataframe\n",
    "test = pd.read_csv('test_data_2.csv')\n",
    "test['Class'] = test['Flow'].apply(label_fix)\n",
    "\n",
    "# Create the Feature Matrix and Scale Features\n",
    "X_1 = test.drop('Class', axis = 1)\n",
    "X_1.drop('Flow', axis = 1, inplace = True)\n",
    "\n",
    "scaler = StandardScaler()\n",
    "scaler.fit(X_1)\n",
    "scaled_features = scaler.transform(X_1)\n",
    "X_1 = pd.DataFrame(scaled_features, columns = X_1.columns[:])\n",
    "\n",
    "# Create the classification matrix\n",
    "y_1 = test['Class']\n",
    "\n",
    "X_LSTM = X_1.values.reshape(5019, 1, 8)"
   ]
  },
  {
   "cell_type": "code",
   "execution_count": 20,
   "metadata": {},
   "outputs": [
    {
     "name": "stdout",
     "output_type": "stream",
     "text": [
      "              precision    recall  f1-score   support\n",
      "\n",
      "           0       0.87      0.90      0.88      2145\n",
      "           1       0.87      0.89      0.88      2074\n",
      "           2       0.73      0.64      0.68       800\n",
      "\n",
      "   micro avg       0.85      0.85      0.85      5019\n",
      "   macro avg       0.82      0.81      0.81      5019\n",
      "weighted avg       0.85      0.85      0.85      5019\n",
      "\n"
     ]
    }
   ],
   "source": [
    "test_predictions = LSTM.predict(X_LSTM)\n",
    "\n",
    "final_pred_test = []\n",
    "for score in range(0, len(test_predictions)):\n",
    "    final_pred_test.append(np.argmax(test_predictions[score]))\n",
    "    \n",
    "print(classification_report(y_1, final_pred_test))"
   ]
  },
  {
   "cell_type": "code",
   "execution_count": null,
   "metadata": {},
   "outputs": [],
   "source": []
  }
 ],
 "metadata": {
  "kernelspec": {
   "display_name": "Python 3",
   "language": "python",
   "name": "python3"
  },
  "language_info": {
   "codemirror_mode": {
    "name": "ipython",
    "version": 3
   },
   "file_extension": ".py",
   "mimetype": "text/x-python",
   "name": "python",
   "nbconvert_exporter": "python",
   "pygments_lexer": "ipython3",
   "version": "3.7.3"
  }
 },
 "nbformat": 4,
 "nbformat_minor": 2
}
