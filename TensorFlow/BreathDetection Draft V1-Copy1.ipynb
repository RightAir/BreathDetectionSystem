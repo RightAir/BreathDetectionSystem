{
 "cells": [
  {
   "cell_type": "code",
   "execution_count": null,
   "metadata": {},
   "outputs": [],
   "source": [
    "import pandas as pd\n",
    "import tensorflow as tf\n",
    "from sklearn.model_selection import train_test_split\n",
    "from sklearn.metrics import classification_report,confusion_matrix"
   ]
  },
  {
   "cell_type": "code",
   "execution_count": null,
   "metadata": {},
   "outputs": [],
   "source": [
    "# Read in dataframe"
   ]
  },
  {
   "cell_type": "code",
   "execution_count": null,
   "metadata": {},
   "outputs": [],
   "source": [
    "df = pd.read_csv('fbdh1.csv')"
   ]
  },
  {
   "cell_type": "code",
   "execution_count": null,
   "metadata": {},
   "outputs": [],
   "source": [
    "# df.head()"
   ]
  },
  {
   "cell_type": "code",
   "execution_count": null,
   "metadata": {},
   "outputs": [],
   "source": [
    "# Use a label fix function to assign classifications or ground truth to Flow thresholds"
   ]
  },
  {
   "cell_type": "code",
   "execution_count": null,
   "metadata": {},
   "outputs": [],
   "source": [
    "def label_fix(label):\n",
    "    if label < -10:\n",
    "        return 0\n",
    "    elif label > 10:\n",
    "        return 1\n",
    "    else:\n",
    "        return 2\n",
    "\n",
    "df['Class'] = df['Flow'].apply(label_fix)"
   ]
  },
  {
   "cell_type": "code",
   "execution_count": null,
   "metadata": {},
   "outputs": [],
   "source": [
    "df.head()"
   ]
  },
  {
   "cell_type": "code",
   "execution_count": null,
   "metadata": {},
   "outputs": [],
   "source": [
    "# Create the Feature matrix"
   ]
  },
  {
   "cell_type": "code",
   "execution_count": null,
   "metadata": {},
   "outputs": [],
   "source": [
    "X = df.drop('Flow', axis = 1)\n",
    "X.drop('Class', axis = 1, inplace = True)"
   ]
  },
  {
   "cell_type": "code",
   "execution_count": null,
   "metadata": {},
   "outputs": [],
   "source": [
    "X.head()"
   ]
  },
  {
   "cell_type": "code",
   "execution_count": null,
   "metadata": {},
   "outputs": [],
   "source": [
    "# Scale the features"
   ]
  },
  {
   "cell_type": "code",
   "execution_count": null,
   "metadata": {},
   "outputs": [],
   "source": [
    "from sklearn.preprocessing import StandardScaler\n",
    "scaler = StandardScaler()"
   ]
  },
  {
   "cell_type": "code",
   "execution_count": null,
   "metadata": {},
   "outputs": [],
   "source": [
    "scaler.fit(X)\n",
    "scaled_features = scaler.transform(X)\n",
    "X = pd.DataFrame(scaled_features, columns = X.columns[:])"
   ]
  },
  {
   "cell_type": "code",
   "execution_count": null,
   "metadata": {},
   "outputs": [],
   "source": [
    "# Create the classification matrix"
   ]
  },
  {
   "cell_type": "code",
   "execution_count": null,
   "metadata": {},
   "outputs": [],
   "source": [
    "y = df['Class']"
   ]
  },
  {
   "cell_type": "code",
   "execution_count": null,
   "metadata": {},
   "outputs": [],
   "source": [
    "# Perform train test split"
   ]
  },
  {
   "cell_type": "code",
   "execution_count": null,
   "metadata": {},
   "outputs": [],
   "source": [
    "X_train, X_test, y_train, y_test = train_test_split(X, y, test_size=0.3)"
   ]
  },
  {
   "cell_type": "code",
   "execution_count": null,
   "metadata": {},
   "outputs": [],
   "source": [
    "# Name columns in tensorflow"
   ]
  },
  {
   "cell_type": "code",
   "execution_count": null,
   "metadata": {},
   "outputs": [],
   "source": [
    "D1 = tf.feature_column.numeric_column('D1')\n",
    "D2 = tf.feature_column.numeric_column('D2')\n",
    "P1 = tf.feature_column.numeric_column('P1')\n",
    "P2 = tf.feature_column.numeric_column('P2')\n",
    "dD1 = tf.feature_column.numeric_column('dD1')\n",
    "dD2 = tf.feature_column.numeric_column('dD2')\n",
    "dP1 = tf.feature_column.numeric_column('dP1')\n",
    "dP2 = tf.feature_column.numeric_column('dP2')"
   ]
  },
  {
   "cell_type": "code",
   "execution_count": null,
   "metadata": {},
   "outputs": [],
   "source": [
    "feat_cols = [D1, D2, P1, P2, dD1, dD2, dP1, dP2]"
   ]
  },
  {
   "cell_type": "code",
   "execution_count": null,
   "metadata": {},
   "outputs": [],
   "source": [
    "# Create input function for training"
   ]
  },
  {
   "cell_type": "code",
   "execution_count": null,
   "metadata": {},
   "outputs": [],
   "source": [
    "input_func = tf.estimator.inputs.pandas_input_fn(x = X_train, y = y_train, \n",
    "                                                 batch_size = 50, num_epochs = None, shuffle = True)"
   ]
  },
  {
   "cell_type": "code",
   "execution_count": null,
   "metadata": {},
   "outputs": [],
   "source": [
    "# Create Linear Estimator"
   ]
  },
  {
   "cell_type": "code",
   "execution_count": null,
   "metadata": {},
   "outputs": [],
   "source": [
    "Linear = tf.estimator.LinearClassifier(n_classes = 3, feature_columns = feat_cols)"
   ]
  },
  {
   "cell_type": "code",
   "execution_count": null,
   "metadata": {},
   "outputs": [],
   "source": [
    "# Create DNN Estimator"
   ]
  },
  {
   "cell_type": "code",
   "execution_count": null,
   "metadata": {},
   "outputs": [],
   "source": [
    "classifier = tf.estimator.DNNClassifier(hidden_units = [10, 20, 20, 10], \n",
    "                                        n_classes = 3, feature_columns = feat_cols, \n",
    "                                        model_dir = \n",
    "                                        '/Users/mikefurr/Documents/GitHub/BreathDetectionSystem/TensorFlow')"
   ]
  },
  {
   "cell_type": "code",
   "execution_count": null,
   "metadata": {},
   "outputs": [],
   "source": [
    "# Train Linear Estimator"
   ]
  },
  {
   "cell_type": "code",
   "execution_count": null,
   "metadata": {},
   "outputs": [],
   "source": [
    "Linear.train(input_fn = input_func, steps = 5000)"
   ]
  },
  {
   "cell_type": "code",
   "execution_count": null,
   "metadata": {},
   "outputs": [],
   "source": [
    "# Train DNN Estimator"
   ]
  },
  {
   "cell_type": "code",
   "execution_count": null,
   "metadata": {},
   "outputs": [],
   "source": [
    "classifier.train(input_fn = input_func, steps = 5000)"
   ]
  },
  {
   "cell_type": "code",
   "execution_count": null,
   "metadata": {},
   "outputs": [],
   "source": [
    "# Creation Predictions Function"
   ]
  },
  {
   "cell_type": "code",
   "execution_count": null,
   "metadata": {},
   "outputs": [],
   "source": [
    "pred_fn = tf.estimator.inputs.pandas_input_fn(x = X_test, batch_size = len(X_test), shuffle = False)"
   ]
  },
  {
   "cell_type": "code",
   "execution_count": null,
   "metadata": {},
   "outputs": [],
   "source": [
    "# Generate note of Linear and DNN Predictions"
   ]
  },
  {
   "cell_type": "code",
   "execution_count": null,
   "metadata": {},
   "outputs": [],
   "source": [
    "note_pred_linear = list(Linear.predict(input_fn = pred_fn))"
   ]
  },
  {
   "cell_type": "code",
   "execution_count": null,
   "metadata": {},
   "outputs": [],
   "source": [
    "note_predictions = list(classifier.predict(input_fn=pred_fn))"
   ]
  },
  {
   "cell_type": "code",
   "execution_count": null,
   "metadata": {},
   "outputs": [],
   "source": [
    "# Gather Predictions in Matrices"
   ]
  },
  {
   "cell_type": "code",
   "execution_count": null,
   "metadata": {},
   "outputs": [],
   "source": [
    "final_linear_preds = []\n",
    "for pred in note_pred_linear:\n",
    "    final_linear_preds.append(pred['class_ids'][0])"
   ]
  },
  {
   "cell_type": "code",
   "execution_count": null,
   "metadata": {},
   "outputs": [],
   "source": [
    "final_preds  = []\n",
    "for pred in note_predictions:\n",
    "    final_preds.append(pred['class_ids'][0])"
   ]
  },
  {
   "cell_type": "code",
   "execution_count": null,
   "metadata": {},
   "outputs": [],
   "source": [
    "# Classification Report Linear Classifier"
   ]
  },
  {
   "cell_type": "code",
   "execution_count": null,
   "metadata": {},
   "outputs": [],
   "source": [
    "print(classification_report(y_test,final_linear_preds))"
   ]
  },
  {
   "cell_type": "code",
   "execution_count": null,
   "metadata": {},
   "outputs": [],
   "source": [
    "# Classification Report DNN Classifier"
   ]
  },
  {
   "cell_type": "code",
   "execution_count": null,
   "metadata": {},
   "outputs": [],
   "source": [
    "print(classification_report(y_test, final_preds))"
   ]
  },
  {
   "cell_type": "code",
   "execution_count": null,
   "metadata": {},
   "outputs": [],
   "source": [
    "# Convert Tensorflow Model to Tensorflow Lite"
   ]
  },
  {
   "cell_type": "markdown",
   "metadata": {},
   "source": [
    "\n",
    "def serving_input_receiver_fn():\n",
    "    \"\"\"\n",
    "    Serving input_fn that builds features from placeholders\n",
    "\n",
    "    Returns\n",
    "    -------\n",
    "    tf.estimator.export.ServingInputReceiver\n",
    "    \"\"\"\n",
    "\n",
    "    # Create a placeholder for features to load into\n",
    "    serialized_tf = tf.placeholder(dtype = tf.float32, name = 'input_tensor')\n",
    "\n",
    "    # Receiving Dictionary of Placeholders for the Features\n",
    "    receiver_tensors = {'features': serialized_tf}\n",
    "    \n",
    "    # Pulls in both the feature placeholders and the features themselves\n",
    "    features = tf.parse_example(serialized_tf, feature_spec)\n",
    "    \n",
    "    # Returns the input receiver object using parse of features and placeholders\n",
    "    return tf.estimator.export.ServingInputReceiver(features, receiver_tensors)\n",
    "    "
   ]
  },
  {
   "cell_type": "code",
   "execution_count": null,
   "metadata": {},
   "outputs": [],
   "source": [
    "feature_columns = [D1, D2, P1, P2, dD1, dD2, dP1, dP2]"
   ]
  },
  {
   "cell_type": "code",
   "execution_count": null,
   "metadata": {},
   "outputs": [],
   "source": [
    "feature_columns"
   ]
  },
  {
   "cell_type": "code",
   "execution_count": null,
   "metadata": {},
   "outputs": [],
   "source": [
    "feature_spec = tf.estimator.classifier_parse_example_spec(\n",
    "    feature_columns, label_key = 'Class')"
   ]
  },
  {
   "cell_type": "code",
   "execution_count": null,
   "metadata": {},
   "outputs": [],
   "source": [
    "feature_spec"
   ]
  },
  {
   "cell_type": "code",
   "execution_count": null,
   "metadata": {},
   "outputs": [],
   "source": [
    "tf.estimator.export.build_parsing_serving_input_receiver_fn(\n",
    "    feature_spec,\n",
    "    default_batch_size=None)"
   ]
  },
  {
   "cell_type": "code",
   "execution_count": null,
   "metadata": {},
   "outputs": [],
   "source": [
    "Linear.export_saved_model('linear_4', \n",
    "                              tf.estimator.export.build_parsing_serving_input_receiver_fn(feature_spec,\n",
    "                                                                                           default_batch_size=None))"
   ]
  },
  {
   "cell_type": "code",
   "execution_count": null,
   "metadata": {},
   "outputs": [],
   "source": [
    "classifier.export_saved_model('saved_model', \n",
    "                              tf.estimator.export.build_parsing_serving_input_receiver_fn(feature_spec,\n",
    "                                                                                          default_batch_size=None))"
   ]
  },
  {
   "cell_type": "code",
   "execution_count": 103,
   "metadata": {},
   "outputs": [],
   "source": [
    "converter = tf.lite.TFLiteConverter.from_saved_model('/Users/mikefurr/Documents/GitHub/BreathDetectionSystem/TensorFlow/saved_model/1567641368/')"
   ]
  },
  {
   "cell_type": "code",
   "execution_count": null,
   "metadata": {},
   "outputs": [],
   "source": [
    "# Instantiate a Keras inception v3 model.\n",
    "model = tf.keras.applications.inception_v3.InceptionV3(weights = None)"
   ]
  },
  {
   "cell_type": "code",
   "execution_count": null,
   "metadata": {},
   "outputs": [],
   "source": [
    "# Compile model with the optimizer, loss, and metrics you'd like to train with.\n",
    "model.compile(optimizer = tf.keras.optimizers.SGD(lr = 0.0001, momentum=0.9),\n",
    "                          loss = 'categorical_crossentropy',\n",
    "                          metric = 'accuracy')"
   ]
  },
  {
   "cell_type": "code",
   "execution_count": null,
   "metadata": {},
   "outputs": [],
   "source": [
    "# Treat the derived Estimator as you would with any other Estimator.\n",
    "# First, recover the input name(s) of Keras model, so we can use them as the\n",
    "# feature column name(s) of the Estimator input function:\n",
    "model.input_names  # print out: ['input_1']\n",
    "D1_feat = X['D1'].values\n",
    "D2_feat = X['D2'].values\n",
    "P1_feat = X['P1'].values\n",
    "P2_feat = X['P2'].values\n",
    "dD1_feat = X['dD1'].values\n",
    "dD2_feat = X['dD2'].values\n",
    "dP1_feat = X['dP1'].values\n",
    "dP2_feat = X['dP2'].values\n",
    "labels = y.values"
   ]
  },
  {
   "cell_type": "code",
   "execution_count": null,
   "metadata": {},
   "outputs": [],
   "source": [
    "D1_feat"
   ]
  },
  {
   "cell_type": "code",
   "execution_count": null,
   "metadata": {},
   "outputs": [],
   "source": [
    "# for input(s) in the format of Pandas DataFrame:\n",
    "train_input_fn = tf.estimator.inputs.pandas_input_fn(x = X_test, batch_size = len(X_test), shuffle = False)\n",
    "    \n",
    "# To train, we call Estimator's train function:\n",
    "# Estimator.train(input_fn=train_input_fn, steps=2000)"
   ]
  },
  {
   "cell_type": "code",
   "execution_count": 73,
   "metadata": {},
   "outputs": [],
   "source": [
    "# Attempt at creating keras model to convert to tensorflow estimator"
   ]
  },
  {
   "cell_type": "code",
   "execution_count": 74,
   "metadata": {},
   "outputs": [
    {
     "data": {
      "text/html": [
       "<div>\n",
       "<style scoped>\n",
       "    .dataframe tbody tr th:only-of-type {\n",
       "        vertical-align: middle;\n",
       "    }\n",
       "\n",
       "    .dataframe tbody tr th {\n",
       "        vertical-align: top;\n",
       "    }\n",
       "\n",
       "    .dataframe thead th {\n",
       "        text-align: right;\n",
       "    }\n",
       "</style>\n",
       "<table border=\"1\" class=\"dataframe\">\n",
       "  <thead>\n",
       "    <tr style=\"text-align: right;\">\n",
       "      <th></th>\n",
       "      <th>Flow</th>\n",
       "      <th>D1</th>\n",
       "      <th>D2</th>\n",
       "      <th>P1</th>\n",
       "      <th>P2</th>\n",
       "      <th>dD1</th>\n",
       "      <th>dD2</th>\n",
       "      <th>dP1</th>\n",
       "      <th>dP2</th>\n",
       "      <th>Class</th>\n",
       "    </tr>\n",
       "  </thead>\n",
       "  <tbody>\n",
       "    <tr>\n",
       "      <th>0</th>\n",
       "      <td>-16.69</td>\n",
       "      <td>99.49</td>\n",
       "      <td>-145.71</td>\n",
       "      <td>48.04</td>\n",
       "      <td>-15.90</td>\n",
       "      <td>81.17</td>\n",
       "      <td>12.26</td>\n",
       "      <td>36.71</td>\n",
       "      <td>2.21</td>\n",
       "      <td>0</td>\n",
       "    </tr>\n",
       "    <tr>\n",
       "      <th>1</th>\n",
       "      <td>-16.23</td>\n",
       "      <td>172.78</td>\n",
       "      <td>-118.66</td>\n",
       "      <td>79.84</td>\n",
       "      <td>-11.94</td>\n",
       "      <td>80.09</td>\n",
       "      <td>18.49</td>\n",
       "      <td>35.48</td>\n",
       "      <td>2.91</td>\n",
       "      <td>0</td>\n",
       "    </tr>\n",
       "    <tr>\n",
       "      <th>2</th>\n",
       "      <td>-15.54</td>\n",
       "      <td>242.66</td>\n",
       "      <td>-81.28</td>\n",
       "      <td>109.77</td>\n",
       "      <td>-7.75</td>\n",
       "      <td>75.74</td>\n",
       "      <td>24.65</td>\n",
       "      <td>33.03</td>\n",
       "      <td>3.26</td>\n",
       "      <td>0</td>\n",
       "    </tr>\n",
       "    <tr>\n",
       "      <th>3</th>\n",
       "      <td>-15.17</td>\n",
       "      <td>316.42</td>\n",
       "      <td>-55.50</td>\n",
       "      <td>140.84</td>\n",
       "      <td>-5.30</td>\n",
       "      <td>74.07</td>\n",
       "      <td>28.43</td>\n",
       "      <td>31.89</td>\n",
       "      <td>3.37</td>\n",
       "      <td>0</td>\n",
       "    </tr>\n",
       "    <tr>\n",
       "      <th>4</th>\n",
       "      <td>-14.51</td>\n",
       "      <td>392.40</td>\n",
       "      <td>-31.67</td>\n",
       "      <td>171.92</td>\n",
       "      <td>-1.24</td>\n",
       "      <td>73.96</td>\n",
       "      <td>29.70</td>\n",
       "      <td>31.32</td>\n",
       "      <td>3.68</td>\n",
       "      <td>0</td>\n",
       "    </tr>\n",
       "  </tbody>\n",
       "</table>\n",
       "</div>"
      ],
      "text/plain": [
       "    Flow      D1      D2      P1     P2    dD1    dD2    dP1   dP2  Class\n",
       "0 -16.69   99.49 -145.71   48.04 -15.90  81.17  12.26  36.71  2.21      0\n",
       "1 -16.23  172.78 -118.66   79.84 -11.94  80.09  18.49  35.48  2.91      0\n",
       "2 -15.54  242.66  -81.28  109.77  -7.75  75.74  24.65  33.03  3.26      0\n",
       "3 -15.17  316.42  -55.50  140.84  -5.30  74.07  28.43  31.89  3.37      0\n",
       "4 -14.51  392.40  -31.67  171.92  -1.24  73.96  29.70  31.32  3.68      0"
      ]
     },
     "execution_count": 74,
     "metadata": {},
     "output_type": "execute_result"
    }
   ],
   "source": [
    "df.head()"
   ]
  },
  {
   "cell_type": "code",
   "execution_count": 75,
   "metadata": {},
   "outputs": [],
   "source": [
    "b = df.values[:, :9]"
   ]
  },
  {
   "cell_type": "code",
   "execution_count": 77,
   "metadata": {},
   "outputs": [],
   "source": [
    "def get_features_labels(df):\n",
    "    \n",
    "    # Select all Columns but the Last\n",
    "    features = df.values[:, :9]\n",
    "    \n",
    "    # Select Class Column\n",
    "    labels = df['Class'].values\n",
    "    \n",
    "    return features, labels"
   ]
  },
  {
   "cell_type": "code",
   "execution_count": 87,
   "metadata": {},
   "outputs": [],
   "source": [
    "train_features = X_train.values\n",
    "train_labels = y_train.values\n",
    "\n",
    "test_features = X_test.values\n",
    "test_labels = y_test.values"
   ]
  },
  {
   "cell_type": "code",
   "execution_count": 88,
   "metadata": {},
   "outputs": [],
   "source": [
    "train_labels_1hot = tf.keras.utils.to_categorical(train_labels)\n",
    "test_labels_1hot = tf.keras.utils.to_categorical(test_labels)"
   ]
  },
  {
   "cell_type": "code",
   "execution_count": 98,
   "metadata": {},
   "outputs": [],
   "source": [
    "model = tf.keras.Sequential()\n",
    "model.add(tf.keras.layers.Dense(30, activation = tf.nn.relu, input_shape = (8,)))\n",
    "model.add(tf.keras.layers.Dense(20, activation = tf.nn.relu))\n",
    "model.add(tf.keras.layers.Dense(10, activation = tf.nn.softmax))"
   ]
  },
  {
   "cell_type": "code",
   "execution_count": 100,
   "metadata": {},
   "outputs": [],
   "source": [
    "model.compile(loss = 'categorical_crossentropy',\n",
    "             optimizer = 'rmsprop', \n",
    "             metrics = ['accuracy'])"
   ]
  },
  {
   "cell_type": "code",
   "execution_count": 101,
   "metadata": {},
   "outputs": [
    {
     "data": {
      "text/plain": [
       "<bound method Network.summary of <tensorflow.python.keras.engine.sequential.Sequential object at 0x1a2c80a3c8>>"
      ]
     },
     "execution_count": 101,
     "metadata": {},
     "output_type": "execute_result"
    }
   ],
   "source": [
    "model.summary"
   ]
  },
  {
   "cell_type": "code",
   "execution_count": null,
   "metadata": {},
   "outputs": [],
   "source": []
  }
 ],
 "metadata": {
  "kernelspec": {
   "display_name": "Python 3",
   "language": "python",
   "name": "python3"
  },
  "language_info": {
   "codemirror_mode": {
    "name": "ipython",
    "version": 3
   },
   "file_extension": ".py",
   "mimetype": "text/x-python",
   "name": "python",
   "nbconvert_exporter": "python",
   "pygments_lexer": "ipython3",
   "version": "3.7.3"
  }
 },
 "nbformat": 4,
 "nbformat_minor": 2
}
